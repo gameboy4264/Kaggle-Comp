{
 "cells": [
  {
   "cell_type": "code",
   "execution_count": 2,
   "metadata": {},
   "outputs": [],
   "source": [
    "import pandas as pd\n",
    "import numpy as np\n",
    "from math import sqrt\n",
    "from xgboost import XGBRegressor\n",
    "from sklearn.pipeline import make_pipeline\n",
    "from sklearn.preprocessing import Imputer\n",
    "from sklearn.model_selection import train_test_split\n",
    "from sklearn.model_selection import cross_val_score\n",
    "from sklearn.metrics import accuracy_score"
   ]
  },
  {
   "cell_type": "code",
   "execution_count": 15,
   "metadata": {},
   "outputs": [],
   "source": [
    "train = pd.read_csv('input/train.csv')\n",
    "test = pd.read_csv('input/test.csv')\n",
    "test2 = pd.read_csv('input/test.csv')\n",
    "titanic = pd.concat([train, test], sort=False)\n",
    "len_train = train.shape[0]"
   ]
  },
  {
   "cell_type": "code",
   "execution_count": 16,
   "metadata": {},
   "outputs": [
    {
     "data": {
      "text/plain": [
       "PassengerId      int64\n",
       "Pclass           int64\n",
       "SibSp            int64\n",
       "Parch            int64\n",
       "Survived       float64\n",
       "Age            float64\n",
       "Fare           float64\n",
       "Name            object\n",
       "Sex             object\n",
       "Ticket          object\n",
       "Cabin           object\n",
       "Embarked        object\n",
       "dtype: object"
      ]
     },
     "execution_count": 16,
     "metadata": {},
     "output_type": "execute_result"
    }
   ],
   "source": [
    "titanic.dtypes.sort_values()"
   ]
  },
  {
   "cell_type": "code",
   "execution_count": 20,
   "metadata": {},
   "outputs": [
    {
     "data": {
      "text/html": [
       "<div>\n",
       "<style scoped>\n",
       "    .dataframe tbody tr th:only-of-type {\n",
       "        vertical-align: middle;\n",
       "    }\n",
       "\n",
       "    .dataframe tbody tr th {\n",
       "        vertical-align: top;\n",
       "    }\n",
       "\n",
       "    .dataframe thead th {\n",
       "        text-align: right;\n",
       "    }\n",
       "</style>\n",
       "<table border=\"1\" class=\"dataframe\">\n",
       "  <thead>\n",
       "    <tr style=\"text-align: right;\">\n",
       "      <th></th>\n",
       "      <th>PassengerId</th>\n",
       "      <th>Pclass</th>\n",
       "      <th>SibSp</th>\n",
       "      <th>Parch</th>\n",
       "    </tr>\n",
       "  </thead>\n",
       "  <tbody>\n",
       "    <tr>\n",
       "      <th>0</th>\n",
       "      <td>1</td>\n",
       "      <td>3</td>\n",
       "      <td>1</td>\n",
       "      <td>0</td>\n",
       "    </tr>\n",
       "    <tr>\n",
       "      <th>1</th>\n",
       "      <td>2</td>\n",
       "      <td>1</td>\n",
       "      <td>1</td>\n",
       "      <td>0</td>\n",
       "    </tr>\n",
       "    <tr>\n",
       "      <th>2</th>\n",
       "      <td>3</td>\n",
       "      <td>3</td>\n",
       "      <td>0</td>\n",
       "      <td>0</td>\n",
       "    </tr>\n",
       "    <tr>\n",
       "      <th>3</th>\n",
       "      <td>4</td>\n",
       "      <td>1</td>\n",
       "      <td>1</td>\n",
       "      <td>0</td>\n",
       "    </tr>\n",
       "    <tr>\n",
       "      <th>4</th>\n",
       "      <td>5</td>\n",
       "      <td>3</td>\n",
       "      <td>0</td>\n",
       "      <td>0</td>\n",
       "    </tr>\n",
       "  </tbody>\n",
       "</table>\n",
       "</div>"
      ],
      "text/plain": [
       "   PassengerId  Pclass  SibSp  Parch\n",
       "0            1       3      1      0\n",
       "1            2       1      1      0\n",
       "2            3       3      0      0\n",
       "3            4       1      1      0\n",
       "4            5       3      0      0"
      ]
     },
     "execution_count": 20,
     "metadata": {},
     "output_type": "execute_result"
    }
   ],
   "source": [
    "titanic.select_dtypes(include='int').head()"
   ]
  },
  {
   "cell_type": "code",
   "execution_count": 21,
   "metadata": {},
   "outputs": [
    {
     "data": {
      "text/html": [
       "<div>\n",
       "<style scoped>\n",
       "    .dataframe tbody tr th:only-of-type {\n",
       "        vertical-align: middle;\n",
       "    }\n",
       "\n",
       "    .dataframe tbody tr th {\n",
       "        vertical-align: top;\n",
       "    }\n",
       "\n",
       "    .dataframe thead th {\n",
       "        text-align: right;\n",
       "    }\n",
       "</style>\n",
       "<table border=\"1\" class=\"dataframe\">\n",
       "  <thead>\n",
       "    <tr style=\"text-align: right;\">\n",
       "      <th></th>\n",
       "      <th>Survived</th>\n",
       "      <th>Age</th>\n",
       "      <th>Fare</th>\n",
       "    </tr>\n",
       "  </thead>\n",
       "  <tbody>\n",
       "    <tr>\n",
       "      <th>0</th>\n",
       "      <td>0.0</td>\n",
       "      <td>22.0</td>\n",
       "      <td>7.2500</td>\n",
       "    </tr>\n",
       "    <tr>\n",
       "      <th>1</th>\n",
       "      <td>1.0</td>\n",
       "      <td>38.0</td>\n",
       "      <td>71.2833</td>\n",
       "    </tr>\n",
       "    <tr>\n",
       "      <th>2</th>\n",
       "      <td>1.0</td>\n",
       "      <td>26.0</td>\n",
       "      <td>7.9250</td>\n",
       "    </tr>\n",
       "    <tr>\n",
       "      <th>3</th>\n",
       "      <td>1.0</td>\n",
       "      <td>35.0</td>\n",
       "      <td>53.1000</td>\n",
       "    </tr>\n",
       "    <tr>\n",
       "      <th>4</th>\n",
       "      <td>0.0</td>\n",
       "      <td>35.0</td>\n",
       "      <td>8.0500</td>\n",
       "    </tr>\n",
       "  </tbody>\n",
       "</table>\n",
       "</div>"
      ],
      "text/plain": [
       "   Survived   Age     Fare\n",
       "0       0.0  22.0   7.2500\n",
       "1       1.0  38.0  71.2833\n",
       "2       1.0  26.0   7.9250\n",
       "3       1.0  35.0  53.1000\n",
       "4       0.0  35.0   8.0500"
      ]
     },
     "execution_count": 21,
     "metadata": {},
     "output_type": "execute_result"
    }
   ],
   "source": [
    "titanic.select_dtypes(include='float').head()"
   ]
  },
  {
   "cell_type": "markdown",
   "metadata": {},
   "source": [
    "处理缺失值"
   ]
  },
  {
   "cell_type": "code",
   "execution_count": 23,
   "metadata": {},
   "outputs": [
    {
     "data": {
      "text/plain": [
       "Survived     418\n",
       "Age          263\n",
       "Fare           1\n",
       "Cabin       1014\n",
       "Embarked       2\n",
       "dtype: int64"
      ]
     },
     "execution_count": 23,
     "metadata": {},
     "output_type": "execute_result"
    }
   ],
   "source": [
    "titanic.isnull().sum()[titanic.isnull().sum()>0]"
   ]
  },
  {
   "cell_type": "code",
   "execution_count": 32,
   "metadata": {},
   "outputs": [],
   "source": [
    "train.Fare = train.Fare.fillna(train.Fare.mean())\n",
    "test.Fare = test.Fare.fillna(train.Fare.mean())"
   ]
  },
  {
   "cell_type": "code",
   "execution_count": 38,
   "metadata": {},
   "outputs": [],
   "source": [
    "train.Cabin = train.Cabin.fillna('unknow')\n",
    "test.Cabin = test.Cabin.fillna('unknow')"
   ]
  },
  {
   "cell_type": "code",
   "execution_count": 65,
   "metadata": {},
   "outputs": [],
   "source": [
    "train.Embarked=train.Embarked.fillna(train.Embarked.mode()[0])\n",
    "test.Embarked=test.Embarked.fillna(train.Embarked.mode()[0])\n",
    "#mode方法为求众数（频数最高的值）"
   ]
  },
  {
   "cell_type": "code",
   "execution_count": 77,
   "metadata": {},
   "outputs": [],
   "source": [
    "a = train.Name[0]"
   ]
  },
  {
   "cell_type": "code",
   "execution_count": 78,
   "metadata": {},
   "outputs": [
    {
     "data": {
      "text/plain": [
       "'Braund, Mr. Owen Harris'"
      ]
     },
     "execution_count": 78,
     "metadata": {},
     "output_type": "execute_result"
    }
   ],
   "source": [
    "a"
   ]
  },
  {
   "cell_type": "code",
   "execution_count": 87,
   "metadata": {},
   "outputs": [
    {
     "data": {
      "text/plain": [
       "'Mr'"
      ]
     },
     "execution_count": 87,
     "metadata": {},
     "output_type": "execute_result"
    }
   ],
   "source": [
    "a.split('.')[0].split(',')[1].strip()"
   ]
  },
  {
   "cell_type": "code",
   "execution_count": 116,
   "metadata": {},
   "outputs": [],
   "source": [
    "train['title'] = train.Name.apply(lambda x: x.split('.')[0].split(',')[1].strip())\n",
    "test['title'] = test.Name.apply(lambda x: x.split('.')[0].split(',')[1].strip())"
   ]
  },
  {
   "cell_type": "code",
   "execution_count": 118,
   "metadata": {},
   "outputs": [
    {
     "data": {
      "text/plain": [
       "Mr              517\n",
       "Miss            182\n",
       "Mrs             125\n",
       "Master           40\n",
       "Dr                7\n",
       "Rev               6\n",
       "Col               2\n",
       "Major             2\n",
       "Mlle              2\n",
       "Ms                1\n",
       "the Countess      1\n",
       "Sir               1\n",
       "Mme               1\n",
       "Lady              1\n",
       "Capt              1\n",
       "Jonkheer          1\n",
       "Don               1\n",
       "Name: title, dtype: int64"
      ]
     },
     "execution_count": 118,
     "metadata": {},
     "output_type": "execute_result"
    }
   ],
   "source": [
    "train.title.value_counts()"
   ]
  },
  {
   "cell_type": "code",
   "execution_count": 119,
   "metadata": {},
   "outputs": [],
   "source": [
    "newtitles={\n",
    "    \"Capt\":        \"Officer\",\n",
    "    \"Col\":         \"Officer\",\n",
    "    \"Major\":       \"Officer\",\n",
    "    \"Jonkheer\":    \"Royalty\",\n",
    "    \"Don\":         \"Royalty\",\n",
    "    \"Sir\":         \"Royalty\",\n",
    "    \"Dr\":          \"Officer\",\n",
    "    \"Rev\":         \"Officer\",\n",
    "    \"the Countess\":\"Royalty\",\n",
    "    \"Dona\":        \"Royalty\",\n",
    "    \"Mme\":         \"Mrs\",\n",
    "    \"Mlle\":        \"Miss\",\n",
    "    \"Ms\":          \"Mrs\",\n",
    "    \"Mr\":          \"Mr\",\n",
    "    \"Mrs\":         \"Mrs\",\n",
    "    \"Miss\":        \"Miss\",\n",
    "    \"Master\":      \"Master\",\n",
    "    \"Lady\":        \"Royalty\"\n",
    "}"
   ]
  },
  {
   "cell_type": "code",
   "execution_count": 120,
   "metadata": {},
   "outputs": [],
   "source": [
    "train['title'] = train.title.map(newtitles)\n",
    "test['title'] = test.title.map(newtitles)"
   ]
  },
  {
   "cell_type": "code",
   "execution_count": 126,
   "metadata": {},
   "outputs": [
    {
     "data": {
      "text/plain": [
       "title    Sex   \n",
       "Master   male       4.574167\n",
       "Miss     female    21.804054\n",
       "Mr       male      32.368090\n",
       "Mrs      female    35.718182\n",
       "Officer  female    49.000000\n",
       "         male      46.562500\n",
       "Royalty  female    40.500000\n",
       "         male      42.333333\n",
       "Name: Age, dtype: float64"
      ]
     },
     "execution_count": 126,
     "metadata": {},
     "output_type": "execute_result"
    }
   ],
   "source": [
    "train.groupby(['title', 'Sex']).Age.mean()"
   ]
  },
  {
   "cell_type": "code",
   "execution_count": 135,
   "metadata": {},
   "outputs": [],
   "source": [
    "def newage(cols):\n",
    "    title=cols[0]\n",
    "    Sex=cols[1]\n",
    "    Age=cols[2]\n",
    "    if pd.isnull(Age):\n",
    "        if title=='Master' and Sex=='male':\n",
    "            return 4.57\n",
    "        elif title=='Miss' and Sex=='female':\n",
    "            return 21.8\n",
    "        elif title=='Mr' and Sex=='male':\n",
    "            return 32.37\n",
    "        elif title=='Mrs' and Sex=='female':\n",
    "            return 35.72\n",
    "        elif title=='Officer' and Sex=='female':\n",
    "            return 49\n",
    "        elif title=='Officer' and Sex=='male':\n",
    "            return 46.56\n",
    "        elif title=='Royalty' and Sex=='female':\n",
    "            return 40.5\n",
    "        elif title=='Royalty' and Sex=='male':\n",
    "            return 42.33\n",
    "    else:\n",
    "        return Age"
   ]
  },
  {
   "cell_type": "code",
   "execution_count": 145,
   "metadata": {},
   "outputs": [],
   "source": [
    "train.Age = train[['title', 'Sex', 'Age']].apply(newage, axis=1)\n",
    "test.Age = test[['title', 'Sex', 'Age']].apply(newage, axis=1)"
   ]
  },
  {
   "cell_type": "markdown",
   "metadata": {},
   "source": [
    "数据探索"
   ]
  },
  {
   "cell_type": "code",
   "execution_count": 154,
   "metadata": {},
   "outputs": [],
   "source": [
    "import warnings\n",
    "warnings.filterwarnings(action=\"ignore\")"
   ]
  },
  {
   "cell_type": "code",
   "execution_count": 161,
   "metadata": {},
   "outputs": [],
   "source": [
    "import matplotlib.pyplot as plt\n",
    "import seaborn as sns"
   ]
  },
  {
   "cell_type": "code",
   "execution_count": 182,
   "metadata": {},
   "outputs": [
    {
     "data": {
      "text/plain": [
       "<matplotlib.axes._subplots.AxesSubplot at 0x133a14ac8>"
      ]
     },
     "execution_count": 182,
     "metadata": {},
     "output_type": "execute_result"
    },
    {
     "data": {
      "image/png": "[encoded data removed]",
      "text/plain": [
       "<Figure size 864x720 with 9 Axes>"
      ]
     },
     "metadata": {
      "needs_background": "light"
     },
     "output_type": "display_data"
    }
   ],
   "source": [
    "plt.figure(figsize=[12, 10])\n",
    "plt.subplot(3,3,1)\n",
    "sns.barplot('Pclass', 'Survived', data=train)\n",
    "plt.subplot(3,3,2)\n",
    "sns.barplot('SibSp', 'Survived', data=train)\n",
    "plt.subplot(3,3,3)\n",
    "sns.barplot('Parch', 'Survived', data=train)\n",
    "plt.subplot(3,3,4)\n",
    "sns.barplot('Sex', 'Survived', data=train)\n",
    "plt.subplot(3,3,5)\n",
    "sns.barplot('Ticket', 'Survived', data=train)\n",
    "plt.subplot(3,3,6)\n",
    "sns.barplot('Cabin', 'Survived', data=train)\n",
    "plt.subplot(3,3,7)\n",
    "sns.barplot('Embarked', 'Survived', data=train)\n",
    "plt.subplot(3,3,8)\n",
    "sns.distplot(train[train.Survived==1].Age, color='green', kde=False)\n",
    "sns.distplot(train[train.Survived==0].Age, color='orange', kde=False)\n",
    "plt.subplot(3,3,9)\n",
    "sns.distplot(train[train.Survived==1].Fare, color='green', kde=False)\n",
    "sns.distplot(train[train.Survived==0].Fare, color='orange', kde=False)"
   ]
  },
  {
   "cell_type": "markdown",
   "metadata": {},
   "source": [
    "特征工程"
   ]
  },
  {
   "cell_type": "code",
   "execution_count": 186,
   "metadata": {},
   "outputs": [],
   "source": [
    "train['Relatives'] = train.SibSp + train.Parch\n",
    "test['Relatives'] = test.SibSp + test.Parch"
   ]
  },
  {
   "cell_type": "code",
   "execution_count": 206,
   "metadata": {},
   "outputs": [],
   "source": [
    "train['Ticket2'] = train.Ticket.apply(lambda x: len(x))\n",
    "test['Ticket2'] = test.Ticket.apply(lambda x: len(x))"
   ]
  },
  {
   "cell_type": "code",
   "execution_count": 208,
   "metadata": {},
   "outputs": [],
   "source": [
    "train['Cabin2'] = train.Ticket.apply(lambda x: len(x))\n",
    "test['Cabin2'] = test.Ticket.apply(lambda x: len(x))"
   ]
  },
  {
   "cell_type": "code",
   "execution_count": 211,
   "metadata": {},
   "outputs": [],
   "source": [
    "train['Name2'] = train.Name.apply(lambda x: x.split(',')[0].strip())\n",
    "test['Name2'] = test.Name.apply(lambda x: x.split(',')[0].strip())"
   ]
  },
  {
   "cell_type": "code",
   "execution_count": 217,
   "metadata": {},
   "outputs": [
    {
     "data": {
      "text/plain": [
       "<matplotlib.axes._subplots.AxesSubplot at 0x133021748>"
      ]
     },
     "execution_count": 217,
     "metadata": {},
     "output_type": "execute_result"
    },
    {
     "data": {
      "image/png": "[encoded data removed]",
      "text/plain": [
       "<Figure size 864x720 with 3 Axes>"
      ]
     },
     "metadata": {
      "needs_background": "light"
     },
     "output_type": "display_data"
    }
   ],
   "source": [
    "plt.figure(figsize=[12, 10])\n",
    "plt.subplot(3,3,1)\n",
    "sns.barplot('Relatives', 'Survived', data=train)\n",
    "plt.subplot(3,3,2)\n",
    "sns.barplot('Ticket2', 'Survived', data=train)\n",
    "plt.subplot(3,3,3)\n",
    "sns.barplot('Cabin2', 'Survived', data=train)"
   ]
  },
  {
   "cell_type": "markdown",
   "metadata": {},
   "source": [
    "数据准备"
   ]
  },
  {
   "cell_type": "code",
   "execution_count": 223,
   "metadata": {},
   "outputs": [],
   "source": [
    "train.drop(['PassengerId', 'Name', 'Ticket', 'SibSp', 'Parch', 'Ticket', 'Cabin'], axis=1, inplace=True)\n",
    "test.drop(['PassengerId', 'Name', 'Ticket', 'SibSp', 'Parch', 'Ticket', 'Cabin'], axis=1, inplace=True)"
   ]
  },
  {
   "cell_type": "code",
   "execution_count": 231,
   "metadata": {},
   "outputs": [],
   "source": [
    "titanic = pd.concat([train, test], sort=False)"
   ]
  },
  {
   "cell_type": "code",
   "execution_count": 236,
   "metadata": {},
   "outputs": [],
   "source": [
    "titanic=pd.get_dummies(titanic)"
   ]
  },
  {
   "cell_type": "code",
   "execution_count": 242,
   "metadata": {},
   "outputs": [],
   "source": [
    "train = titanic[:len_train]\n",
    "test = titanic[len_train:]"
   ]
  },
  {
   "cell_type": "code",
   "execution_count": 260,
   "metadata": {},
   "outputs": [
    {
     "data": {
      "text/plain": [
       "dtype('float64')"
      ]
     },
     "execution_count": 260,
     "metadata": {},
     "output_type": "execute_result"
    }
   ],
   "source": [
    "train.Survived.dtype"
   ]
  },
  {
   "cell_type": "code",
   "execution_count": 261,
   "metadata": {},
   "outputs": [],
   "source": [
    "train.Survived = train.Survived.astype('int')"
   ]
  },
  {
   "cell_type": "code",
   "execution_count": 262,
   "metadata": {},
   "outputs": [
    {
     "data": {
      "text/plain": [
       "dtype('int64')"
      ]
     },
     "execution_count": 262,
     "metadata": {},
     "output_type": "execute_result"
    }
   ],
   "source": [
    "train.Survived.dtype"
   ]
  },
  {
   "cell_type": "code",
   "execution_count": 266,
   "metadata": {},
   "outputs": [],
   "source": [
    "y = train.Survived\n",
    "X = train.drop('Survived', axis=1)"
   ]
  },
  {
   "cell_type": "code",
   "execution_count": 269,
   "metadata": {},
   "outputs": [
    {
     "name": "stdout",
     "output_type": "stream",
     "text": [
      "Accuracy: 0.829596\n"
     ]
    }
   ],
   "source": [
    "train_X, val_X, train_y, val_y = train_test_split(X, y, random_state=1)\n",
    "\n",
    "# 3 建模讯模\n",
    "my_pipeline = make_pipeline(Imputer(), XGBRegressor(n_estimators=1000, learning_rate=0.05))\n",
    "my_pipeline.fit(train_X, train_y)\n",
    "# 4 误差验证\n",
    "val_preds = my_pipeline.predict(val_X)\n",
    "val_pre = [int(item>0.5) for  item in val_preds]\n",
    "score = accuracy_score(val_pre, val_y)\n",
    "print(\"Accuracy: %2f\" %score)"
   ]
  },
  {
   "cell_type": "code",
   "execution_count": 271,
   "metadata": {},
   "outputs": [],
   "source": [
    "xtest = test.drop(\"Survived\", axis=1)"
   ]
  },
  {
   "cell_type": "code",
   "execution_count": 273,
   "metadata": {},
   "outputs": [],
   "source": [
    "pred = my_pipeline.predict(xtest)"
   ]
  },
  {
   "cell_type": "code",
   "execution_count": 275,
   "metadata": {},
   "outputs": [],
   "source": [
    "output = pd.DataFrame({'PassengerId': test2['PassengerId'], 'Survived': pred})"
   ]
  },
  {
   "cell_type": "code",
   "execution_count": 277,
   "metadata": {},
   "outputs": [],
   "source": [
    "output.to_csv('submission.csv', index=False)"
   ]
  },
  {
   "cell_type": "code",
   "execution_count": 279,
   "metadata": {},
   "outputs": [],
   "source": [
    "pre = [int(item>0.5) for  item in pred]"
   ]
  },
  {
   "cell_type": "code",
   "execution_count": 282,
   "metadata": {},
   "outputs": [],
   "source": [
    "output2 = pd.DataFrame({'PassengerId': test2['PassengerId'], 'Survived': pre})"
   ]
  },
  {
   "cell_type": "code",
   "execution_count": 289,
   "metadata": {},
   "outputs": [],
   "source": [
    "from sklearn.preprocessing import StandardScaler\n",
    "from sklearn.svm import SVC\n",
    "from sklearn.model_selection import GridSearchCV\n",
    "\n",
    "svc=make_pipeline(StandardScaler(),SVC(random_state=1))\n",
    "r=[0.0001,0.001,0.1,1,10,50,100]\n",
    "PSVM=[{'svc__C':r, 'svc__kernel':['linear']},\n",
    "      {'svc__C':r, 'svc__gamma':r, 'svc__kernel':['rbf']}]\n",
    "GSSVM=GridSearchCV(estimator=svc, param_grid=PSVM, scoring='accuracy', cv=2)\n",
    "scores_svm=cross_val_score(GSSVM, X.astype(float), y,scoring='accuracy', cv=5)"
   ]
  },
  {
   "cell_type": "code",
   "execution_count": 290,
   "metadata": {},
   "outputs": [
    {
     "data": {
      "text/plain": [
       "0.8439879324218461"
      ]
     },
     "execution_count": 290,
     "metadata": {},
     "output_type": "execute_result"
    }
   ],
   "source": [
    "np.mean(scores_svm)"
   ]
  },
  {
   "cell_type": "code",
   "execution_count": 294,
   "metadata": {},
   "outputs": [],
   "source": [
    "warnings.filterwarnings(action=\"ignore\")\n",
    "model=GSSVM.fit(X, y)\n",
    "pred=model.predict(xtest)\n",
    "output=pd.DataFrame({'PassengerId':test2['PassengerId'],'Survived':pred})\n",
    "output.to_csv('submission.csv', index=False)"
   ]
  }
 ],
 "metadata": {
  "kernelspec": {
   "display_name": "Python 3",
   "language": "python",
   "name": "python3"
  },
  "language_info": {
   "codemirror_mode": {
    "name": "ipython",
    "version": 3
   },
   "file_extension": ".py",
   "mimetype": "text/x-python",
   "name": "python",
   "nbconvert_exporter": "python",
   "pygments_lexer": "ipython3",
   "version": "3.7.1"
  }
 },
 "nbformat": 4,
 "nbformat_minor": 2
}
