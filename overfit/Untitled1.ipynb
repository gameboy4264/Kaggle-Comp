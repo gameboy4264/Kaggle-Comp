{
 "cells": [
  {
   "cell_type": "code",
   "execution_count": 1,
   "metadata": {},
   "outputs": [
    {
     "data": {
      "text/plain": [
       "'C:\\\\Users\\\\Jian Wang\\\\Desktop\\\\py\\\\kaggle\\\\dont-overfit-ii'"
      ]
     },
     "execution_count": 1,
     "metadata": {},
     "output_type": "execute_result"
    }
   ],
   "source": [
    "pwd"
   ]
  },
  {
   "cell_type": "code",
   "execution_count": 2,
   "metadata": {},
   "outputs": [
    {
     "name": "stdout",
     "output_type": "stream",
     "text": [
      "C:\\Users\\Jian Wang\\Desktop\\py\n"
     ]
    }
   ],
   "source": [
    "cd ../../"
   ]
  },
  {
   "cell_type": "code",
   "execution_count": 3,
   "metadata": {},
   "outputs": [
    {
     "name": "stdout",
     "output_type": "stream",
     "text": [
      " Volume in drive C is Windows\n",
      " Volume Serial Number is 0212-CE0A\n",
      "\n",
      " Directory of C:\\Users\\Jian Wang\\Desktop\\py\n",
      "\n",
      "2019/04/22  11:18    <DIR>          .\n",
      "2019/04/22  11:18    <DIR>          ..\n",
      "2019/04/08  16:20    <DIR>          .idea\n",
      "2019/04/10  16:07    <DIR>          backup\n",
      "2019/03/28  17:34             7,219 bq_helper.py\n",
      "2019/03/14  15:48    <DIR>          examples\n",
      "2019/03/29  15:22           259,772 git-cheatsheet.pdf\n",
      "2019/03/21  09:29    <DIR>          homework\n",
      "2019/04/22  11:01    <DIR>          kaggle\n",
      "2019/04/22  11:02    <DIR>          Kaggle-Comp\n",
      "2019/03/29  15:17    <DIR>          learngit\n",
      "2019/03/27  11:54           849,394 MySQL 5.7 参考手册.pdf\n",
      "2019/03/15  10:46    <DIR>          pydata\n",
      "2019/03/29  09:52    <DIR>          Python数据科学速查表\n",
      "2019/03/27  11:46    <DIR>          sql\n",
      "2019/04/16  13:50    <DIR>          tensorflow\n",
      "2019/03/29  14:50            19,753 WeChat Screenshot_20190329145022.png\n",
      "2019/04/10  16:00         1,742,068 xgboost-0.82-cp35-cp35m-win_amd64.whl\n",
      "2019/04/22  11:18         1,742,066 xgboost-0.82-cp36-cp36m-win_amd64.whl\n",
      "2019/04/08  16:19         1,742,067 xgboost-0.82-cp37-cp37m-win_amd64.whl\n",
      "               7 File(s)      6,362,339 bytes\n",
      "              13 Dir(s)  54,022,533,120 bytes free\n"
     ]
    }
   ],
   "source": [
    "ls"
   ]
  },
  {
   "cell_type": "code",
   "execution_count": 4,
   "metadata": {},
   "outputs": [
    {
     "name": "stdout",
     "output_type": "stream",
     "text": [
      "C:\\Users\\Jian Wang\\Desktop\\py\\kaggle\n"
     ]
    }
   ],
   "source": [
    "cd kaggle"
   ]
  },
  {
   "cell_type": "code",
   "execution_count": 5,
   "metadata": {},
   "outputs": [
    {
     "name": "stdout",
     "output_type": "stream",
     "text": [
      " Volume in drive C is Windows\n",
      " Volume Serial Number is 0212-CE0A\n",
      "\n",
      " Directory of C:\\Users\\Jian Wang\\Desktop\\py\\kaggle\n",
      "\n",
      "2019/04/22  11:01    <DIR>          .\n",
      "2019/04/22  11:01    <DIR>          ..\n",
      "2019/04/17  15:11    <DIR>          .ipynb_checkpoints\n",
      "2019/04/08  16:17           822,750 a.ipynb\n",
      "2019/04/09  11:02    <DIR>          credit-card-data\n",
      "2019/04/15  14:07    <DIR>          data-for-datavis\n",
      "2019/04/22  11:24    <DIR>          dont-overfit-ii\n",
      "2019/04/15  16:54    <DIR>          fivethirtyeight-comic-characters-dataset\n",
      "2019/04/08  14:12    <DIR>          house-prices-advanced-regression-techniques\n",
      "2019/04/08  14:17    <DIR>          hpart\n",
      "2019/04/08  10:57    <DIR>          melbourne-housing-market\n",
      "2019/04/08  10:57    <DIR>          melbourne-housing-snapshot\n",
      "2019/04/04  15:04    <DIR>          most-common-wine-scores\n",
      "2019/04/17  15:40    <DIR>          pima-indians-diabetes-database\n",
      "2019/04/04  10:36    <DIR>          pokemon\n",
      "2019/04/04  17:26            44,028 Pokemon.csv\n",
      "2019/04/08  16:07           821,839 Untitled.ipynb\n",
      "2019/04/09  15:46            22,690 Untitled1.ipynb\n",
      "2019/04/09  16:07             1,399 Untitled2.ipynb\n",
      "2019/04/16  10:14             3,015 Untitled3.ipynb\n",
      "2019/04/17  17:27            88,325 Untitled4.ipynb\n",
      "2019/04/04  10:37    <DIR>          wine-reviews\n",
      "               7 File(s)      1,804,046 bytes\n",
      "              15 Dir(s)  54,022,533,120 bytes free\n"
     ]
    }
   ],
   "source": [
    "ls"
   ]
  },
  {
   "cell_type": "code",
   "execution_count": 6,
   "metadata": {},
   "outputs": [
    {
     "name": "stdout",
     "output_type": "stream",
     "text": [
      "C:\\Users\\Jian Wang\\Desktop\\py\n"
     ]
    }
   ],
   "source": [
    "cd ../"
   ]
  },
  {
   "cell_type": "code",
   "execution_count": 7,
   "metadata": {},
   "outputs": [
    {
     "name": "stdout",
     "output_type": "stream",
     "text": [
      " Volume in drive C is Windows\n",
      " Volume Serial Number is 0212-CE0A\n",
      "\n",
      " Directory of C:\\Users\\Jian Wang\\Desktop\\py\n",
      "\n",
      "2019/04/22  11:18    <DIR>          .\n",
      "2019/04/22  11:18    <DIR>          ..\n",
      "2019/04/08  16:20    <DIR>          .idea\n",
      "2019/04/10  16:07    <DIR>          backup\n",
      "2019/03/28  17:34             7,219 bq_helper.py\n",
      "2019/03/14  15:48    <DIR>          examples\n",
      "2019/03/29  15:22           259,772 git-cheatsheet.pdf\n",
      "2019/03/21  09:29    <DIR>          homework\n",
      "2019/04/22  11:01    <DIR>          kaggle\n",
      "2019/04/22  11:02    <DIR>          Kaggle-Comp\n",
      "2019/03/29  15:17    <DIR>          learngit\n",
      "2019/03/27  11:54           849,394 MySQL 5.7 参考手册.pdf\n",
      "2019/03/15  10:46    <DIR>          pydata\n",
      "2019/03/29  09:52    <DIR>          Python数据科学速查表\n",
      "2019/03/27  11:46    <DIR>          sql\n",
      "2019/04/16  13:50    <DIR>          tensorflow\n",
      "2019/03/29  14:50            19,753 WeChat Screenshot_20190329145022.png\n",
      "2019/04/10  16:00         1,742,068 xgboost-0.82-cp35-cp35m-win_amd64.whl\n",
      "2019/04/22  11:18         1,742,066 xgboost-0.82-cp36-cp36m-win_amd64.whl\n",
      "2019/04/08  16:19         1,742,067 xgboost-0.82-cp37-cp37m-win_amd64.whl\n",
      "               7 File(s)      6,362,339 bytes\n",
      "              13 Dir(s)  54,022,533,120 bytes free\n"
     ]
    }
   ],
   "source": [
    "ls"
   ]
  },
  {
   "cell_type": "code",
   "execution_count": 8,
   "metadata": {},
   "outputs": [
    {
     "name": "stdout",
     "output_type": "stream",
     "text": [
      "[WinError 2] The system cannot find the file specified: 'Kaggel-Comp'\n",
      "C:\\Users\\Jian Wang\\Desktop\\py\n"
     ]
    }
   ],
   "source": [
    "cd Kaggel-Comp"
   ]
  },
  {
   "cell_type": "code",
   "execution_count": 9,
   "metadata": {},
   "outputs": [
    {
     "name": "stdout",
     "output_type": "stream",
     "text": [
      " Volume in drive C is Windows\n",
      " Volume Serial Number is 0212-CE0A\n",
      "\n",
      " Directory of C:\\Users\\Jian Wang\\Desktop\\py\n",
      "\n",
      "2019/04/22  11:18    <DIR>          .\n",
      "2019/04/22  11:18    <DIR>          ..\n",
      "2019/04/08  16:20    <DIR>          .idea\n",
      "2019/04/10  16:07    <DIR>          backup\n",
      "2019/03/28  17:34             7,219 bq_helper.py\n",
      "2019/03/14  15:48    <DIR>          examples\n",
      "2019/03/29  15:22           259,772 git-cheatsheet.pdf\n",
      "2019/03/21  09:29    <DIR>          homework\n",
      "2019/04/22  11:01    <DIR>          kaggle\n",
      "2019/04/22  11:02    <DIR>          Kaggle-Comp\n",
      "2019/03/29  15:17    <DIR>          learngit\n",
      "2019/03/27  11:54           849,394 MySQL 5.7 参考手册.pdf\n",
      "2019/03/15  10:46    <DIR>          pydata\n",
      "2019/03/29  09:52    <DIR>          Python数据科学速查表\n",
      "2019/03/27  11:46    <DIR>          sql\n",
      "2019/04/16  13:50    <DIR>          tensorflow\n",
      "2019/03/29  14:50            19,753 WeChat Screenshot_20190329145022.png\n",
      "2019/04/10  16:00         1,742,068 xgboost-0.82-cp35-cp35m-win_amd64.whl\n",
      "2019/04/22  11:18         1,742,066 xgboost-0.82-cp36-cp36m-win_amd64.whl\n",
      "2019/04/08  16:19         1,742,067 xgboost-0.82-cp37-cp37m-win_amd64.whl\n",
      "               7 File(s)      6,362,339 bytes\n",
      "              13 Dir(s)  54,023,389,184 bytes free\n"
     ]
    }
   ],
   "source": [
    "ls"
   ]
  },
  {
   "cell_type": "code",
   "execution_count": 10,
   "metadata": {},
   "outputs": [
    {
     "name": "stdout",
     "output_type": "stream",
     "text": [
      "C:\\Users\\Jian Wang\\Desktop\\py\\Kaggle-Comp\n"
     ]
    }
   ],
   "source": [
    "cd Kaggle-Comp"
   ]
  },
  {
   "cell_type": "code",
   "execution_count": 11,
   "metadata": {},
   "outputs": [
    {
     "name": "stdout",
     "output_type": "stream",
     "text": [
      " Volume in drive C is Windows\n",
      " Volume Serial Number is 0212-CE0A\n",
      "\n",
      " Directory of C:\\Users\\Jian Wang\\Desktop\\py\\Kaggle-Comp\n",
      "\n",
      "2019/04/22  11:02    <DIR>          .\n",
      "2019/04/22  11:02    <DIR>          ..\n",
      "2019/04/15  09:26                29 .gitignore\n",
      "2019/04/12  15:22    <DIR>          .ipynb_checkpoints\n",
      "2019/04/22  11:02    <DIR>          crawler\n",
      "2019/04/15  09:26    <DIR>          housing\n",
      "2019/04/22  11:02    <DIR>          titanic\n",
      "               1 File(s)             29 bytes\n",
      "               6 Dir(s)  54,023,512,064 bytes free\n"
     ]
    }
   ],
   "source": [
    "ls"
   ]
  },
  {
   "cell_type": "code",
   "execution_count": 12,
   "metadata": {},
   "outputs": [
    {
     "name": "stdout",
     "output_type": "stream",
     "text": [
      "C:\\Users\\Jian Wang\\Desktop\\py\\Kaggle-Comp\\titanic\n"
     ]
    }
   ],
   "source": [
    "cd titanic"
   ]
  },
  {
   "cell_type": "code",
   "execution_count": 13,
   "metadata": {},
   "outputs": [
    {
     "name": "stdout",
     "output_type": "stream",
     "text": [
      " Volume in drive C is Windows\n",
      " Volume Serial Number is 0212-CE0A\n",
      "\n",
      " Directory of C:\\Users\\Jian Wang\\Desktop\\py\\Kaggle-Comp\\titanic\n",
      "\n",
      "2019/04/22  11:02    <DIR>          .\n",
      "2019/04/22  11:02    <DIR>          ..\n",
      "2019/04/15  09:26    <DIR>          input\n",
      "2019/04/22  11:02             3,258 submission.csv\n",
      "2019/04/15  09:26             3,258 submission1.csv\n",
      "2019/04/15  09:26             3,258 submission2.csv\n",
      "2019/04/22  11:02            74,086 titanic data process.ipynb\n",
      "2019/04/15  09:26             1,949 titanic1.py\n",
      "2019/04/15  09:26             2,435 titanic2.py\n",
      "2019/04/15  09:26           211,586 Untitled.ipynb\n",
      "               7 File(s)        299,830 bytes\n",
      "               3 Dir(s)  54,023,512,064 bytes free\n"
     ]
    }
   ],
   "source": [
    "ls"
   ]
  },
  {
   "cell_type": "code",
   "execution_count": null,
   "metadata": {},
   "outputs": [],
   "source": []
  }
 ],
 "metadata": {
  "kernelspec": {
   "display_name": "Python 3",
   "language": "python",
   "name": "python3"
  },
  "language_info": {
   "codemirror_mode": {
    "name": "ipython",
    "version": 3
   },
   "file_extension": ".py",
   "mimetype": "text/x-python",
   "name": "python",
   "nbconvert_exporter": "python",
   "pygments_lexer": "ipython3",
   "version": "3.6.6"
  }
 },
 "nbformat": 4,
 "nbformat_minor": 2
}
