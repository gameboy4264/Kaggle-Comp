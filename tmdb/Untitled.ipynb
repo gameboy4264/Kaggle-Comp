{
 "cells": [
  {
   "cell_type": "code",
   "execution_count": 1,
   "metadata": {},
   "outputs": [],
   "source": [
    "import pandas as pd\n",
    "import numpy as np\n",
    "import seaborn as sns\n",
    "import matplotlib.pyplot as plt\n",
    "import warnings\n",
    "\n",
    "#数据导入\n",
    "train = pd.read_csv('input/train.csv')\n",
    "test = pd.read_csv('input/test.csv')\n",
    "sample = pd.read_csv('input/sample_submission.csv')"
   ]
  },
  {
   "cell_type": "code",
   "execution_count": 2,
   "metadata": {},
   "outputs": [
    {
     "data": {
      "text/plain": [
       "belongs_to_collection    2396\n",
       "genres                      7\n",
       "homepage                 2054\n",
       "overview                    8\n",
       "poster_path                 1\n",
       "production_companies      156\n",
       "production_countries       55\n",
       "runtime                     2\n",
       "spoken_languages           20\n",
       "tagline                   597\n",
       "Keywords                  276\n",
       "cast                       13\n",
       "crew                       16\n",
       "dtype: int64"
      ]
     },
     "execution_count": 2,
     "metadata": {},
     "output_type": "execute_result"
    }
   ],
   "source": [
    "train.dtypes.sort_values()\n",
    "train.select_dtypes(include='int64').head()\n",
    "train.select_dtypes(include='float64').head()\n",
    "train.select_dtypes(include='object').head()\n",
    "train.isnull().sum()[train.isnull().sum()>0]"
   ]
  },
  {
   "cell_type": "code",
   "execution_count": 3,
   "metadata": {},
   "outputs": [],
   "source": [
    "train.belongs_to_collection = train.belongs_to_collection.fillna(\"unknow\")\n",
    "test.belongs_to_collection = test.belongs_to_collection.fillna(\"unknow\")\n",
    "\n",
    "train.genres = train.genres.fillna(\"unknow\")\n",
    "test.genres = test.genres.fillna(\"unknow\")\n",
    "\n",
    "train.homepage = train.homepage.fillna(\"unknow\")\n",
    "test.homepage = test.homepage.fillna(\"unknow\")\n",
    "\n",
    "train.overview = train.overview.fillna(\"unknow\")\n",
    "test.overview = test.overview.fillna(\"unknow\")\n",
    "\n",
    "train.poster_path = train.poster_path.fillna(\"unknow\")\n",
    "test.poster_path = test.poster_path.fillna(\"unknow\")\n",
    "\n",
    "train.production_companies = train.production_companies.fillna(\"unknow\")\n",
    "test.production_companies = test.production_companies.fillna(\"unknow\")\n",
    "\n",
    "train.production_countries = train.production_countries.fillna(\"unknow\")\n",
    "test.production_countries = test.production_countries.fillna(\"unknow\")\n",
    "\n",
    "train.runtime = train.runtime.fillna(train.runtime.mean())\n",
    "test.runtime = test.runtime.fillna(train.runtime.mean())\n",
    "\n",
    "train.spoken_languages = train.spoken_languages.fillna(\"unknow\")\n",
    "test.spoken_languages = test.spoken_languages.fillna(\"unknow\")\n",
    "\n",
    "train.tagline = train.tagline.fillna(\"unknow\")\n",
    "test.tagline = test.tagline.fillna(\"unknow\")\n",
    "\n",
    "train.Keywords = train.Keywords.fillna(\"unknow\")\n",
    "test.Keywords = test.Keywords.fillna(\"unknow\")\n",
    "\n",
    "train.cast = train.cast.fillna(\"unknow\")\n",
    "test.cast = test.cast.fillna(\"unknow\")\n",
    "\n",
    "train.crew = train.crew.fillna(\"unknow\")\n",
    "test.crew = test.crew.fillna(\"unknow\")\n",
    "\n",
    "train.title = train.title.fillna(\"unknow\")\n",
    "test.title = test.title.fillna(\"unknow\")\n",
    "\n",
    "train.status = train.status.fillna(train.status.mode())\n",
    "test.status = test.status.fillna(train.status.mode())\n",
    "\n",
    "train.release_date = train.release_date.fillna(\"unknow\")\n",
    "test.release_date = test.release_date.fillna(\"unknow\")"
   ]
  },
  {
   "cell_type": "code",
   "execution_count": 5,
   "metadata": {},
   "outputs": [],
   "source": [
    "train['genres2'] = train.genres.apply(lambda x: x.count('id'))\n",
    "test['genres2'] = test.genres.apply(lambda x: x.count('id'))\n",
    "\n",
    "train['cast2'] = train.cast.apply(lambda x: x.count('cast_id'))\n",
    "test['cast2'] = test.cast.apply(lambda x: x.count('cast_id'))\n",
    "\n",
    "train['Keywords2'] = train.Keywords.apply(lambda x: x.count('id'))\n",
    "test['Keywords2'] = test.Keywords.apply(lambda x: x.count('id'))\n",
    "\n",
    "train['title2'] = train.title.apply(lambda x: len(x))\n",
    "test['title2'] = test.title.apply(lambda x: len(x))\n",
    "\n",
    "train['tagline2'] = train.tagline.apply(lambda x: len(x))\n",
    "test['tagline2'] = test.tagline.apply(lambda x: len(x))\n",
    "\n",
    "train['spoken_languages2'] = train.spoken_languages.apply(lambda x: x.count('name'))\n",
    "test['spoken_languages2'] = test.spoken_languages.apply(lambda x: x.count('name'))\n",
    "\n",
    "train['production_countries2'] = train.production_countries.apply(lambda x: x.count('name'))\n",
    "test['production_countries2'] = test.production_countries.apply(lambda x: x.count('name'))\n",
    "\n",
    "train['crew2'] = train.crew.apply(lambda x: x.count('id'))\n",
    "test['crew2'] = test.crew.apply(lambda x: x.count('id'))\n",
    "\n",
    "train['overview2'] = train.overview.apply(lambda x: len(x))\n",
    "test['overview2'] = test.overview.apply(lambda x: len(x))\n",
    "\n",
    "train['original_title2'] = train.original_title.apply(lambda x: len(x))\n",
    "test['original_title2'] = test.original_title.apply(lambda x: len(x))\n",
    "\n",
    "train['homepage2'] = train.homepage.apply(lambda x: 0 if x=='unknow' else 1)\n",
    "test['homepage2'] = test.homepage.apply(lambda x: 0 if x=='unknow' else 1)\n",
    "\n",
    "train['belongs_to_collection2'] = train.belongs_to_collection.apply(lambda x: 0 if x=='unknow' else 1)\n",
    "test['belongs_to_collection2'] = test.belongs_to_collection.apply(lambda x: 0 if x=='unknow' else 1)\n",
    "\n",
    "train['production_companies2'] = train.production_companies.apply(lambda x: x.count('id'))\n",
    "test['production_companies2'] = test.production_companies.apply(lambda x: x.count('id'))\n"
   ]
  },
  {
   "cell_type": "code",
   "execution_count": 7,
   "metadata": {},
   "outputs": [
    {
     "name": "stderr",
     "output_type": "stream",
     "text": [
      "/Users/wangjian/tensorflow/lib/python3.7/site-packages/ipykernel_launcher.py:1: SettingWithCopyWarning: \n",
      "A value is trying to be set on a copy of a slice from a DataFrame\n",
      "\n",
      "See the caveats in the documentation: http://pandas.pydata.org/pandas-docs/stable/indexing.html#indexing-view-versus-copy\n",
      "  \"\"\"Entry point for launching an IPython kernel.\n"
     ]
    }
   ],
   "source": [
    "test.release_date[test.release_date==\"unknow\"] = 0000-00-00\n",
    "train['release_date_year'] = train.release_date.apply(lambda x: pd.to_datetime(x).year)\n",
    "train['release_date_month'] = train.release_date.apply(lambda x: pd.to_datetime(x).month)\n",
    "train['release_date_day'] = train.release_date.apply(lambda x: pd.to_datetime(x).day)\n",
    "train['release_date_weekday'] = train.release_date.apply(lambda x: pd.to_datetime(x).weekday())\n",
    "test['release_date_year'] = test.release_date.apply(lambda x: pd.to_datetime(x).year)\n",
    "test['release_date_month'] = test.release_date.apply(lambda x: pd.to_datetime(x).month)\n",
    "test['release_date_day'] = test.release_date.apply(lambda x: pd.to_datetime(x).day)\n",
    "test['release_date_weekday'] = test.release_date.apply(lambda x: pd.to_datetime(x).weekday())"
   ]
  },
  {
   "cell_type": "code",
   "execution_count": 8,
   "metadata": {},
   "outputs": [],
   "source": [
    "train.drop(['id', 'belongs_to_collection', 'genres', 'homepage',\n",
    "       'imdb_id', 'original_language', 'original_title', 'overview', 'poster_path', 'production_companies',\n",
    "       'production_countries', 'release_date', 'spoken_languages' , 'tagline', 'title', 'Keywords', 'cast', 'crew'], axis=1, inplace=True)\n",
    "\n",
    "test.drop(['id', 'belongs_to_collection', 'genres', 'homepage',\n",
    "       'imdb_id', 'original_language', 'original_title', 'overview', 'poster_path', 'production_companies',\n",
    "       'production_countries', 'release_date', 'spoken_languages' , 'tagline', 'title', 'Keywords', 'cast', 'crew'], axis=1, inplace=True)\n",
    "\n",
    "\n",
    "tmdb = pd.concat([train, test], sort=False)\n",
    "tmdb = pd.get_dummies(tmdb)\n",
    "len_train = len(train)\n",
    "len_test = len(test)\n",
    "train = tmdb[:len_train]\n",
    "test = tmdb[len_train:]"
   ]
  },
  {
   "cell_type": "code",
   "execution_count": 10,
   "metadata": {},
   "outputs": [
    {
     "data": {
      "text/html": [
       "<div>\n",
       "<style scoped>\n",
       "    .dataframe tbody tr th:only-of-type {\n",
       "        vertical-align: middle;\n",
       "    }\n",
       "\n",
       "    .dataframe tbody tr th {\n",
       "        vertical-align: top;\n",
       "    }\n",
       "\n",
       "    .dataframe thead th {\n",
       "        text-align: right;\n",
       "    }\n",
       "</style>\n",
       "<table border=\"1\" class=\"dataframe\">\n",
       "  <thead>\n",
       "    <tr style=\"text-align: right;\">\n",
       "      <th></th>\n",
       "      <th>budget</th>\n",
       "      <th>popularity</th>\n",
       "      <th>runtime</th>\n",
       "      <th>revenue</th>\n",
       "      <th>genres2</th>\n",
       "      <th>cast2</th>\n",
       "      <th>Keywords2</th>\n",
       "      <th>title2</th>\n",
       "      <th>tagline2</th>\n",
       "      <th>spoken_languages2</th>\n",
       "      <th>...</th>\n",
       "      <th>homepage2</th>\n",
       "      <th>belongs_to_collection2</th>\n",
       "      <th>production_companies2</th>\n",
       "      <th>release_date_year</th>\n",
       "      <th>release_date_month</th>\n",
       "      <th>release_date_day</th>\n",
       "      <th>release_date_weekday</th>\n",
       "      <th>status_Post Production</th>\n",
       "      <th>status_Released</th>\n",
       "      <th>status_Rumored</th>\n",
       "    </tr>\n",
       "  </thead>\n",
       "  <tbody>\n",
       "    <tr>\n",
       "      <th>budget</th>\n",
       "      <td>1.000000</td>\n",
       "      <td>0.342356</td>\n",
       "      <td>0.238350</td>\n",
       "      <td>0.752965</td>\n",
       "      <td>0.234188</td>\n",
       "      <td>0.308950</td>\n",
       "      <td>0.155782</td>\n",
       "      <td>0.070870</td>\n",
       "      <td>0.005879</td>\n",
       "      <td>0.101914</td>\n",
       "      <td>...</td>\n",
       "      <td>0.247627</td>\n",
       "      <td>0.222932</td>\n",
       "      <td>0.247177</td>\n",
       "      <td>0.046047</td>\n",
       "      <td>0.031094</td>\n",
       "      <td>0.025745</td>\n",
       "      <td>-0.116030</td>\n",
       "      <td>NaN</td>\n",
       "      <td>0.022019</td>\n",
       "      <td>-0.022019</td>\n",
       "    </tr>\n",
       "    <tr>\n",
       "      <th>popularity</th>\n",
       "      <td>0.342356</td>\n",
       "      <td>1.000000</td>\n",
       "      <td>0.133669</td>\n",
       "      <td>0.461460</td>\n",
       "      <td>0.084100</td>\n",
       "      <td>0.312118</td>\n",
       "      <td>0.166551</td>\n",
       "      <td>0.001345</td>\n",
       "      <td>0.027200</td>\n",
       "      <td>0.036527</td>\n",
       "      <td>...</td>\n",
       "      <td>0.164797</td>\n",
       "      <td>0.155896</td>\n",
       "      <td>0.152154</td>\n",
       "      <td>0.059965</td>\n",
       "      <td>-0.010692</td>\n",
       "      <td>0.039877</td>\n",
       "      <td>-0.093627</td>\n",
       "      <td>NaN</td>\n",
       "      <td>0.013791</td>\n",
       "      <td>-0.013791</td>\n",
       "    </tr>\n",
       "    <tr>\n",
       "      <th>runtime</th>\n",
       "      <td>0.238350</td>\n",
       "      <td>0.133669</td>\n",
       "      <td>1.000000</td>\n",
       "      <td>0.216363</td>\n",
       "      <td>0.057920</td>\n",
       "      <td>0.223345</td>\n",
       "      <td>0.114359</td>\n",
       "      <td>-0.034325</td>\n",
       "      <td>0.044346</td>\n",
       "      <td>0.182172</td>\n",
       "      <td>...</td>\n",
       "      <td>0.041066</td>\n",
       "      <td>-0.036916</td>\n",
       "      <td>0.086465</td>\n",
       "      <td>0.097886</td>\n",
       "      <td>0.130190</td>\n",
       "      <td>0.044116</td>\n",
       "      <td>-0.080314</td>\n",
       "      <td>NaN</td>\n",
       "      <td>0.050660</td>\n",
       "      <td>-0.050660</td>\n",
       "    </tr>\n",
       "    <tr>\n",
       "      <th>revenue</th>\n",
       "      <td>0.752965</td>\n",
       "      <td>0.461460</td>\n",
       "      <td>0.216363</td>\n",
       "      <td>1.000000</td>\n",
       "      <td>0.163654</td>\n",
       "      <td>0.335737</td>\n",
       "      <td>0.187864</td>\n",
       "      <td>0.109664</td>\n",
       "      <td>0.003403</td>\n",
       "      <td>0.064961</td>\n",
       "      <td>...</td>\n",
       "      <td>0.263179</td>\n",
       "      <td>0.339425</td>\n",
       "      <td>0.150750</td>\n",
       "      <td>0.020593</td>\n",
       "      <td>0.020164</td>\n",
       "      <td>0.045699</td>\n",
       "      <td>-0.141090</td>\n",
       "      <td>NaN</td>\n",
       "      <td>0.016806</td>\n",
       "      <td>-0.016806</td>\n",
       "    </tr>\n",
       "    <tr>\n",
       "      <th>genres2</th>\n",
       "      <td>0.234188</td>\n",
       "      <td>0.084100</td>\n",
       "      <td>0.057920</td>\n",
       "      <td>0.163654</td>\n",
       "      <td>1.000000</td>\n",
       "      <td>0.068102</td>\n",
       "      <td>0.092414</td>\n",
       "      <td>0.021387</td>\n",
       "      <td>0.077180</td>\n",
       "      <td>0.076848</td>\n",
       "      <td>...</td>\n",
       "      <td>0.006122</td>\n",
       "      <td>0.101065</td>\n",
       "      <td>0.050456</td>\n",
       "      <td>-0.059273</td>\n",
       "      <td>-0.011342</td>\n",
       "      <td>-0.002040</td>\n",
       "      <td>-0.024834</td>\n",
       "      <td>NaN</td>\n",
       "      <td>0.016478</td>\n",
       "      <td>-0.016478</td>\n",
       "    </tr>\n",
       "    <tr>\n",
       "      <th>cast2</th>\n",
       "      <td>0.308950</td>\n",
       "      <td>0.312118</td>\n",
       "      <td>0.223345</td>\n",
       "      <td>0.335737</td>\n",
       "      <td>0.068102</td>\n",
       "      <td>1.000000</td>\n",
       "      <td>0.185914</td>\n",
       "      <td>-0.014781</td>\n",
       "      <td>0.061018</td>\n",
       "      <td>0.074356</td>\n",
       "      <td>...</td>\n",
       "      <td>0.140999</td>\n",
       "      <td>0.098710</td>\n",
       "      <td>0.159687</td>\n",
       "      <td>0.101857</td>\n",
       "      <td>0.020150</td>\n",
       "      <td>-0.001328</td>\n",
       "      <td>-0.082202</td>\n",
       "      <td>NaN</td>\n",
       "      <td>0.034840</td>\n",
       "      <td>-0.034840</td>\n",
       "    </tr>\n",
       "    <tr>\n",
       "      <th>Keywords2</th>\n",
       "      <td>0.155782</td>\n",
       "      <td>0.166551</td>\n",
       "      <td>0.114359</td>\n",
       "      <td>0.187864</td>\n",
       "      <td>0.092414</td>\n",
       "      <td>0.185914</td>\n",
       "      <td>1.000000</td>\n",
       "      <td>0.006715</td>\n",
       "      <td>0.132719</td>\n",
       "      <td>0.082623</td>\n",
       "      <td>...</td>\n",
       "      <td>0.108406</td>\n",
       "      <td>0.095447</td>\n",
       "      <td>0.138316</td>\n",
       "      <td>-0.025271</td>\n",
       "      <td>-0.003885</td>\n",
       "      <td>0.031230</td>\n",
       "      <td>-0.052761</td>\n",
       "      <td>NaN</td>\n",
       "      <td>0.020955</td>\n",
       "      <td>-0.020955</td>\n",
       "    </tr>\n",
       "    <tr>\n",
       "      <th>title2</th>\n",
       "      <td>0.070870</td>\n",
       "      <td>0.001345</td>\n",
       "      <td>-0.034325</td>\n",
       "      <td>0.109664</td>\n",
       "      <td>0.021387</td>\n",
       "      <td>-0.014781</td>\n",
       "      <td>0.006715</td>\n",
       "      <td>1.000000</td>\n",
       "      <td>-0.013322</td>\n",
       "      <td>-0.009009</td>\n",
       "      <td>...</td>\n",
       "      <td>0.025032</td>\n",
       "      <td>0.224087</td>\n",
       "      <td>-0.041319</td>\n",
       "      <td>-0.032068</td>\n",
       "      <td>0.013365</td>\n",
       "      <td>0.005026</td>\n",
       "      <td>-0.032485</td>\n",
       "      <td>NaN</td>\n",
       "      <td>-0.045372</td>\n",
       "      <td>0.045372</td>\n",
       "    </tr>\n",
       "    <tr>\n",
       "      <th>tagline2</th>\n",
       "      <td>0.005879</td>\n",
       "      <td>0.027200</td>\n",
       "      <td>0.044346</td>\n",
       "      <td>0.003403</td>\n",
       "      <td>0.077180</td>\n",
       "      <td>0.061018</td>\n",
       "      <td>0.132719</td>\n",
       "      <td>-0.013322</td>\n",
       "      <td>1.000000</td>\n",
       "      <td>0.035967</td>\n",
       "      <td>...</td>\n",
       "      <td>-0.102100</td>\n",
       "      <td>0.011678</td>\n",
       "      <td>-0.008381</td>\n",
       "      <td>-0.126272</td>\n",
       "      <td>0.026243</td>\n",
       "      <td>0.025476</td>\n",
       "      <td>0.004573</td>\n",
       "      <td>NaN</td>\n",
       "      <td>-0.004027</td>\n",
       "      <td>0.004027</td>\n",
       "    </tr>\n",
       "    <tr>\n",
       "      <th>spoken_languages2</th>\n",
       "      <td>0.101914</td>\n",
       "      <td>0.036527</td>\n",
       "      <td>0.182172</td>\n",
       "      <td>0.064961</td>\n",
       "      <td>0.076848</td>\n",
       "      <td>0.074356</td>\n",
       "      <td>0.082623</td>\n",
       "      <td>-0.009009</td>\n",
       "      <td>0.035967</td>\n",
       "      <td>1.000000</td>\n",
       "      <td>...</td>\n",
       "      <td>0.061505</td>\n",
       "      <td>0.046633</td>\n",
       "      <td>0.140106</td>\n",
       "      <td>0.024759</td>\n",
       "      <td>0.046043</td>\n",
       "      <td>-0.001126</td>\n",
       "      <td>-0.050975</td>\n",
       "      <td>NaN</td>\n",
       "      <td>-0.063716</td>\n",
       "      <td>0.063716</td>\n",
       "    </tr>\n",
       "    <tr>\n",
       "      <th>production_countries2</th>\n",
       "      <td>0.121413</td>\n",
       "      <td>0.065569</td>\n",
       "      <td>0.097368</td>\n",
       "      <td>0.052955</td>\n",
       "      <td>0.032897</td>\n",
       "      <td>0.041843</td>\n",
       "      <td>0.065320</td>\n",
       "      <td>0.003583</td>\n",
       "      <td>-0.000400</td>\n",
       "      <td>0.176328</td>\n",
       "      <td>...</td>\n",
       "      <td>0.074663</td>\n",
       "      <td>0.014250</td>\n",
       "      <td>0.391468</td>\n",
       "      <td>0.048885</td>\n",
       "      <td>0.004804</td>\n",
       "      <td>0.009993</td>\n",
       "      <td>-0.057256</td>\n",
       "      <td>NaN</td>\n",
       "      <td>0.027995</td>\n",
       "      <td>-0.027995</td>\n",
       "    </tr>\n",
       "    <tr>\n",
       "      <th>crew2</th>\n",
       "      <td>0.436644</td>\n",
       "      <td>0.310779</td>\n",
       "      <td>0.152652</td>\n",
       "      <td>0.372023</td>\n",
       "      <td>0.128800</td>\n",
       "      <td>0.382796</td>\n",
       "      <td>0.234495</td>\n",
       "      <td>-0.059411</td>\n",
       "      <td>0.042775</td>\n",
       "      <td>0.079173</td>\n",
       "      <td>...</td>\n",
       "      <td>0.175682</td>\n",
       "      <td>0.101906</td>\n",
       "      <td>0.313832</td>\n",
       "      <td>0.062473</td>\n",
       "      <td>0.018184</td>\n",
       "      <td>0.016458</td>\n",
       "      <td>-0.048476</td>\n",
       "      <td>NaN</td>\n",
       "      <td>0.022608</td>\n",
       "      <td>-0.022608</td>\n",
       "    </tr>\n",
       "    <tr>\n",
       "      <th>overview2</th>\n",
       "      <td>0.000205</td>\n",
       "      <td>-0.059700</td>\n",
       "      <td>0.042267</td>\n",
       "      <td>-0.005232</td>\n",
       "      <td>0.015286</td>\n",
       "      <td>-0.063312</td>\n",
       "      <td>-0.000501</td>\n",
       "      <td>0.061972</td>\n",
       "      <td>-0.043033</td>\n",
       "      <td>-0.004418</td>\n",
       "      <td>...</td>\n",
       "      <td>0.019673</td>\n",
       "      <td>0.019604</td>\n",
       "      <td>-0.053839</td>\n",
       "      <td>-0.014248</td>\n",
       "      <td>-0.009226</td>\n",
       "      <td>0.011575</td>\n",
       "      <td>-0.014053</td>\n",
       "      <td>NaN</td>\n",
       "      <td>-0.033741</td>\n",
       "      <td>0.033741</td>\n",
       "    </tr>\n",
       "    <tr>\n",
       "      <th>original_title2</th>\n",
       "      <td>0.084379</td>\n",
       "      <td>0.009313</td>\n",
       "      <td>-0.050650</td>\n",
       "      <td>0.117582</td>\n",
       "      <td>0.006113</td>\n",
       "      <td>0.005437</td>\n",
       "      <td>0.034915</td>\n",
       "      <td>0.931320</td>\n",
       "      <td>0.011148</td>\n",
       "      <td>-0.025869</td>\n",
       "      <td>...</td>\n",
       "      <td>0.018590</td>\n",
       "      <td>0.207253</td>\n",
       "      <td>-0.035484</td>\n",
       "      <td>-0.039813</td>\n",
       "      <td>0.001301</td>\n",
       "      <td>-0.004683</td>\n",
       "      <td>-0.036044</td>\n",
       "      <td>NaN</td>\n",
       "      <td>-0.047046</td>\n",
       "      <td>0.047046</td>\n",
       "    </tr>\n",
       "    <tr>\n",
       "      <th>homepage2</th>\n",
       "      <td>0.247627</td>\n",
       "      <td>0.164797</td>\n",
       "      <td>0.041066</td>\n",
       "      <td>0.263179</td>\n",
       "      <td>0.006122</td>\n",
       "      <td>0.140999</td>\n",
       "      <td>0.108406</td>\n",
       "      <td>0.025032</td>\n",
       "      <td>-0.102100</td>\n",
       "      <td>0.061505</td>\n",
       "      <td>...</td>\n",
       "      <td>1.000000</td>\n",
       "      <td>0.060001</td>\n",
       "      <td>0.176385</td>\n",
       "      <td>0.180602</td>\n",
       "      <td>-0.015673</td>\n",
       "      <td>0.002092</td>\n",
       "      <td>-0.056201</td>\n",
       "      <td>NaN</td>\n",
       "      <td>0.024797</td>\n",
       "      <td>-0.024797</td>\n",
       "    </tr>\n",
       "    <tr>\n",
       "      <th>belongs_to_collection2</th>\n",
       "      <td>0.222932</td>\n",
       "      <td>0.155896</td>\n",
       "      <td>-0.036916</td>\n",
       "      <td>0.339425</td>\n",
       "      <td>0.101065</td>\n",
       "      <td>0.098710</td>\n",
       "      <td>0.095447</td>\n",
       "      <td>0.224087</td>\n",
       "      <td>0.011678</td>\n",
       "      <td>0.046633</td>\n",
       "      <td>...</td>\n",
       "      <td>0.060001</td>\n",
       "      <td>1.000000</td>\n",
       "      <td>0.005002</td>\n",
       "      <td>-0.081048</td>\n",
       "      <td>-0.048361</td>\n",
       "      <td>0.002120</td>\n",
       "      <td>-0.043529</td>\n",
       "      <td>NaN</td>\n",
       "      <td>-0.004435</td>\n",
       "      <td>0.004435</td>\n",
       "    </tr>\n",
       "    <tr>\n",
       "      <th>production_companies2</th>\n",
       "      <td>0.247177</td>\n",
       "      <td>0.152154</td>\n",
       "      <td>0.086465</td>\n",
       "      <td>0.150750</td>\n",
       "      <td>0.050456</td>\n",
       "      <td>0.159687</td>\n",
       "      <td>0.138316</td>\n",
       "      <td>-0.041319</td>\n",
       "      <td>-0.008381</td>\n",
       "      <td>0.140106</td>\n",
       "      <td>...</td>\n",
       "      <td>0.176385</td>\n",
       "      <td>0.005002</td>\n",
       "      <td>1.000000</td>\n",
       "      <td>0.097258</td>\n",
       "      <td>-0.017310</td>\n",
       "      <td>-0.000668</td>\n",
       "      <td>-0.065828</td>\n",
       "      <td>NaN</td>\n",
       "      <td>0.044204</td>\n",
       "      <td>-0.044204</td>\n",
       "    </tr>\n",
       "    <tr>\n",
       "      <th>release_date_year</th>\n",
       "      <td>0.046047</td>\n",
       "      <td>0.059965</td>\n",
       "      <td>0.097886</td>\n",
       "      <td>0.020593</td>\n",
       "      <td>-0.059273</td>\n",
       "      <td>0.101857</td>\n",
       "      <td>-0.025271</td>\n",
       "      <td>-0.032068</td>\n",
       "      <td>-0.126272</td>\n",
       "      <td>0.024759</td>\n",
       "      <td>...</td>\n",
       "      <td>0.180602</td>\n",
       "      <td>-0.081048</td>\n",
       "      <td>0.097258</td>\n",
       "      <td>1.000000</td>\n",
       "      <td>-0.014098</td>\n",
       "      <td>-0.009714</td>\n",
       "      <td>-0.147181</td>\n",
       "      <td>NaN</td>\n",
       "      <td>0.015533</td>\n",
       "      <td>-0.015533</td>\n",
       "    </tr>\n",
       "    <tr>\n",
       "      <th>release_date_month</th>\n",
       "      <td>0.031094</td>\n",
       "      <td>-0.010692</td>\n",
       "      <td>0.130190</td>\n",
       "      <td>0.020164</td>\n",
       "      <td>-0.011342</td>\n",
       "      <td>0.020150</td>\n",
       "      <td>-0.003885</td>\n",
       "      <td>0.013365</td>\n",
       "      <td>0.026243</td>\n",
       "      <td>0.046043</td>\n",
       "      <td>...</td>\n",
       "      <td>-0.015673</td>\n",
       "      <td>-0.048361</td>\n",
       "      <td>-0.017310</td>\n",
       "      <td>-0.014098</td>\n",
       "      <td>1.000000</td>\n",
       "      <td>-0.006229</td>\n",
       "      <td>-0.014656</td>\n",
       "      <td>NaN</td>\n",
       "      <td>0.037791</td>\n",
       "      <td>-0.037791</td>\n",
       "    </tr>\n",
       "    <tr>\n",
       "      <th>release_date_day</th>\n",
       "      <td>0.025745</td>\n",
       "      <td>0.039877</td>\n",
       "      <td>0.044116</td>\n",
       "      <td>0.045699</td>\n",
       "      <td>-0.002040</td>\n",
       "      <td>-0.001328</td>\n",
       "      <td>0.031230</td>\n",
       "      <td>0.005026</td>\n",
       "      <td>0.025476</td>\n",
       "      <td>-0.001126</td>\n",
       "      <td>...</td>\n",
       "      <td>0.002092</td>\n",
       "      <td>0.002120</td>\n",
       "      <td>-0.000668</td>\n",
       "      <td>-0.009714</td>\n",
       "      <td>-0.006229</td>\n",
       "      <td>1.000000</td>\n",
       "      <td>-0.039835</td>\n",
       "      <td>NaN</td>\n",
       "      <td>0.012896</td>\n",
       "      <td>-0.012896</td>\n",
       "    </tr>\n",
       "    <tr>\n",
       "      <th>release_date_weekday</th>\n",
       "      <td>-0.116030</td>\n",
       "      <td>-0.093627</td>\n",
       "      <td>-0.080314</td>\n",
       "      <td>-0.141090</td>\n",
       "      <td>-0.024834</td>\n",
       "      <td>-0.082202</td>\n",
       "      <td>-0.052761</td>\n",
       "      <td>-0.032485</td>\n",
       "      <td>0.004573</td>\n",
       "      <td>-0.050975</td>\n",
       "      <td>...</td>\n",
       "      <td>-0.056201</td>\n",
       "      <td>-0.043529</td>\n",
       "      <td>-0.065828</td>\n",
       "      <td>-0.147181</td>\n",
       "      <td>-0.014656</td>\n",
       "      <td>-0.039835</td>\n",
       "      <td>1.000000</td>\n",
       "      <td>NaN</td>\n",
       "      <td>-0.013624</td>\n",
       "      <td>0.013624</td>\n",
       "    </tr>\n",
       "    <tr>\n",
       "      <th>status_Post Production</th>\n",
       "      <td>NaN</td>\n",
       "      <td>NaN</td>\n",
       "      <td>NaN</td>\n",
       "      <td>NaN</td>\n",
       "      <td>NaN</td>\n",
       "      <td>NaN</td>\n",
       "      <td>NaN</td>\n",
       "      <td>NaN</td>\n",
       "      <td>NaN</td>\n",
       "      <td>NaN</td>\n",
       "      <td>...</td>\n",
       "      <td>NaN</td>\n",
       "      <td>NaN</td>\n",
       "      <td>NaN</td>\n",
       "      <td>NaN</td>\n",
       "      <td>NaN</td>\n",
       "      <td>NaN</td>\n",
       "      <td>NaN</td>\n",
       "      <td>NaN</td>\n",
       "      <td>NaN</td>\n",
       "      <td>NaN</td>\n",
       "    </tr>\n",
       "    <tr>\n",
       "      <th>status_Released</th>\n",
       "      <td>0.022019</td>\n",
       "      <td>0.013791</td>\n",
       "      <td>0.050660</td>\n",
       "      <td>0.016806</td>\n",
       "      <td>0.016478</td>\n",
       "      <td>0.034840</td>\n",
       "      <td>0.020955</td>\n",
       "      <td>-0.045372</td>\n",
       "      <td>-0.004027</td>\n",
       "      <td>-0.063716</td>\n",
       "      <td>...</td>\n",
       "      <td>0.024797</td>\n",
       "      <td>-0.004435</td>\n",
       "      <td>0.044204</td>\n",
       "      <td>0.015533</td>\n",
       "      <td>0.037791</td>\n",
       "      <td>0.012896</td>\n",
       "      <td>-0.013624</td>\n",
       "      <td>NaN</td>\n",
       "      <td>1.000000</td>\n",
       "      <td>-1.000000</td>\n",
       "    </tr>\n",
       "    <tr>\n",
       "      <th>status_Rumored</th>\n",
       "      <td>-0.022019</td>\n",
       "      <td>-0.013791</td>\n",
       "      <td>-0.050660</td>\n",
       "      <td>-0.016806</td>\n",
       "      <td>-0.016478</td>\n",
       "      <td>-0.034840</td>\n",
       "      <td>-0.020955</td>\n",
       "      <td>0.045372</td>\n",
       "      <td>0.004027</td>\n",
       "      <td>0.063716</td>\n",
       "      <td>...</td>\n",
       "      <td>-0.024797</td>\n",
       "      <td>0.004435</td>\n",
       "      <td>-0.044204</td>\n",
       "      <td>-0.015533</td>\n",
       "      <td>-0.037791</td>\n",
       "      <td>-0.012896</td>\n",
       "      <td>0.013624</td>\n",
       "      <td>NaN</td>\n",
       "      <td>-1.000000</td>\n",
       "      <td>1.000000</td>\n",
       "    </tr>\n",
       "  </tbody>\n",
       "</table>\n",
       "<p>24 rows × 24 columns</p>\n",
       "</div>"
      ],
      "text/plain": [
       "                          budget  popularity   runtime   revenue   genres2  \\\n",
       "budget                  1.000000    0.342356  0.238350  0.752965  0.234188   \n",
       "popularity              0.342356    1.000000  0.133669  0.461460  0.084100   \n",
       "runtime                 0.238350    0.133669  1.000000  0.216363  0.057920   \n",
       "revenue                 0.752965    0.461460  0.216363  1.000000  0.163654   \n",
       "genres2                 0.234188    0.084100  0.057920  0.163654  1.000000   \n",
       "cast2                   0.308950    0.312118  0.223345  0.335737  0.068102   \n",
       "Keywords2               0.155782    0.166551  0.114359  0.187864  0.092414   \n",
       "title2                  0.070870    0.001345 -0.034325  0.109664  0.021387   \n",
       "tagline2                0.005879    0.027200  0.044346  0.003403  0.077180   \n",
       "spoken_languages2       0.101914    0.036527  0.182172  0.064961  0.076848   \n",
       "production_countries2   0.121413    0.065569  0.097368  0.052955  0.032897   \n",
       "crew2                   0.436644    0.310779  0.152652  0.372023  0.128800   \n",
       "overview2               0.000205   -0.059700  0.042267 -0.005232  0.015286   \n",
       "original_title2         0.084379    0.009313 -0.050650  0.117582  0.006113   \n",
       "homepage2               0.247627    0.164797  0.041066  0.263179  0.006122   \n",
       "belongs_to_collection2  0.222932    0.155896 -0.036916  0.339425  0.101065   \n",
       "production_companies2   0.247177    0.152154  0.086465  0.150750  0.050456   \n",
       "release_date_year       0.046047    0.059965  0.097886  0.020593 -0.059273   \n",
       "release_date_month      0.031094   -0.010692  0.130190  0.020164 -0.011342   \n",
       "release_date_day        0.025745    0.039877  0.044116  0.045699 -0.002040   \n",
       "release_date_weekday   -0.116030   -0.093627 -0.080314 -0.141090 -0.024834   \n",
       "status_Post Production       NaN         NaN       NaN       NaN       NaN   \n",
       "status_Released         0.022019    0.013791  0.050660  0.016806  0.016478   \n",
       "status_Rumored         -0.022019   -0.013791 -0.050660 -0.016806 -0.016478   \n",
       "\n",
       "                           cast2  Keywords2    title2  tagline2  \\\n",
       "budget                  0.308950   0.155782  0.070870  0.005879   \n",
       "popularity              0.312118   0.166551  0.001345  0.027200   \n",
       "runtime                 0.223345   0.114359 -0.034325  0.044346   \n",
       "revenue                 0.335737   0.187864  0.109664  0.003403   \n",
       "genres2                 0.068102   0.092414  0.021387  0.077180   \n",
       "cast2                   1.000000   0.185914 -0.014781  0.061018   \n",
       "Keywords2               0.185914   1.000000  0.006715  0.132719   \n",
       "title2                 -0.014781   0.006715  1.000000 -0.013322   \n",
       "tagline2                0.061018   0.132719 -0.013322  1.000000   \n",
       "spoken_languages2       0.074356   0.082623 -0.009009  0.035967   \n",
       "production_countries2   0.041843   0.065320  0.003583 -0.000400   \n",
       "crew2                   0.382796   0.234495 -0.059411  0.042775   \n",
       "overview2              -0.063312  -0.000501  0.061972 -0.043033   \n",
       "original_title2         0.005437   0.034915  0.931320  0.011148   \n",
       "homepage2               0.140999   0.108406  0.025032 -0.102100   \n",
       "belongs_to_collection2  0.098710   0.095447  0.224087  0.011678   \n",
       "production_companies2   0.159687   0.138316 -0.041319 -0.008381   \n",
       "release_date_year       0.101857  -0.025271 -0.032068 -0.126272   \n",
       "release_date_month      0.020150  -0.003885  0.013365  0.026243   \n",
       "release_date_day       -0.001328   0.031230  0.005026  0.025476   \n",
       "release_date_weekday   -0.082202  -0.052761 -0.032485  0.004573   \n",
       "status_Post Production       NaN        NaN       NaN       NaN   \n",
       "status_Released         0.034840   0.020955 -0.045372 -0.004027   \n",
       "status_Rumored         -0.034840  -0.020955  0.045372  0.004027   \n",
       "\n",
       "                        spoken_languages2       ...        homepage2  \\\n",
       "budget                           0.101914       ...         0.247627   \n",
       "popularity                       0.036527       ...         0.164797   \n",
       "runtime                          0.182172       ...         0.041066   \n",
       "revenue                          0.064961       ...         0.263179   \n",
       "genres2                          0.076848       ...         0.006122   \n",
       "cast2                            0.074356       ...         0.140999   \n",
       "Keywords2                        0.082623       ...         0.108406   \n",
       "title2                          -0.009009       ...         0.025032   \n",
       "tagline2                         0.035967       ...        -0.102100   \n",
       "spoken_languages2                1.000000       ...         0.061505   \n",
       "production_countries2            0.176328       ...         0.074663   \n",
       "crew2                            0.079173       ...         0.175682   \n",
       "overview2                       -0.004418       ...         0.019673   \n",
       "original_title2                 -0.025869       ...         0.018590   \n",
       "homepage2                        0.061505       ...         1.000000   \n",
       "belongs_to_collection2           0.046633       ...         0.060001   \n",
       "production_companies2            0.140106       ...         0.176385   \n",
       "release_date_year                0.024759       ...         0.180602   \n",
       "release_date_month               0.046043       ...        -0.015673   \n",
       "release_date_day                -0.001126       ...         0.002092   \n",
       "release_date_weekday            -0.050975       ...        -0.056201   \n",
       "status_Post Production                NaN       ...              NaN   \n",
       "status_Released                 -0.063716       ...         0.024797   \n",
       "status_Rumored                   0.063716       ...        -0.024797   \n",
       "\n",
       "                        belongs_to_collection2  production_companies2  \\\n",
       "budget                                0.222932               0.247177   \n",
       "popularity                            0.155896               0.152154   \n",
       "runtime                              -0.036916               0.086465   \n",
       "revenue                               0.339425               0.150750   \n",
       "genres2                               0.101065               0.050456   \n",
       "cast2                                 0.098710               0.159687   \n",
       "Keywords2                             0.095447               0.138316   \n",
       "title2                                0.224087              -0.041319   \n",
       "tagline2                              0.011678              -0.008381   \n",
       "spoken_languages2                     0.046633               0.140106   \n",
       "production_countries2                 0.014250               0.391468   \n",
       "crew2                                 0.101906               0.313832   \n",
       "overview2                             0.019604              -0.053839   \n",
       "original_title2                       0.207253              -0.035484   \n",
       "homepage2                             0.060001               0.176385   \n",
       "belongs_to_collection2                1.000000               0.005002   \n",
       "production_companies2                 0.005002               1.000000   \n",
       "release_date_year                    -0.081048               0.097258   \n",
       "release_date_month                   -0.048361              -0.017310   \n",
       "release_date_day                      0.002120              -0.000668   \n",
       "release_date_weekday                 -0.043529              -0.065828   \n",
       "status_Post Production                     NaN                    NaN   \n",
       "status_Released                      -0.004435               0.044204   \n",
       "status_Rumored                        0.004435              -0.044204   \n",
       "\n",
       "                        release_date_year  release_date_month  \\\n",
       "budget                           0.046047            0.031094   \n",
       "popularity                       0.059965           -0.010692   \n",
       "runtime                          0.097886            0.130190   \n",
       "revenue                          0.020593            0.020164   \n",
       "genres2                         -0.059273           -0.011342   \n",
       "cast2                            0.101857            0.020150   \n",
       "Keywords2                       -0.025271           -0.003885   \n",
       "title2                          -0.032068            0.013365   \n",
       "tagline2                        -0.126272            0.026243   \n",
       "spoken_languages2                0.024759            0.046043   \n",
       "production_countries2            0.048885            0.004804   \n",
       "crew2                            0.062473            0.018184   \n",
       "overview2                       -0.014248           -0.009226   \n",
       "original_title2                 -0.039813            0.001301   \n",
       "homepage2                        0.180602           -0.015673   \n",
       "belongs_to_collection2          -0.081048           -0.048361   \n",
       "production_companies2            0.097258           -0.017310   \n",
       "release_date_year                1.000000           -0.014098   \n",
       "release_date_month              -0.014098            1.000000   \n",
       "release_date_day                -0.009714           -0.006229   \n",
       "release_date_weekday            -0.147181           -0.014656   \n",
       "status_Post Production                NaN                 NaN   \n",
       "status_Released                  0.015533            0.037791   \n",
       "status_Rumored                  -0.015533           -0.037791   \n",
       "\n",
       "                        release_date_day  release_date_weekday  \\\n",
       "budget                          0.025745             -0.116030   \n",
       "popularity                      0.039877             -0.093627   \n",
       "runtime                         0.044116             -0.080314   \n",
       "revenue                         0.045699             -0.141090   \n",
       "genres2                        -0.002040             -0.024834   \n",
       "cast2                          -0.001328             -0.082202   \n",
       "Keywords2                       0.031230             -0.052761   \n",
       "title2                          0.005026             -0.032485   \n",
       "tagline2                        0.025476              0.004573   \n",
       "spoken_languages2              -0.001126             -0.050975   \n",
       "production_countries2           0.009993             -0.057256   \n",
       "crew2                           0.016458             -0.048476   \n",
       "overview2                       0.011575             -0.014053   \n",
       "original_title2                -0.004683             -0.036044   \n",
       "homepage2                       0.002092             -0.056201   \n",
       "belongs_to_collection2          0.002120             -0.043529   \n",
       "production_companies2          -0.000668             -0.065828   \n",
       "release_date_year              -0.009714             -0.147181   \n",
       "release_date_month             -0.006229             -0.014656   \n",
       "release_date_day                1.000000             -0.039835   \n",
       "release_date_weekday           -0.039835              1.000000   \n",
       "status_Post Production               NaN                   NaN   \n",
       "status_Released                 0.012896             -0.013624   \n",
       "status_Rumored                 -0.012896              0.013624   \n",
       "\n",
       "                        status_Post Production  status_Released  \\\n",
       "budget                                     NaN         0.022019   \n",
       "popularity                                 NaN         0.013791   \n",
       "runtime                                    NaN         0.050660   \n",
       "revenue                                    NaN         0.016806   \n",
       "genres2                                    NaN         0.016478   \n",
       "cast2                                      NaN         0.034840   \n",
       "Keywords2                                  NaN         0.020955   \n",
       "title2                                     NaN        -0.045372   \n",
       "tagline2                                   NaN        -0.004027   \n",
       "spoken_languages2                          NaN        -0.063716   \n",
       "production_countries2                      NaN         0.027995   \n",
       "crew2                                      NaN         0.022608   \n",
       "overview2                                  NaN        -0.033741   \n",
       "original_title2                            NaN        -0.047046   \n",
       "homepage2                                  NaN         0.024797   \n",
       "belongs_to_collection2                     NaN        -0.004435   \n",
       "production_companies2                      NaN         0.044204   \n",
       "release_date_year                          NaN         0.015533   \n",
       "release_date_month                         NaN         0.037791   \n",
       "release_date_day                           NaN         0.012896   \n",
       "release_date_weekday                       NaN        -0.013624   \n",
       "status_Post Production                     NaN              NaN   \n",
       "status_Released                            NaN         1.000000   \n",
       "status_Rumored                             NaN        -1.000000   \n",
       "\n",
       "                        status_Rumored  \n",
       "budget                       -0.022019  \n",
       "popularity                   -0.013791  \n",
       "runtime                      -0.050660  \n",
       "revenue                      -0.016806  \n",
       "genres2                      -0.016478  \n",
       "cast2                        -0.034840  \n",
       "Keywords2                    -0.020955  \n",
       "title2                        0.045372  \n",
       "tagline2                      0.004027  \n",
       "spoken_languages2             0.063716  \n",
       "production_countries2        -0.027995  \n",
       "crew2                        -0.022608  \n",
       "overview2                     0.033741  \n",
       "original_title2               0.047046  \n",
       "homepage2                    -0.024797  \n",
       "belongs_to_collection2        0.004435  \n",
       "production_companies2        -0.044204  \n",
       "release_date_year            -0.015533  \n",
       "release_date_month           -0.037791  \n",
       "release_date_day             -0.012896  \n",
       "release_date_weekday          0.013624  \n",
       "status_Post Production             NaN  \n",
       "status_Released              -1.000000  \n",
       "status_Rumored                1.000000  \n",
       "\n",
       "[24 rows x 24 columns]"
      ]
     },
     "execution_count": 10,
     "metadata": {},
     "output_type": "execute_result"
    }
   ],
   "source": [
    "train.corr()"
   ]
  },
  {
   "cell_type": "code",
   "execution_count": 16,
   "metadata": {},
   "outputs": [
    {
     "data": {
      "text/plain": [
       "<matplotlib.axes._subplots.AxesSubplot at 0x1257faeb8>"
      ]
     },
     "execution_count": 16,
     "metadata": {},
     "output_type": "execute_result"
    },
    {
     "data": {
      "image/png": "[encoded data removed]",
      "text/plain": [
       "<Figure size 1296x1008 with 2 Axes>"
      ]
     },
     "metadata": {
      "needs_background": "light"
     },
     "output_type": "display_data"
    }
   ],
   "source": [
    "fig = plt.figure(figsize=(18,14))\n",
    "sns.heatmap(train.corr(), annot=True)"
   ]
  },
  {
   "cell_type": "code",
   "execution_count": 22,
   "metadata": {},
   "outputs": [
    {
     "name": "stderr",
     "output_type": "stream",
     "text": [
      "/usr/local/lib/python3.7/site-packages/pandas/core/generic.py:4405: SettingWithCopyWarning: \n",
      "A value is trying to be set on a copy of a slice from a DataFrame.\n",
      "Try using .loc[row_indexer,col_indexer] = value instead\n",
      "\n",
      "See the caveats in the documentation: http://pandas.pydata.org/pandas-docs/stable/indexing.html#indexing-view-versus-copy\n",
      "  self[name] = value\n",
      "/usr/local/lib/python3.7/site-packages/xgboost/core.py:587: FutureWarning: Series.base is deprecated and will be removed in a future version\n",
      "  if getattr(data, 'base', None) is not None and \\\n"
     ]
    },
    {
     "name": "stdout",
     "output_type": "stream",
     "text": [
      "RMSLE: 2.340592\n"
     ]
    }
   ],
   "source": [
    "from sklearn.model_selection import train_test_split\n",
    "from sklearn.metrics import mean_squared_log_error\n",
    "from xgboost import XGBRegressor\n",
    "from math import sqrt\n",
    "\n",
    "tmdb = pd.concat([train, test], sort=False)\n",
    "tmdb = pd.get_dummies(tmdb)\n",
    "len_train = len(train)\n",
    "len_test = len(test)\n",
    "train = tmdb[:len_train]\n",
    "test = tmdb[len_train:]\n",
    "\n",
    "train.revenue = train.revenue.astype('int')\n",
    "\n",
    "xtrain=train.drop(\"revenue\", axis=1)\n",
    "ytrain=train['revenue']\n",
    "xtest=test.drop(\"revenue\", axis=1)\n",
    "\n",
    "train_X, val_X, train_y, val_y = train_test_split(xtrain, ytrain, random_state=1)\n",
    "my_model = XGBRegressor(n_estimators=1000, learning_rate=0.05)\n",
    "my_model.fit(train_X, train_y)\n",
    "val_preds = my_model.predict(val_X)\n",
    "\n",
    "val_preds = my_model.predict(val_X)\n",
    "val_preds[val_preds<0] = 0\n",
    "rmsle = np.sqrt(mean_squared_log_error( val_preds, val_y))\n",
    "print(\"RMSLE: %2f\" %sqrt(rmsle))"
   ]
  },
  {
   "cell_type": "code",
   "execution_count": 25,
   "metadata": {},
   "outputs": [],
   "source": [
    "test2 = pd.read_csv('input/test.csv')\n",
    "pred = my_model.predict(xtest)\n",
    "output = pd.DataFrame({'id': test2.id, 'revenue': pred})"
   ]
  },
  {
   "cell_type": "code",
   "execution_count": 27,
   "metadata": {},
   "outputs": [],
   "source": [
    "output.to_csv('submission2.csv', index=False)"
   ]
  },
  {
   "cell_type": "code",
   "execution_count": 38,
   "metadata": {},
   "outputs": [
    {
     "name": "stderr",
     "output_type": "stream",
     "text": [
      "/usr/local/lib/python3.7/site-packages/xgboost/core.py:587: FutureWarning: Series.base is deprecated and will be removed in a future version\n",
      "  if getattr(data, 'base', None) is not None and \\\n",
      "/usr/local/lib/python3.7/site-packages/xgboost/core.py:587: FutureWarning: Series.base is deprecated and will be removed in a future version\n",
      "  if getattr(data, 'base', None) is not None and \\\n",
      "/usr/local/lib/python3.7/site-packages/xgboost/core.py:587: FutureWarning: Series.base is deprecated and will be removed in a future version\n",
      "  if getattr(data, 'base', None) is not None and \\\n",
      "/usr/local/lib/python3.7/site-packages/xgboost/core.py:587: FutureWarning: Series.base is deprecated and will be removed in a future version\n",
      "  if getattr(data, 'base', None) is not None and \\\n"
     ]
    },
    {
     "data": {
      "text/plain": [
       "-41320320.585562825"
      ]
     },
     "execution_count": 38,
     "metadata": {},
     "output_type": "execute_result"
    }
   ],
   "source": [
    "from sklearn.model_selection import cross_val_score\n",
    "XGB = XGBRegressor(n_estimators=1000, learning_rate=0.05)\n",
    "score_xgb = cross_val_score(XGB, xtrain, ytrain, scoring='neg_mean_absolute_error', cv=5)\n",
    "np.mean(score_xgb)"
   ]
  },
  {
   "cell_type": "code",
   "execution_count": 32,
   "metadata": {},
   "outputs": [
    {
     "data": {
      "text/plain": [
       "dict_keys(['explained_variance', 'r2', 'neg_median_absolute_error', 'neg_mean_absolute_error', 'neg_mean_squared_error', 'neg_mean_squared_log_error', 'accuracy', 'roc_auc', 'balanced_accuracy', 'average_precision', 'neg_log_loss', 'brier_score_loss', 'adjusted_rand_score', 'homogeneity_score', 'completeness_score', 'v_measure_score', 'mutual_info_score', 'adjusted_mutual_info_score', 'normalized_mutual_info_score', 'fowlkes_mallows_score', 'precision', 'precision_macro', 'precision_micro', 'precision_samples', 'precision_weighted', 'recall', 'recall_macro', 'recall_micro', 'recall_samples', 'recall_weighted', 'f1', 'f1_macro', 'f1_micro', 'f1_samples', 'f1_weighted'])"
      ]
     },
     "execution_count": 32,
     "metadata": {},
     "output_type": "execute_result"
    }
   ],
   "source": [
    "import sklearn\n",
    "sklearn.metrics.SCORERS.keys()"
   ]
  },
  {
   "cell_type": "code",
   "execution_count": 36,
   "metadata": {},
   "outputs": [
    {
     "data": {
      "text/plain": [
       "-6332843478207599.0"
      ]
     },
     "execution_count": 36,
     "metadata": {},
     "output_type": "execute_result"
    }
   ],
   "source": [
    "np.mean(score_xgb)"
   ]
  },
  {
   "cell_type": "code",
   "execution_count": 39,
   "metadata": {},
   "outputs": [
    {
     "name": "stderr",
     "output_type": "stream",
     "text": [
      "/usr/local/lib/python3.7/site-packages/xgboost/core.py:587: FutureWarning: Series.base is deprecated and will be removed in a future version\n",
      "  if getattr(data, 'base', None) is not None and \\\n",
      "/usr/local/lib/python3.7/site-packages/xgboost/core.py:588: FutureWarning: Series.base is deprecated and will be removed in a future version\n",
      "  data.base is not None and isinstance(data, np.ndarray) \\\n"
     ]
    }
   ],
   "source": [
    "model = XGB.fit(xtrain, ytrain)\n",
    "pred = model.predict(xtest)\n",
    "output = pd.DataFrame({'id': test2.id, 'revenue': pred})\n",
    "output.to_csv('submission3.csv', index=False)"
   ]
  },
  {
   "cell_type": "code",
   "execution_count": 42,
   "metadata": {},
   "outputs": [
    {
     "data": {
      "text/plain": [
       "8.549019751248977"
      ]
     },
     "execution_count": 42,
     "metadata": {},
     "output_type": "execute_result"
    }
   ],
   "source": [
    "from sklearn import tree\n",
    "model_tree = tree.DecisionTreeRegressor()\n",
    "score_tree = cross_val_score(model_tree, xtrain, ytrain, scoring='neg_mean_squared_log_error', cv=5)\n",
    "-np.mean(score_tree)"
   ]
  },
  {
   "cell_type": "code",
   "execution_count": 44,
   "metadata": {},
   "outputs": [
    {
     "ename": "ValueError",
     "evalue": "Mean Squared Logarithmic Error cannot be used when targets contain negative values.",
     "output_type": "error",
     "traceback": [
      "\u001b[0;31m---------------------------------------------------------------------------\u001b[0m",
      "\u001b[0;31mValueError\u001b[0m                                Traceback (most recent call last)",
      "\u001b[0;32m<ipython-input-44-c04957711ddf>\u001b[0m in \u001b[0;36m<module>\u001b[0;34m\u001b[0m\n\u001b[1;32m      1\u001b[0m \u001b[0;32mfrom\u001b[0m \u001b[0msklearn\u001b[0m \u001b[0;32mimport\u001b[0m \u001b[0mlinear_model\u001b[0m\u001b[0;34m\u001b[0m\u001b[0;34m\u001b[0m\u001b[0m\n\u001b[1;32m      2\u001b[0m \u001b[0mmodel_lr\u001b[0m \u001b[0;34m=\u001b[0m \u001b[0mlinear_model\u001b[0m\u001b[0;34m.\u001b[0m\u001b[0mLinearRegression\u001b[0m\u001b[0;34m(\u001b[0m\u001b[0;34m)\u001b[0m\u001b[0;34m\u001b[0m\u001b[0;34m\u001b[0m\u001b[0m\n\u001b[0;32m----> 3\u001b[0;31m \u001b[0mscore_lr\u001b[0m \u001b[0;34m=\u001b[0m \u001b[0mcross_val_score\u001b[0m\u001b[0;34m(\u001b[0m\u001b[0mmodel_lr\u001b[0m\u001b[0;34m,\u001b[0m \u001b[0mxtrain\u001b[0m\u001b[0;34m,\u001b[0m \u001b[0mytrain\u001b[0m\u001b[0;34m,\u001b[0m \u001b[0mscoring\u001b[0m\u001b[0;34m=\u001b[0m\u001b[0;34m'neg_mean_squared_log_error'\u001b[0m\u001b[0;34m,\u001b[0m \u001b[0mcv\u001b[0m\u001b[0;34m=\u001b[0m\u001b[0;36m5\u001b[0m\u001b[0;34m)\u001b[0m\u001b[0;34m\u001b[0m\u001b[0;34m\u001b[0m\u001b[0m\n\u001b[0m\u001b[1;32m      4\u001b[0m \u001b[0;31m#ValueError: Mean Squared Logarithmic Error cannot be used when targets contain negative values.\u001b[0m\u001b[0;34m\u001b[0m\u001b[0;34m\u001b[0m\u001b[0;34m\u001b[0m\u001b[0m\n\u001b[1;32m      5\u001b[0m \u001b[0;34m-\u001b[0m\u001b[0mnp\u001b[0m\u001b[0;34m.\u001b[0m\u001b[0mmean\u001b[0m\u001b[0;34m(\u001b[0m\u001b[0mscore_lr\u001b[0m\u001b[0;34m)\u001b[0m\u001b[0;34m\u001b[0m\u001b[0;34m\u001b[0m\u001b[0m\n",
      "\u001b[0;32m/usr/local/lib/python3.7/site-packages/sklearn/model_selection/_validation.py\u001b[0m in \u001b[0;36mcross_val_score\u001b[0;34m(estimator, X, y, groups, scoring, cv, n_jobs, verbose, fit_params, pre_dispatch, error_score)\u001b[0m\n\u001b[1;32m    400\u001b[0m                                 \u001b[0mfit_params\u001b[0m\u001b[0;34m=\u001b[0m\u001b[0mfit_params\u001b[0m\u001b[0;34m,\u001b[0m\u001b[0;34m\u001b[0m\u001b[0;34m\u001b[0m\u001b[0m\n\u001b[1;32m    401\u001b[0m                                 \u001b[0mpre_dispatch\u001b[0m\u001b[0;34m=\u001b[0m\u001b[0mpre_dispatch\u001b[0m\u001b[0;34m,\u001b[0m\u001b[0;34m\u001b[0m\u001b[0;34m\u001b[0m\u001b[0m\n\u001b[0;32m--> 402\u001b[0;31m                                 error_score=error_score)\n\u001b[0m\u001b[1;32m    403\u001b[0m     \u001b[0;32mreturn\u001b[0m \u001b[0mcv_results\u001b[0m\u001b[0;34m[\u001b[0m\u001b[0;34m'test_score'\u001b[0m\u001b[0;34m]\u001b[0m\u001b[0;34m\u001b[0m\u001b[0;34m\u001b[0m\u001b[0m\n\u001b[1;32m    404\u001b[0m \u001b[0;34m\u001b[0m\u001b[0m\n",
      "\u001b[0;32m/usr/local/lib/python3.7/site-packages/sklearn/model_selection/_validation.py\u001b[0m in \u001b[0;36mcross_validate\u001b[0;34m(estimator, X, y, groups, scoring, cv, n_jobs, verbose, fit_params, pre_dispatch, return_train_score, return_estimator, error_score)\u001b[0m\n\u001b[1;32m    238\u001b[0m             \u001b[0mreturn_times\u001b[0m\u001b[0;34m=\u001b[0m\u001b[0;32mTrue\u001b[0m\u001b[0;34m,\u001b[0m \u001b[0mreturn_estimator\u001b[0m\u001b[0;34m=\u001b[0m\u001b[0mreturn_estimator\u001b[0m\u001b[0;34m,\u001b[0m\u001b[0;34m\u001b[0m\u001b[0;34m\u001b[0m\u001b[0m\n\u001b[1;32m    239\u001b[0m             error_score=error_score)\n\u001b[0;32m--> 240\u001b[0;31m         for train, test in cv.split(X, y, groups))\n\u001b[0m\u001b[1;32m    241\u001b[0m \u001b[0;34m\u001b[0m\u001b[0m\n\u001b[1;32m    242\u001b[0m     \u001b[0mzipped_scores\u001b[0m \u001b[0;34m=\u001b[0m \u001b[0mlist\u001b[0m\u001b[0;34m(\u001b[0m\u001b[0mzip\u001b[0m\u001b[0;34m(\u001b[0m\u001b[0;34m*\u001b[0m\u001b[0mscores\u001b[0m\u001b[0;34m)\u001b[0m\u001b[0;34m)\u001b[0m\u001b[0;34m\u001b[0m\u001b[0;34m\u001b[0m\u001b[0m\n",
      "\u001b[0;32m/usr/local/lib/python3.7/site-packages/sklearn/externals/joblib/parallel.py\u001b[0m in \u001b[0;36m__call__\u001b[0;34m(self, iterable)\u001b[0m\n\u001b[1;32m    915\u001b[0m             \u001b[0;31m# remaining jobs.\u001b[0m\u001b[0;34m\u001b[0m\u001b[0;34m\u001b[0m\u001b[0;34m\u001b[0m\u001b[0m\n\u001b[1;32m    916\u001b[0m             \u001b[0mself\u001b[0m\u001b[0;34m.\u001b[0m\u001b[0m_iterating\u001b[0m \u001b[0;34m=\u001b[0m \u001b[0;32mFalse\u001b[0m\u001b[0;34m\u001b[0m\u001b[0;34m\u001b[0m\u001b[0m\n\u001b[0;32m--> 917\u001b[0;31m             \u001b[0;32mif\u001b[0m \u001b[0mself\u001b[0m\u001b[0;34m.\u001b[0m\u001b[0mdispatch_one_batch\u001b[0m\u001b[0;34m(\u001b[0m\u001b[0miterator\u001b[0m\u001b[0;34m)\u001b[0m\u001b[0;34m:\u001b[0m\u001b[0;34m\u001b[0m\u001b[0;34m\u001b[0m\u001b[0m\n\u001b[0m\u001b[1;32m    918\u001b[0m                 \u001b[0mself\u001b[0m\u001b[0;34m.\u001b[0m\u001b[0m_iterating\u001b[0m \u001b[0;34m=\u001b[0m \u001b[0mself\u001b[0m\u001b[0;34m.\u001b[0m\u001b[0m_original_iterator\u001b[0m \u001b[0;32mis\u001b[0m \u001b[0;32mnot\u001b[0m \u001b[0;32mNone\u001b[0m\u001b[0;34m\u001b[0m\u001b[0;34m\u001b[0m\u001b[0m\n\u001b[1;32m    919\u001b[0m \u001b[0;34m\u001b[0m\u001b[0m\n",
      "\u001b[0;32m/usr/local/lib/python3.7/site-packages/sklearn/externals/joblib/parallel.py\u001b[0m in \u001b[0;36mdispatch_one_batch\u001b[0;34m(self, iterator)\u001b[0m\n\u001b[1;32m    757\u001b[0m                 \u001b[0;32mreturn\u001b[0m \u001b[0;32mFalse\u001b[0m\u001b[0;34m\u001b[0m\u001b[0;34m\u001b[0m\u001b[0m\n\u001b[1;32m    758\u001b[0m             \u001b[0;32melse\u001b[0m\u001b[0;34m:\u001b[0m\u001b[0;34m\u001b[0m\u001b[0;34m\u001b[0m\u001b[0m\n\u001b[0;32m--> 759\u001b[0;31m                 \u001b[0mself\u001b[0m\u001b[0;34m.\u001b[0m\u001b[0m_dispatch\u001b[0m\u001b[0;34m(\u001b[0m\u001b[0mtasks\u001b[0m\u001b[0;34m)\u001b[0m\u001b[0;34m\u001b[0m\u001b[0;34m\u001b[0m\u001b[0m\n\u001b[0m\u001b[1;32m    760\u001b[0m                 \u001b[0;32mreturn\u001b[0m \u001b[0;32mTrue\u001b[0m\u001b[0;34m\u001b[0m\u001b[0;34m\u001b[0m\u001b[0m\n\u001b[1;32m    761\u001b[0m \u001b[0;34m\u001b[0m\u001b[0m\n",
      "\u001b[0;32m/usr/local/lib/python3.7/site-packages/sklearn/externals/joblib/parallel.py\u001b[0m in \u001b[0;36m_dispatch\u001b[0;34m(self, batch)\u001b[0m\n\u001b[1;32m    714\u001b[0m         \u001b[0;32mwith\u001b[0m \u001b[0mself\u001b[0m\u001b[0;34m.\u001b[0m\u001b[0m_lock\u001b[0m\u001b[0;34m:\u001b[0m\u001b[0;34m\u001b[0m\u001b[0;34m\u001b[0m\u001b[0m\n\u001b[1;32m    715\u001b[0m             \u001b[0mjob_idx\u001b[0m \u001b[0;34m=\u001b[0m \u001b[0mlen\u001b[0m\u001b[0;34m(\u001b[0m\u001b[0mself\u001b[0m\u001b[0;34m.\u001b[0m\u001b[0m_jobs\u001b[0m\u001b[0;34m)\u001b[0m\u001b[0;34m\u001b[0m\u001b[0;34m\u001b[0m\u001b[0m\n\u001b[0;32m--> 716\u001b[0;31m             \u001b[0mjob\u001b[0m \u001b[0;34m=\u001b[0m \u001b[0mself\u001b[0m\u001b[0;34m.\u001b[0m\u001b[0m_backend\u001b[0m\u001b[0;34m.\u001b[0m\u001b[0mapply_async\u001b[0m\u001b[0;34m(\u001b[0m\u001b[0mbatch\u001b[0m\u001b[0;34m,\u001b[0m \u001b[0mcallback\u001b[0m\u001b[0;34m=\u001b[0m\u001b[0mcb\u001b[0m\u001b[0;34m)\u001b[0m\u001b[0;34m\u001b[0m\u001b[0;34m\u001b[0m\u001b[0m\n\u001b[0m\u001b[1;32m    717\u001b[0m             \u001b[0;31m# A job can complete so quickly than its callback is\u001b[0m\u001b[0;34m\u001b[0m\u001b[0;34m\u001b[0m\u001b[0;34m\u001b[0m\u001b[0m\n\u001b[1;32m    718\u001b[0m             \u001b[0;31m# called before we get here, causing self._jobs to\u001b[0m\u001b[0;34m\u001b[0m\u001b[0;34m\u001b[0m\u001b[0;34m\u001b[0m\u001b[0m\n",
      "\u001b[0;32m/usr/local/lib/python3.7/site-packages/sklearn/externals/joblib/_parallel_backends.py\u001b[0m in \u001b[0;36mapply_async\u001b[0;34m(self, func, callback)\u001b[0m\n\u001b[1;32m    180\u001b[0m     \u001b[0;32mdef\u001b[0m \u001b[0mapply_async\u001b[0m\u001b[0;34m(\u001b[0m\u001b[0mself\u001b[0m\u001b[0;34m,\u001b[0m \u001b[0mfunc\u001b[0m\u001b[0;34m,\u001b[0m \u001b[0mcallback\u001b[0m\u001b[0;34m=\u001b[0m\u001b[0;32mNone\u001b[0m\u001b[0;34m)\u001b[0m\u001b[0;34m:\u001b[0m\u001b[0;34m\u001b[0m\u001b[0;34m\u001b[0m\u001b[0m\n\u001b[1;32m    181\u001b[0m         \u001b[0;34m\"\"\"Schedule a func to be run\"\"\"\u001b[0m\u001b[0;34m\u001b[0m\u001b[0;34m\u001b[0m\u001b[0m\n\u001b[0;32m--> 182\u001b[0;31m         \u001b[0mresult\u001b[0m \u001b[0;34m=\u001b[0m \u001b[0mImmediateResult\u001b[0m\u001b[0;34m(\u001b[0m\u001b[0mfunc\u001b[0m\u001b[0;34m)\u001b[0m\u001b[0;34m\u001b[0m\u001b[0;34m\u001b[0m\u001b[0m\n\u001b[0m\u001b[1;32m    183\u001b[0m         \u001b[0;32mif\u001b[0m \u001b[0mcallback\u001b[0m\u001b[0;34m:\u001b[0m\u001b[0;34m\u001b[0m\u001b[0;34m\u001b[0m\u001b[0m\n\u001b[1;32m    184\u001b[0m             \u001b[0mcallback\u001b[0m\u001b[0;34m(\u001b[0m\u001b[0mresult\u001b[0m\u001b[0;34m)\u001b[0m\u001b[0;34m\u001b[0m\u001b[0;34m\u001b[0m\u001b[0m\n",
      "\u001b[0;32m/usr/local/lib/python3.7/site-packages/sklearn/externals/joblib/_parallel_backends.py\u001b[0m in \u001b[0;36m__init__\u001b[0;34m(self, batch)\u001b[0m\n\u001b[1;32m    547\u001b[0m         \u001b[0;31m# Don't delay the application, to avoid keeping the input\u001b[0m\u001b[0;34m\u001b[0m\u001b[0;34m\u001b[0m\u001b[0;34m\u001b[0m\u001b[0m\n\u001b[1;32m    548\u001b[0m         \u001b[0;31m# arguments in memory\u001b[0m\u001b[0;34m\u001b[0m\u001b[0;34m\u001b[0m\u001b[0;34m\u001b[0m\u001b[0m\n\u001b[0;32m--> 549\u001b[0;31m         \u001b[0mself\u001b[0m\u001b[0;34m.\u001b[0m\u001b[0mresults\u001b[0m \u001b[0;34m=\u001b[0m \u001b[0mbatch\u001b[0m\u001b[0;34m(\u001b[0m\u001b[0;34m)\u001b[0m\u001b[0;34m\u001b[0m\u001b[0;34m\u001b[0m\u001b[0m\n\u001b[0m\u001b[1;32m    550\u001b[0m \u001b[0;34m\u001b[0m\u001b[0m\n\u001b[1;32m    551\u001b[0m     \u001b[0;32mdef\u001b[0m \u001b[0mget\u001b[0m\u001b[0;34m(\u001b[0m\u001b[0mself\u001b[0m\u001b[0;34m)\u001b[0m\u001b[0;34m:\u001b[0m\u001b[0;34m\u001b[0m\u001b[0;34m\u001b[0m\u001b[0m\n",
      "\u001b[0;32m/usr/local/lib/python3.7/site-packages/sklearn/externals/joblib/parallel.py\u001b[0m in \u001b[0;36m__call__\u001b[0;34m(self)\u001b[0m\n\u001b[1;32m    223\u001b[0m         \u001b[0;32mwith\u001b[0m \u001b[0mparallel_backend\u001b[0m\u001b[0;34m(\u001b[0m\u001b[0mself\u001b[0m\u001b[0;34m.\u001b[0m\u001b[0m_backend\u001b[0m\u001b[0;34m,\u001b[0m \u001b[0mn_jobs\u001b[0m\u001b[0;34m=\u001b[0m\u001b[0mself\u001b[0m\u001b[0;34m.\u001b[0m\u001b[0m_n_jobs\u001b[0m\u001b[0;34m)\u001b[0m\u001b[0;34m:\u001b[0m\u001b[0;34m\u001b[0m\u001b[0;34m\u001b[0m\u001b[0m\n\u001b[1;32m    224\u001b[0m             return [func(*args, **kwargs)\n\u001b[0;32m--> 225\u001b[0;31m                     for func, args, kwargs in self.items]\n\u001b[0m\u001b[1;32m    226\u001b[0m \u001b[0;34m\u001b[0m\u001b[0m\n\u001b[1;32m    227\u001b[0m     \u001b[0;32mdef\u001b[0m \u001b[0m__len__\u001b[0m\u001b[0;34m(\u001b[0m\u001b[0mself\u001b[0m\u001b[0;34m)\u001b[0m\u001b[0;34m:\u001b[0m\u001b[0;34m\u001b[0m\u001b[0;34m\u001b[0m\u001b[0m\n",
      "\u001b[0;32m/usr/local/lib/python3.7/site-packages/sklearn/externals/joblib/parallel.py\u001b[0m in \u001b[0;36m<listcomp>\u001b[0;34m(.0)\u001b[0m\n\u001b[1;32m    223\u001b[0m         \u001b[0;32mwith\u001b[0m \u001b[0mparallel_backend\u001b[0m\u001b[0;34m(\u001b[0m\u001b[0mself\u001b[0m\u001b[0;34m.\u001b[0m\u001b[0m_backend\u001b[0m\u001b[0;34m,\u001b[0m \u001b[0mn_jobs\u001b[0m\u001b[0;34m=\u001b[0m\u001b[0mself\u001b[0m\u001b[0;34m.\u001b[0m\u001b[0m_n_jobs\u001b[0m\u001b[0;34m)\u001b[0m\u001b[0;34m:\u001b[0m\u001b[0;34m\u001b[0m\u001b[0;34m\u001b[0m\u001b[0m\n\u001b[1;32m    224\u001b[0m             return [func(*args, **kwargs)\n\u001b[0;32m--> 225\u001b[0;31m                     for func, args, kwargs in self.items]\n\u001b[0m\u001b[1;32m    226\u001b[0m \u001b[0;34m\u001b[0m\u001b[0m\n\u001b[1;32m    227\u001b[0m     \u001b[0;32mdef\u001b[0m \u001b[0m__len__\u001b[0m\u001b[0;34m(\u001b[0m\u001b[0mself\u001b[0m\u001b[0;34m)\u001b[0m\u001b[0;34m:\u001b[0m\u001b[0;34m\u001b[0m\u001b[0;34m\u001b[0m\u001b[0m\n",
      "\u001b[0;32m/usr/local/lib/python3.7/site-packages/sklearn/model_selection/_validation.py\u001b[0m in \u001b[0;36m_fit_and_score\u001b[0;34m(estimator, X, y, scorer, train, test, verbose, parameters, fit_params, return_train_score, return_parameters, return_n_test_samples, return_times, return_estimator, error_score)\u001b[0m\n\u001b[1;32m    566\u001b[0m         \u001b[0mfit_time\u001b[0m \u001b[0;34m=\u001b[0m \u001b[0mtime\u001b[0m\u001b[0;34m.\u001b[0m\u001b[0mtime\u001b[0m\u001b[0;34m(\u001b[0m\u001b[0;34m)\u001b[0m \u001b[0;34m-\u001b[0m \u001b[0mstart_time\u001b[0m\u001b[0;34m\u001b[0m\u001b[0;34m\u001b[0m\u001b[0m\n\u001b[1;32m    567\u001b[0m         \u001b[0;31m# _score will return dict if is_multimetric is True\u001b[0m\u001b[0;34m\u001b[0m\u001b[0;34m\u001b[0m\u001b[0;34m\u001b[0m\u001b[0m\n\u001b[0;32m--> 568\u001b[0;31m         \u001b[0mtest_scores\u001b[0m \u001b[0;34m=\u001b[0m \u001b[0m_score\u001b[0m\u001b[0;34m(\u001b[0m\u001b[0mestimator\u001b[0m\u001b[0;34m,\u001b[0m \u001b[0mX_test\u001b[0m\u001b[0;34m,\u001b[0m \u001b[0my_test\u001b[0m\u001b[0;34m,\u001b[0m \u001b[0mscorer\u001b[0m\u001b[0;34m,\u001b[0m \u001b[0mis_multimetric\u001b[0m\u001b[0;34m)\u001b[0m\u001b[0;34m\u001b[0m\u001b[0;34m\u001b[0m\u001b[0m\n\u001b[0m\u001b[1;32m    569\u001b[0m         \u001b[0mscore_time\u001b[0m \u001b[0;34m=\u001b[0m \u001b[0mtime\u001b[0m\u001b[0;34m.\u001b[0m\u001b[0mtime\u001b[0m\u001b[0;34m(\u001b[0m\u001b[0;34m)\u001b[0m \u001b[0;34m-\u001b[0m \u001b[0mstart_time\u001b[0m \u001b[0;34m-\u001b[0m \u001b[0mfit_time\u001b[0m\u001b[0;34m\u001b[0m\u001b[0;34m\u001b[0m\u001b[0m\n\u001b[1;32m    570\u001b[0m         \u001b[0;32mif\u001b[0m \u001b[0mreturn_train_score\u001b[0m\u001b[0;34m:\u001b[0m\u001b[0;34m\u001b[0m\u001b[0;34m\u001b[0m\u001b[0m\n",
      "\u001b[0;32m/usr/local/lib/python3.7/site-packages/sklearn/model_selection/_validation.py\u001b[0m in \u001b[0;36m_score\u001b[0;34m(estimator, X_test, y_test, scorer, is_multimetric)\u001b[0m\n\u001b[1;32m    603\u001b[0m     \"\"\"\n\u001b[1;32m    604\u001b[0m     \u001b[0;32mif\u001b[0m \u001b[0mis_multimetric\u001b[0m\u001b[0;34m:\u001b[0m\u001b[0;34m\u001b[0m\u001b[0;34m\u001b[0m\u001b[0m\n\u001b[0;32m--> 605\u001b[0;31m         \u001b[0;32mreturn\u001b[0m \u001b[0m_multimetric_score\u001b[0m\u001b[0;34m(\u001b[0m\u001b[0mestimator\u001b[0m\u001b[0;34m,\u001b[0m \u001b[0mX_test\u001b[0m\u001b[0;34m,\u001b[0m \u001b[0my_test\u001b[0m\u001b[0;34m,\u001b[0m \u001b[0mscorer\u001b[0m\u001b[0;34m)\u001b[0m\u001b[0;34m\u001b[0m\u001b[0;34m\u001b[0m\u001b[0m\n\u001b[0m\u001b[1;32m    606\u001b[0m     \u001b[0;32melse\u001b[0m\u001b[0;34m:\u001b[0m\u001b[0;34m\u001b[0m\u001b[0;34m\u001b[0m\u001b[0m\n\u001b[1;32m    607\u001b[0m         \u001b[0;32mif\u001b[0m \u001b[0my_test\u001b[0m \u001b[0;32mis\u001b[0m \u001b[0;32mNone\u001b[0m\u001b[0;34m:\u001b[0m\u001b[0;34m\u001b[0m\u001b[0;34m\u001b[0m\u001b[0m\n",
      "\u001b[0;32m/usr/local/lib/python3.7/site-packages/sklearn/model_selection/_validation.py\u001b[0m in \u001b[0;36m_multimetric_score\u001b[0;34m(estimator, X_test, y_test, scorers)\u001b[0m\n\u001b[1;32m    633\u001b[0m             \u001b[0mscore\u001b[0m \u001b[0;34m=\u001b[0m \u001b[0mscorer\u001b[0m\u001b[0;34m(\u001b[0m\u001b[0mestimator\u001b[0m\u001b[0;34m,\u001b[0m \u001b[0mX_test\u001b[0m\u001b[0;34m)\u001b[0m\u001b[0;34m\u001b[0m\u001b[0;34m\u001b[0m\u001b[0m\n\u001b[1;32m    634\u001b[0m         \u001b[0;32melse\u001b[0m\u001b[0;34m:\u001b[0m\u001b[0;34m\u001b[0m\u001b[0;34m\u001b[0m\u001b[0m\n\u001b[0;32m--> 635\u001b[0;31m             \u001b[0mscore\u001b[0m \u001b[0;34m=\u001b[0m \u001b[0mscorer\u001b[0m\u001b[0;34m(\u001b[0m\u001b[0mestimator\u001b[0m\u001b[0;34m,\u001b[0m \u001b[0mX_test\u001b[0m\u001b[0;34m,\u001b[0m \u001b[0my_test\u001b[0m\u001b[0;34m)\u001b[0m\u001b[0;34m\u001b[0m\u001b[0;34m\u001b[0m\u001b[0m\n\u001b[0m\u001b[1;32m    636\u001b[0m \u001b[0;34m\u001b[0m\u001b[0m\n\u001b[1;32m    637\u001b[0m         \u001b[0;32mif\u001b[0m \u001b[0mhasattr\u001b[0m\u001b[0;34m(\u001b[0m\u001b[0mscore\u001b[0m\u001b[0;34m,\u001b[0m \u001b[0;34m'item'\u001b[0m\u001b[0;34m)\u001b[0m\u001b[0;34m:\u001b[0m\u001b[0;34m\u001b[0m\u001b[0;34m\u001b[0m\u001b[0m\n",
      "\u001b[0;32m/usr/local/lib/python3.7/site-packages/sklearn/metrics/scorer.py\u001b[0m in \u001b[0;36m__call__\u001b[0;34m(self, estimator, X, y_true, sample_weight)\u001b[0m\n\u001b[1;32m     96\u001b[0m         \u001b[0;32melse\u001b[0m\u001b[0;34m:\u001b[0m\u001b[0;34m\u001b[0m\u001b[0;34m\u001b[0m\u001b[0m\n\u001b[1;32m     97\u001b[0m             return self._sign * self._score_func(y_true, y_pred,\n\u001b[0;32m---> 98\u001b[0;31m                                                  **self._kwargs)\n\u001b[0m\u001b[1;32m     99\u001b[0m \u001b[0;34m\u001b[0m\u001b[0m\n\u001b[1;32m    100\u001b[0m \u001b[0;34m\u001b[0m\u001b[0m\n",
      "\u001b[0;32m/usr/local/lib/python3.7/site-packages/sklearn/metrics/regression.py\u001b[0m in \u001b[0;36mmean_squared_log_error\u001b[0;34m(y_true, y_pred, sample_weight, multioutput)\u001b[0m\n\u001b[1;32m    312\u001b[0m \u001b[0;34m\u001b[0m\u001b[0m\n\u001b[1;32m    313\u001b[0m     \u001b[0;32mif\u001b[0m \u001b[0;34m(\u001b[0m\u001b[0my_true\u001b[0m \u001b[0;34m<\u001b[0m \u001b[0;36m0\u001b[0m\u001b[0;34m)\u001b[0m\u001b[0;34m.\u001b[0m\u001b[0many\u001b[0m\u001b[0;34m(\u001b[0m\u001b[0;34m)\u001b[0m \u001b[0;32mor\u001b[0m \u001b[0;34m(\u001b[0m\u001b[0my_pred\u001b[0m \u001b[0;34m<\u001b[0m \u001b[0;36m0\u001b[0m\u001b[0;34m)\u001b[0m\u001b[0;34m.\u001b[0m\u001b[0many\u001b[0m\u001b[0;34m(\u001b[0m\u001b[0;34m)\u001b[0m\u001b[0;34m:\u001b[0m\u001b[0;34m\u001b[0m\u001b[0;34m\u001b[0m\u001b[0m\n\u001b[0;32m--> 314\u001b[0;31m         raise ValueError(\"Mean Squared Logarithmic Error cannot be used when \"\n\u001b[0m\u001b[1;32m    315\u001b[0m                          \"targets contain negative values.\")\n\u001b[1;32m    316\u001b[0m \u001b[0;34m\u001b[0m\u001b[0m\n",
      "\u001b[0;31mValueError\u001b[0m: Mean Squared Logarithmic Error cannot be used when targets contain negative values."
     ]
    }
   ],
   "source": [
    "from sklearn import linear_model\n",
    "model_lr = linear_model.LinearRegression()\n",
    "score_lr = cross_val_score(model_lr, xtrain, ytrain, scoring='neg_mean_squared_log_error', cv=5)\n",
    "#ValueError: Mean Squared Logarithmic Error cannot be used when targets contain negative values.\n",
    "-np.mean(score_lr)"
   ]
  },
  {
   "cell_type": "code",
   "execution_count": 45,
   "metadata": {},
   "outputs": [
    {
     "name": "stderr",
     "output_type": "stream",
     "text": [
      "/usr/local/lib/python3.7/site-packages/sklearn/svm/base.py:196: FutureWarning: The default value of gamma will change from 'auto' to 'scale' in version 0.22 to account better for unscaled features. Set gamma explicitly to 'auto' or 'scale' to avoid this warning.\n",
      "  \"avoid this warning.\", FutureWarning)\n",
      "/usr/local/lib/python3.7/site-packages/sklearn/svm/base.py:196: FutureWarning: The default value of gamma will change from 'auto' to 'scale' in version 0.22 to account better for unscaled features. Set gamma explicitly to 'auto' or 'scale' to avoid this warning.\n",
      "  \"avoid this warning.\", FutureWarning)\n",
      "/usr/local/lib/python3.7/site-packages/sklearn/svm/base.py:196: FutureWarning: The default value of gamma will change from 'auto' to 'scale' in version 0.22 to account better for unscaled features. Set gamma explicitly to 'auto' or 'scale' to avoid this warning.\n",
      "  \"avoid this warning.\", FutureWarning)\n",
      "/usr/local/lib/python3.7/site-packages/sklearn/svm/base.py:196: FutureWarning: The default value of gamma will change from 'auto' to 'scale' in version 0.22 to account better for unscaled features. Set gamma explicitly to 'auto' or 'scale' to avoid this warning.\n",
      "  \"avoid this warning.\", FutureWarning)\n",
      "/usr/local/lib/python3.7/site-packages/sklearn/svm/base.py:196: FutureWarning: The default value of gamma will change from 'auto' to 'scale' in version 0.22 to account better for unscaled features. Set gamma explicitly to 'auto' or 'scale' to avoid this warning.\n",
      "  \"avoid this warning.\", FutureWarning)\n"
     ]
    },
    {
     "data": {
      "text/plain": [
       "9.825930245789454"
      ]
     },
     "execution_count": 45,
     "metadata": {},
     "output_type": "execute_result"
    }
   ],
   "source": [
    "from sklearn import svm\n",
    "model_svr = svm.SVR()\n",
    "score_svr = cross_val_score(model_svr, xtrain, ytrain, scoring='neg_mean_squared_log_error', cv=5)\n",
    "-np.mean(score_svr)"
   ]
  },
  {
   "cell_type": "code",
   "execution_count": 46,
   "metadata": {},
   "outputs": [
    {
     "name": "stderr",
     "output_type": "stream",
     "text": [
      "/usr/local/lib/python3.7/site-packages/sklearn/svm/base.py:196: FutureWarning: The default value of gamma will change from 'auto' to 'scale' in version 0.22 to account better for unscaled features. Set gamma explicitly to 'auto' or 'scale' to avoid this warning.\n",
      "  \"avoid this warning.\", FutureWarning)\n"
     ]
    },
    {
     "name": "stdout",
     "output_type": "stream",
     "text": [
      "RMSLE: 1.720772\n"
     ]
    }
   ],
   "source": [
    "train_X, val_X, train_y, val_y = train_test_split(xtrain, ytrain, random_state=1)\n",
    "model_svr.fit(train_X, train_y)\n",
    "val_preds = model_svr.predict(val_X)\n",
    "\n",
    "val_preds = model_svr.predict(val_X)\n",
    "val_preds[val_preds<0] = 0\n",
    "rmsle = np.sqrt(mean_squared_log_error( val_preds, val_y))\n",
    "print(\"RMSLE: %2f\" %sqrt(rmsle))"
   ]
  },
  {
   "cell_type": "code",
   "execution_count": 47,
   "metadata": {},
   "outputs": [],
   "source": [
    "pred = model_svr.predict(xtest)\n",
    "output = pd.DataFrame({'id': test2.id, 'revenue': pred})\n",
    "output.to_csv('submission4.csv', index=False)"
   ]
  },
  {
   "cell_type": "code",
   "execution_count": 48,
   "metadata": {},
   "outputs": [
    {
     "data": {
      "text/plain": [
       "array([-10.38512048, -10.29581288,  -9.30282557, -10.78603055,\n",
       "        -8.35986175])"
      ]
     },
     "execution_count": 48,
     "metadata": {},
     "output_type": "execute_result"
    }
   ],
   "source": [
    "score_svr"
   ]
  },
  {
   "cell_type": "code",
   "execution_count": 49,
   "metadata": {},
   "outputs": [
    {
     "data": {
      "text/plain": [
       "3.1346339891268733"
      ]
     },
     "execution_count": 49,
     "metadata": {},
     "output_type": "execute_result"
    }
   ],
   "source": [
    "sqrt(-np.mean(score_svr))"
   ]
  },
  {
   "cell_type": "code",
   "execution_count": 50,
   "metadata": {},
   "outputs": [
    {
     "data": {
      "text/plain": [
       "2.9238706796383758"
      ]
     },
     "execution_count": 50,
     "metadata": {},
     "output_type": "execute_result"
    }
   ],
   "source": [
    "sqrt(-np.mean(score_tree))"
   ]
  },
  {
   "cell_type": "code",
   "execution_count": 51,
   "metadata": {},
   "outputs": [
    {
     "name": "stdout",
     "output_type": "stream",
     "text": [
      "RMSLE: 1.745536\n"
     ]
    }
   ],
   "source": [
    "train_X, val_X, train_y, val_y = train_test_split(xtrain, ytrain, random_state=1)\n",
    "model_tree.fit(train_X, train_y)\n",
    "val_preds = model_tree.predict(val_X)\n",
    "\n",
    "val_preds[val_preds<0] = 0\n",
    "rmsle = np.sqrt(mean_squared_log_error( val_preds, val_y))\n",
    "print(\"RMSLE: %2f\" %sqrt(rmsle))\n",
    "\n",
    "pred = model_tree.predict(xtest)\n",
    "output = pd.DataFrame({'id': test2.id, 'revenue': pred})\n",
    "output.to_csv('submission5.csv', index=False)"
   ]
  },
  {
   "cell_type": "code",
   "execution_count": null,
   "metadata": {},
   "outputs": [],
   "source": []
  },
  {
   "cell_type": "code",
   "execution_count": 52,
   "metadata": {},
   "outputs": [
    {
     "data": {
      "text/plain": [
       "3.0209513750501644"
      ]
     },
     "execution_count": 52,
     "metadata": {},
     "output_type": "execute_result"
    }
   ],
   "source": [
    "from sklearn import tree\n",
    "model_tree = tree.DecisionTreeRegressor()\n",
    "score_tree = cross_val_score(model_tree, xtrain, ytrain, scoring='neg_mean_squared_log_error', cv=5)\n",
    "sqrt(-np.mean(score_tree))"
   ]
  },
  {
   "cell_type": "code",
   "execution_count": 54,
   "metadata": {},
   "outputs": [
    {
     "name": "stderr",
     "output_type": "stream",
     "text": [
      "/usr/local/lib/python3.7/site-packages/sklearn/svm/base.py:196: FutureWarning: The default value of gamma will change from 'auto' to 'scale' in version 0.22 to account better for unscaled features. Set gamma explicitly to 'auto' or 'scale' to avoid this warning.\n",
      "  \"avoid this warning.\", FutureWarning)\n",
      "/usr/local/lib/python3.7/site-packages/sklearn/svm/base.py:196: FutureWarning: The default value of gamma will change from 'auto' to 'scale' in version 0.22 to account better for unscaled features. Set gamma explicitly to 'auto' or 'scale' to avoid this warning.\n",
      "  \"avoid this warning.\", FutureWarning)\n",
      "/usr/local/lib/python3.7/site-packages/sklearn/svm/base.py:196: FutureWarning: The default value of gamma will change from 'auto' to 'scale' in version 0.22 to account better for unscaled features. Set gamma explicitly to 'auto' or 'scale' to avoid this warning.\n",
      "  \"avoid this warning.\", FutureWarning)\n",
      "/usr/local/lib/python3.7/site-packages/sklearn/svm/base.py:196: FutureWarning: The default value of gamma will change from 'auto' to 'scale' in version 0.22 to account better for unscaled features. Set gamma explicitly to 'auto' or 'scale' to avoid this warning.\n",
      "  \"avoid this warning.\", FutureWarning)\n",
      "/usr/local/lib/python3.7/site-packages/sklearn/svm/base.py:196: FutureWarning: The default value of gamma will change from 'auto' to 'scale' in version 0.22 to account better for unscaled features. Set gamma explicitly to 'auto' or 'scale' to avoid this warning.\n",
      "  \"avoid this warning.\", FutureWarning)\n"
     ]
    },
    {
     "data": {
      "text/plain": [
       "3.1346339891268733"
      ]
     },
     "execution_count": 54,
     "metadata": {},
     "output_type": "execute_result"
    }
   ],
   "source": [
    "from sklearn import svm\n",
    "model_svr = svm.SVR()\n",
    "score_svr = cross_val_score(model_svr, xtrain, ytrain, scoring='neg_mean_squared_log_error', cv=5)\n",
    "sqrt(-np.mean(score_svr))"
   ]
  },
  {
   "cell_type": "code",
   "execution_count": 55,
   "metadata": {},
   "outputs": [
    {
     "data": {
      "text/plain": [
       "2.773263082440288"
      ]
     },
     "execution_count": 55,
     "metadata": {},
     "output_type": "execute_result"
    }
   ],
   "source": [
    "from sklearn import neighbors\n",
    "model_KN = neighbors.KNeighborsRegressor()\n",
    "score_KN = cross_val_score(model_KN, xtrain, ytrain, scoring='neg_mean_squared_log_error', cv=5)\n",
    "sqrt(-np.mean(score_KN))"
   ]
  },
  {
   "cell_type": "code",
   "execution_count": 56,
   "metadata": {},
   "outputs": [
    {
     "data": {
      "text/plain": [
       "2.605502887865027"
      ]
     },
     "execution_count": 56,
     "metadata": {},
     "output_type": "execute_result"
    }
   ],
   "source": [
    "from sklearn import ensemble\n",
    "model_RandomForestRegressor = ensemble.RandomForestRegressor(n_estimators=20)\n",
    "score_RFR = cross_val_score(model_RandomForestRegressor, xtrain, ytrain, scoring='neg_mean_squared_log_error', cv=5)\n",
    "sqrt(-np.mean(score_RFR))"
   ]
  },
  {
   "cell_type": "code",
   "execution_count": 57,
   "metadata": {},
   "outputs": [
    {
     "data": {
      "text/plain": [
       "4.0268009361187636"
      ]
     },
     "execution_count": 57,
     "metadata": {},
     "output_type": "execute_result"
    }
   ],
   "source": [
    "from sklearn import ensemble\n",
    "model_AdaBoostRegressor = ensemble.AdaBoostRegressor(n_estimators=50)\n",
    "score_Ada = cross_val_score(model_AdaBoostRegressor, xtrain, ytrain, scoring='neg_mean_squared_log_error', cv=5)\n",
    "sqrt(-np.mean(score_Ada))"
   ]
  },
  {
   "cell_type": "code",
   "execution_count": 58,
   "metadata": {},
   "outputs": [
    {
     "ename": "ValueError",
     "evalue": "Mean Squared Logarithmic Error cannot be used when targets contain negative values.",
     "output_type": "error",
     "traceback": [
      "\u001b[0;31m---------------------------------------------------------------------------\u001b[0m",
      "\u001b[0;31mValueError\u001b[0m                                Traceback (most recent call last)",
      "\u001b[0;32m<ipython-input-58-97966193948d>\u001b[0m in \u001b[0;36m<module>\u001b[0;34m\u001b[0m\n\u001b[1;32m      1\u001b[0m \u001b[0;32mfrom\u001b[0m \u001b[0msklearn\u001b[0m \u001b[0;32mimport\u001b[0m \u001b[0mensemble\u001b[0m\u001b[0;34m\u001b[0m\u001b[0;34m\u001b[0m\u001b[0m\n\u001b[1;32m      2\u001b[0m \u001b[0mmodel_GradientBoostingRegressor\u001b[0m \u001b[0;34m=\u001b[0m \u001b[0mensemble\u001b[0m\u001b[0;34m.\u001b[0m\u001b[0mGradientBoostingRegressor\u001b[0m\u001b[0;34m(\u001b[0m\u001b[0mn_estimators\u001b[0m\u001b[0;34m=\u001b[0m\u001b[0;36m100\u001b[0m\u001b[0;34m)\u001b[0m\u001b[0;34m\u001b[0m\u001b[0;34m\u001b[0m\u001b[0m\n\u001b[0;32m----> 3\u001b[0;31m \u001b[0mscore_GBRT\u001b[0m \u001b[0;34m=\u001b[0m \u001b[0mcross_val_score\u001b[0m\u001b[0;34m(\u001b[0m\u001b[0mmodel_GradientBoostingRegressor\u001b[0m\u001b[0;34m,\u001b[0m \u001b[0mxtrain\u001b[0m\u001b[0;34m,\u001b[0m \u001b[0mytrain\u001b[0m\u001b[0;34m,\u001b[0m \u001b[0mscoring\u001b[0m\u001b[0;34m=\u001b[0m\u001b[0;34m'neg_mean_squared_log_error'\u001b[0m\u001b[0;34m,\u001b[0m \u001b[0mcv\u001b[0m\u001b[0;34m=\u001b[0m\u001b[0;36m5\u001b[0m\u001b[0;34m)\u001b[0m\u001b[0;34m\u001b[0m\u001b[0;34m\u001b[0m\u001b[0m\n\u001b[0m\u001b[1;32m      4\u001b[0m \u001b[0msqrt\u001b[0m\u001b[0;34m(\u001b[0m\u001b[0;34m-\u001b[0m\u001b[0mnp\u001b[0m\u001b[0;34m.\u001b[0m\u001b[0mmean\u001b[0m\u001b[0;34m(\u001b[0m\u001b[0mscore_GBRT\u001b[0m\u001b[0;34m)\u001b[0m\u001b[0;34m)\u001b[0m\u001b[0;34m\u001b[0m\u001b[0;34m\u001b[0m\u001b[0m\n",
      "\u001b[0;32m/usr/local/lib/python3.7/site-packages/sklearn/model_selection/_validation.py\u001b[0m in \u001b[0;36mcross_val_score\u001b[0;34m(estimator, X, y, groups, scoring, cv, n_jobs, verbose, fit_params, pre_dispatch, error_score)\u001b[0m\n\u001b[1;32m    400\u001b[0m                                 \u001b[0mfit_params\u001b[0m\u001b[0;34m=\u001b[0m\u001b[0mfit_params\u001b[0m\u001b[0;34m,\u001b[0m\u001b[0;34m\u001b[0m\u001b[0;34m\u001b[0m\u001b[0m\n\u001b[1;32m    401\u001b[0m                                 \u001b[0mpre_dispatch\u001b[0m\u001b[0;34m=\u001b[0m\u001b[0mpre_dispatch\u001b[0m\u001b[0;34m,\u001b[0m\u001b[0;34m\u001b[0m\u001b[0;34m\u001b[0m\u001b[0m\n\u001b[0;32m--> 402\u001b[0;31m                                 error_score=error_score)\n\u001b[0m\u001b[1;32m    403\u001b[0m     \u001b[0;32mreturn\u001b[0m \u001b[0mcv_results\u001b[0m\u001b[0;34m[\u001b[0m\u001b[0;34m'test_score'\u001b[0m\u001b[0;34m]\u001b[0m\u001b[0;34m\u001b[0m\u001b[0;34m\u001b[0m\u001b[0m\n\u001b[1;32m    404\u001b[0m \u001b[0;34m\u001b[0m\u001b[0m\n",
      "\u001b[0;32m/usr/local/lib/python3.7/site-packages/sklearn/model_selection/_validation.py\u001b[0m in \u001b[0;36mcross_validate\u001b[0;34m(estimator, X, y, groups, scoring, cv, n_jobs, verbose, fit_params, pre_dispatch, return_train_score, return_estimator, error_score)\u001b[0m\n\u001b[1;32m    238\u001b[0m             \u001b[0mreturn_times\u001b[0m\u001b[0;34m=\u001b[0m\u001b[0;32mTrue\u001b[0m\u001b[0;34m,\u001b[0m \u001b[0mreturn_estimator\u001b[0m\u001b[0;34m=\u001b[0m\u001b[0mreturn_estimator\u001b[0m\u001b[0;34m,\u001b[0m\u001b[0;34m\u001b[0m\u001b[0;34m\u001b[0m\u001b[0m\n\u001b[1;32m    239\u001b[0m             error_score=error_score)\n\u001b[0;32m--> 240\u001b[0;31m         for train, test in cv.split(X, y, groups))\n\u001b[0m\u001b[1;32m    241\u001b[0m \u001b[0;34m\u001b[0m\u001b[0m\n\u001b[1;32m    242\u001b[0m     \u001b[0mzipped_scores\u001b[0m \u001b[0;34m=\u001b[0m \u001b[0mlist\u001b[0m\u001b[0;34m(\u001b[0m\u001b[0mzip\u001b[0m\u001b[0;34m(\u001b[0m\u001b[0;34m*\u001b[0m\u001b[0mscores\u001b[0m\u001b[0;34m)\u001b[0m\u001b[0;34m)\u001b[0m\u001b[0;34m\u001b[0m\u001b[0;34m\u001b[0m\u001b[0m\n",
      "\u001b[0;32m/usr/local/lib/python3.7/site-packages/sklearn/externals/joblib/parallel.py\u001b[0m in \u001b[0;36m__call__\u001b[0;34m(self, iterable)\u001b[0m\n\u001b[1;32m    915\u001b[0m             \u001b[0;31m# remaining jobs.\u001b[0m\u001b[0;34m\u001b[0m\u001b[0;34m\u001b[0m\u001b[0;34m\u001b[0m\u001b[0m\n\u001b[1;32m    916\u001b[0m             \u001b[0mself\u001b[0m\u001b[0;34m.\u001b[0m\u001b[0m_iterating\u001b[0m \u001b[0;34m=\u001b[0m \u001b[0;32mFalse\u001b[0m\u001b[0;34m\u001b[0m\u001b[0;34m\u001b[0m\u001b[0m\n\u001b[0;32m--> 917\u001b[0;31m             \u001b[0;32mif\u001b[0m \u001b[0mself\u001b[0m\u001b[0;34m.\u001b[0m\u001b[0mdispatch_one_batch\u001b[0m\u001b[0;34m(\u001b[0m\u001b[0miterator\u001b[0m\u001b[0;34m)\u001b[0m\u001b[0;34m:\u001b[0m\u001b[0;34m\u001b[0m\u001b[0;34m\u001b[0m\u001b[0m\n\u001b[0m\u001b[1;32m    918\u001b[0m                 \u001b[0mself\u001b[0m\u001b[0;34m.\u001b[0m\u001b[0m_iterating\u001b[0m \u001b[0;34m=\u001b[0m \u001b[0mself\u001b[0m\u001b[0;34m.\u001b[0m\u001b[0m_original_iterator\u001b[0m \u001b[0;32mis\u001b[0m \u001b[0;32mnot\u001b[0m \u001b[0;32mNone\u001b[0m\u001b[0;34m\u001b[0m\u001b[0;34m\u001b[0m\u001b[0m\n\u001b[1;32m    919\u001b[0m \u001b[0;34m\u001b[0m\u001b[0m\n",
      "\u001b[0;32m/usr/local/lib/python3.7/site-packages/sklearn/externals/joblib/parallel.py\u001b[0m in \u001b[0;36mdispatch_one_batch\u001b[0;34m(self, iterator)\u001b[0m\n\u001b[1;32m    757\u001b[0m                 \u001b[0;32mreturn\u001b[0m \u001b[0;32mFalse\u001b[0m\u001b[0;34m\u001b[0m\u001b[0;34m\u001b[0m\u001b[0m\n\u001b[1;32m    758\u001b[0m             \u001b[0;32melse\u001b[0m\u001b[0;34m:\u001b[0m\u001b[0;34m\u001b[0m\u001b[0;34m\u001b[0m\u001b[0m\n\u001b[0;32m--> 759\u001b[0;31m                 \u001b[0mself\u001b[0m\u001b[0;34m.\u001b[0m\u001b[0m_dispatch\u001b[0m\u001b[0;34m(\u001b[0m\u001b[0mtasks\u001b[0m\u001b[0;34m)\u001b[0m\u001b[0;34m\u001b[0m\u001b[0;34m\u001b[0m\u001b[0m\n\u001b[0m\u001b[1;32m    760\u001b[0m                 \u001b[0;32mreturn\u001b[0m \u001b[0;32mTrue\u001b[0m\u001b[0;34m\u001b[0m\u001b[0;34m\u001b[0m\u001b[0m\n\u001b[1;32m    761\u001b[0m \u001b[0;34m\u001b[0m\u001b[0m\n",
      "\u001b[0;32m/usr/local/lib/python3.7/site-packages/sklearn/externals/joblib/parallel.py\u001b[0m in \u001b[0;36m_dispatch\u001b[0;34m(self, batch)\u001b[0m\n\u001b[1;32m    714\u001b[0m         \u001b[0;32mwith\u001b[0m \u001b[0mself\u001b[0m\u001b[0;34m.\u001b[0m\u001b[0m_lock\u001b[0m\u001b[0;34m:\u001b[0m\u001b[0;34m\u001b[0m\u001b[0;34m\u001b[0m\u001b[0m\n\u001b[1;32m    715\u001b[0m             \u001b[0mjob_idx\u001b[0m \u001b[0;34m=\u001b[0m \u001b[0mlen\u001b[0m\u001b[0;34m(\u001b[0m\u001b[0mself\u001b[0m\u001b[0;34m.\u001b[0m\u001b[0m_jobs\u001b[0m\u001b[0;34m)\u001b[0m\u001b[0;34m\u001b[0m\u001b[0;34m\u001b[0m\u001b[0m\n\u001b[0;32m--> 716\u001b[0;31m             \u001b[0mjob\u001b[0m \u001b[0;34m=\u001b[0m \u001b[0mself\u001b[0m\u001b[0;34m.\u001b[0m\u001b[0m_backend\u001b[0m\u001b[0;34m.\u001b[0m\u001b[0mapply_async\u001b[0m\u001b[0;34m(\u001b[0m\u001b[0mbatch\u001b[0m\u001b[0;34m,\u001b[0m \u001b[0mcallback\u001b[0m\u001b[0;34m=\u001b[0m\u001b[0mcb\u001b[0m\u001b[0;34m)\u001b[0m\u001b[0;34m\u001b[0m\u001b[0;34m\u001b[0m\u001b[0m\n\u001b[0m\u001b[1;32m    717\u001b[0m             \u001b[0;31m# A job can complete so quickly than its callback is\u001b[0m\u001b[0;34m\u001b[0m\u001b[0;34m\u001b[0m\u001b[0;34m\u001b[0m\u001b[0m\n\u001b[1;32m    718\u001b[0m             \u001b[0;31m# called before we get here, causing self._jobs to\u001b[0m\u001b[0;34m\u001b[0m\u001b[0;34m\u001b[0m\u001b[0;34m\u001b[0m\u001b[0m\n",
      "\u001b[0;32m/usr/local/lib/python3.7/site-packages/sklearn/externals/joblib/_parallel_backends.py\u001b[0m in \u001b[0;36mapply_async\u001b[0;34m(self, func, callback)\u001b[0m\n\u001b[1;32m    180\u001b[0m     \u001b[0;32mdef\u001b[0m \u001b[0mapply_async\u001b[0m\u001b[0;34m(\u001b[0m\u001b[0mself\u001b[0m\u001b[0;34m,\u001b[0m \u001b[0mfunc\u001b[0m\u001b[0;34m,\u001b[0m \u001b[0mcallback\u001b[0m\u001b[0;34m=\u001b[0m\u001b[0;32mNone\u001b[0m\u001b[0;34m)\u001b[0m\u001b[0;34m:\u001b[0m\u001b[0;34m\u001b[0m\u001b[0;34m\u001b[0m\u001b[0m\n\u001b[1;32m    181\u001b[0m         \u001b[0;34m\"\"\"Schedule a func to be run\"\"\"\u001b[0m\u001b[0;34m\u001b[0m\u001b[0;34m\u001b[0m\u001b[0m\n\u001b[0;32m--> 182\u001b[0;31m         \u001b[0mresult\u001b[0m \u001b[0;34m=\u001b[0m \u001b[0mImmediateResult\u001b[0m\u001b[0;34m(\u001b[0m\u001b[0mfunc\u001b[0m\u001b[0;34m)\u001b[0m\u001b[0;34m\u001b[0m\u001b[0;34m\u001b[0m\u001b[0m\n\u001b[0m\u001b[1;32m    183\u001b[0m         \u001b[0;32mif\u001b[0m \u001b[0mcallback\u001b[0m\u001b[0;34m:\u001b[0m\u001b[0;34m\u001b[0m\u001b[0;34m\u001b[0m\u001b[0m\n\u001b[1;32m    184\u001b[0m             \u001b[0mcallback\u001b[0m\u001b[0;34m(\u001b[0m\u001b[0mresult\u001b[0m\u001b[0;34m)\u001b[0m\u001b[0;34m\u001b[0m\u001b[0;34m\u001b[0m\u001b[0m\n",
      "\u001b[0;32m/usr/local/lib/python3.7/site-packages/sklearn/externals/joblib/_parallel_backends.py\u001b[0m in \u001b[0;36m__init__\u001b[0;34m(self, batch)\u001b[0m\n\u001b[1;32m    547\u001b[0m         \u001b[0;31m# Don't delay the application, to avoid keeping the input\u001b[0m\u001b[0;34m\u001b[0m\u001b[0;34m\u001b[0m\u001b[0;34m\u001b[0m\u001b[0m\n\u001b[1;32m    548\u001b[0m         \u001b[0;31m# arguments in memory\u001b[0m\u001b[0;34m\u001b[0m\u001b[0;34m\u001b[0m\u001b[0;34m\u001b[0m\u001b[0m\n\u001b[0;32m--> 549\u001b[0;31m         \u001b[0mself\u001b[0m\u001b[0;34m.\u001b[0m\u001b[0mresults\u001b[0m \u001b[0;34m=\u001b[0m \u001b[0mbatch\u001b[0m\u001b[0;34m(\u001b[0m\u001b[0;34m)\u001b[0m\u001b[0;34m\u001b[0m\u001b[0;34m\u001b[0m\u001b[0m\n\u001b[0m\u001b[1;32m    550\u001b[0m \u001b[0;34m\u001b[0m\u001b[0m\n\u001b[1;32m    551\u001b[0m     \u001b[0;32mdef\u001b[0m \u001b[0mget\u001b[0m\u001b[0;34m(\u001b[0m\u001b[0mself\u001b[0m\u001b[0;34m)\u001b[0m\u001b[0;34m:\u001b[0m\u001b[0;34m\u001b[0m\u001b[0;34m\u001b[0m\u001b[0m\n",
      "\u001b[0;32m/usr/local/lib/python3.7/site-packages/sklearn/externals/joblib/parallel.py\u001b[0m in \u001b[0;36m__call__\u001b[0;34m(self)\u001b[0m\n\u001b[1;32m    223\u001b[0m         \u001b[0;32mwith\u001b[0m \u001b[0mparallel_backend\u001b[0m\u001b[0;34m(\u001b[0m\u001b[0mself\u001b[0m\u001b[0;34m.\u001b[0m\u001b[0m_backend\u001b[0m\u001b[0;34m,\u001b[0m \u001b[0mn_jobs\u001b[0m\u001b[0;34m=\u001b[0m\u001b[0mself\u001b[0m\u001b[0;34m.\u001b[0m\u001b[0m_n_jobs\u001b[0m\u001b[0;34m)\u001b[0m\u001b[0;34m:\u001b[0m\u001b[0;34m\u001b[0m\u001b[0;34m\u001b[0m\u001b[0m\n\u001b[1;32m    224\u001b[0m             return [func(*args, **kwargs)\n\u001b[0;32m--> 225\u001b[0;31m                     for func, args, kwargs in self.items]\n\u001b[0m\u001b[1;32m    226\u001b[0m \u001b[0;34m\u001b[0m\u001b[0m\n\u001b[1;32m    227\u001b[0m     \u001b[0;32mdef\u001b[0m \u001b[0m__len__\u001b[0m\u001b[0;34m(\u001b[0m\u001b[0mself\u001b[0m\u001b[0;34m)\u001b[0m\u001b[0;34m:\u001b[0m\u001b[0;34m\u001b[0m\u001b[0;34m\u001b[0m\u001b[0m\n",
      "\u001b[0;32m/usr/local/lib/python3.7/site-packages/sklearn/externals/joblib/parallel.py\u001b[0m in \u001b[0;36m<listcomp>\u001b[0;34m(.0)\u001b[0m\n\u001b[1;32m    223\u001b[0m         \u001b[0;32mwith\u001b[0m \u001b[0mparallel_backend\u001b[0m\u001b[0;34m(\u001b[0m\u001b[0mself\u001b[0m\u001b[0;34m.\u001b[0m\u001b[0m_backend\u001b[0m\u001b[0;34m,\u001b[0m \u001b[0mn_jobs\u001b[0m\u001b[0;34m=\u001b[0m\u001b[0mself\u001b[0m\u001b[0;34m.\u001b[0m\u001b[0m_n_jobs\u001b[0m\u001b[0;34m)\u001b[0m\u001b[0;34m:\u001b[0m\u001b[0;34m\u001b[0m\u001b[0;34m\u001b[0m\u001b[0m\n\u001b[1;32m    224\u001b[0m             return [func(*args, **kwargs)\n\u001b[0;32m--> 225\u001b[0;31m                     for func, args, kwargs in self.items]\n\u001b[0m\u001b[1;32m    226\u001b[0m \u001b[0;34m\u001b[0m\u001b[0m\n\u001b[1;32m    227\u001b[0m     \u001b[0;32mdef\u001b[0m \u001b[0m__len__\u001b[0m\u001b[0;34m(\u001b[0m\u001b[0mself\u001b[0m\u001b[0;34m)\u001b[0m\u001b[0;34m:\u001b[0m\u001b[0;34m\u001b[0m\u001b[0;34m\u001b[0m\u001b[0m\n",
      "\u001b[0;32m/usr/local/lib/python3.7/site-packages/sklearn/model_selection/_validation.py\u001b[0m in \u001b[0;36m_fit_and_score\u001b[0;34m(estimator, X, y, scorer, train, test, verbose, parameters, fit_params, return_train_score, return_parameters, return_n_test_samples, return_times, return_estimator, error_score)\u001b[0m\n\u001b[1;32m    566\u001b[0m         \u001b[0mfit_time\u001b[0m \u001b[0;34m=\u001b[0m \u001b[0mtime\u001b[0m\u001b[0;34m.\u001b[0m\u001b[0mtime\u001b[0m\u001b[0;34m(\u001b[0m\u001b[0;34m)\u001b[0m \u001b[0;34m-\u001b[0m \u001b[0mstart_time\u001b[0m\u001b[0;34m\u001b[0m\u001b[0;34m\u001b[0m\u001b[0m\n\u001b[1;32m    567\u001b[0m         \u001b[0;31m# _score will return dict if is_multimetric is True\u001b[0m\u001b[0;34m\u001b[0m\u001b[0;34m\u001b[0m\u001b[0;34m\u001b[0m\u001b[0m\n\u001b[0;32m--> 568\u001b[0;31m         \u001b[0mtest_scores\u001b[0m \u001b[0;34m=\u001b[0m \u001b[0m_score\u001b[0m\u001b[0;34m(\u001b[0m\u001b[0mestimator\u001b[0m\u001b[0;34m,\u001b[0m \u001b[0mX_test\u001b[0m\u001b[0;34m,\u001b[0m \u001b[0my_test\u001b[0m\u001b[0;34m,\u001b[0m \u001b[0mscorer\u001b[0m\u001b[0;34m,\u001b[0m \u001b[0mis_multimetric\u001b[0m\u001b[0;34m)\u001b[0m\u001b[0;34m\u001b[0m\u001b[0;34m\u001b[0m\u001b[0m\n\u001b[0m\u001b[1;32m    569\u001b[0m         \u001b[0mscore_time\u001b[0m \u001b[0;34m=\u001b[0m \u001b[0mtime\u001b[0m\u001b[0;34m.\u001b[0m\u001b[0mtime\u001b[0m\u001b[0;34m(\u001b[0m\u001b[0;34m)\u001b[0m \u001b[0;34m-\u001b[0m \u001b[0mstart_time\u001b[0m \u001b[0;34m-\u001b[0m \u001b[0mfit_time\u001b[0m\u001b[0;34m\u001b[0m\u001b[0;34m\u001b[0m\u001b[0m\n\u001b[1;32m    570\u001b[0m         \u001b[0;32mif\u001b[0m \u001b[0mreturn_train_score\u001b[0m\u001b[0;34m:\u001b[0m\u001b[0;34m\u001b[0m\u001b[0;34m\u001b[0m\u001b[0m\n",
      "\u001b[0;32m/usr/local/lib/python3.7/site-packages/sklearn/model_selection/_validation.py\u001b[0m in \u001b[0;36m_score\u001b[0;34m(estimator, X_test, y_test, scorer, is_multimetric)\u001b[0m\n\u001b[1;32m    603\u001b[0m     \"\"\"\n\u001b[1;32m    604\u001b[0m     \u001b[0;32mif\u001b[0m \u001b[0mis_multimetric\u001b[0m\u001b[0;34m:\u001b[0m\u001b[0;34m\u001b[0m\u001b[0;34m\u001b[0m\u001b[0m\n\u001b[0;32m--> 605\u001b[0;31m         \u001b[0;32mreturn\u001b[0m \u001b[0m_multimetric_score\u001b[0m\u001b[0;34m(\u001b[0m\u001b[0mestimator\u001b[0m\u001b[0;34m,\u001b[0m \u001b[0mX_test\u001b[0m\u001b[0;34m,\u001b[0m \u001b[0my_test\u001b[0m\u001b[0;34m,\u001b[0m \u001b[0mscorer\u001b[0m\u001b[0;34m)\u001b[0m\u001b[0;34m\u001b[0m\u001b[0;34m\u001b[0m\u001b[0m\n\u001b[0m\u001b[1;32m    606\u001b[0m     \u001b[0;32melse\u001b[0m\u001b[0;34m:\u001b[0m\u001b[0;34m\u001b[0m\u001b[0;34m\u001b[0m\u001b[0m\n\u001b[1;32m    607\u001b[0m         \u001b[0;32mif\u001b[0m \u001b[0my_test\u001b[0m \u001b[0;32mis\u001b[0m \u001b[0;32mNone\u001b[0m\u001b[0;34m:\u001b[0m\u001b[0;34m\u001b[0m\u001b[0;34m\u001b[0m\u001b[0m\n",
      "\u001b[0;32m/usr/local/lib/python3.7/site-packages/sklearn/model_selection/_validation.py\u001b[0m in \u001b[0;36m_multimetric_score\u001b[0;34m(estimator, X_test, y_test, scorers)\u001b[0m\n\u001b[1;32m    633\u001b[0m             \u001b[0mscore\u001b[0m \u001b[0;34m=\u001b[0m \u001b[0mscorer\u001b[0m\u001b[0;34m(\u001b[0m\u001b[0mestimator\u001b[0m\u001b[0;34m,\u001b[0m \u001b[0mX_test\u001b[0m\u001b[0;34m)\u001b[0m\u001b[0;34m\u001b[0m\u001b[0;34m\u001b[0m\u001b[0m\n\u001b[1;32m    634\u001b[0m         \u001b[0;32melse\u001b[0m\u001b[0;34m:\u001b[0m\u001b[0;34m\u001b[0m\u001b[0;34m\u001b[0m\u001b[0m\n\u001b[0;32m--> 635\u001b[0;31m             \u001b[0mscore\u001b[0m \u001b[0;34m=\u001b[0m \u001b[0mscorer\u001b[0m\u001b[0;34m(\u001b[0m\u001b[0mestimator\u001b[0m\u001b[0;34m,\u001b[0m \u001b[0mX_test\u001b[0m\u001b[0;34m,\u001b[0m \u001b[0my_test\u001b[0m\u001b[0;34m)\u001b[0m\u001b[0;34m\u001b[0m\u001b[0;34m\u001b[0m\u001b[0m\n\u001b[0m\u001b[1;32m    636\u001b[0m \u001b[0;34m\u001b[0m\u001b[0m\n\u001b[1;32m    637\u001b[0m         \u001b[0;32mif\u001b[0m \u001b[0mhasattr\u001b[0m\u001b[0;34m(\u001b[0m\u001b[0mscore\u001b[0m\u001b[0;34m,\u001b[0m \u001b[0;34m'item'\u001b[0m\u001b[0;34m)\u001b[0m\u001b[0;34m:\u001b[0m\u001b[0;34m\u001b[0m\u001b[0;34m\u001b[0m\u001b[0m\n",
      "\u001b[0;32m/usr/local/lib/python3.7/site-packages/sklearn/metrics/scorer.py\u001b[0m in \u001b[0;36m__call__\u001b[0;34m(self, estimator, X, y_true, sample_weight)\u001b[0m\n\u001b[1;32m     96\u001b[0m         \u001b[0;32melse\u001b[0m\u001b[0;34m:\u001b[0m\u001b[0;34m\u001b[0m\u001b[0;34m\u001b[0m\u001b[0m\n\u001b[1;32m     97\u001b[0m             return self._sign * self._score_func(y_true, y_pred,\n\u001b[0;32m---> 98\u001b[0;31m                                                  **self._kwargs)\n\u001b[0m\u001b[1;32m     99\u001b[0m \u001b[0;34m\u001b[0m\u001b[0m\n\u001b[1;32m    100\u001b[0m \u001b[0;34m\u001b[0m\u001b[0m\n",
      "\u001b[0;32m/usr/local/lib/python3.7/site-packages/sklearn/metrics/regression.py\u001b[0m in \u001b[0;36mmean_squared_log_error\u001b[0;34m(y_true, y_pred, sample_weight, multioutput)\u001b[0m\n\u001b[1;32m    312\u001b[0m \u001b[0;34m\u001b[0m\u001b[0m\n\u001b[1;32m    313\u001b[0m     \u001b[0;32mif\u001b[0m \u001b[0;34m(\u001b[0m\u001b[0my_true\u001b[0m \u001b[0;34m<\u001b[0m \u001b[0;36m0\u001b[0m\u001b[0;34m)\u001b[0m\u001b[0;34m.\u001b[0m\u001b[0many\u001b[0m\u001b[0;34m(\u001b[0m\u001b[0;34m)\u001b[0m \u001b[0;32mor\u001b[0m \u001b[0;34m(\u001b[0m\u001b[0my_pred\u001b[0m \u001b[0;34m<\u001b[0m \u001b[0;36m0\u001b[0m\u001b[0;34m)\u001b[0m\u001b[0;34m.\u001b[0m\u001b[0many\u001b[0m\u001b[0;34m(\u001b[0m\u001b[0;34m)\u001b[0m\u001b[0;34m:\u001b[0m\u001b[0;34m\u001b[0m\u001b[0;34m\u001b[0m\u001b[0m\n\u001b[0;32m--> 314\u001b[0;31m         raise ValueError(\"Mean Squared Logarithmic Error cannot be used when \"\n\u001b[0m\u001b[1;32m    315\u001b[0m                          \"targets contain negative values.\")\n\u001b[1;32m    316\u001b[0m \u001b[0;34m\u001b[0m\u001b[0m\n",
      "\u001b[0;31mValueError\u001b[0m: Mean Squared Logarithmic Error cannot be used when targets contain negative values."
     ]
    }
   ],
   "source": [
    "from sklearn import ensemble\n",
    "model_GradientBoostingRegressor = ensemble.GradientBoostingRegressor(n_estimators=100)\n",
    "score_GBRT = cross_val_score(model_GradientBoostingRegressor, xtrain, ytrain, scoring='neg_mean_squared_log_error', cv=5)\n",
    "sqrt(-np.mean(score_GBRT))"
   ]
  },
  {
   "cell_type": "code",
   "execution_count": 59,
   "metadata": {},
   "outputs": [
    {
     "data": {
      "text/plain": [
       "2.582278884987304"
      ]
     },
     "execution_count": 59,
     "metadata": {},
     "output_type": "execute_result"
    }
   ],
   "source": [
    "from sklearn.ensemble import BaggingRegressor\n",
    "model_BaggingRegressor = BaggingRegressor()\n",
    "score_bagging = cross_val_score(model_BaggingRegressor, xtrain, ytrain, scoring='neg_mean_squared_log_error', cv=5)\n",
    "sqrt(-np.mean(score_bagging))"
   ]
  },
  {
   "cell_type": "code",
   "execution_count": 60,
   "metadata": {},
   "outputs": [
    {
     "data": {
      "text/plain": [
       "3.0739896502931807"
      ]
     },
     "execution_count": 60,
     "metadata": {},
     "output_type": "execute_result"
    }
   ],
   "source": [
    "from sklearn.tree import ExtraTreeRegressor\n",
    "model_ExtraTreeRegressor = ExtraTreeRegressor()\n",
    "score_ExtraTree = cross_val_score(model_ExtraTreeRegressor, xtrain, ytrain, scoring='neg_mean_squared_log_error', cv=5)\n",
    "sqrt(-np.mean(score_ExtraTree))"
   ]
  },
  {
   "cell_type": "code",
   "execution_count": 63,
   "metadata": {},
   "outputs": [],
   "source": [
    "model_BaggingRegressor.fit(xtrain, ytrain)\n",
    "pred = model_BaggingRegressor.predict(xtest)\n",
    "output = pd.DataFrame({'id': test2.id, 'revenue': pred})\n",
    "output.to_csv('submission5.csv', index=False)"
   ]
  },
  {
   "cell_type": "code",
   "execution_count": 85,
   "metadata": {},
   "outputs": [
    {
     "name": "stdout",
     "output_type": "stream",
     "text": [
      "LinearRegression(copy_X=True, fit_intercept=True, n_jobs=None,\n",
      "         normalize=False) - RMSLE: 2.767681\n"
     ]
    }
   ],
   "source": [
    "def try_model(model):\n",
    "\tmodel_name = str(model)\n",
    "\ttrain_X, val_X, train_y, val_y = train_test_split(xtrain, ytrain, random_state=1)\n",
    "\tmodel.fit(train_X, train_y)\n",
    "\tval_preds = model.predict(val_X)\n",
    "\tval_preds[val_preds<0] = 0\n",
    "\trmsle = np.sqrt(mean_squared_log_error( val_preds, val_y))\n",
    "\tprint(\"%s - RMSLE: %2f\" % (model_name, sqrt(rmsle)))\n",
    "\n",
    "\n",
    "try_model(model_lr)"
   ]
  },
  {
   "cell_type": "code",
   "execution_count": 86,
   "metadata": {},
   "outputs": [
    {
     "name": "stdout",
     "output_type": "stream",
     "text": [
      "DecisionTreeRegressor(criterion='mse', max_depth=None, max_features=None,\n",
      "           max_leaf_nodes=None, min_impurity_decrease=0.0,\n",
      "           min_impurity_split=None, min_samples_leaf=1,\n",
      "           min_samples_split=2, min_weight_fraction_leaf=0.0,\n",
      "           presort=False, random_state=None, splitter='best') - RMSLE: 1.751659\n",
      "LinearRegression(copy_X=True, fit_intercept=True, n_jobs=None,\n",
      "         normalize=False) - RMSLE: 2.767681\n"
     ]
    },
    {
     "name": "stderr",
     "output_type": "stream",
     "text": [
      "/usr/local/lib/python3.7/site-packages/sklearn/svm/base.py:196: FutureWarning: The default value of gamma will change from 'auto' to 'scale' in version 0.22 to account better for unscaled features. Set gamma explicitly to 'auto' or 'scale' to avoid this warning.\n",
      "  \"avoid this warning.\", FutureWarning)\n"
     ]
    },
    {
     "name": "stdout",
     "output_type": "stream",
     "text": [
      "SVR(C=1.0, cache_size=200, coef0=0.0, degree=3, epsilon=0.1,\n",
      "  gamma='auto_deprecated', kernel='rbf', max_iter=-1, shrinking=True,\n",
      "  tol=0.001, verbose=False) - RMSLE: 1.720772\n",
      "KNeighborsRegressor(algorithm='auto', leaf_size=30, metric='minkowski',\n",
      "          metric_params=None, n_jobs=None, n_neighbors=5, p=2,\n",
      "          weights='uniform') - RMSLE: 1.616668\n",
      "RandomForestRegressor(bootstrap=True, criterion='mse', max_depth=None,\n",
      "           max_features='auto', max_leaf_nodes=None,\n",
      "           min_impurity_decrease=0.0, min_impurity_split=None,\n",
      "           min_samples_leaf=1, min_samples_split=2,\n",
      "           min_weight_fraction_leaf=0.0, n_estimators=20, n_jobs=None,\n",
      "           oob_score=False, random_state=None, verbose=0, warm_start=False) - RMSLE: 1.550610\n",
      "AdaBoostRegressor(base_estimator=None, learning_rate=1.0, loss='linear',\n",
      "         n_estimators=50, random_state=None) - RMSLE: 1.978459\n",
      "GradientBoostingRegressor(alpha=0.9, criterion='friedman_mse', init=None,\n",
      "             learning_rate=0.1, loss='ls', max_depth=3, max_features=None,\n",
      "             max_leaf_nodes=None, min_impurity_decrease=0.0,\n",
      "             min_impurity_split=None, min_samples_leaf=1,\n",
      "             min_samples_split=2, min_weight_fraction_leaf=0.0,\n",
      "             n_estimators=100, n_iter_no_change=None, presort='auto',\n",
      "             random_state=None, subsample=1.0, tol=0.0001,\n",
      "             validation_fraction=0.1, verbose=0, warm_start=False) - RMSLE: 2.011103\n",
      "BaggingRegressor(base_estimator=None, bootstrap=True,\n",
      "         bootstrap_features=False, max_features=1.0, max_samples=1.0,\n",
      "         n_estimators=10, n_jobs=None, oob_score=False, random_state=None,\n",
      "         verbose=0, warm_start=False) - RMSLE: 1.537691\n",
      "ExtraTreeRegressor(criterion='mse', max_depth=None, max_features='auto',\n",
      "          max_leaf_nodes=None, min_impurity_decrease=0.0,\n",
      "          min_impurity_split=None, min_samples_leaf=1, min_samples_split=2,\n",
      "          min_weight_fraction_leaf=0.0, random_state=None,\n",
      "          splitter='random') - RMSLE: 1.739620\n"
     ]
    }
   ],
   "source": [
    "model_list = [model_tree, model_lr, model_svr, model_KN, model_RandomForestRegressor, \n",
    "\t\t\t  model_AdaBoostRegressor, model_GradientBoostingRegressor, model_BaggingRegressor,\n",
    "\t\t\t  model_ExtraTreeRegressor]\n",
    "\n",
    "for model in model_list:\n",
    "\ttry_model(model)"
   ]
  },
  {
   "cell_type": "code",
   "execution_count": 87,
   "metadata": {},
   "outputs": [
    {
     "name": "stdout",
     "output_type": "stream",
     "text": [
      "DecisionTreeRegressor(criterion='mse', max_depth=None, max_features=None,\n",
      "           max_leaf_nodes=None, min_impurity_decrease=0.0,\n",
      "           min_impurity_split=None, min_samples_leaf=1,\n",
      "           min_samples_split=2, min_weight_fraction_leaf=0.0,\n",
      "           presort=False, random_state=None, splitter='best') - RMSLE: 1.810392\n",
      "LinearRegression(copy_X=True, fit_intercept=True, n_jobs=None,\n",
      "         normalize=False) - RMSLE: 2.767681\n"
     ]
    },
    {
     "name": "stderr",
     "output_type": "stream",
     "text": [
      "/usr/local/lib/python3.7/site-packages/sklearn/svm/base.py:196: FutureWarning: The default value of gamma will change from 'auto' to 'scale' in version 0.22 to account better for unscaled features. Set gamma explicitly to 'auto' or 'scale' to avoid this warning.\n",
      "  \"avoid this warning.\", FutureWarning)\n"
     ]
    },
    {
     "name": "stdout",
     "output_type": "stream",
     "text": [
      "SVR(C=1.0, cache_size=200, coef0=0.0, degree=3, epsilon=0.1,\n",
      "  gamma='auto_deprecated', kernel='rbf', max_iter=-1, shrinking=True,\n",
      "  tol=0.001, verbose=False) - RMSLE: 1.720772\n",
      "KNeighborsRegressor(algorithm='auto', leaf_size=30, metric='minkowski',\n",
      "          metric_params=None, n_jobs=None, n_neighbors=5, p=2,\n",
      "          weights='uniform') - RMSLE: 1.616668\n",
      "RandomForestRegressor(bootstrap=True, criterion='mse', max_depth=None,\n",
      "           max_features='auto', max_leaf_nodes=None,\n",
      "           min_impurity_decrease=0.0, min_impurity_split=None,\n",
      "           min_samples_leaf=1, min_samples_split=2,\n",
      "           min_weight_fraction_leaf=0.0, n_estimators=20, n_jobs=None,\n",
      "           oob_score=False, random_state=None, verbose=0, warm_start=False) - RMSLE: 1.549855\n",
      "AdaBoostRegressor(base_estimator=None, learning_rate=1.0, loss='linear',\n",
      "         n_estimators=50, random_state=None) - RMSLE: 1.979983\n",
      "GradientBoostingRegressor(alpha=0.9, criterion='friedman_mse', init=None,\n",
      "             learning_rate=0.1, loss='ls', max_depth=3, max_features=None,\n",
      "             max_leaf_nodes=None, min_impurity_decrease=0.0,\n",
      "             min_impurity_split=None, min_samples_leaf=1,\n",
      "             min_samples_split=2, min_weight_fraction_leaf=0.0,\n",
      "             n_estimators=100, n_iter_no_change=None, presort='auto',\n",
      "             random_state=None, subsample=1.0, tol=0.0001,\n",
      "             validation_fraction=0.1, verbose=0, warm_start=False) - RMSLE: 2.011124\n",
      "BaggingRegressor(base_estimator=None, bootstrap=True,\n",
      "         bootstrap_features=False, max_features=1.0, max_samples=1.0,\n",
      "         n_estimators=10, n_jobs=None, oob_score=False, random_state=None,\n",
      "         verbose=0, warm_start=False) - RMSLE: 1.537820\n",
      "ExtraTreeRegressor(criterion='mse', max_depth=None, max_features='auto',\n",
      "          max_leaf_nodes=None, min_impurity_decrease=0.0,\n",
      "          min_impurity_split=None, min_samples_leaf=1, min_samples_split=2,\n",
      "          min_weight_fraction_leaf=0.0, random_state=None,\n",
      "          splitter='random') - RMSLE: 1.783768\n"
     ]
    }
   ],
   "source": [
    "def try_model(model):\n",
    "\tmodel_name = str(model)\n",
    "\ttrain_X, val_X, train_y, val_y = train_test_split(xtrain, ytrain, random_state=1)\n",
    "\tmodel.fit(train_X, train_y)\n",
    "\tval_preds = model.predict(val_X)\n",
    "\tval_preds[val_preds<0] = 0\n",
    "\trmsle = np.sqrt(mean_squared_log_error( val_preds, val_y))\n",
    "\tprint(\"%s - RMSLE: %2f\" % (model_name, sqrt(rmsle)))\n",
    "\n",
    "model_list = [model_tree, model_lr, model_svr, model_KN, model_RandomForestRegressor, \n",
    "\t\t\t  model_AdaBoostRegressor, model_GradientBoostingRegressor, model_BaggingRegressor,\n",
    "\t\t\t  model_ExtraTreeRegressor]\n",
    "\n",
    "for model in model_list:\n",
    "\ttry_model(model)"
   ]
  },
  {
   "cell_type": "code",
   "execution_count": 88,
   "metadata": {},
   "outputs": [],
   "source": [
    "model_RandomForestRegressor = ensemble.RandomForestRegressor(n_estimators=100)"
   ]
  },
  {
   "cell_type": "code",
   "execution_count": 89,
   "metadata": {},
   "outputs": [
    {
     "name": "stdout",
     "output_type": "stream",
     "text": [
      "RandomForestRegressor(bootstrap=True, criterion='mse', max_depth=None,\n",
      "           max_features='auto', max_leaf_nodes=None,\n",
      "           min_impurity_decrease=0.0, min_impurity_split=None,\n",
      "           min_samples_leaf=1, min_samples_split=2,\n",
      "           min_weight_fraction_leaf=0.0, n_estimators=100, n_jobs=None,\n",
      "           oob_score=False, random_state=None, verbose=0, warm_start=False) - RMSLE: 1.542982\n"
     ]
    }
   ],
   "source": [
    "try_model(model_RandomForestRegressor)"
   ]
  },
  {
   "cell_type": "code",
   "execution_count": null,
   "metadata": {},
   "outputs": [],
   "source": []
  }
 ],
 "metadata": {
  "kernelspec": {
   "display_name": "Python 3",
   "language": "python",
   "name": "python3"
  },
  "language_info": {
   "codemirror_mode": {
    "name": "ipython",
    "version": 3
   },
   "file_extension": ".py",
   "mimetype": "text/x-python",
   "name": "python",
   "nbconvert_exporter": "python",
   "pygments_lexer": "ipython3",
   "version": "3.7.1"
  }
 },
 "nbformat": 4,
 "nbformat_minor": 2
}
