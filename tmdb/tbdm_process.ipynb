{
 "cells": [
  {
   "cell_type": "code",
   "execution_count": 1,
   "metadata": {},
   "outputs": [
    {
     "data": {
      "text/plain": [
       "'C:\\\\Users\\\\Jian Wang\\\\Desktop\\\\py\\\\Kaggle-Comp\\\\tmdb'"
      ]
     },
     "execution_count": 1,
     "metadata": {},
     "output_type": "execute_result"
    }
   ],
   "source": [
    "pwd"
   ]
  },
  {
   "cell_type": "code",
   "execution_count": null,
   "metadata": {},
   "outputs": [],
   "source": []
  },
  {
   "cell_type": "code",
   "execution_count": 2,
   "metadata": {},
   "outputs": [
    {
     "name": "stdout",
     "output_type": "stream",
     "text": [
      " Volume in drive C is Windows\n",
      " Volume Serial Number is 0212-CE0A\n",
      "\n",
      " Directory of C:\\Users\\Jian Wang\\Desktop\\py\\Kaggle-Comp\\tmdb\n",
      "\n",
      "2019/04/23  17:32    <DIR>          .\n",
      "2019/04/23  17:32    <DIR>          ..\n",
      "2019/04/23  10:25    <DIR>          .ipynb_checkpoints\n",
      "2019/04/23  11:45            13,913 columns.png\n",
      "2019/04/23  10:24    <DIR>          input\n",
      "2019/04/15  09:26             2,233 tmdb.py\n",
      "2019/04/23  10:48            80,534 tmdb过程.docx\n",
      "2019/04/23  17:32           122,615 Untitled.ipynb\n",
      "               4 File(s)        219,295 bytes\n",
      "               4 Dir(s)  51,262,144,512 bytes free\n"
     ]
    }
   ],
   "source": [
    "ls"
   ]
  },
  {
   "cell_type": "code",
   "execution_count": 3,
   "metadata": {},
   "outputs": [
    {
     "name": "stdout",
     "output_type": "stream",
     "text": [
      " Volume in drive C is Windows\n",
      " Volume Serial Number is 0212-CE0A\n",
      "\n",
      " Directory of C:\\Users\\Jian Wang\\Desktop\\py\\Kaggle-Comp\\tmdb\\input\n",
      "\n",
      "2019/04/23  10:24    <DIR>          .\n",
      "2019/04/23  10:24    <DIR>          ..\n",
      "2019/02/06  23:32            61,585 sample_submission.csv\n",
      "2019/02/06  23:32        41,868,556 test.csv\n",
      "2019/02/06  23:32        28,311,747 train.csv\n",
      "               3 File(s)     70,241,888 bytes\n",
      "               2 Dir(s)  51,262,144,512 bytes free\n"
     ]
    }
   ],
   "source": [
    "ls input"
   ]
  },
  {
   "cell_type": "code",
   "execution_count": 4,
   "metadata": {},
   "outputs": [],
   "source": [
    "import pandas as pd\n",
    "import numpy as np\n",
    "import seaborn as sns\n",
    "import matplotlib.pyplot as plt\n",
    "import warnings"
   ]
  },
  {
   "cell_type": "code",
   "execution_count": 5,
   "metadata": {},
   "outputs": [],
   "source": [
    "train = pd.read_csv('input/train.csv')"
   ]
  },
  {
   "cell_type": "code",
   "execution_count": 6,
   "metadata": {},
   "outputs": [],
   "source": [
    "test = pd.read_csv('input/test.csv')"
   ]
  },
  {
   "cell_type": "code",
   "execution_count": 7,
   "metadata": {},
   "outputs": [],
   "source": [
    "sample = pd.read_csv('input/sample_submission.csv')"
   ]
  },
  {
   "cell_type": "code",
   "execution_count": 8,
   "metadata": {},
   "outputs": [
    {
     "data": {
      "text/plain": [
       "(3000, 23)"
      ]
     },
     "execution_count": 8,
     "metadata": {},
     "output_type": "execute_result"
    }
   ],
   "source": [
    "train.shape"
   ]
  },
  {
   "cell_type": "code",
   "execution_count": 9,
   "metadata": {},
   "outputs": [
    {
     "data": {
      "text/plain": [
       "(4398, 22)"
      ]
     },
     "execution_count": 9,
     "metadata": {},
     "output_type": "execute_result"
    }
   ],
   "source": [
    "test.shape"
   ]
  },
  {
   "cell_type": "code",
   "execution_count": 10,
   "metadata": {},
   "outputs": [
    {
     "data": {
      "text/plain": [
       "(4398, 2)"
      ]
     },
     "execution_count": 10,
     "metadata": {},
     "output_type": "execute_result"
    }
   ],
   "source": [
    "sample.shape"
   ]
  },
  {
   "cell_type": "code",
   "execution_count": 11,
   "metadata": {},
   "outputs": [
    {
     "data": {
      "text/plain": [
       "id                         int64\n",
       "budget                     int64\n",
       "revenue                    int64\n",
       "popularity               float64\n",
       "runtime                  float64\n",
       "genres                    object\n",
       "cast                      object\n",
       "Keywords                  object\n",
       "title                     object\n",
       "tagline                   object\n",
       "status                    object\n",
       "spoken_languages          object\n",
       "release_date              object\n",
       "production_countries      object\n",
       "crew                      object\n",
       "poster_path               object\n",
       "overview                  object\n",
       "original_title            object\n",
       "original_language         object\n",
       "imdb_id                   object\n",
       "homepage                  object\n",
       "belongs_to_collection     object\n",
       "production_companies      object\n",
       "dtype: object"
      ]
     },
     "execution_count": 11,
     "metadata": {},
     "output_type": "execute_result"
    }
   ],
   "source": [
    "train.dtypes.sort_values()"
   ]
  },
  {
   "cell_type": "code",
   "execution_count": 12,
   "metadata": {},
   "outputs": [
    {
     "data": {
      "text/html": [
       "<div>\n",
       "<style scoped>\n",
       "    .dataframe tbody tr th:only-of-type {\n",
       "        vertical-align: middle;\n",
       "    }\n",
       "\n",
       "    .dataframe tbody tr th {\n",
       "        vertical-align: top;\n",
       "    }\n",
       "\n",
       "    .dataframe thead th {\n",
       "        text-align: right;\n",
       "    }\n",
       "</style>\n",
       "<table border=\"1\" class=\"dataframe\">\n",
       "  <thead>\n",
       "    <tr style=\"text-align: right;\">\n",
       "      <th></th>\n",
       "      <th>id</th>\n",
       "      <th>budget</th>\n",
       "      <th>revenue</th>\n",
       "    </tr>\n",
       "  </thead>\n",
       "  <tbody>\n",
       "    <tr>\n",
       "      <th>0</th>\n",
       "      <td>1</td>\n",
       "      <td>14000000</td>\n",
       "      <td>12314651</td>\n",
       "    </tr>\n",
       "    <tr>\n",
       "      <th>1</th>\n",
       "      <td>2</td>\n",
       "      <td>40000000</td>\n",
       "      <td>95149435</td>\n",
       "    </tr>\n",
       "    <tr>\n",
       "      <th>2</th>\n",
       "      <td>3</td>\n",
       "      <td>3300000</td>\n",
       "      <td>13092000</td>\n",
       "    </tr>\n",
       "    <tr>\n",
       "      <th>3</th>\n",
       "      <td>4</td>\n",
       "      <td>1200000</td>\n",
       "      <td>16000000</td>\n",
       "    </tr>\n",
       "    <tr>\n",
       "      <th>4</th>\n",
       "      <td>5</td>\n",
       "      <td>0</td>\n",
       "      <td>3923970</td>\n",
       "    </tr>\n",
       "  </tbody>\n",
       "</table>\n",
       "</div>"
      ],
      "text/plain": [
       "   id    budget   revenue\n",
       "0   1  14000000  12314651\n",
       "1   2  40000000  95149435\n",
       "2   3   3300000  13092000\n",
       "3   4   1200000  16000000\n",
       "4   5         0   3923970"
      ]
     },
     "execution_count": 12,
     "metadata": {},
     "output_type": "execute_result"
    }
   ],
   "source": [
    "train.select_dtypes(include='int64').head()"
   ]
  },
  {
   "cell_type": "code",
   "execution_count": 13,
   "metadata": {},
   "outputs": [
    {
     "data": {
      "text/html": [
       "<div>\n",
       "<style scoped>\n",
       "    .dataframe tbody tr th:only-of-type {\n",
       "        vertical-align: middle;\n",
       "    }\n",
       "\n",
       "    .dataframe tbody tr th {\n",
       "        vertical-align: top;\n",
       "    }\n",
       "\n",
       "    .dataframe thead th {\n",
       "        text-align: right;\n",
       "    }\n",
       "</style>\n",
       "<table border=\"1\" class=\"dataframe\">\n",
       "  <thead>\n",
       "    <tr style=\"text-align: right;\">\n",
       "      <th></th>\n",
       "      <th>popularity</th>\n",
       "      <th>runtime</th>\n",
       "    </tr>\n",
       "  </thead>\n",
       "  <tbody>\n",
       "    <tr>\n",
       "      <th>0</th>\n",
       "      <td>6.575393</td>\n",
       "      <td>93.0</td>\n",
       "    </tr>\n",
       "    <tr>\n",
       "      <th>1</th>\n",
       "      <td>8.248895</td>\n",
       "      <td>113.0</td>\n",
       "    </tr>\n",
       "    <tr>\n",
       "      <th>2</th>\n",
       "      <td>64.299990</td>\n",
       "      <td>105.0</td>\n",
       "    </tr>\n",
       "    <tr>\n",
       "      <th>3</th>\n",
       "      <td>3.174936</td>\n",
       "      <td>122.0</td>\n",
       "    </tr>\n",
       "    <tr>\n",
       "      <th>4</th>\n",
       "      <td>1.148070</td>\n",
       "      <td>118.0</td>\n",
       "    </tr>\n",
       "  </tbody>\n",
       "</table>\n",
       "</div>"
      ],
      "text/plain": [
       "   popularity  runtime\n",
       "0    6.575393     93.0\n",
       "1    8.248895    113.0\n",
       "2   64.299990    105.0\n",
       "3    3.174936    122.0\n",
       "4    1.148070    118.0"
      ]
     },
     "execution_count": 13,
     "metadata": {},
     "output_type": "execute_result"
    }
   ],
   "source": [
    "train.select_dtypes(include='float64').head()"
   ]
  },
  {
   "cell_type": "code",
   "execution_count": 14,
   "metadata": {},
   "outputs": [
    {
     "data": {
      "text/html": [
       "<div>\n",
       "<style scoped>\n",
       "    .dataframe tbody tr th:only-of-type {\n",
       "        vertical-align: middle;\n",
       "    }\n",
       "\n",
       "    .dataframe tbody tr th {\n",
       "        vertical-align: top;\n",
       "    }\n",
       "\n",
       "    .dataframe thead th {\n",
       "        text-align: right;\n",
       "    }\n",
       "</style>\n",
       "<table border=\"1\" class=\"dataframe\">\n",
       "  <thead>\n",
       "    <tr style=\"text-align: right;\">\n",
       "      <th></th>\n",
       "      <th>belongs_to_collection</th>\n",
       "      <th>genres</th>\n",
       "      <th>homepage</th>\n",
       "      <th>imdb_id</th>\n",
       "      <th>original_language</th>\n",
       "      <th>original_title</th>\n",
       "      <th>overview</th>\n",
       "      <th>poster_path</th>\n",
       "      <th>production_companies</th>\n",
       "      <th>production_countries</th>\n",
       "      <th>release_date</th>\n",
       "      <th>spoken_languages</th>\n",
       "      <th>status</th>\n",
       "      <th>tagline</th>\n",
       "      <th>title</th>\n",
       "      <th>Keywords</th>\n",
       "      <th>cast</th>\n",
       "      <th>crew</th>\n",
       "    </tr>\n",
       "  </thead>\n",
       "  <tbody>\n",
       "    <tr>\n",
       "      <th>0</th>\n",
       "      <td>[{'id': 313576, 'name': 'Hot Tub Time Machine ...</td>\n",
       "      <td>[{'id': 35, 'name': 'Comedy'}]</td>\n",
       "      <td>NaN</td>\n",
       "      <td>tt2637294</td>\n",
       "      <td>en</td>\n",
       "      <td>Hot Tub Time Machine 2</td>\n",
       "      <td>When Lou, who has become the \"father of the In...</td>\n",
       "      <td>/tQtWuwvMf0hCc2QR2tkolwl7c3c.jpg</td>\n",
       "      <td>[{'name': 'Paramount Pictures', 'id': 4}, {'na...</td>\n",
       "      <td>[{'iso_3166_1': 'US', 'name': 'United States o...</td>\n",
       "      <td>2/20/15</td>\n",
       "      <td>[{'iso_639_1': 'en', 'name': 'English'}]</td>\n",
       "      <td>Released</td>\n",
       "      <td>The Laws of Space and Time are About to be Vio...</td>\n",
       "      <td>Hot Tub Time Machine 2</td>\n",
       "      <td>[{'id': 4379, 'name': 'time travel'}, {'id': 9...</td>\n",
       "      <td>[{'cast_id': 4, 'character': 'Lou', 'credit_id...</td>\n",
       "      <td>[{'credit_id': '59ac067c92514107af02c8c8', 'de...</td>\n",
       "    </tr>\n",
       "    <tr>\n",
       "      <th>1</th>\n",
       "      <td>[{'id': 107674, 'name': 'The Princess Diaries ...</td>\n",
       "      <td>[{'id': 35, 'name': 'Comedy'}, {'id': 18, 'nam...</td>\n",
       "      <td>NaN</td>\n",
       "      <td>tt0368933</td>\n",
       "      <td>en</td>\n",
       "      <td>The Princess Diaries 2: Royal Engagement</td>\n",
       "      <td>Mia Thermopolis is now a college graduate and ...</td>\n",
       "      <td>/w9Z7A0GHEhIp7etpj0vyKOeU1Wx.jpg</td>\n",
       "      <td>[{'name': 'Walt Disney Pictures', 'id': 2}]</td>\n",
       "      <td>[{'iso_3166_1': 'US', 'name': 'United States o...</td>\n",
       "      <td>8/6/04</td>\n",
       "      <td>[{'iso_639_1': 'en', 'name': 'English'}]</td>\n",
       "      <td>Released</td>\n",
       "      <td>It can take a lifetime to find true love; she'...</td>\n",
       "      <td>The Princess Diaries 2: Royal Engagement</td>\n",
       "      <td>[{'id': 2505, 'name': 'coronation'}, {'id': 42...</td>\n",
       "      <td>[{'cast_id': 1, 'character': 'Mia Thermopolis'...</td>\n",
       "      <td>[{'credit_id': '52fe43fe9251416c7502563d', 'de...</td>\n",
       "    </tr>\n",
       "    <tr>\n",
       "      <th>2</th>\n",
       "      <td>NaN</td>\n",
       "      <td>[{'id': 18, 'name': 'Drama'}]</td>\n",
       "      <td>http://sonyclassics.com/whiplash/</td>\n",
       "      <td>tt2582802</td>\n",
       "      <td>en</td>\n",
       "      <td>Whiplash</td>\n",
       "      <td>Under the direction of a ruthless instructor, ...</td>\n",
       "      <td>/lIv1QinFqz4dlp5U4lQ6HaiskOZ.jpg</td>\n",
       "      <td>[{'name': 'Bold Films', 'id': 2266}, {'name': ...</td>\n",
       "      <td>[{'iso_3166_1': 'US', 'name': 'United States o...</td>\n",
       "      <td>10/10/14</td>\n",
       "      <td>[{'iso_639_1': 'en', 'name': 'English'}]</td>\n",
       "      <td>Released</td>\n",
       "      <td>The road to greatness can take you to the edge.</td>\n",
       "      <td>Whiplash</td>\n",
       "      <td>[{'id': 1416, 'name': 'jazz'}, {'id': 1523, 'n...</td>\n",
       "      <td>[{'cast_id': 5, 'character': 'Andrew Neimann',...</td>\n",
       "      <td>[{'credit_id': '54d5356ec3a3683ba0000039', 'de...</td>\n",
       "    </tr>\n",
       "    <tr>\n",
       "      <th>3</th>\n",
       "      <td>NaN</td>\n",
       "      <td>[{'id': 53, 'name': 'Thriller'}, {'id': 18, 'n...</td>\n",
       "      <td>http://kahaanithefilm.com/</td>\n",
       "      <td>tt1821480</td>\n",
       "      <td>hi</td>\n",
       "      <td>Kahaani</td>\n",
       "      <td>Vidya Bagchi (Vidya Balan) arrives in Kolkata ...</td>\n",
       "      <td>/aTXRaPrWSinhcmCrcfJK17urp3F.jpg</td>\n",
       "      <td>NaN</td>\n",
       "      <td>[{'iso_3166_1': 'IN', 'name': 'India'}]</td>\n",
       "      <td>3/9/12</td>\n",
       "      <td>[{'iso_639_1': 'en', 'name': 'English'}, {'iso...</td>\n",
       "      <td>Released</td>\n",
       "      <td>NaN</td>\n",
       "      <td>Kahaani</td>\n",
       "      <td>[{'id': 10092, 'name': 'mystery'}, {'id': 1054...</td>\n",
       "      <td>[{'cast_id': 1, 'character': 'Vidya Bagchi', '...</td>\n",
       "      <td>[{'credit_id': '52fe48779251416c9108d6eb', 'de...</td>\n",
       "    </tr>\n",
       "    <tr>\n",
       "      <th>4</th>\n",
       "      <td>NaN</td>\n",
       "      <td>[{'id': 28, 'name': 'Action'}, {'id': 53, 'nam...</td>\n",
       "      <td>NaN</td>\n",
       "      <td>tt1380152</td>\n",
       "      <td>ko</td>\n",
       "      <td>마린보이</td>\n",
       "      <td>Marine Boy is the story of a former national s...</td>\n",
       "      <td>/m22s7zvkVFDU9ir56PiiqIEWFdT.jpg</td>\n",
       "      <td>NaN</td>\n",
       "      <td>[{'iso_3166_1': 'KR', 'name': 'South Korea'}]</td>\n",
       "      <td>2/5/09</td>\n",
       "      <td>[{'iso_639_1': 'ko', 'name': '한국어/조선말'}]</td>\n",
       "      <td>Released</td>\n",
       "      <td>NaN</td>\n",
       "      <td>Marine Boy</td>\n",
       "      <td>NaN</td>\n",
       "      <td>[{'cast_id': 3, 'character': 'Chun-soo', 'cred...</td>\n",
       "      <td>[{'credit_id': '52fe464b9251416c75073b43', 'de...</td>\n",
       "    </tr>\n",
       "  </tbody>\n",
       "</table>\n",
       "</div>"
      ],
      "text/plain": [
       "                               belongs_to_collection  \\\n",
       "0  [{'id': 313576, 'name': 'Hot Tub Time Machine ...   \n",
       "1  [{'id': 107674, 'name': 'The Princess Diaries ...   \n",
       "2                                                NaN   \n",
       "3                                                NaN   \n",
       "4                                                NaN   \n",
       "\n",
       "                                              genres  \\\n",
       "0                     [{'id': 35, 'name': 'Comedy'}]   \n",
       "1  [{'id': 35, 'name': 'Comedy'}, {'id': 18, 'nam...   \n",
       "2                      [{'id': 18, 'name': 'Drama'}]   \n",
       "3  [{'id': 53, 'name': 'Thriller'}, {'id': 18, 'n...   \n",
       "4  [{'id': 28, 'name': 'Action'}, {'id': 53, 'nam...   \n",
       "\n",
       "                            homepage    imdb_id original_language  \\\n",
       "0                                NaN  tt2637294                en   \n",
       "1                                NaN  tt0368933                en   \n",
       "2  http://sonyclassics.com/whiplash/  tt2582802                en   \n",
       "3         http://kahaanithefilm.com/  tt1821480                hi   \n",
       "4                                NaN  tt1380152                ko   \n",
       "\n",
       "                             original_title  \\\n",
       "0                    Hot Tub Time Machine 2   \n",
       "1  The Princess Diaries 2: Royal Engagement   \n",
       "2                                  Whiplash   \n",
       "3                                   Kahaani   \n",
       "4                                      마린보이   \n",
       "\n",
       "                                            overview  \\\n",
       "0  When Lou, who has become the \"father of the In...   \n",
       "1  Mia Thermopolis is now a college graduate and ...   \n",
       "2  Under the direction of a ruthless instructor, ...   \n",
       "3  Vidya Bagchi (Vidya Balan) arrives in Kolkata ...   \n",
       "4  Marine Boy is the story of a former national s...   \n",
       "\n",
       "                        poster_path  \\\n",
       "0  /tQtWuwvMf0hCc2QR2tkolwl7c3c.jpg   \n",
       "1  /w9Z7A0GHEhIp7etpj0vyKOeU1Wx.jpg   \n",
       "2  /lIv1QinFqz4dlp5U4lQ6HaiskOZ.jpg   \n",
       "3  /aTXRaPrWSinhcmCrcfJK17urp3F.jpg   \n",
       "4  /m22s7zvkVFDU9ir56PiiqIEWFdT.jpg   \n",
       "\n",
       "                                production_companies  \\\n",
       "0  [{'name': 'Paramount Pictures', 'id': 4}, {'na...   \n",
       "1        [{'name': 'Walt Disney Pictures', 'id': 2}]   \n",
       "2  [{'name': 'Bold Films', 'id': 2266}, {'name': ...   \n",
       "3                                                NaN   \n",
       "4                                                NaN   \n",
       "\n",
       "                                production_countries release_date  \\\n",
       "0  [{'iso_3166_1': 'US', 'name': 'United States o...      2/20/15   \n",
       "1  [{'iso_3166_1': 'US', 'name': 'United States o...       8/6/04   \n",
       "2  [{'iso_3166_1': 'US', 'name': 'United States o...     10/10/14   \n",
       "3            [{'iso_3166_1': 'IN', 'name': 'India'}]       3/9/12   \n",
       "4      [{'iso_3166_1': 'KR', 'name': 'South Korea'}]       2/5/09   \n",
       "\n",
       "                                    spoken_languages    status  \\\n",
       "0           [{'iso_639_1': 'en', 'name': 'English'}]  Released   \n",
       "1           [{'iso_639_1': 'en', 'name': 'English'}]  Released   \n",
       "2           [{'iso_639_1': 'en', 'name': 'English'}]  Released   \n",
       "3  [{'iso_639_1': 'en', 'name': 'English'}, {'iso...  Released   \n",
       "4           [{'iso_639_1': 'ko', 'name': '한국어/조선말'}]  Released   \n",
       "\n",
       "                                             tagline  \\\n",
       "0  The Laws of Space and Time are About to be Vio...   \n",
       "1  It can take a lifetime to find true love; she'...   \n",
       "2    The road to greatness can take you to the edge.   \n",
       "3                                                NaN   \n",
       "4                                                NaN   \n",
       "\n",
       "                                      title  \\\n",
       "0                    Hot Tub Time Machine 2   \n",
       "1  The Princess Diaries 2: Royal Engagement   \n",
       "2                                  Whiplash   \n",
       "3                                   Kahaani   \n",
       "4                                Marine Boy   \n",
       "\n",
       "                                            Keywords  \\\n",
       "0  [{'id': 4379, 'name': 'time travel'}, {'id': 9...   \n",
       "1  [{'id': 2505, 'name': 'coronation'}, {'id': 42...   \n",
       "2  [{'id': 1416, 'name': 'jazz'}, {'id': 1523, 'n...   \n",
       "3  [{'id': 10092, 'name': 'mystery'}, {'id': 1054...   \n",
       "4                                                NaN   \n",
       "\n",
       "                                                cast  \\\n",
       "0  [{'cast_id': 4, 'character': 'Lou', 'credit_id...   \n",
       "1  [{'cast_id': 1, 'character': 'Mia Thermopolis'...   \n",
       "2  [{'cast_id': 5, 'character': 'Andrew Neimann',...   \n",
       "3  [{'cast_id': 1, 'character': 'Vidya Bagchi', '...   \n",
       "4  [{'cast_id': 3, 'character': 'Chun-soo', 'cred...   \n",
       "\n",
       "                                                crew  \n",
       "0  [{'credit_id': '59ac067c92514107af02c8c8', 'de...  \n",
       "1  [{'credit_id': '52fe43fe9251416c7502563d', 'de...  \n",
       "2  [{'credit_id': '54d5356ec3a3683ba0000039', 'de...  \n",
       "3  [{'credit_id': '52fe48779251416c9108d6eb', 'de...  \n",
       "4  [{'credit_id': '52fe464b9251416c75073b43', 'de...  "
      ]
     },
     "execution_count": 14,
     "metadata": {},
     "output_type": "execute_result"
    }
   ],
   "source": [
    "train.select_dtypes(include='object').head()"
   ]
  },
  {
   "cell_type": "code",
   "execution_count": 15,
   "metadata": {},
   "outputs": [
    {
     "data": {
      "text/plain": [
       "belongs_to_collection    2396\n",
       "genres                      7\n",
       "homepage                 2054\n",
       "overview                    8\n",
       "poster_path                 1\n",
       "production_companies      156\n",
       "production_countries       55\n",
       "runtime                     2\n",
       "spoken_languages           20\n",
       "tagline                   597\n",
       "Keywords                  276\n",
       "cast                       13\n",
       "crew                       16\n",
       "dtype: int64"
      ]
     },
     "execution_count": 15,
     "metadata": {},
     "output_type": "execute_result"
    }
   ],
   "source": [
    "train.isnull().sum()[train.isnull().sum()>0]"
   ]
  },
  {
   "cell_type": "code",
   "execution_count": 16,
   "metadata": {},
   "outputs": [],
   "source": [
    "train.belongs_to_collection = train.belongs_to_collection.fillna(\"unknow\")\n",
    "test.belongs_to_collection = test.belongs_to_collection.fillna(\"unknow\")"
   ]
  },
  {
   "cell_type": "code",
   "execution_count": 17,
   "metadata": {},
   "outputs": [],
   "source": [
    "train.genres = train.genres.fillna(\"unknow\")\n",
    "test.genres = test.genres.fillna(\"unknow\")"
   ]
  },
  {
   "cell_type": "code",
   "execution_count": 18,
   "metadata": {},
   "outputs": [],
   "source": [
    "train.homepage = train.homepage.fillna(\"unknow\")\n",
    "test.homepage = test.homepage.fillna(\"unknow\")"
   ]
  },
  {
   "cell_type": "code",
   "execution_count": 19,
   "metadata": {},
   "outputs": [],
   "source": [
    "train.overview = train.overview.fillna(\"unknow\")\n",
    "test.overview = test.overview.fillna(\"unknow\")"
   ]
  },
  {
   "cell_type": "code",
   "execution_count": 20,
   "metadata": {},
   "outputs": [],
   "source": [
    "train.poster_path = train.poster_path.fillna(\"unknow\")\n",
    "test.poster_path = test.poster_path.fillna(\"unknow\")"
   ]
  },
  {
   "cell_type": "code",
   "execution_count": 21,
   "metadata": {},
   "outputs": [],
   "source": [
    "train.production_companies = train.production_companies.fillna(\"unknow\")\n",
    "test.production_companies = test.production_companies.fillna(\"unknow\")"
   ]
  },
  {
   "cell_type": "code",
   "execution_count": 22,
   "metadata": {},
   "outputs": [],
   "source": [
    "train.production_countries = train.production_countries.fillna(\"unknow\")\n",
    "test.production_countries = test.production_countries.fillna(\"unknow\")"
   ]
  },
  {
   "cell_type": "code",
   "execution_count": 23,
   "metadata": {},
   "outputs": [],
   "source": [
    "train.runtime = train.runtime.fillna(train.runtime.mean())\n",
    "test.runtime = test.runtime.fillna(train.runtime.mean())"
   ]
  },
  {
   "cell_type": "code",
   "execution_count": 32,
   "metadata": {},
   "outputs": [],
   "source": [
    "train.spoken_languages = train.spoken_languages.fillna(\"unknow\")\n",
    "test.spoken_languages = test.spoken_languages.fillna(\"unknow\")"
   ]
  },
  {
   "cell_type": "code",
   "execution_count": 25,
   "metadata": {},
   "outputs": [],
   "source": [
    "train.tagline = train.tagline.fillna(\"unknow\")\n",
    "test.tagline = test.tagline.fillna(\"unknow\")"
   ]
  },
  {
   "cell_type": "code",
   "execution_count": 26,
   "metadata": {},
   "outputs": [],
   "source": [
    "train.Keywords = train.Keywords.fillna(\"unknow\")\n",
    "test.Keywords = test.Keywords.fillna(\"unknow\")"
   ]
  },
  {
   "cell_type": "code",
   "execution_count": 27,
   "metadata": {},
   "outputs": [],
   "source": [
    "train.cast = train.cast.fillna(\"unknow\")\n",
    "test.cast = test.cast.fillna(\"unknow\")"
   ]
  },
  {
   "cell_type": "code",
   "execution_count": 28,
   "metadata": {},
   "outputs": [],
   "source": [
    "train.crew = train.crew.fillna(\"unknow\")\n",
    "test.crew = test.crew.fillna(\"unknow\")"
   ]
  },
  {
   "cell_type": "code",
   "execution_count": 29,
   "metadata": {},
   "outputs": [],
   "source": [
    "warnings.filterwarnings(action=\"ignore\")"
   ]
  },
  {
   "cell_type": "code",
   "execution_count": 31,
   "metadata": {},
   "outputs": [
    {
     "data": {
      "text/plain": [
       "\"plt.figure(figsize=[12, 12])\\nplt.subplot(3, 3, 1)\\nsns.barplot('budget', 'revenue', data=train)\\nplt.subplot(3, 3, 2)\\nsns.barplot('popularity', 'revenue', data=train)\\nplt.subplot(3, 3, 3)\\nsns.barplot('runtime', 'revenue', data=train)\\nplt.subplot(3, 3, 4)\\nsns.barplot('genres', 'revenue', data=train)\\nplt.subplot(3, 3, 5)\\nsns.barplot('cast', 'revenue', data=train)\\nplt.subplot(3, 3, 6)\\nsns.barplot('Keywords', 'revenue', data=train)\\nplt.subplot(3, 3, 7)\\nsns.barplot('title', 'revenue', data=train)\\nplt.subplot(3, 3, 8)\\nsns.barplot('tagline', 'revenue', data=train)\\nplt.subplot(3, 3, 9)\\nsns.barplot('status', 'revenue', data=train)\""
      ]
     },
     "execution_count": 31,
     "metadata": {},
     "output_type": "execute_result"
    }
   ],
   "source": [
    "\"\"\"plt.figure(figsize=[12, 12])\n",
    "plt.subplot(3, 3, 1)\n",
    "sns.barplot('budget', 'revenue', data=train)\n",
    "plt.subplot(3, 3, 2)\n",
    "sns.barplot('popularity', 'revenue', data=train)\n",
    "plt.subplot(3, 3, 3)\n",
    "sns.barplot('runtime', 'revenue', data=train)\n",
    "plt.subplot(3, 3, 4)\n",
    "sns.barplot('genres', 'revenue', data=train)\n",
    "plt.subplot(3, 3, 5)\n",
    "sns.barplot('cast', 'revenue', data=train)\n",
    "plt.subplot(3, 3, 6)\n",
    "sns.barplot('Keywords', 'revenue', data=train)\n",
    "plt.subplot(3, 3, 7)\n",
    "sns.barplot('title', 'revenue', data=train)\n",
    "plt.subplot(3, 3, 8)\n",
    "sns.barplot('tagline', 'revenue', data=train)\n",
    "plt.subplot(3, 3, 9)\n",
    "sns.barplot('status', 'revenue', data=train)\"\"\""
   ]
  },
  {
   "cell_type": "code",
   "execution_count": null,
   "metadata": {},
   "outputs": [],
   "source": [
    "plt.figure(figsize=[12, 12])\n",
    "plt.subplot(3, 3, 1)\n",
    "#sns.barplot('budget', 'revenue', data=train)\n",
    "plt.subplot(3, 3, 2)\n",
    "plt.subplot(3, 3, 3)\n",
    "plt.subplot(3, 3, 4)\n",
    "plt.subplot(3, 3, 5)\n",
    "plt.subplot(3, 3, 6)\n",
    "plt.subplot(3, 3, 7)\n",
    "plt.subplot(3, 3, 8)\n",
    "plt.subplot(3, 3, 9)"
   ]
  },
  {
   "cell_type": "code",
   "execution_count": null,
   "metadata": {},
   "outputs": [],
   "source": [
    "plt.figure(figsize=[12, 12])\n",
    "plt.subplot(3, 3, 1)\n",
    "#sns.barplot('budget', 'revenue', data=train)\n",
    "plt.subplot(3, 3, 2)\n",
    "plt.subplot(3, 3, 3)"
   ]
  },
  {
   "cell_type": "code",
   "execution_count": 33,
   "metadata": {},
   "outputs": [
    {
     "data": {
      "text/plain": [
       "<matplotlib.axes._subplots.AxesSubplot at 0x20958dd3780>"
      ]
     },
     "execution_count": 33,
     "metadata": {},
     "output_type": "execute_result"
    },
    {
     "data": {
      "image/png": "[encoded data removed]",
      "text/plain": [
       "<Figure size 432x288 with 1 Axes>"
      ]
     },
     "metadata": {
      "needs_background": "light"
     },
     "output_type": "display_data"
    }
   ],
   "source": [
    "sns.barplot('budget', 'revenue', data=train)"
   ]
  },
  {
   "cell_type": "code",
   "execution_count": 35,
   "metadata": {},
   "outputs": [
    {
     "data": {
      "text/plain": [
       "<matplotlib.axes._subplots.AxesSubplot at 0x2095d345390>"
      ]
     },
     "execution_count": 35,
     "metadata": {},
     "output_type": "execute_result"
    },
    {
     "data": {
      "image/png": "[encoded data removed]",
      "text/plain": [
       "<Figure size 432x288 with 1 Axes>"
      ]
     },
     "metadata": {
      "needs_background": "light"
     },
     "output_type": "display_data"
    }
   ],
   "source": [
    "sns.barplot('popularity', 'revenue', data=train)"
   ]
  },
  {
   "cell_type": "code",
   "execution_count": 36,
   "metadata": {},
   "outputs": [
    {
     "data": {
      "text/plain": [
       "<matplotlib.axes._subplots.AxesSubplot at 0x20953142320>"
      ]
     },
     "execution_count": 36,
     "metadata": {},
     "output_type": "execute_result"
    },
    {
     "data": {
      "image/png": "[encoded data removed]",
      "text/plain": [
       "<Figure size 432x288 with 1 Axes>"
      ]
     },
     "metadata": {
      "needs_background": "light"
     },
     "output_type": "display_data"
    }
   ],
   "source": [
    "sns.barplot('runtime', 'revenue', data=train)"
   ]
  },
  {
   "cell_type": "code",
   "execution_count": 37,
   "metadata": {},
   "outputs": [
    {
     "data": {
      "text/plain": [
       "<matplotlib.axes._subplots.AxesSubplot at 0x20964a30278>"
      ]
     },
     "execution_count": 37,
     "metadata": {},
     "output_type": "execute_result"
    },
    {
     "data": {
      "image/png": "[encoded data removed]",
      "text/plain": [
       "<Figure size 432x288 with 1 Axes>"
      ]
     },
     "metadata": {
      "needs_background": "light"
     },
     "output_type": "display_data"
    }
   ],
   "source": [
    "sns.barplot('original_language', 'revenue', data=train)"
   ]
  },
  {
   "cell_type": "code",
   "execution_count": 38,
   "metadata": {},
   "outputs": [
    {
     "data": {
      "text/plain": [
       "<matplotlib.axes._subplots.AxesSubplot at 0x20964dc3e10>"
      ]
     },
     "execution_count": 38,
     "metadata": {},
     "output_type": "execute_result"
    },
    {
     "data": {
      "image/png": "[encoded data removed]",
      "text/plain": [
       "<Figure size 432x288 with 1 Axes>"
      ]
     },
     "metadata": {
      "needs_background": "light"
     },
     "output_type": "display_data"
    }
   ],
   "source": [
    "sns.barplot('status', 'revenue', data=train)"
   ]
  },
  {
   "cell_type": "code",
   "execution_count": 43,
   "metadata": {},
   "outputs": [],
   "source": [
    "train['tagline2'] = train.tagline.apply(lambda x: len(x))"
   ]
  },
  {
   "cell_type": "code",
   "execution_count": 45,
   "metadata": {},
   "outputs": [
    {
     "data": {
      "text/plain": [
       "<matplotlib.axes._subplots.AxesSubplot at 0x20964f64710>"
      ]
     },
     "execution_count": 45,
     "metadata": {},
     "output_type": "execute_result"
    },
    {
     "data": {
      "image/png": "[encoded data removed]",
      "text/plain": [
       "<Figure size 432x288 with 1 Axes>"
      ]
     },
     "metadata": {
      "needs_background": "light"
     },
     "output_type": "display_data"
    }
   ],
   "source": [
    "sns.barplot('tagline2', 'revenue', data=train)"
   ]
  },
  {
   "cell_type": "code",
   "execution_count": 59,
   "metadata": {},
   "outputs": [
    {
     "data": {
      "text/plain": [
       "[\"[{'iso_639_1'\",\n",
       " \" 'en', 'name'\",\n",
       " \" 'English'}, {'iso_639_1'\",\n",
       " \" 'hi', 'name'\",\n",
       " \" 'हिन्दी'}]\"]"
      ]
     },
     "execution_count": 59,
     "metadata": {},
     "output_type": "execute_result"
    }
   ],
   "source": [
    "train.spoken_languages[3].split(':')"
   ]
  },
  {
   "cell_type": "code",
   "execution_count": 74,
   "metadata": {},
   "outputs": [
    {
     "data": {
      "text/plain": [
       "'iso_639_1'"
      ]
     },
     "execution_count": 74,
     "metadata": {},
     "output_type": "execute_result"
    }
   ],
   "source": [
    "train.spoken_languages[3].split(':')[0].strip('[' + '{' + \"'\")"
   ]
  },
  {
   "cell_type": "code",
   "execution_count": 83,
   "metadata": {},
   "outputs": [
    {
     "data": {
      "text/plain": [
       "'en'"
      ]
     },
     "execution_count": 83,
     "metadata": {},
     "output_type": "execute_result"
    }
   ],
   "source": [
    "train.spoken_languages[0].split(':')[1].split(',')[0].strip(\" \"+\"'\"+\"'\")"
   ]
  },
  {
   "cell_type": "code",
   "execution_count": 136,
   "metadata": {},
   "outputs": [],
   "source": [
    "train['spoken_languages2']= train.spoken_languages.apply(lambda x: x.split(':')[0].strip('[' + '{' + \"'\"))"
   ]
  },
  {
   "cell_type": "code",
   "execution_count": 87,
   "metadata": {},
   "outputs": [
    {
     "data": {
      "text/plain": [
       "iso_639_1    2980\n",
       "unknow         20\n",
       "Name: spoken_languages, dtype: int64"
      ]
     },
     "execution_count": 87,
     "metadata": {},
     "output_type": "execute_result"
    }
   ],
   "source": [
    "train.spoken_languages2.value_counts()"
   ]
  },
  {
   "cell_type": "code",
   "execution_count": 95,
   "metadata": {},
   "outputs": [
    {
     "data": {
      "text/plain": [
       "\"[{'iso_639_1': 'en', 'name': 'English'}, {'iso_639_1': 'hi', 'name': 'हिन्दी'}]\""
      ]
     },
     "execution_count": 95,
     "metadata": {},
     "output_type": "execute_result"
    }
   ],
   "source": [
    "train.spoken_languages[3]"
   ]
  },
  {
   "cell_type": "code",
   "execution_count": 97,
   "metadata": {},
   "outputs": [
    {
     "data": {
      "text/plain": [
       "79"
      ]
     },
     "execution_count": 97,
     "metadata": {},
     "output_type": "execute_result"
    }
   ],
   "source": [
    "len(train.spoken_languages[3])"
   ]
  },
  {
   "cell_type": "code",
   "execution_count": 139,
   "metadata": {},
   "outputs": [],
   "source": [
    "train['spoken_languages2'] = train.spoken_languages.apply(lambda x: len(x)//50)"
   ]
  },
  {
   "cell_type": "code",
   "execution_count": 125,
   "metadata": {},
   "outputs": [
    {
     "data": {
      "text/plain": [
       "0    2125\n",
       "1     549\n",
       "2     218\n",
       "3      80\n",
       "4      19\n",
       "5       6\n",
       "6       2\n",
       "7       1\n",
       "Name: spoken_languages, dtype: int64"
      ]
     },
     "execution_count": 125,
     "metadata": {},
     "output_type": "execute_result"
    }
   ],
   "source": [
    "train.spoken_languages2.value_counts()"
   ]
  },
  {
   "cell_type": "code",
   "execution_count": 140,
   "metadata": {},
   "outputs": [
    {
     "data": {
      "text/plain": [
       "<matplotlib.axes._subplots.AxesSubplot at 0x20966404390>"
      ]
     },
     "execution_count": 140,
     "metadata": {},
     "output_type": "execute_result"
    },
    {
     "data": {
      "image/png": "[encoded data removed]",
      "text/plain": [
       "<Figure size 432x288 with 1 Axes>"
      ]
     },
     "metadata": {
      "needs_background": "light"
     },
     "output_type": "display_data"
    }
   ],
   "source": [
    "sns.barplot('spoken_languages2', 'revenue', data=train)"
   ]
  },
  {
   "cell_type": "code",
   "execution_count": 367,
   "metadata": {},
   "outputs": [],
   "source": [
    "train['spoken_languages2'] = train.spoken_languages.apply(lambda x: x.count('name'))"
   ]
  },
  {
   "cell_type": "code",
   "execution_count": 368,
   "metadata": {},
   "outputs": [
    {
     "data": {
      "text/plain": [
       "1    2105\n",
       "2     549\n",
       "3     216\n",
       "4      72\n",
       "5      23\n",
       "0      20\n",
       "7       6\n",
       "6       6\n",
       "8       2\n",
       "9       1\n",
       "Name: spoken_languages2, dtype: int64"
      ]
     },
     "execution_count": 368,
     "metadata": {},
     "output_type": "execute_result"
    }
   ],
   "source": [
    "train['spoken_languages2'].value_counts()"
   ]
  },
  {
   "cell_type": "code",
   "execution_count": 369,
   "metadata": {},
   "outputs": [
    {
     "data": {
      "text/plain": [
       "<matplotlib.axes._subplots.AxesSubplot at 0x209691070f0>"
      ]
     },
     "execution_count": 369,
     "metadata": {},
     "output_type": "execute_result"
    },
    {
     "data": {
      "image/png": "[encoded data removed]",
      "text/plain": [
       "<Figure size 432x288 with 1 Axes>"
      ]
     },
     "metadata": {
      "needs_background": "light"
     },
     "output_type": "display_data"
    }
   ],
   "source": [
    "sns.barplot('spoken_languages2', 'revenue', data=train)"
   ]
  },
  {
   "cell_type": "code",
   "execution_count": 141,
   "metadata": {},
   "outputs": [
    {
     "data": {
      "text/plain": [
       "0        2/20/15\n",
       "1         8/6/04\n",
       "2       10/10/14\n",
       "3         3/9/12\n",
       "4         2/5/09\n",
       "5         8/6/87\n",
       "6        8/30/12\n",
       "7        1/15/04\n",
       "8        2/16/96\n",
       "9        4/16/03\n",
       "10      11/21/76\n",
       "11       7/10/87\n",
       "12       9/15/99\n",
       "13        3/4/05\n",
       "14       6/20/02\n",
       "15       10/6/10\n",
       "16        8/4/05\n",
       "17      12/25/13\n",
       "18        2/2/11\n",
       "19        8/2/05\n",
       "20        4/3/98\n",
       "21       8/13/82\n",
       "22       7/28/12\n",
       "23        9/2/11\n",
       "24        9/9/06\n",
       "25      10/23/92\n",
       "26        9/8/97\n",
       "27        9/7/13\n",
       "28        8/8/86\n",
       "29        4/7/02\n",
       "          ...   \n",
       "2970    11/25/92\n",
       "2971    10/12/90\n",
       "2972     7/27/06\n",
       "2973      8/9/85\n",
       "2974     1/28/05\n",
       "2975     7/31/09\n",
       "2976      3/3/00\n",
       "2977     5/15/01\n",
       "2978    10/23/98\n",
       "2979     4/23/10\n",
       "2980      2/4/16\n",
       "2981      9/9/16\n",
       "2982     9/12/12\n",
       "2983      4/4/97\n",
       "2984      8/8/03\n",
       "2985     2/17/06\n",
       "2986      9/3/04\n",
       "2987     1/20/89\n",
       "2988     5/20/02\n",
       "2989     5/11/01\n",
       "2990     3/28/97\n",
       "2991     1/12/01\n",
       "2992     3/18/24\n",
       "2993     6/17/04\n",
       "2994     9/18/92\n",
       "2995     4/22/94\n",
       "2996     3/28/13\n",
       "2997    10/11/96\n",
       "2998     1/16/04\n",
       "2999     9/22/11\n",
       "Name: release_date, Length: 3000, dtype: object"
      ]
     },
     "execution_count": 141,
     "metadata": {},
     "output_type": "execute_result"
    }
   ],
   "source": [
    "train.release_date"
   ]
  },
  {
   "cell_type": "code",
   "execution_count": 148,
   "metadata": {},
   "outputs": [
    {
     "data": {
      "text/plain": [
       "Timestamp('2015-02-20 00:00:00')"
      ]
     },
     "execution_count": 148,
     "metadata": {},
     "output_type": "execute_result"
    }
   ],
   "source": [
    "pd.to_datetime(train.release_date[0])"
   ]
  },
  {
   "cell_type": "code",
   "execution_count": 150,
   "metadata": {},
   "outputs": [
    {
     "data": {
      "text/plain": [
       "pandas._libs.tslibs.timestamps.Timestamp"
      ]
     },
     "execution_count": 150,
     "metadata": {},
     "output_type": "execute_result"
    }
   ],
   "source": [
    "type(pd.to_datetime(train.release_date[0]))"
   ]
  },
  {
   "cell_type": "code",
   "execution_count": 151,
   "metadata": {},
   "outputs": [],
   "source": [
    "t = pd.to_datetime(train.release_date[0])"
   ]
  },
  {
   "cell_type": "code",
   "execution_count": 152,
   "metadata": {},
   "outputs": [
    {
     "data": {
      "text/plain": [
       "Timestamp('2015-02-20 00:00:00')"
      ]
     },
     "execution_count": 152,
     "metadata": {},
     "output_type": "execute_result"
    }
   ],
   "source": [
    "t"
   ]
  },
  {
   "cell_type": "code",
   "execution_count": 155,
   "metadata": {},
   "outputs": [
    {
     "data": {
      "text/plain": [
       "2015"
      ]
     },
     "execution_count": 155,
     "metadata": {},
     "output_type": "execute_result"
    }
   ],
   "source": [
    "t.year"
   ]
  },
  {
   "cell_type": "code",
   "execution_count": 156,
   "metadata": {},
   "outputs": [
    {
     "data": {
      "text/plain": [
       "2015"
      ]
     },
     "execution_count": 156,
     "metadata": {},
     "output_type": "execute_result"
    }
   ],
   "source": [
    "pd.to_datetime(train.release_date[0]).year"
   ]
  },
  {
   "cell_type": "code",
   "execution_count": 158,
   "metadata": {},
   "outputs": [
    {
     "data": {
      "text/plain": [
       "2"
      ]
     },
     "execution_count": 158,
     "metadata": {},
     "output_type": "execute_result"
    }
   ],
   "source": [
    "pd.to_datetime(train.release_date[0]).month"
   ]
  },
  {
   "cell_type": "code",
   "execution_count": 159,
   "metadata": {},
   "outputs": [
    {
     "data": {
      "text/plain": [
       "20"
      ]
     },
     "execution_count": 159,
     "metadata": {},
     "output_type": "execute_result"
    }
   ],
   "source": [
    "pd.to_datetime(train.release_date[0]).day"
   ]
  },
  {
   "cell_type": "code",
   "execution_count": 161,
   "metadata": {},
   "outputs": [
    {
     "data": {
      "text/plain": [
       "4"
      ]
     },
     "execution_count": 161,
     "metadata": {},
     "output_type": "execute_result"
    }
   ],
   "source": [
    "pd.to_datetime(train.release_date[0]).weekday()"
   ]
  },
  {
   "cell_type": "code",
   "execution_count": 354,
   "metadata": {},
   "outputs": [],
   "source": [
    "train['release_date_year'] = train.release_date.apply(lambda x: pd.to_datetime(x).year)"
   ]
  },
  {
   "cell_type": "code",
   "execution_count": 355,
   "metadata": {},
   "outputs": [],
   "source": [
    "train['release_date_month'] = train.release_date.apply(lambda x: pd.to_datetime(x).month)"
   ]
  },
  {
   "cell_type": "code",
   "execution_count": 356,
   "metadata": {},
   "outputs": [],
   "source": [
    "train['release_date_day'] = train.release_date.apply(lambda x: pd.to_datetime(x).day)"
   ]
  },
  {
   "cell_type": "code",
   "execution_count": 357,
   "metadata": {},
   "outputs": [],
   "source": [
    "train['release_date_weekday'] = train.release_date.apply(lambda x: pd.to_datetime(x).weekday())"
   ]
  },
  {
   "cell_type": "code",
   "execution_count": 181,
   "metadata": {},
   "outputs": [
    {
     "data": {
      "text/plain": [
       "<matplotlib.axes._subplots.AxesSubplot at 0x20966485b00>"
      ]
     },
     "execution_count": 181,
     "metadata": {},
     "output_type": "execute_result"
    },
    {
     "data": {
      "image/png": "[encoded data removed]",
      "text/plain": [
       "<Figure size 432x288 with 1 Axes>"
      ]
     },
     "metadata": {
      "needs_background": "light"
     },
     "output_type": "display_data"
    }
   ],
   "source": [
    "sns.barplot('release_date_year', 'revenue', data=train)"
   ]
  },
  {
   "cell_type": "code",
   "execution_count": 182,
   "metadata": {},
   "outputs": [
    {
     "data": {
      "text/plain": [
       "<matplotlib.axes._subplots.AxesSubplot at 0x2095d474278>"
      ]
     },
     "execution_count": 182,
     "metadata": {},
     "output_type": "execute_result"
    },
    {
     "data": {
      "image/png": "[encoded data removed]",
      "text/plain": [
       "<Figure size 432x288 with 1 Axes>"
      ]
     },
     "metadata": {
      "needs_background": "light"
     },
     "output_type": "display_data"
    }
   ],
   "source": [
    "sns.barplot('release_date_month', 'revenue', data=train)"
   ]
  },
  {
   "cell_type": "code",
   "execution_count": 183,
   "metadata": {},
   "outputs": [
    {
     "data": {
      "text/plain": [
       "<matplotlib.axes._subplots.AxesSubplot at 0x209592b4128>"
      ]
     },
     "execution_count": 183,
     "metadata": {},
     "output_type": "execute_result"
    },
    {
     "data": {
      "image/png": "[encoded data removed]",
      "text/plain": [
       "<Figure size 432x288 with 1 Axes>"
      ]
     },
     "metadata": {
      "needs_background": "light"
     },
     "output_type": "display_data"
    }
   ],
   "source": [
    "sns.barplot('release_date_day', 'revenue', data=train)"
   ]
  },
  {
   "cell_type": "code",
   "execution_count": 184,
   "metadata": {},
   "outputs": [
    {
     "data": {
      "text/plain": [
       "<matplotlib.axes._subplots.AxesSubplot at 0x2095d747550>"
      ]
     },
     "execution_count": 184,
     "metadata": {},
     "output_type": "execute_result"
    },
    {
     "data": {
      "image/png": "[encoded data removed]",
      "text/plain": [
       "<Figure size 432x288 with 1 Axes>"
      ]
     },
     "metadata": {
      "needs_background": "light"
     },
     "output_type": "display_data"
    }
   ],
   "source": [
    "sns.barplot('release_date_weekday', 'revenue', data=train)"
   ]
  },
  {
   "cell_type": "code",
   "execution_count": 187,
   "metadata": {},
   "outputs": [
    {
     "data": {
      "text/plain": [
       "[{'iso_3166_1': 'US', 'name': 'United States of America'}]                                                                                                                                                                                                                                      1752\n",
       "[{'iso_3166_1': 'GB', 'name': 'United Kingdom'}, {'iso_3166_1': 'US', 'name': 'United States of America'}]                                                                                                                                                                                       118\n",
       "[{'iso_3166_1': 'GB', 'name': 'United Kingdom'}]                                                                                                                                                                                                                                                  94\n",
       "[{'iso_3166_1': 'IN', 'name': 'India'}]                                                                                                                                                                                                                                                           69\n",
       "unknow                                                                                                                                                                                                                                                                                            55\n",
       "[{'iso_3166_1': 'FR', 'name': 'France'}]                                                                                                                                                                                                                                                          51\n",
       "[{'iso_3166_1': 'CA', 'name': 'Canada'}, {'iso_3166_1': 'US', 'name': 'United States of America'}]                                                                                                                                                                                                48\n",
       "[{'iso_3166_1': 'DE', 'name': 'Germany'}, {'iso_3166_1': 'US', 'name': 'United States of America'}]                                                                                                                                                                                               47\n",
       "[{'iso_3166_1': 'RU', 'name': 'Russia'}]                                                                                                                                                                                                                                                          46\n",
       "[{'iso_3166_1': 'JP', 'name': 'Japan'}]                                                                                                                                                                                                                                                           31\n",
       "[{'iso_3166_1': 'FR', 'name': 'France'}, {'iso_3166_1': 'US', 'name': 'United States of America'}]                                                                                                                                                                                                28\n",
       "[{'iso_3166_1': 'AU', 'name': 'Australia'}, {'iso_3166_1': 'US', 'name': 'United States of America'}]                                                                                                                                                                                             21\n",
       "[{'iso_3166_1': 'CA', 'name': 'Canada'}]                                                                                                                                                                                                                                                          21\n",
       "[{'iso_3166_1': 'ES', 'name': 'Spain'}]                                                                                                                                                                                                                                                           19\n",
       "[{'iso_3166_1': 'KR', 'name': 'South Korea'}]                                                                                                                                                                                                                                                     18\n",
       "[{'iso_3166_1': 'AU', 'name': 'Australia'}]                                                                                                                                                                                                                                                       16\n",
       "[{'iso_3166_1': 'JP', 'name': 'Japan'}, {'iso_3166_1': 'US', 'name': 'United States of America'}]                                                                                                                                                                                                 16\n",
       "[{'iso_3166_1': 'FR', 'name': 'France'}, {'iso_3166_1': 'GB', 'name': 'United Kingdom'}]                                                                                                                                                                                                          16\n",
       "[{'iso_3166_1': 'IT', 'name': 'Italy'}]                                                                                                                                                                                                                                                           14\n",
       "[{'iso_3166_1': 'HK', 'name': 'Hong Kong'}]                                                                                                                                                                                                                                                       14\n",
       "[{'iso_3166_1': 'CN', 'name': 'China'}, {'iso_3166_1': 'HK', 'name': 'Hong Kong'}]                                                                                                                                                                                                                12\n",
       "[{'iso_3166_1': 'DE', 'name': 'Germany'}, {'iso_3166_1': 'GB', 'name': 'United Kingdom'}, {'iso_3166_1': 'US', 'name': 'United States of America'}]                                                                                                                                               12\n",
       "[{'iso_3166_1': 'DE', 'name': 'Germany'}]                                                                                                                                                                                                                                                         12\n",
       "[{'iso_3166_1': 'CN', 'name': 'China'}]                                                                                                                                                                                                                                                           11\n",
       "[{'iso_3166_1': 'US', 'name': 'United States of America'}, {'iso_3166_1': 'GB', 'name': 'United Kingdom'}]                                                                                                                                                                                        10\n",
       "[{'iso_3166_1': 'MX', 'name': 'Mexico'}, {'iso_3166_1': 'US', 'name': 'United States of America'}]                                                                                                                                                                                                 8\n",
       "[{'iso_3166_1': 'NZ', 'name': 'New Zealand'}, {'iso_3166_1': 'US', 'name': 'United States of America'}]                                                                                                                                                                                            7\n",
       "[{'iso_3166_1': 'US', 'name': 'United States of America'}, {'iso_3166_1': 'CA', 'name': 'Canada'}]                                                                                                                                                                                                 7\n",
       "[{'iso_3166_1': 'FR', 'name': 'France'}, {'iso_3166_1': 'IT', 'name': 'Italy'}]                                                                                                                                                                                                                    7\n",
       "[{'iso_3166_1': 'CA', 'name': 'Canada'}, {'iso_3166_1': 'DE', 'name': 'Germany'}, {'iso_3166_1': 'US', 'name': 'United States of America'}]                                                                                                                                                        6\n",
       "                                                                                                                                                                                                                                                                                                ... \n",
       "[{'iso_3166_1': 'SE', 'name': 'Sweden'}, {'iso_3166_1': 'DE', 'name': 'Germany'}, {'iso_3166_1': 'FR', 'name': 'France'}]                                                                                                                                                                          1\n",
       "[{'iso_3166_1': 'GB', 'name': 'United Kingdom'}, {'iso_3166_1': 'US', 'name': 'United States of America'}, {'iso_3166_1': 'CZ', 'name': 'Czech Republic'}, {'iso_3166_1': 'RO', 'name': 'Romania'}]                                                                                                1\n",
       "[{'iso_3166_1': 'US', 'name': 'United States of America'}, {'iso_3166_1': 'AT', 'name': 'Austria'}]                                                                                                                                                                                                1\n",
       "[{'iso_3166_1': 'ET', 'name': 'Ethiopia'}]                                                                                                                                                                                                                                                         1\n",
       "[{'iso_3166_1': 'GB', 'name': 'United Kingdom'}, {'iso_3166_1': 'DE', 'name': 'Germany'}, {'iso_3166_1': 'US', 'name': 'United States of America'}]                                                                                                                                                1\n",
       "[{'iso_3166_1': 'JP', 'name': 'Japan'}, {'iso_3166_1': 'GB', 'name': 'United Kingdom'}]                                                                                                                                                                                                            1\n",
       "[{'iso_3166_1': 'US', 'name': 'United States of America'}, {'iso_3166_1': 'GB', 'name': 'United Kingdom'}, {'iso_3166_1': 'DE', 'name': 'Germany'}]                                                                                                                                                1\n",
       "[{'iso_3166_1': 'IT', 'name': 'Italy'}, {'iso_3166_1': 'DZ', 'name': 'Algeria'}]                                                                                                                                                                                                                   1\n",
       "[{'iso_3166_1': 'JP', 'name': 'Japan'}, {'iso_3166_1': 'KR', 'name': 'South Korea'}]                                                                                                                                                                                                               1\n",
       "[{'iso_3166_1': 'BA', 'name': 'Bosnia and Herzegovina'}, {'iso_3166_1': 'TR', 'name': 'Turkey'}]                                                                                                                                                                                                   1\n",
       "[{'iso_3166_1': 'IE', 'name': 'Ireland'}, {'iso_3166_1': 'LU', 'name': 'Luxembourg'}, {'iso_3166_1': 'RU', 'name': 'Russia'}, {'iso_3166_1': 'GB', 'name': 'United Kingdom'}, {'iso_3166_1': 'US', 'name': 'United States of America'}]                                                            1\n",
       "[{'iso_3166_1': 'DK', 'name': 'Denmark'}, {'iso_3166_1': 'GB', 'name': 'United Kingdom'}, {'iso_3166_1': 'ZA', 'name': 'South Africa'}, {'iso_3166_1': 'SE', 'name': 'Sweden'}, {'iso_3166_1': 'BE', 'name': 'Belgium'}]                                                                           1\n",
       "[{'iso_3166_1': 'IR', 'name': 'Iran'}, {'iso_3166_1': 'FR', 'name': 'France'}]                                                                                                                                                                                                                     1\n",
       "[{'iso_3166_1': 'CA', 'name': 'Canada'}, {'iso_3166_1': 'FR', 'name': 'France'}, {'iso_3166_1': 'BE', 'name': 'Belgium'}]                                                                                                                                                                          1\n",
       "[{'iso_3166_1': 'IN', 'name': 'India'}, {'iso_3166_1': 'CH', 'name': 'Switzerland'}]                                                                                                                                                                                                               1\n",
       "[{'iso_3166_1': 'ZA', 'name': 'South Africa'}]                                                                                                                                                                                                                                                     1\n",
       "[{'iso_3166_1': 'CN', 'name': 'China'}, {'iso_3166_1': 'CA', 'name': 'Canada'}, {'iso_3166_1': 'US', 'name': 'United States of America'}, {'iso_3166_1': 'GB', 'name': 'United Kingdom'}]                                                                                                          1\n",
       "[{'iso_3166_1': 'CN', 'name': 'China'}, {'iso_3166_1': 'US', 'name': 'United States of America'}, {'iso_3166_1': 'KR', 'name': 'South Korea'}, {'iso_3166_1': 'HK', 'name': 'Hong Kong'}]                                                                                                          1\n",
       "[{'iso_3166_1': 'GB', 'name': 'United Kingdom'}, {'iso_3166_1': 'US', 'name': 'United States of America'}, {'iso_3166_1': 'DE', 'name': 'Germany'}]                                                                                                                                                1\n",
       "[{'iso_3166_1': 'CZ', 'name': 'Czech Republic'}, {'iso_3166_1': 'PL', 'name': 'Poland'}, {'iso_3166_1': 'SI', 'name': 'Slovenia'}, {'iso_3166_1': 'US', 'name': 'United States of America'}]                                                                                                       1\n",
       "[{'iso_3166_1': 'FR', 'name': 'France'}, {'iso_3166_1': 'GB', 'name': 'United Kingdom'}, {'iso_3166_1': 'LU', 'name': 'Luxembourg'}]                                                                                                                                                               1\n",
       "[{'iso_3166_1': 'SA', 'name': 'Saudi Arabia'}, {'iso_3166_1': 'DE', 'name': 'Germany'}, {'iso_3166_1': 'JO', 'name': 'Jordan'}, {'iso_3166_1': 'NL', 'name': 'Netherlands'}, {'iso_3166_1': 'AE', 'name': 'United Arab Emirates'}, {'iso_3166_1': 'US', 'name': 'United States of America'}]       1\n",
       "[{'iso_3166_1': 'CN', 'name': 'China'}, {'iso_3166_1': 'FR', 'name': 'France'}, {'iso_3166_1': 'JP', 'name': 'Japan'}]                                                                                                                                                                             1\n",
       "[{'iso_3166_1': 'DK', 'name': 'Denmark'}, {'iso_3166_1': 'SE', 'name': 'Sweden'}]                                                                                                                                                                                                                  1\n",
       "[{'iso_3166_1': 'BE', 'name': 'Belgium'}, {'iso_3166_1': 'RO', 'name': 'Romania'}]                                                                                                                                                                                                                 1\n",
       "[{'iso_3166_1': 'CZ', 'name': 'Czech Republic'}, {'iso_3166_1': 'GB', 'name': 'United Kingdom'}, {'iso_3166_1': 'US', 'name': 'United States of America'}]                                                                                                                                         1\n",
       "[{'iso_3166_1': 'ES', 'name': 'Spain'}, {'iso_3166_1': 'CA', 'name': 'Canada'}]                                                                                                                                                                                                                    1\n",
       "[{'iso_3166_1': 'FR', 'name': 'France'}, {'iso_3166_1': 'NO', 'name': 'Norway'}, {'iso_3166_1': 'PL', 'name': 'Poland'}]                                                                                                                                                                           1\n",
       "[{'iso_3166_1': 'BE', 'name': 'Belgium'}, {'iso_3166_1': 'DE', 'name': 'Germany'}, {'iso_3166_1': 'GB', 'name': 'United Kingdom'}, {'iso_3166_1': 'US', 'name': 'United States of America'}]                                                                                                       1\n",
       "[{'iso_3166_1': 'US', 'name': 'United States of America'}, {'iso_3166_1': 'PH', 'name': 'Philippines'}]                                                                                                                                                                                            1\n",
       "Name: production_countries, Length: 322, dtype: int64"
      ]
     },
     "execution_count": 187,
     "metadata": {},
     "output_type": "execute_result"
    }
   ],
   "source": [
    "train.production_countries.value_counts()"
   ]
  },
  {
   "cell_type": "code",
   "execution_count": 196,
   "metadata": {},
   "outputs": [
    {
     "data": {
      "text/plain": [
       "'US'"
      ]
     },
     "execution_count": 196,
     "metadata": {},
     "output_type": "execute_result"
    }
   ],
   "source": [
    "train.production_countries[0].split(',')[0].split(':')[1].strip(\" '\" + \"'\" )"
   ]
  },
  {
   "cell_type": "code",
   "execution_count": 197,
   "metadata": {},
   "outputs": [
    {
     "name": "stdout",
     "output_type": "stream",
     "text": [
      "US\n"
     ]
    }
   ],
   "source": [
    "print(train.production_countries[0].split(',')[0].split(':')[1].strip(\" '\" + \"'\" ))"
   ]
  },
  {
   "cell_type": "code",
   "execution_count": 212,
   "metadata": {},
   "outputs": [],
   "source": [
    "train['production_countries2'] = train.production_countries.apply(lambda x: x.split(',')[0].split(':')[1].strip(\" '\" + \"'\" ) if len(x) > 6 else x)"
   ]
  },
  {
   "cell_type": "code",
   "execution_count": 214,
   "metadata": {},
   "outputs": [
    {
     "data": {
      "text/plain": [
       "US        1818\n",
       "GB         234\n",
       "FR         147\n",
       "CA          97\n",
       "DE          90\n",
       "IN          78\n",
       "unknow      55\n",
       "AU          52\n",
       "JP          50\n",
       "RU          47\n",
       "IT          36\n",
       "CN          34\n",
       "ES          33\n",
       "HK          20\n",
       "KR          19\n",
       "MX          19\n",
       "IE          17\n",
       "BE          14\n",
       "NZ          13\n",
       "BR          12\n",
       "DK          11\n",
       "CZ          10\n",
       "SE           8\n",
       "NL           6\n",
       "HU           6\n",
       "AT           6\n",
       "AE           5\n",
       "GR           5\n",
       "FI           4\n",
       "IR           4\n",
       "          ... \n",
       "CL           3\n",
       "ZA           3\n",
       "NO           3\n",
       "UA           2\n",
       "LU           2\n",
       "KH           2\n",
       "AR           2\n",
       "TR           2\n",
       "BS           2\n",
       "BG           2\n",
       "IL           2\n",
       "PH           2\n",
       "CH           2\n",
       "NA           1\n",
       "MN           1\n",
       "SG           1\n",
       "BA           1\n",
       "RS           1\n",
       "QA           1\n",
       "SA           1\n",
       "PK           1\n",
       "MR           1\n",
       "IS           1\n",
       "MT           1\n",
       "TW           1\n",
       "UY           1\n",
       "PL           1\n",
       "ET           1\n",
       "ID           1\n",
       "BF           1\n",
       "Name: production_countries2, Length: 61, dtype: int64"
      ]
     },
     "execution_count": 214,
     "metadata": {},
     "output_type": "execute_result"
    }
   ],
   "source": [
    "train['production_countries2'].value_counts()"
   ]
  },
  {
   "cell_type": "code",
   "execution_count": 215,
   "metadata": {},
   "outputs": [
    {
     "data": {
      "text/plain": [
       "<matplotlib.axes._subplots.AxesSubplot at 0x2095da6f1d0>"
      ]
     },
     "execution_count": 215,
     "metadata": {},
     "output_type": "execute_result"
    },
    {
     "data": {
      "image/png": "[encoded data removed]",
      "text/plain": [
       "<Figure size 432x288 with 1 Axes>"
      ]
     },
     "metadata": {
      "needs_background": "light"
     },
     "output_type": "display_data"
    }
   ],
   "source": [
    "sns.barplot('production_countries2', 'revenue', data=train)"
   ]
  },
  {
   "cell_type": "code",
   "execution_count": 232,
   "metadata": {},
   "outputs": [
    {
     "data": {
      "text/plain": [
       "144"
      ]
     },
     "execution_count": 232,
     "metadata": {},
     "output_type": "execute_result"
    }
   ],
   "source": [
    "train.crew[0].count('id')"
   ]
  },
  {
   "cell_type": "code",
   "execution_count": 239,
   "metadata": {},
   "outputs": [],
   "source": [
    "train['crew2'] = train.crew.apply(lambda x: x.count('id'))"
   ]
  },
  {
   "cell_type": "code",
   "execution_count": 240,
   "metadata": {},
   "outputs": [
    {
     "data": {
      "text/plain": [
       "<matplotlib.axes._subplots.AxesSubplot at 0x2095c361668>"
      ]
     },
     "execution_count": 240,
     "metadata": {},
     "output_type": "execute_result"
    },
    {
     "data": {
      "image/png": "[encoded data removed]",
      "text/plain": [
       "<Figure size 432x288 with 1 Axes>"
      ]
     },
     "metadata": {
      "needs_background": "light"
     },
     "output_type": "display_data"
    }
   ],
   "source": [
    "sns.barplot('crew2', 'revenue', data=train)"
   ]
  },
  {
   "cell_type": "code",
   "execution_count": 252,
   "metadata": {},
   "outputs": [],
   "source": [
    "train['overview2'] = train.overview.apply(lambda x: len(x))"
   ]
  },
  {
   "cell_type": "code",
   "execution_count": 254,
   "metadata": {},
   "outputs": [
    {
     "data": {
      "text/plain": [
       "<matplotlib.axes._subplots.AxesSubplot at 0x2095fd2e048>"
      ]
     },
     "execution_count": 254,
     "metadata": {},
     "output_type": "execute_result"
    },
    {
     "data": {
      "image/png": "[encoded data removed]",
      "text/plain": [
       "<Figure size 432x288 with 1 Axes>"
      ]
     },
     "metadata": {
      "needs_background": "light"
     },
     "output_type": "display_data"
    }
   ],
   "source": [
    "sns.barplot('overview2','revenue', data=train)"
   ]
  },
  {
   "cell_type": "code",
   "execution_count": 258,
   "metadata": {},
   "outputs": [],
   "source": [
    "train['original_title2'] = train.original_title.apply(lambda x: len(x))"
   ]
  },
  {
   "cell_type": "code",
   "execution_count": 260,
   "metadata": {},
   "outputs": [
    {
     "data": {
      "text/plain": [
       "<matplotlib.axes._subplots.AxesSubplot at 0x2095df07eb8>"
      ]
     },
     "execution_count": 260,
     "metadata": {},
     "output_type": "execute_result"
    },
    {
     "data": {
      "image/png": "[encoded data removed]",
      "text/plain": [
       "<Figure size 432x288 with 1 Axes>"
      ]
     },
     "metadata": {
      "needs_background": "light"
     },
     "output_type": "display_data"
    }
   ],
   "source": [
    "sns.barplot('original_title2', 'revenue', data=train)"
   ]
  },
  {
   "cell_type": "code",
   "execution_count": 263,
   "metadata": {},
   "outputs": [],
   "source": [
    "train['homepage2'] = train.homepage.apply(lambda x: 0 if x=='unknow' else 1)"
   ]
  },
  {
   "cell_type": "code",
   "execution_count": 266,
   "metadata": {},
   "outputs": [
    {
     "data": {
      "text/plain": [
       "0    2054\n",
       "1     946\n",
       "Name: homepage2, dtype: int64"
      ]
     },
     "execution_count": 266,
     "metadata": {},
     "output_type": "execute_result"
    }
   ],
   "source": [
    "train.homepage2.value_counts()"
   ]
  },
  {
   "cell_type": "code",
   "execution_count": 268,
   "metadata": {},
   "outputs": [
    {
     "data": {
      "text/plain": [
       "<matplotlib.axes._subplots.AxesSubplot at 0x209675d0be0>"
      ]
     },
     "execution_count": 268,
     "metadata": {},
     "output_type": "execute_result"
    },
    {
     "data": {
      "image/png": "[encoded data removed]",
      "text/plain": [
       "<Figure size 432x288 with 1 Axes>"
      ]
     },
     "metadata": {
      "needs_background": "light"
     },
     "output_type": "display_data"
    }
   ],
   "source": [
    "sns.barplot('homepage2', 'revenue', data=train)"
   ]
  },
  {
   "cell_type": "code",
   "execution_count": 273,
   "metadata": {},
   "outputs": [],
   "source": [
    "train['belongs_to_collection2'] = train.belongs_to_collection.apply(lambda x: 0 if x=='unknow' else 1)"
   ]
  },
  {
   "cell_type": "code",
   "execution_count": 275,
   "metadata": {},
   "outputs": [
    {
     "data": {
      "text/plain": [
       "0    2396\n",
       "1     604\n",
       "Name: belongs_to_collection2, dtype: int64"
      ]
     },
     "execution_count": 275,
     "metadata": {},
     "output_type": "execute_result"
    }
   ],
   "source": [
    "train['belongs_to_collection2'].value_counts()"
   ]
  },
  {
   "cell_type": "code",
   "execution_count": 276,
   "metadata": {},
   "outputs": [
    {
     "data": {
      "text/plain": [
       "<matplotlib.axes._subplots.AxesSubplot at 0x2096758b358>"
      ]
     },
     "execution_count": 276,
     "metadata": {},
     "output_type": "execute_result"
    },
    {
     "data": {
      "image/png": "[encoded data removed]",
      "text/plain": [
       "<Figure size 432x288 with 1 Axes>"
      ]
     },
     "metadata": {
      "needs_background": "light"
     },
     "output_type": "display_data"
    }
   ],
   "source": [
    "sns.barplot('belongs_to_collection2', 'revenue', data=train)"
   ]
  },
  {
   "cell_type": "code",
   "execution_count": 279,
   "metadata": {},
   "outputs": [
    {
     "data": {
      "text/plain": [
       "3"
      ]
     },
     "execution_count": 279,
     "metadata": {},
     "output_type": "execute_result"
    }
   ],
   "source": [
    "train.production_companies[0].count('id')"
   ]
  },
  {
   "cell_type": "code",
   "execution_count": 281,
   "metadata": {},
   "outputs": [],
   "source": [
    "train['production_companies2'] = train.production_companies.apply(lambda x: x.count('id'))"
   ]
  },
  {
   "cell_type": "code",
   "execution_count": 283,
   "metadata": {},
   "outputs": [
    {
     "data": {
      "text/plain": [
       "1     769\n",
       "2     713\n",
       "3     572\n",
       "4     328\n",
       "5     173\n",
       "0     156\n",
       "6     118\n",
       "7      69\n",
       "8      42\n",
       "9      31\n",
       "10     10\n",
       "11      8\n",
       "12      4\n",
       "15      2\n",
       "14      2\n",
       "16      2\n",
       "18      1\n",
       "Name: production_companies2, dtype: int64"
      ]
     },
     "execution_count": 283,
     "metadata": {},
     "output_type": "execute_result"
    }
   ],
   "source": [
    "train['production_companies2'].value_counts()"
   ]
  },
  {
   "cell_type": "code",
   "execution_count": 284,
   "metadata": {},
   "outputs": [
    {
     "data": {
      "text/plain": [
       "<matplotlib.axes._subplots.AxesSubplot at 0x209676b7240>"
      ]
     },
     "execution_count": 284,
     "metadata": {},
     "output_type": "execute_result"
    },
    {
     "data": {
      "image/png": "[encoded data removed]",
      "text/plain": [
       "<Figure size 432x288 with 1 Axes>"
      ]
     },
     "metadata": {
      "needs_background": "light"
     },
     "output_type": "display_data"
    }
   ],
   "source": [
    "sns.barplot('production_companies2', 'revenue', data=train)"
   ]
  },
  {
   "cell_type": "code",
   "execution_count": 286,
   "metadata": {},
   "outputs": [],
   "source": [
    "train['original_title3'] = train.original_title.apply(lambda x: 0 if x=='unknow' else 1)"
   ]
  },
  {
   "cell_type": "code",
   "execution_count": 288,
   "metadata": {},
   "outputs": [
    {
     "data": {
      "text/plain": [
       "1    3000\n",
       "Name: original_title3, dtype: int64"
      ]
     },
     "execution_count": 288,
     "metadata": {},
     "output_type": "execute_result"
    }
   ],
   "source": [
    "train['original_title3'] .value_counts()"
   ]
  },
  {
   "cell_type": "code",
   "execution_count": 290,
   "metadata": {},
   "outputs": [],
   "source": [
    "train['title2'] = train.title.apply(lambda x: len(x))"
   ]
  },
  {
   "cell_type": "code",
   "execution_count": 293,
   "metadata": {},
   "outputs": [
    {
     "data": {
      "text/plain": [
       "<matplotlib.axes._subplots.AxesSubplot at 0x209677616d8>"
      ]
     },
     "execution_count": 293,
     "metadata": {},
     "output_type": "execute_result"
    },
    {
     "data": {
      "image/png": "[encoded data removed]",
      "text/plain": [
       "<Figure size 432x288 with 1 Axes>"
      ]
     },
     "metadata": {
      "needs_background": "light"
     },
     "output_type": "display_data"
    }
   ],
   "source": [
    "sns.barplot('title2', 'revenue', data=train)"
   ]
  },
  {
   "cell_type": "code",
   "execution_count": 296,
   "metadata": {},
   "outputs": [],
   "source": [
    "train['Keywords2'] = train.Keywords.apply(lambda x: x.count('id'))"
   ]
  },
  {
   "cell_type": "code",
   "execution_count": 299,
   "metadata": {},
   "outputs": [
    {
     "data": {
      "text/plain": [
       "<matplotlib.axes._subplots.AxesSubplot at 0x209678f0d30>"
      ]
     },
     "execution_count": 299,
     "metadata": {},
     "output_type": "execute_result"
    },
    {
     "data": {
      "image/png": "[encoded data removed]",
      "text/plain": [
       "<Figure size 432x288 with 1 Axes>"
      ]
     },
     "metadata": {
      "needs_background": "light"
     },
     "output_type": "display_data"
    }
   ],
   "source": [
    "sns.barplot('Keywords2', 'revenue', data=train)"
   ]
  },
  {
   "cell_type": "code",
   "execution_count": 302,
   "metadata": {},
   "outputs": [
    {
     "data": {
      "text/plain": [
       "24"
      ]
     },
     "execution_count": 302,
     "metadata": {},
     "output_type": "execute_result"
    }
   ],
   "source": [
    "train.cast[0].count('cast_id')"
   ]
  },
  {
   "cell_type": "code",
   "execution_count": 303,
   "metadata": {},
   "outputs": [],
   "source": [
    "train['cast2'] = train.cast.apply(lambda x: x.count('cast_id'))"
   ]
  },
  {
   "cell_type": "code",
   "execution_count": 306,
   "metadata": {},
   "outputs": [
    {
     "data": {
      "text/plain": [
       "<matplotlib.axes._subplots.AxesSubplot at 0x20967a76cc0>"
      ]
     },
     "execution_count": 306,
     "metadata": {},
     "output_type": "execute_result"
    },
    {
     "data": {
      "image/png": "[encoded data removed]",
      "text/plain": [
       "<Figure size 432x288 with 1 Axes>"
      ]
     },
     "metadata": {
      "needs_background": "light"
     },
     "output_type": "display_data"
    }
   ],
   "source": [
    "sns.barplot('cast2', 'revenue', data=train)"
   ]
  },
  {
   "cell_type": "code",
   "execution_count": 309,
   "metadata": {},
   "outputs": [],
   "source": [
    "train['genres2'] = train.genres.apply(lambda x: x.count('id'))"
   ]
  },
  {
   "cell_type": "code",
   "execution_count": 312,
   "metadata": {},
   "outputs": [
    {
     "data": {
      "text/plain": [
       "2    972\n",
       "3    900\n",
       "1    593\n",
       "4    393\n",
       "5    111\n",
       "6     21\n",
       "0      7\n",
       "7      3\n",
       "Name: genres2, dtype: int64"
      ]
     },
     "execution_count": 312,
     "metadata": {},
     "output_type": "execute_result"
    }
   ],
   "source": [
    "train.genres2.value_counts()"
   ]
  },
  {
   "cell_type": "code",
   "execution_count": 313,
   "metadata": {},
   "outputs": [
    {
     "data": {
      "text/plain": [
       "<matplotlib.axes._subplots.AxesSubplot at 0x20968db6860>"
      ]
     },
     "execution_count": 313,
     "metadata": {},
     "output_type": "execute_result"
    },
    {
     "data": {
      "image/png": "[encoded data removed]",
      "text/plain": [
       "<Figure size 432x288 with 1 Axes>"
      ]
     },
     "metadata": {
      "needs_background": "light"
     },
     "output_type": "display_data"
    }
   ],
   "source": [
    "sns.barplot('genres2', 'revenue', data=train)"
   ]
  },
  {
   "cell_type": "code",
   "execution_count": 316,
   "metadata": {},
   "outputs": [
    {
     "data": {
      "text/plain": [
       "0       [{'iso_3166_1': 'US', 'name': 'United States o...\n",
       "1       [{'iso_3166_1': 'US', 'name': 'United States o...\n",
       "2       [{'iso_3166_1': 'US', 'name': 'United States o...\n",
       "3                 [{'iso_3166_1': 'IN', 'name': 'India'}]\n",
       "4           [{'iso_3166_1': 'KR', 'name': 'South Korea'}]\n",
       "5                                                  unknow\n",
       "6       [{'iso_3166_1': 'US', 'name': 'United States o...\n",
       "7                                                  unknow\n",
       "8       [{'iso_3166_1': 'US', 'name': 'United States o...\n",
       "9       [{'iso_3166_1': 'US', 'name': 'United States o...\n",
       "10      [{'iso_3166_1': 'US', 'name': 'United States o...\n",
       "11      [{'iso_3166_1': 'US', 'name': 'United States o...\n",
       "12      [{'iso_3166_1': 'US', 'name': 'United States o...\n",
       "13      [{'iso_3166_1': 'US', 'name': 'United States o...\n",
       "14      [{'iso_3166_1': 'US', 'name': 'United States o...\n",
       "15               [{'iso_3166_1': 'RS', 'name': 'Serbia'}]\n",
       "16      [{'iso_3166_1': 'US', 'name': 'United States o...\n",
       "17       [{'iso_3166_1': 'GB', 'name': 'United Kingdom'}]\n",
       "18      [{'iso_3166_1': 'AT', 'name': 'Austria'}, {'is...\n",
       "19               [{'iso_3166_1': 'FR', 'name': 'France'}]\n",
       "20      [{'iso_3166_1': 'US', 'name': 'United States o...\n",
       "21      [{'iso_3166_1': 'US', 'name': 'United States o...\n",
       "22      [{'iso_3166_1': 'US', 'name': 'United States o...\n",
       "23      [{'iso_3166_1': 'US', 'name': 'United States o...\n",
       "24          [{'iso_3166_1': 'NZ', 'name': 'New Zealand'}]\n",
       "25      [{'iso_3166_1': 'JP', 'name': 'Japan'}, {'iso_...\n",
       "26      [{'iso_3166_1': 'US', 'name': 'United States o...\n",
       "27      [{'iso_3166_1': 'CA', 'name': 'Canada'}, {'iso...\n",
       "28      [{'iso_3166_1': 'US', 'name': 'United States o...\n",
       "29      [{'iso_3166_1': 'US', 'name': 'United States o...\n",
       "                              ...                        \n",
       "2970    [{'iso_3166_1': 'US', 'name': 'United States o...\n",
       "2971    [{'iso_3166_1': 'US', 'name': 'United States o...\n",
       "2972    [{'iso_3166_1': 'CN', 'name': 'China'}, {'iso_...\n",
       "2973    [{'iso_3166_1': 'US', 'name': 'United States o...\n",
       "2974    [{'iso_3166_1': 'CA', 'name': 'Canada'}, {'iso...\n",
       "2975    [{'iso_3166_1': 'CA', 'name': 'Canada'}, {'iso...\n",
       "2976    [{'iso_3166_1': 'US', 'name': 'United States o...\n",
       "2977    [{'iso_3166_1': 'US', 'name': 'United States o...\n",
       "2978     [{'iso_3166_1': 'GB', 'name': 'United Kingdom'}]\n",
       "2979    [{'iso_3166_1': 'US', 'name': 'United States o...\n",
       "2980              [{'iso_3166_1': 'IN', 'name': 'India'}]\n",
       "2981    [{'iso_3166_1': 'US', 'name': 'United States o...\n",
       "2982    [{'iso_3166_1': 'US', 'name': 'United States o...\n",
       "2983    [{'iso_3166_1': 'US', 'name': 'United States o...\n",
       "2984    [{'iso_3166_1': 'US', 'name': 'United States o...\n",
       "2985    [{'iso_3166_1': 'US', 'name': 'United States o...\n",
       "2986    [{'iso_3166_1': 'US', 'name': 'United States o...\n",
       "2987    [{'iso_3166_1': 'US', 'name': 'United States o...\n",
       "2988               [{'iso_3166_1': 'IR', 'name': 'Iran'}]\n",
       "2989    [{'iso_3166_1': 'US', 'name': 'United States o...\n",
       "2990                                               unknow\n",
       "2991    [{'iso_3166_1': 'US', 'name': 'United States o...\n",
       "2992    [{'iso_3166_1': 'US', 'name': 'United States o...\n",
       "2993    [{'iso_3166_1': 'US', 'name': 'United States o...\n",
       "2994    [{'iso_3166_1': 'US', 'name': 'United States o...\n",
       "2995    [{'iso_3166_1': 'US', 'name': 'United States o...\n",
       "2996    [{'iso_3166_1': 'DK', 'name': 'Denmark'}, {'is...\n",
       "2997    [{'iso_3166_1': 'US', 'name': 'United States o...\n",
       "2998    [{'iso_3166_1': 'US', 'name': 'United States o...\n",
       "2999    [{'iso_3166_1': 'US', 'name': 'United States o...\n",
       "Name: production_countries, Length: 3000, dtype: object"
      ]
     },
     "execution_count": 316,
     "metadata": {},
     "output_type": "execute_result"
    }
   ],
   "source": [
    "train.production_countries"
   ]
  },
  {
   "cell_type": "code",
   "execution_count": 370,
   "metadata": {},
   "outputs": [],
   "source": [
    "train['production_countries2'] = train.production_countries.apply(lambda x: x.count('name'))"
   ]
  },
  {
   "cell_type": "code",
   "execution_count": 371,
   "metadata": {},
   "outputs": [
    {
     "data": {
      "text/plain": [
       "1    2222\n",
       "2     525\n",
       "3     116\n",
       "4      57\n",
       "0      55\n",
       "5      21\n",
       "6       3\n",
       "8       1\n",
       "Name: production_countries2, dtype: int64"
      ]
     },
     "execution_count": 371,
     "metadata": {},
     "output_type": "execute_result"
    }
   ],
   "source": [
    "train.production_countries2.value_counts()"
   ]
  },
  {
   "cell_type": "code",
   "execution_count": 372,
   "metadata": {},
   "outputs": [
    {
     "data": {
      "text/plain": [
       "<matplotlib.axes._subplots.AxesSubplot at 0x209691c1a90>"
      ]
     },
     "execution_count": 372,
     "metadata": {},
     "output_type": "execute_result"
    },
    {
     "data": {
      "image/png": "[encoded data removed]",
      "text/plain": [
       "<Figure size 432x288 with 1 Axes>"
      ]
     },
     "metadata": {
      "needs_background": "light"
     },
     "output_type": "display_data"
    }
   ],
   "source": [
    "sns.barplot('production_countries2', 'revenue', data=train)"
   ]
  },
  {
   "cell_type": "code",
   "execution_count": 322,
   "metadata": {},
   "outputs": [
    {
     "data": {
      "text/plain": [
       "Index(['id', 'belongs_to_collection', 'budget', 'genres', 'homepage',\n",
       "       'imdb_id', 'original_language', 'original_title', 'overview',\n",
       "       'popularity', 'poster_path', 'production_companies',\n",
       "       'production_countries', 'release_date', 'runtime', 'spoken_languages',\n",
       "       'status', 'tagline', 'title', 'Keywords', 'cast', 'crew', 'revenue',\n",
       "       'tagline2', 'spoken_languages3', 'spoken_languages2 ',\n",
       "       'spoken_languages2', 'release_data_year', 'release_data_month',\n",
       "       'release_data_day', 'release_data_weekday', 'production_countries2',\n",
       "       'crew2', 'overview2', 'original_title2', 'homepage2',\n",
       "       'train.belongs_to_collection2', 'belongs_to_collection2',\n",
       "       'production_companies2', 'original_title3', 'title2', 'Keywords2',\n",
       "       'cast2', 'genres2', 'production_countries3'],\n",
       "      dtype='object')"
      ]
     },
     "execution_count": 322,
     "metadata": {},
     "output_type": "execute_result"
    }
   ],
   "source": [
    "train.columns"
   ]
  },
  {
   "cell_type": "code",
   "execution_count": 327,
   "metadata": {},
   "outputs": [
    {
     "data": {
      "text/plain": [
       "release_date    1\n",
       "status          2\n",
       "title           3\n",
       "dtype: int64"
      ]
     },
     "execution_count": 327,
     "metadata": {},
     "output_type": "execute_result"
    }
   ],
   "source": [
    "test.isnull().sum()[test.isnull().sum()>0]"
   ]
  },
  {
   "cell_type": "code",
   "execution_count": 329,
   "metadata": {},
   "outputs": [
    {
     "data": {
      "text/html": [
       "<div>\n",
       "<style scoped>\n",
       "    .dataframe tbody tr th:only-of-type {\n",
       "        vertical-align: middle;\n",
       "    }\n",
       "\n",
       "    .dataframe tbody tr th {\n",
       "        vertical-align: top;\n",
       "    }\n",
       "\n",
       "    .dataframe thead th {\n",
       "        text-align: right;\n",
       "    }\n",
       "</style>\n",
       "<table border=\"1\" class=\"dataframe\">\n",
       "  <thead>\n",
       "    <tr style=\"text-align: right;\">\n",
       "      <th></th>\n",
       "      <th>id</th>\n",
       "      <th>belongs_to_collection</th>\n",
       "      <th>budget</th>\n",
       "      <th>genres</th>\n",
       "      <th>homepage</th>\n",
       "      <th>imdb_id</th>\n",
       "      <th>original_language</th>\n",
       "      <th>original_title</th>\n",
       "      <th>overview</th>\n",
       "      <th>popularity</th>\n",
       "      <th>...</th>\n",
       "      <th>production_countries</th>\n",
       "      <th>release_date</th>\n",
       "      <th>runtime</th>\n",
       "      <th>spoken_languages</th>\n",
       "      <th>status</th>\n",
       "      <th>tagline</th>\n",
       "      <th>title</th>\n",
       "      <th>Keywords</th>\n",
       "      <th>cast</th>\n",
       "      <th>crew</th>\n",
       "    </tr>\n",
       "  </thead>\n",
       "  <tbody>\n",
       "    <tr>\n",
       "      <th>828</th>\n",
       "      <td>3829</td>\n",
       "      <td>unknow</td>\n",
       "      <td>0</td>\n",
       "      <td>[{'id': 18, 'name': 'Drama'}]</td>\n",
       "      <td>unknow</td>\n",
       "      <td>tt0210130</td>\n",
       "      <td>en</td>\n",
       "      <td>Jails, Hospitals &amp; Hip-Hop</td>\n",
       "      <td>Jails, Hospitals &amp;amp; Hip-Hop is a cinematic ...</td>\n",
       "      <td>0.009057</td>\n",
       "      <td>...</td>\n",
       "      <td>unknow</td>\n",
       "      <td>NaN</td>\n",
       "      <td>90.0</td>\n",
       "      <td>unknow</td>\n",
       "      <td>NaN</td>\n",
       "      <td>three worlds / two million voices / one genera...</td>\n",
       "      <td>Jails, Hospitals &amp; Hip-Hop</td>\n",
       "      <td>unknow</td>\n",
       "      <td>[]</td>\n",
       "      <td>unknow</td>\n",
       "    </tr>\n",
       "  </tbody>\n",
       "</table>\n",
       "<p>1 rows × 22 columns</p>\n",
       "</div>"
      ],
      "text/plain": [
       "       id belongs_to_collection  budget                         genres  \\\n",
       "828  3829                unknow       0  [{'id': 18, 'name': 'Drama'}]   \n",
       "\n",
       "    homepage    imdb_id original_language              original_title  \\\n",
       "828   unknow  tt0210130                en  Jails, Hospitals & Hip-Hop   \n",
       "\n",
       "                                              overview  popularity  ...  \\\n",
       "828  Jails, Hospitals &amp; Hip-Hop is a cinematic ...    0.009057  ...   \n",
       "\n",
       "    production_countries release_date runtime spoken_languages  status  \\\n",
       "828               unknow          NaN    90.0           unknow     NaN   \n",
       "\n",
       "                                               tagline  \\\n",
       "828  three worlds / two million voices / one genera...   \n",
       "\n",
       "                          title Keywords cast    crew  \n",
       "828  Jails, Hospitals & Hip-Hop   unknow   []  unknow  \n",
       "\n",
       "[1 rows x 22 columns]"
      ]
     },
     "execution_count": 329,
     "metadata": {},
     "output_type": "execute_result"
    }
   ],
   "source": [
    "test[test.release_date.isnull()]"
   ]
  },
  {
   "cell_type": "code",
   "execution_count": 330,
   "metadata": {},
   "outputs": [
    {
     "data": {
      "text/html": [
       "<div>\n",
       "<style scoped>\n",
       "    .dataframe tbody tr th:only-of-type {\n",
       "        vertical-align: middle;\n",
       "    }\n",
       "\n",
       "    .dataframe tbody tr th {\n",
       "        vertical-align: top;\n",
       "    }\n",
       "\n",
       "    .dataframe thead th {\n",
       "        text-align: right;\n",
       "    }\n",
       "</style>\n",
       "<table border=\"1\" class=\"dataframe\">\n",
       "  <thead>\n",
       "    <tr style=\"text-align: right;\">\n",
       "      <th></th>\n",
       "      <th>id</th>\n",
       "      <th>belongs_to_collection</th>\n",
       "      <th>budget</th>\n",
       "      <th>genres</th>\n",
       "      <th>homepage</th>\n",
       "      <th>imdb_id</th>\n",
       "      <th>original_language</th>\n",
       "      <th>original_title</th>\n",
       "      <th>overview</th>\n",
       "      <th>popularity</th>\n",
       "      <th>...</th>\n",
       "      <th>production_countries</th>\n",
       "      <th>release_date</th>\n",
       "      <th>runtime</th>\n",
       "      <th>spoken_languages</th>\n",
       "      <th>status</th>\n",
       "      <th>tagline</th>\n",
       "      <th>title</th>\n",
       "      <th>Keywords</th>\n",
       "      <th>cast</th>\n",
       "      <th>crew</th>\n",
       "    </tr>\n",
       "  </thead>\n",
       "  <tbody>\n",
       "    <tr>\n",
       "      <th>828</th>\n",
       "      <td>3829</td>\n",
       "      <td>unknow</td>\n",
       "      <td>0</td>\n",
       "      <td>[{'id': 18, 'name': 'Drama'}]</td>\n",
       "      <td>unknow</td>\n",
       "      <td>tt0210130</td>\n",
       "      <td>en</td>\n",
       "      <td>Jails, Hospitals &amp; Hip-Hop</td>\n",
       "      <td>Jails, Hospitals &amp;amp; Hip-Hop is a cinematic ...</td>\n",
       "      <td>0.009057</td>\n",
       "      <td>...</td>\n",
       "      <td>unknow</td>\n",
       "      <td>NaN</td>\n",
       "      <td>90.0</td>\n",
       "      <td>unknow</td>\n",
       "      <td>NaN</td>\n",
       "      <td>three worlds / two million voices / one genera...</td>\n",
       "      <td>Jails, Hospitals &amp; Hip-Hop</td>\n",
       "      <td>unknow</td>\n",
       "      <td>[]</td>\n",
       "      <td>unknow</td>\n",
       "    </tr>\n",
       "    <tr>\n",
       "      <th>1056</th>\n",
       "      <td>4057</td>\n",
       "      <td>unknow</td>\n",
       "      <td>0</td>\n",
       "      <td>[{'id': 99, 'name': 'Documentary'}, {'id': 18,...</td>\n",
       "      <td>unknow</td>\n",
       "      <td>tt0334416</td>\n",
       "      <td>en</td>\n",
       "      <td>Stevie</td>\n",
       "      <td>In 1995 Director Steve James (Hoop Dreams) ret...</td>\n",
       "      <td>0.489997</td>\n",
       "      <td>...</td>\n",
       "      <td>unknow</td>\n",
       "      <td>9/9/02</td>\n",
       "      <td>140.0</td>\n",
       "      <td>unknow</td>\n",
       "      <td>NaN</td>\n",
       "      <td>unknow</td>\n",
       "      <td>Stevie</td>\n",
       "      <td>unknow</td>\n",
       "      <td>[]</td>\n",
       "      <td>[{'credit_id': '52fe480dc3a36847f8155e61', 'de...</td>\n",
       "    </tr>\n",
       "  </tbody>\n",
       "</table>\n",
       "<p>2 rows × 22 columns</p>\n",
       "</div>"
      ],
      "text/plain": [
       "        id belongs_to_collection  budget  \\\n",
       "828   3829                unknow       0   \n",
       "1056  4057                unknow       0   \n",
       "\n",
       "                                                 genres homepage    imdb_id  \\\n",
       "828                       [{'id': 18, 'name': 'Drama'}]   unknow  tt0210130   \n",
       "1056  [{'id': 99, 'name': 'Documentary'}, {'id': 18,...   unknow  tt0334416   \n",
       "\n",
       "     original_language              original_title  \\\n",
       "828                 en  Jails, Hospitals & Hip-Hop   \n",
       "1056                en                      Stevie   \n",
       "\n",
       "                                               overview  popularity  ...  \\\n",
       "828   Jails, Hospitals &amp; Hip-Hop is a cinematic ...    0.009057  ...   \n",
       "1056  In 1995 Director Steve James (Hoop Dreams) ret...    0.489997  ...   \n",
       "\n",
       "     production_countries release_date runtime spoken_languages  status  \\\n",
       "828                unknow          NaN    90.0           unknow     NaN   \n",
       "1056               unknow       9/9/02   140.0           unknow     NaN   \n",
       "\n",
       "                                                tagline  \\\n",
       "828   three worlds / two million voices / one genera...   \n",
       "1056                                             unknow   \n",
       "\n",
       "                           title Keywords cast  \\\n",
       "828   Jails, Hospitals & Hip-Hop   unknow   []   \n",
       "1056                      Stevie   unknow   []   \n",
       "\n",
       "                                                   crew  \n",
       "828                                              unknow  \n",
       "1056  [{'credit_id': '52fe480dc3a36847f8155e61', 'de...  \n",
       "\n",
       "[2 rows x 22 columns]"
      ]
     },
     "execution_count": 330,
     "metadata": {},
     "output_type": "execute_result"
    }
   ],
   "source": [
    "test[test.status.isnull()]"
   ]
  },
  {
   "cell_type": "code",
   "execution_count": 331,
   "metadata": {},
   "outputs": [
    {
     "data": {
      "text/html": [
       "<div>\n",
       "<style scoped>\n",
       "    .dataframe tbody tr th:only-of-type {\n",
       "        vertical-align: middle;\n",
       "    }\n",
       "\n",
       "    .dataframe tbody tr th {\n",
       "        vertical-align: top;\n",
       "    }\n",
       "\n",
       "    .dataframe thead th {\n",
       "        text-align: right;\n",
       "    }\n",
       "</style>\n",
       "<table border=\"1\" class=\"dataframe\">\n",
       "  <thead>\n",
       "    <tr style=\"text-align: right;\">\n",
       "      <th></th>\n",
       "      <th>id</th>\n",
       "      <th>belongs_to_collection</th>\n",
       "      <th>budget</th>\n",
       "      <th>genres</th>\n",
       "      <th>homepage</th>\n",
       "      <th>imdb_id</th>\n",
       "      <th>original_language</th>\n",
       "      <th>original_title</th>\n",
       "      <th>overview</th>\n",
       "      <th>popularity</th>\n",
       "      <th>...</th>\n",
       "      <th>production_countries</th>\n",
       "      <th>release_date</th>\n",
       "      <th>runtime</th>\n",
       "      <th>spoken_languages</th>\n",
       "      <th>status</th>\n",
       "      <th>tagline</th>\n",
       "      <th>title</th>\n",
       "      <th>Keywords</th>\n",
       "      <th>cast</th>\n",
       "      <th>crew</th>\n",
       "    </tr>\n",
       "  </thead>\n",
       "  <tbody>\n",
       "    <tr>\n",
       "      <th>2398</th>\n",
       "      <td>5399</td>\n",
       "      <td>unknow</td>\n",
       "      <td>0</td>\n",
       "      <td>[{'id': 18, 'name': 'Drama'}, {'id': 16, 'name...</td>\n",
       "      <td>http://wwws.warnerbros.co.jp/budori/</td>\n",
       "      <td>tt2391821</td>\n",
       "      <td>ja</td>\n",
       "      <td>グスコーブドリの伝記</td>\n",
       "      <td>Remake of The Life of Guskou Budori (1994).\\n ...</td>\n",
       "      <td>0.394173</td>\n",
       "      <td>...</td>\n",
       "      <td>unknow</td>\n",
       "      <td>7/7/12</td>\n",
       "      <td>106.0</td>\n",
       "      <td>unknow</td>\n",
       "      <td>Released</td>\n",
       "      <td>unknow</td>\n",
       "      <td>NaN</td>\n",
       "      <td>unknow</td>\n",
       "      <td>[{'cast_id': 3, 'character': 'Boduri', 'credit...</td>\n",
       "      <td>[{'credit_id': '52fe4bd7c3a36847f8216183', 'de...</td>\n",
       "    </tr>\n",
       "    <tr>\n",
       "      <th>2425</th>\n",
       "      <td>5426</td>\n",
       "      <td>[{'id': 115840, 'name': 'Would I Lie to You? C...</td>\n",
       "      <td>25496629</td>\n",
       "      <td>[{'id': 35, 'name': 'Comedy'}]</td>\n",
       "      <td>http://www.laveritesijemens3.com/</td>\n",
       "      <td>tt1794850</td>\n",
       "      <td>fr</td>\n",
       "      <td>La Vérité si je Mens ! 3</td>\n",
       "      <td>Eddie, Dov, Yvan et les autres‚Ä¶ Nos chaleure...</td>\n",
       "      <td>3.815840</td>\n",
       "      <td>...</td>\n",
       "      <td>unknow</td>\n",
       "      <td>1/31/12</td>\n",
       "      <td>120.0</td>\n",
       "      <td>unknow</td>\n",
       "      <td>Released</td>\n",
       "      <td>unknow</td>\n",
       "      <td>NaN</td>\n",
       "      <td>unknow</td>\n",
       "      <td>[{'cast_id': 2, 'character': 'Eddie', 'credit_...</td>\n",
       "      <td>[{'credit_id': '552bb9a09251417c29001c7a', 'de...</td>\n",
       "    </tr>\n",
       "    <tr>\n",
       "      <th>3628</th>\n",
       "      <td>6629</td>\n",
       "      <td>unknow</td>\n",
       "      <td>6000000</td>\n",
       "      <td>[{'id': 35, 'name': 'Comedy'}, {'id': 18, 'nam...</td>\n",
       "      <td>http://barefootthemovie.com/</td>\n",
       "      <td>tt2355495</td>\n",
       "      <td>en</td>\n",
       "      <td>Barefoot</td>\n",
       "      <td>The \"black sheep\" son of a wealthy family meet...</td>\n",
       "      <td>5.939334</td>\n",
       "      <td>...</td>\n",
       "      <td>unknow</td>\n",
       "      <td>2/2/14</td>\n",
       "      <td>90.0</td>\n",
       "      <td>unknow</td>\n",
       "      <td>Released</td>\n",
       "      <td>unknow</td>\n",
       "      <td>NaN</td>\n",
       "      <td>[{'id': 2487, 'name': 'naivety'}, {'id': 9714,...</td>\n",
       "      <td>[{'cast_id': 3, 'character': 'Daisy', 'credit_...</td>\n",
       "      <td>[{'credit_id': '52fe4ec2c3a36847f82a65a7', 'de...</td>\n",
       "    </tr>\n",
       "  </tbody>\n",
       "</table>\n",
       "<p>3 rows × 22 columns</p>\n",
       "</div>"
      ],
      "text/plain": [
       "        id                              belongs_to_collection    budget  \\\n",
       "2398  5399                                             unknow         0   \n",
       "2425  5426  [{'id': 115840, 'name': 'Would I Lie to You? C...  25496629   \n",
       "3628  6629                                             unknow   6000000   \n",
       "\n",
       "                                                 genres  \\\n",
       "2398  [{'id': 18, 'name': 'Drama'}, {'id': 16, 'name...   \n",
       "2425                     [{'id': 35, 'name': 'Comedy'}]   \n",
       "3628  [{'id': 35, 'name': 'Comedy'}, {'id': 18, 'nam...   \n",
       "\n",
       "                                  homepage    imdb_id original_language  \\\n",
       "2398  http://wwws.warnerbros.co.jp/budori/  tt2391821                ja   \n",
       "2425     http://www.laveritesijemens3.com/  tt1794850                fr   \n",
       "3628          http://barefootthemovie.com/  tt2355495                en   \n",
       "\n",
       "                original_title  \\\n",
       "2398                グスコーブドリの伝記   \n",
       "2425  La Vérité si je Mens ! 3   \n",
       "3628                  Barefoot   \n",
       "\n",
       "                                               overview  popularity  ...  \\\n",
       "2398  Remake of The Life of Guskou Budori (1994).\\n ...    0.394173  ...   \n",
       "2425  Eddie, Dov, Yvan et les autres‚Ä¶ Nos chaleure...    3.815840  ...   \n",
       "3628  The \"black sheep\" son of a wealthy family meet...    5.939334  ...   \n",
       "\n",
       "     production_countries release_date runtime spoken_languages    status  \\\n",
       "2398               unknow       7/7/12   106.0           unknow  Released   \n",
       "2425               unknow      1/31/12   120.0           unknow  Released   \n",
       "3628               unknow       2/2/14    90.0           unknow  Released   \n",
       "\n",
       "     tagline title                                           Keywords  \\\n",
       "2398  unknow   NaN                                             unknow   \n",
       "2425  unknow   NaN                                             unknow   \n",
       "3628  unknow   NaN  [{'id': 2487, 'name': 'naivety'}, {'id': 9714,...   \n",
       "\n",
       "                                                   cast  \\\n",
       "2398  [{'cast_id': 3, 'character': 'Boduri', 'credit...   \n",
       "2425  [{'cast_id': 2, 'character': 'Eddie', 'credit_...   \n",
       "3628  [{'cast_id': 3, 'character': 'Daisy', 'credit_...   \n",
       "\n",
       "                                                   crew  \n",
       "2398  [{'credit_id': '52fe4bd7c3a36847f8216183', 'de...  \n",
       "2425  [{'credit_id': '552bb9a09251417c29001c7a', 'de...  \n",
       "3628  [{'credit_id': '52fe4ec2c3a36847f82a65a7', 'de...  \n",
       "\n",
       "[3 rows x 22 columns]"
      ]
     },
     "execution_count": 331,
     "metadata": {},
     "output_type": "execute_result"
    }
   ],
   "source": [
    "test[test.title.isnull()]"
   ]
  },
  {
   "cell_type": "code",
   "execution_count": 344,
   "metadata": {},
   "outputs": [
    {
     "data": {
      "text/plain": [
       "2005.0"
      ]
     },
     "execution_count": 344,
     "metadata": {},
     "output_type": "execute_result"
    }
   ],
   "source": [
    "round(train.release_data_year.mean())"
   ]
  },
  {
   "cell_type": "code",
   "execution_count": 345,
   "metadata": {},
   "outputs": [
    {
     "data": {
      "text/plain": [
       "7.0"
      ]
     },
     "execution_count": 345,
     "metadata": {},
     "output_type": "execute_result"
    }
   ],
   "source": [
    "round(train.release_data_month.mean())"
   ]
  },
  {
   "cell_type": "code",
   "execution_count": 346,
   "metadata": {},
   "outputs": [
    {
     "data": {
      "text/plain": [
       "15.0"
      ]
     },
     "execution_count": 346,
     "metadata": {},
     "output_type": "execute_result"
    }
   ],
   "source": [
    "round(train.release_data_day.mean())"
   ]
  },
  {
   "cell_type": "code",
   "execution_count": 347,
   "metadata": {},
   "outputs": [
    {
     "data": {
      "text/plain": [
       "3.0"
      ]
     },
     "execution_count": 347,
     "metadata": {},
     "output_type": "execute_result"
    }
   ],
   "source": [
    "round(train.release_data_weekday.mean())"
   ]
  },
  {
   "cell_type": "code",
   "execution_count": 350,
   "metadata": {},
   "outputs": [
    {
     "data": {
      "text/plain": [
       "0    Released\n",
       "dtype: object"
      ]
     },
     "execution_count": 350,
     "metadata": {},
     "output_type": "execute_result"
    }
   ],
   "source": [
    "train.status.mode()"
   ]
  },
  {
   "cell_type": "code",
   "execution_count": 351,
   "metadata": {},
   "outputs": [],
   "source": [
    "train.title = train.title.fillna(\"unknow\")\n",
    "test.title = test.title.fillna(\"unknow\")"
   ]
  },
  {
   "cell_type": "code",
   "execution_count": 352,
   "metadata": {},
   "outputs": [],
   "source": [
    "train.status = train.status.fillna(train.status.mode())\n",
    "test.status = test.status.fillna(train.status.mode())"
   ]
  },
  {
   "cell_type": "code",
   "execution_count": 353,
   "metadata": {},
   "outputs": [],
   "source": [
    "train.release_date = train.release_date.fillna(\"unknow\")\n",
    "test.release_date = test.release_date.fillna(\"unknow\")"
   ]
  },
  {
   "cell_type": "code",
   "execution_count": 374,
   "metadata": {},
   "outputs": [],
   "source": [
    "# Feature Engeering\n",
    "\n",
    "train['genres2'] = train.genres.apply(lambda x: x.count('id'))\n",
    "test['genres2'] = test.genres.apply(lambda x: x.count('id'))\n",
    "\n",
    "train['cast2'] = train.cast.apply(lambda x: x.count('cast_id'))\n",
    "test['cast2'] = test.cast.apply(lambda x: x.count('cast_id'))\n",
    "\n",
    "train['Keywords2'] = train.Keywords.apply(lambda x: x.count('id'))\n",
    "test['Keywords2'] = test.Keywords.apply(lambda x: x.count('id'))\n",
    "\n",
    "train['title2'] = train.title.apply(lambda x: len(x))\n",
    "test['title2'] = test.title.apply(lambda x: len(x))\n",
    "\n",
    "train['tagline2'] = train.tagline.apply(lambda x: len(x))\n",
    "test['tagline2'] = test.tagline.apply(lambda x: len(x))\n",
    "\n",
    "train['spoken_languages2'] = train.spoken_languages.apply(lambda x: x.count('name'))\n",
    "test['spoken_languages2'] = test.spoken_languages.apply(lambda x: x.count('name'))\n",
    "\n",
    "\n",
    "\n",
    "\n",
    "train['production_countries2'] = train.production_countries.apply(lambda x: x.count('name'))\n",
    "test['production_countries2'] = test.production_countries.apply(lambda x: x.count('name'))\n",
    "\n",
    "train['crew2'] = train.crew.apply(lambda x: x.count('id'))\n",
    "test['crew2'] = test.crew.apply(lambda x: x.count('id'))\n",
    "\n",
    "train['overview2'] = train.overview.apply(lambda x: len(x))\n",
    "test['overview2'] = test.overview.apply(lambda x: len(x))\n",
    "\n",
    "train['original_title2'] = train.original_title.apply(lambda x: len(x))\n",
    "test['original_title2'] = test.original_title.apply(lambda x: len(x))\n",
    "\n",
    "train['homepage2'] = train.homepage.apply(lambda x: 0 if x=='unknow' else 1)\n",
    "test['homepage2'] = test.homepage.apply(lambda x: 0 if x=='unknow' else 1)\n",
    "\n",
    "train['belongs_to_collection2'] = train.belongs_to_collection.apply(lambda x: 0 if x=='unknow' else 1)\n",
    "test['belongs_to_collection2'] = test.belongs_to_collection.apply(lambda x: 0 if x=='unknow' else 1)\n",
    "\n",
    "train['production_companies2'] = train.production_companies.apply(lambda x: x.count('id'))\n",
    "test['production_companies2'] = test.production_companies.apply(lambda x: x.count('id'))"
   ]
  },
  {
   "cell_type": "code",
   "execution_count": 382,
   "metadata": {},
   "outputs": [],
   "source": [
    "test.release_date[test.release_date==\"unknow\"] = 0000-00-00"
   ]
  },
  {
   "cell_type": "code",
   "execution_count": 383,
   "metadata": {},
   "outputs": [],
   "source": [
    "train['release_date_year'] = train.release_date.apply(lambda x: pd.to_datetime(x).year)\n",
    "train['release_date_month'] = train.release_date.apply(lambda x: pd.to_datetime(x).month)\n",
    "train['release_date_day'] = train.release_date.apply(lambda x: pd.to_datetime(x).day)\n",
    "train['release_date_weekday'] = train.release_date.apply(lambda x: pd.to_datetime(x).weekday())\n",
    "test['release_date_year'] = test.release_date.apply(lambda x: pd.to_datetime(x).year)\n",
    "test['release_date_month'] = test.release_date.apply(lambda x: pd.to_datetime(x).month)\n",
    "test['release_date_day'] = test.release_date.apply(lambda x: pd.to_datetime(x).day)\n",
    "test['release_date_weekday'] = test.release_date.apply(lambda x: pd.to_datetime(x).weekday())"
   ]
  },
  {
   "cell_type": "code",
   "execution_count": 384,
   "metadata": {},
   "outputs": [
    {
     "data": {
      "text/plain": [
       "Index(['id', 'belongs_to_collection', 'budget', 'genres', 'homepage',\n",
       "       'imdb_id', 'original_language', 'original_title', 'overview',\n",
       "       'popularity', 'poster_path', 'production_companies',\n",
       "       'production_countries', 'release_date', 'runtime', 'spoken_languages',\n",
       "       'status', 'tagline', 'title', 'Keywords', 'cast', 'crew', 'revenue',\n",
       "       'tagline2', 'spoken_languages3', 'spoken_languages2 ',\n",
       "       'spoken_languages2', 'release_data_year', 'release_data_month',\n",
       "       'release_data_day', 'release_data_weekday', 'production_countries2',\n",
       "       'crew2', 'overview2', 'original_title2', 'homepage2',\n",
       "       'train.belongs_to_collection2', 'belongs_to_collection2',\n",
       "       'production_companies2', 'original_title3', 'title2', 'Keywords2',\n",
       "       'cast2', 'genres2', 'production_countries3', 'release_date_year',\n",
       "       'release_date_month', 'release_date_day', 'release_date_weekday'],\n",
       "      dtype='object')"
      ]
     },
     "execution_count": 384,
     "metadata": {},
     "output_type": "execute_result"
    }
   ],
   "source": [
    "train.columns"
   ]
  },
  {
   "cell_type": "code",
   "execution_count": 386,
   "metadata": {},
   "outputs": [],
   "source": [
    "train.drop(['spoken_languages3', 'spoken_languages2 ', 'release_data_year', 'release_data_month',\n",
    "       'release_data_day', 'release_data_weekday',  'train.belongs_to_collection2', 'original_title3', 'production_countries3'], axis=1, inplace=True)"
   ]
  },
  {
   "cell_type": "code",
   "execution_count": 387,
   "metadata": {},
   "outputs": [
    {
     "data": {
      "text/plain": [
       "Index(['id', 'belongs_to_collection', 'budget', 'genres', 'homepage',\n",
       "       'imdb_id', 'original_language', 'original_title', 'overview',\n",
       "       'popularity', 'poster_path', 'production_companies',\n",
       "       'production_countries', 'release_date', 'runtime', 'spoken_languages',\n",
       "       'status', 'tagline', 'title', 'Keywords', 'cast', 'crew', 'revenue',\n",
       "       'tagline2', 'spoken_languages2', 'production_countries2', 'crew2',\n",
       "       'overview2', 'original_title2', 'homepage2', 'belongs_to_collection2',\n",
       "       'production_companies2', 'title2', 'Keywords2', 'cast2', 'genres2',\n",
       "       'release_date_year', 'release_date_month', 'release_date_day',\n",
       "       'release_date_weekday'],\n",
       "      dtype='object')"
      ]
     },
     "execution_count": 387,
     "metadata": {},
     "output_type": "execute_result"
    }
   ],
   "source": [
    "train.columns"
   ]
  },
  {
   "cell_type": "code",
   "execution_count": 388,
   "metadata": {},
   "outputs": [
    {
     "data": {
      "text/plain": [
       "Index(['id', 'belongs_to_collection', 'budget', 'genres', 'homepage',\n",
       "       'imdb_id', 'original_language', 'original_title', 'overview',\n",
       "       'popularity', 'poster_path', 'production_companies',\n",
       "       'production_countries', 'release_date', 'runtime', 'spoken_languages',\n",
       "       'status', 'tagline', 'title', 'Keywords', 'cast', 'crew', 'genres2',\n",
       "       'cast2', 'Keywords2', 'title2', 'tagline2', 'spoken_languages2',\n",
       "       'production_countries2', 'crew2', 'overview2', 'original_title2',\n",
       "       'homepage2', 'belongs_to_collection2', 'production_companies2',\n",
       "       'release_date_year', 'release_date_month', 'release_date_day',\n",
       "       'release_date_weekday'],\n",
       "      dtype='object')"
      ]
     },
     "execution_count": 388,
     "metadata": {},
     "output_type": "execute_result"
    }
   ],
   "source": [
    "test.columns"
   ]
  },
  {
   "cell_type": "code",
   "execution_count": 391,
   "metadata": {},
   "outputs": [],
   "source": [
    "train2 = train.copy()\n",
    "test2 = test.copy()"
   ]
  },
  {
   "cell_type": "code",
   "execution_count": 393,
   "metadata": {},
   "outputs": [],
   "source": [
    "train.drop(['id', 'belongs_to_collection', 'genres', 'homepage',\n",
    "       'imdb_id', 'original_language', 'original_title', 'overview', 'poster_path', 'production_companies',\n",
    "       'production_countries', 'release_date', 'spoken_languages' , 'tagline', 'title', 'Keywords', 'cast', 'crew'], axis=1, inplace=True)"
   ]
  },
  {
   "cell_type": "code",
   "execution_count": 395,
   "metadata": {},
   "outputs": [],
   "source": [
    "test.drop(['id', 'belongs_to_collection', 'genres', 'homepage',\n",
    "       'imdb_id', 'original_language', 'original_title', 'overview', 'poster_path', 'production_companies',\n",
    "       'production_countries', 'release_date', 'spoken_languages' , 'tagline', 'title', 'Keywords', 'cast', 'crew'], axis=1, inplace=True)"
   ]
  },
  {
   "cell_type": "code",
   "execution_count": 396,
   "metadata": {},
   "outputs": [
    {
     "data": {
      "text/plain": [
       "(3000, 22)"
      ]
     },
     "execution_count": 396,
     "metadata": {},
     "output_type": "execute_result"
    }
   ],
   "source": [
    "train.shape"
   ]
  },
  {
   "cell_type": "code",
   "execution_count": 397,
   "metadata": {},
   "outputs": [
    {
     "data": {
      "text/plain": [
       "(4398, 21)"
      ]
     },
     "execution_count": 397,
     "metadata": {},
     "output_type": "execute_result"
    }
   ],
   "source": [
    "test.shape"
   ]
  },
  {
   "cell_type": "code",
   "execution_count": 398,
   "metadata": {},
   "outputs": [],
   "source": [
    "tmdb = pd.concat([train, test], sort=False)"
   ]
  },
  {
   "cell_type": "code",
   "execution_count": 400,
   "metadata": {},
   "outputs": [
    {
     "data": {
      "text/plain": [
       "(7398, 22)"
      ]
     },
     "execution_count": 400,
     "metadata": {},
     "output_type": "execute_result"
    }
   ],
   "source": [
    "tmdb.shape"
   ]
  },
  {
   "cell_type": "code",
   "execution_count": 401,
   "metadata": {},
   "outputs": [],
   "source": [
    "tmdb = pd.get_dummies(tmdb)"
   ]
  },
  {
   "cell_type": "code",
   "execution_count": 403,
   "metadata": {},
   "outputs": [
    {
     "data": {
      "text/html": [
       "<div>\n",
       "<style scoped>\n",
       "    .dataframe tbody tr th:only-of-type {\n",
       "        vertical-align: middle;\n",
       "    }\n",
       "\n",
       "    .dataframe tbody tr th {\n",
       "        vertical-align: top;\n",
       "    }\n",
       "\n",
       "    .dataframe thead th {\n",
       "        text-align: right;\n",
       "    }\n",
       "</style>\n",
       "<table border=\"1\" class=\"dataframe\">\n",
       "  <thead>\n",
       "    <tr style=\"text-align: right;\">\n",
       "      <th></th>\n",
       "      <th>budget</th>\n",
       "      <th>popularity</th>\n",
       "      <th>runtime</th>\n",
       "      <th>revenue</th>\n",
       "      <th>tagline2</th>\n",
       "      <th>spoken_languages2</th>\n",
       "      <th>production_countries2</th>\n",
       "      <th>crew2</th>\n",
       "      <th>overview2</th>\n",
       "      <th>original_title2</th>\n",
       "      <th>...</th>\n",
       "      <th>Keywords2</th>\n",
       "      <th>cast2</th>\n",
       "      <th>genres2</th>\n",
       "      <th>release_date_year</th>\n",
       "      <th>release_date_month</th>\n",
       "      <th>release_date_day</th>\n",
       "      <th>release_date_weekday</th>\n",
       "      <th>status_Post Production</th>\n",
       "      <th>status_Released</th>\n",
       "      <th>status_Rumored</th>\n",
       "    </tr>\n",
       "  </thead>\n",
       "  <tbody>\n",
       "    <tr>\n",
       "      <th>0</th>\n",
       "      <td>14000000</td>\n",
       "      <td>6.575393</td>\n",
       "      <td>93.0</td>\n",
       "      <td>12314651.0</td>\n",
       "      <td>52</td>\n",
       "      <td>1</td>\n",
       "      <td>1</td>\n",
       "      <td>144</td>\n",
       "      <td>155</td>\n",
       "      <td>22</td>\n",
       "      <td>...</td>\n",
       "      <td>4</td>\n",
       "      <td>24</td>\n",
       "      <td>1</td>\n",
       "      <td>2015</td>\n",
       "      <td>2</td>\n",
       "      <td>20</td>\n",
       "      <td>4</td>\n",
       "      <td>0</td>\n",
       "      <td>1</td>\n",
       "      <td>0</td>\n",
       "    </tr>\n",
       "    <tr>\n",
       "      <th>1</th>\n",
       "      <td>40000000</td>\n",
       "      <td>8.248895</td>\n",
       "      <td>113.0</td>\n",
       "      <td>95149435.0</td>\n",
       "      <td>60</td>\n",
       "      <td>1</td>\n",
       "      <td>1</td>\n",
       "      <td>18</td>\n",
       "      <td>393</td>\n",
       "      <td>40</td>\n",
       "      <td>...</td>\n",
       "      <td>4</td>\n",
       "      <td>20</td>\n",
       "      <td>4</td>\n",
       "      <td>2004</td>\n",
       "      <td>8</td>\n",
       "      <td>6</td>\n",
       "      <td>4</td>\n",
       "      <td>0</td>\n",
       "      <td>1</td>\n",
       "      <td>0</td>\n",
       "    </tr>\n",
       "    <tr>\n",
       "      <th>2</th>\n",
       "      <td>3300000</td>\n",
       "      <td>64.299990</td>\n",
       "      <td>105.0</td>\n",
       "      <td>13092000.0</td>\n",
       "      <td>47</td>\n",
       "      <td>1</td>\n",
       "      <td>1</td>\n",
       "      <td>132</td>\n",
       "      <td>130</td>\n",
       "      <td>8</td>\n",
       "      <td>...</td>\n",
       "      <td>12</td>\n",
       "      <td>51</td>\n",
       "      <td>1</td>\n",
       "      <td>2014</td>\n",
       "      <td>10</td>\n",
       "      <td>10</td>\n",
       "      <td>4</td>\n",
       "      <td>0</td>\n",
       "      <td>1</td>\n",
       "      <td>0</td>\n",
       "    </tr>\n",
       "    <tr>\n",
       "      <th>3</th>\n",
       "      <td>1200000</td>\n",
       "      <td>3.174936</td>\n",
       "      <td>122.0</td>\n",
       "      <td>16000000.0</td>\n",
       "      <td>6</td>\n",
       "      <td>2</td>\n",
       "      <td>1</td>\n",
       "      <td>6</td>\n",
       "      <td>581</td>\n",
       "      <td>7</td>\n",
       "      <td>...</td>\n",
       "      <td>7</td>\n",
       "      <td>7</td>\n",
       "      <td>2</td>\n",
       "      <td>2012</td>\n",
       "      <td>3</td>\n",
       "      <td>9</td>\n",
       "      <td>4</td>\n",
       "      <td>0</td>\n",
       "      <td>1</td>\n",
       "      <td>0</td>\n",
       "    </tr>\n",
       "    <tr>\n",
       "      <th>4</th>\n",
       "      <td>0</td>\n",
       "      <td>1.148070</td>\n",
       "      <td>118.0</td>\n",
       "      <td>3923970.0</td>\n",
       "      <td>6</td>\n",
       "      <td>1</td>\n",
       "      <td>1</td>\n",
       "      <td>4</td>\n",
       "      <td>168</td>\n",
       "      <td>4</td>\n",
       "      <td>...</td>\n",
       "      <td>0</td>\n",
       "      <td>4</td>\n",
       "      <td>2</td>\n",
       "      <td>2009</td>\n",
       "      <td>2</td>\n",
       "      <td>5</td>\n",
       "      <td>3</td>\n",
       "      <td>0</td>\n",
       "      <td>1</td>\n",
       "      <td>0</td>\n",
       "    </tr>\n",
       "  </tbody>\n",
       "</table>\n",
       "<p>5 rows × 24 columns</p>\n",
       "</div>"
      ],
      "text/plain": [
       "     budget  popularity  runtime     revenue  tagline2  spoken_languages2  \\\n",
       "0  14000000    6.575393     93.0  12314651.0        52                  1   \n",
       "1  40000000    8.248895    113.0  95149435.0        60                  1   \n",
       "2   3300000   64.299990    105.0  13092000.0        47                  1   \n",
       "3   1200000    3.174936    122.0  16000000.0         6                  2   \n",
       "4         0    1.148070    118.0   3923970.0         6                  1   \n",
       "\n",
       "   production_countries2  crew2  overview2  original_title2  ...  Keywords2  \\\n",
       "0                      1    144        155               22  ...          4   \n",
       "1                      1     18        393               40  ...          4   \n",
       "2                      1    132        130                8  ...         12   \n",
       "3                      1      6        581                7  ...          7   \n",
       "4                      1      4        168                4  ...          0   \n",
       "\n",
       "   cast2  genres2  release_date_year  release_date_month  release_date_day  \\\n",
       "0     24        1               2015                   2                20   \n",
       "1     20        4               2004                   8                 6   \n",
       "2     51        1               2014                  10                10   \n",
       "3      7        2               2012                   3                 9   \n",
       "4      4        2               2009                   2                 5   \n",
       "\n",
       "   release_date_weekday  status_Post Production  status_Released  \\\n",
       "0                     4                       0                1   \n",
       "1                     4                       0                1   \n",
       "2                     4                       0                1   \n",
       "3                     4                       0                1   \n",
       "4                     3                       0                1   \n",
       "\n",
       "   status_Rumored  \n",
       "0               0  \n",
       "1               0  \n",
       "2               0  \n",
       "3               0  \n",
       "4               0  \n",
       "\n",
       "[5 rows x 24 columns]"
      ]
     },
     "execution_count": 403,
     "metadata": {},
     "output_type": "execute_result"
    }
   ],
   "source": [
    "tmdb.head()"
   ]
  },
  {
   "cell_type": "code",
   "execution_count": 407,
   "metadata": {},
   "outputs": [],
   "source": [
    "len_train = len(train)\n",
    "len_test = len(test)"
   ]
  },
  {
   "cell_type": "code",
   "execution_count": 408,
   "metadata": {},
   "outputs": [],
   "source": [
    "train = tmdb[:len_train]\n",
    "test = tmdb[len_train:]"
   ]
  },
  {
   "cell_type": "code",
   "execution_count": 413,
   "metadata": {},
   "outputs": [
    {
     "data": {
      "text/plain": [
       "dtype('float64')"
      ]
     },
     "execution_count": 413,
     "metadata": {},
     "output_type": "execute_result"
    }
   ],
   "source": [
    "train.revenue.dtype"
   ]
  },
  {
   "cell_type": "code",
   "execution_count": 415,
   "metadata": {},
   "outputs": [],
   "source": [
    "train.revenue = train.revenue.astype('int')"
   ]
  },
  {
   "cell_type": "code",
   "execution_count": 416,
   "metadata": {},
   "outputs": [
    {
     "data": {
      "text/plain": [
       "dtype('int32')"
      ]
     },
     "execution_count": 416,
     "metadata": {},
     "output_type": "execute_result"
    }
   ],
   "source": [
    "train.revenue.dtype"
   ]
  },
  {
   "cell_type": "code",
   "execution_count": 418,
   "metadata": {},
   "outputs": [],
   "source": [
    "xtrain=train.drop(\"revenue\", axis=1)\n",
    "ytrain=train['revenue']\n",
    "xtest=test.drop(\"revenue\", axis=1)"
   ]
  },
  {
   "cell_type": "code",
   "execution_count": 419,
   "metadata": {},
   "outputs": [],
   "source": [
    "from sklearn.model_selection import cross_val_score\n",
    "from sklearn.ensemble import RandomForestClassifier\n",
    "from sklearn.svm import SVC\n",
    "from sklearn.preprocessing import StandardScaler\n",
    "from sklearn.pipeline import make_pipeline\n",
    "from sklearn.model_selection import GridSearchCV"
   ]
  },
  {
   "cell_type": "code",
   "execution_count": 420,
   "metadata": {},
   "outputs": [
    {
     "name": "stderr",
     "output_type": "stream",
     "text": [
      "d:\\python\\python36\\lib\\site-packages\\sklearn\\model_selection\\_search.py:841: DeprecationWarning: The default of the `iid` parameter will change from True to False in version 0.22 and will be removed in 0.24. This will change numeric results when test-set sizes are unequal.\n",
      "  DeprecationWarning)\n",
      "d:\\python\\python36\\lib\\site-packages\\sklearn\\model_selection\\_search.py:841: DeprecationWarning: The default of the `iid` parameter will change from True to False in version 0.22 and will be removed in 0.24. This will change numeric results when test-set sizes are unequal.\n",
      "  DeprecationWarning)\n",
      "d:\\python\\python36\\lib\\site-packages\\sklearn\\model_selection\\_search.py:841: DeprecationWarning: The default of the `iid` parameter will change from True to False in version 0.22 and will be removed in 0.24. This will change numeric results when test-set sizes are unequal.\n",
      "  DeprecationWarning)\n",
      "d:\\python\\python36\\lib\\site-packages\\sklearn\\model_selection\\_search.py:841: DeprecationWarning: The default of the `iid` parameter will change from True to False in version 0.22 and will be removed in 0.24. This will change numeric results when test-set sizes are unequal.\n",
      "  DeprecationWarning)\n",
      "d:\\python\\python36\\lib\\site-packages\\sklearn\\model_selection\\_search.py:841: DeprecationWarning: The default of the `iid` parameter will change from True to False in version 0.22 and will be removed in 0.24. This will change numeric results when test-set sizes are unequal.\n",
      "  DeprecationWarning)\n"
     ]
    }
   ],
   "source": [
    "RF=RandomForestClassifier(random_state=1)\n",
    "PRF=[{'n_estimators':[10,100],'max_depth':[3,6],'criterion':['gini','entropy']}]\n",
    "GSRF=GridSearchCV(estimator=RF, param_grid=PRF, scoring='accuracy',cv=2)\n",
    "scores_rf=cross_val_score(GSRF,xtrain,ytrain,scoring='accuracy',cv=5)"
   ]
  },
  {
   "cell_type": "code",
   "execution_count": 421,
   "metadata": {},
   "outputs": [
    {
     "data": {
      "text/plain": [
       "0.12363862377073284"
      ]
     },
     "execution_count": 421,
     "metadata": {},
     "output_type": "execute_result"
    }
   ],
   "source": [
    "np.mean(scores_rf)"
   ]
  },
  {
   "cell_type": "code",
   "execution_count": 424,
   "metadata": {},
   "outputs": [],
   "source": [
    "from sklearn.tree import DecisionTreeRegressor\n",
    "from sklearn.ensemble import RandomForestRegressor\n",
    "from xgboost import XGBRegressor\n",
    "from sklearn.pipeline import make_pipeline\n",
    "from sklearn.preprocessing import Imputer\n",
    "from sklearn.model_selection import train_test_split\n",
    "from sklearn.model_selection import cross_val_score\n",
    "from sklearn.metrics import mean_absolute_error\n",
    "from sklearn.metrics import mean_squared_error\n",
    "from math import sqrt\n",
    "from math import log"
   ]
  },
  {
   "cell_type": "code",
   "execution_count": 428,
   "metadata": {},
   "outputs": [
    {
     "data": {
      "text/plain": [
       "XGBRegressor(base_score=0.5, booster='gbtree', colsample_bylevel=1,\n",
       "       colsample_bytree=1, gamma=0, importance_type='gain',\n",
       "       learning_rate=0.05, max_delta_step=0, max_depth=3,\n",
       "       min_child_weight=1, missing=None, n_estimators=1000, n_jobs=1,\n",
       "       nthread=None, objective='reg:linear', random_state=0, reg_alpha=0,\n",
       "       reg_lambda=1, scale_pos_weight=1, seed=None, silent=True,\n",
       "       subsample=1)"
      ]
     },
     "execution_count": 428,
     "metadata": {},
     "output_type": "execute_result"
    }
   ],
   "source": [
    "train_X, val_X, train_y, val_y = train_test_split(xtrain, ytrain, random_state=1)\n",
    "my_model = XGBRegressor(n_estimators=1000, learning_rate=0.05)\n",
    "my_model.fit(train_X, train_y)\n"
   ]
  },
  {
   "cell_type": "code",
   "execution_count": 429,
   "metadata": {},
   "outputs": [],
   "source": [
    "val_preds = my_model.predict(val_X)"
   ]
  },
  {
   "cell_type": "code",
   "execution_count": 436,
   "metadata": {},
   "outputs": [],
   "source": [
    "rmsle = mean_squared_error(np.log(abs(val_preds)), np.log(val_y))"
   ]
  },
  {
   "cell_type": "code",
   "execution_count": 437,
   "metadata": {},
   "outputs": [
    {
     "name": "stdout",
     "output_type": "stream",
     "text": [
      "RMSLE: 2.570050\n"
     ]
    }
   ],
   "source": [
    "print(\"RMSLE: %2f\" %sqrt(rmsle))"
   ]
  },
  {
   "cell_type": "code",
   "execution_count": 449,
   "metadata": {},
   "outputs": [],
   "source": [
    "val_preds2 = val_preds.copy()"
   ]
  },
  {
   "cell_type": "code",
   "execution_count": 496,
   "metadata": {},
   "outputs": [],
   "source": [
    "val_preds[val_preds<0] = 0"
   ]
  },
  {
   "cell_type": "code",
   "execution_count": 497,
   "metadata": {},
   "outputs": [
    {
     "data": {
      "text/plain": [
       "array([1.49355008e+08, 2.18622760e+07, 9.83258496e+08, 8.67966960e+07,\n",
       "       7.95723120e+07, 1.38239088e+08, 2.08267140e+07, 3.27921700e+07,\n",
       "       1.14914880e+08, 6.97339200e+06, 1.17761520e+08, 0.00000000e+00,\n",
       "       0.00000000e+00, 0.00000000e+00, 6.80930960e+07, 0.00000000e+00,\n",
       "       6.50690350e+06, 6.71518800e+06, 2.36820840e+07, 1.34348612e+06,\n",
       "       0.00000000e+00, 8.53885440e+07, 8.67304000e+06, 0.00000000e+00,\n",
       "       4.11246800e+07, 1.25542650e+06, 1.68768272e+08, 7.80840160e+07,\n",
       "       8.93471562e+05, 3.32419075e+06, 2.48930600e+06, 6.53028992e+08,\n",
       "       9.52534000e+06, 5.35641320e+07, 1.01471056e+08, 7.91720100e+06,\n",
       "       1.89031720e+07, 7.64626880e+07, 3.96993320e+07, 6.87120400e+07,\n",
       "       3.08369650e+06, 1.14099120e+07, 2.49285860e+07, 0.00000000e+00,\n",
       "       3.32180220e+07, 0.00000000e+00, 0.00000000e+00, 4.03708840e+07,\n",
       "       5.77404600e+07, 1.55907760e+07, 4.89528520e+07, 2.95213792e+08,\n",
       "       1.27264880e+08, 1.03207260e+07, 5.75708120e+07, 9.36070960e+07,\n",
       "       7.99335150e+06, 7.46319200e+07, 4.25501000e+07, 0.00000000e+00,\n",
       "       1.17873440e+07, 3.08557080e+07, 2.26759920e+07, 3.19797440e+07,\n",
       "       4.09486440e+07, 2.22707904e+08, 5.64198400e+07, 3.70711240e+07,\n",
       "       7.72690200e+06, 1.01964488e+08, 3.54362240e+07, 3.88223400e+07,\n",
       "       1.22718640e+08, 0.00000000e+00, 6.18978200e+06, 6.70674700e+06,\n",
       "       5.30198600e+07, 6.53039400e+07, 0.00000000e+00, 6.69455450e+06,\n",
       "       1.26635704e+08, 6.97887680e+08, 2.58199980e+07, 4.53717040e+07,\n",
       "       3.64467925e+06, 1.31538020e+07, 1.11001580e+07, 2.32472460e+07,\n",
       "       8.70189400e+06, 1.78799860e+07, 1.75375840e+07, 5.31675200e+07,\n",
       "       8.13108880e+07, 2.85075840e+07, 0.00000000e+00, 2.00951344e+08,\n",
       "       1.86762980e+07, 1.87736480e+08, 5.62380320e+07, 4.76222040e+07,\n",
       "       1.13830400e+08, 0.00000000e+00, 1.03085300e+07, 8.25951040e+07,\n",
       "       8.75971360e+07, 8.19650400e+07, 1.15565120e+07, 7.26807600e+06,\n",
       "       1.93192288e+08, 6.16526850e+06, 0.00000000e+00, 8.09079280e+07,\n",
       "       7.38820160e+07, 0.00000000e+00, 4.19160840e+07, 1.05623300e+07,\n",
       "       7.36849100e+06, 8.00895950e+06, 1.53479620e+07, 5.91906280e+07,\n",
       "       7.23039280e+07, 9.62787600e+06, 1.03783024e+08, 1.92733248e+08,\n",
       "       3.55741240e+07, 1.83168825e+06, 3.49751520e+07, 1.21653400e+07,\n",
       "       4.17411720e+07, 1.49146416e+08, 6.79934100e+06, 1.07035880e+08,\n",
       "       1.52812640e+07, 2.15040000e+08, 1.34797420e+07, 3.61479438e+05,\n",
       "       4.03340520e+07, 0.00000000e+00, 5.14915120e+07, 7.66105344e+08,\n",
       "       1.56742304e+08, 5.53965680e+07, 6.65394120e+07, 6.44333250e+06,\n",
       "       2.94761720e+07, 0.00000000e+00, 2.58335425e+06, 4.49331800e+07,\n",
       "       1.34114000e+08, 8.93478200e+06, 1.04274952e+08, 1.43787792e+08,\n",
       "       5.27524880e+07, 1.07803320e+07, 3.09447840e+07, 2.79592620e+07,\n",
       "       2.75104040e+07, 0.00000000e+00, 1.00337320e+08, 3.17724725e+06,\n",
       "       1.53303960e+07, 2.32288300e+07, 6.34269840e+07, 4.00837240e+07,\n",
       "       1.20865340e+07, 7.75387600e+07, 2.19719940e+07, 0.00000000e+00,\n",
       "       1.39149744e+08, 4.90453120e+07, 2.55528140e+07, 1.03912397e+09,\n",
       "       1.03225136e+08, 1.82479568e+08, 1.97986280e+07, 2.12885620e+07,\n",
       "       6.85685900e+06, 1.45328520e+07, 1.50102680e+07, 3.96496560e+07,\n",
       "       6.79650640e+07, 0.00000000e+00, 1.07189560e+08, 3.00149248e+08,\n",
       "       4.91184120e+07, 0.00000000e+00, 6.42267400e+07, 6.44366150e+06,\n",
       "       4.19610080e+07, 1.33795560e+07, 1.03759320e+08, 1.22544184e+08,\n",
       "       3.86412280e+07, 3.96929888e+08, 4.17740700e+06, 3.64145240e+07,\n",
       "       9.52867600e+06, 1.13014460e+07, 5.28543680e+07, 5.17467920e+07,\n",
       "       1.65921840e+07, 6.87115392e+08, 1.54434600e+07, 0.00000000e+00,\n",
       "       1.04670960e+07, 1.44221040e+07, 7.97308880e+07, 1.08505792e+08,\n",
       "       9.14301760e+07, 1.98233520e+07, 0.00000000e+00, 0.00000000e+00,\n",
       "       8.03980050e+06, 0.00000000e+00, 0.00000000e+00, 8.22326850e+06,\n",
       "       3.05993200e+07, 1.39824832e+08, 0.00000000e+00, 5.16369150e+06,\n",
       "       4.85122160e+07, 0.00000000e+00, 3.58606280e+07, 1.07397432e+08,\n",
       "       2.23651940e+07, 8.28328960e+07, 5.56219750e+06, 4.02368240e+07,\n",
       "       1.21776920e+07, 3.30417760e+07, 3.72586800e+06, 9.61400480e+07,\n",
       "       3.11302460e+07, 0.00000000e+00, 8.18994160e+07, 2.19119180e+07,\n",
       "       3.43029320e+07, 6.81203040e+07, 6.83400320e+07, 4.65451700e+06,\n",
       "       6.95364480e+07, 1.05152496e+08, 1.70981088e+08, 9.04570400e+06,\n",
       "       8.26292050e+06, 2.41114000e+07, 6.03801240e+07, 1.30756992e+08,\n",
       "       4.16954400e+08, 1.25894816e+08, 4.21656350e+06, 5.51170520e+07,\n",
       "       2.33789216e+08, 3.10647296e+08, 2.56110060e+07, 0.00000000e+00,\n",
       "       9.58884560e+07, 5.69633024e+08, 4.06686080e+07, 1.13230608e+08,\n",
       "       2.80123840e+08, 6.38245280e+07, 4.54521560e+07, 3.18315840e+07,\n",
       "       2.99740480e+07, 8.87575600e+06, 1.63300960e+07, 1.27416464e+08,\n",
       "       1.13725680e+08, 1.82134032e+08, 1.94474420e+07, 2.53361600e+07,\n",
       "       1.46723984e+08, 9.12612400e+07, 1.09707304e+08, 2.17605380e+07,\n",
       "       1.21101896e+08, 1.41212200e+07, 2.79615480e+07, 0.00000000e+00,\n",
       "       8.34253680e+07, 5.35958600e+07, 1.15931800e+07, 0.00000000e+00,\n",
       "       8.56119200e+07, 3.73549880e+07, 4.51233728e+08, 1.85203940e+07,\n",
       "       8.49691800e+06, 1.37322820e+07, 1.21635616e+08, 2.02715575e+06,\n",
       "       4.61829000e+06, 2.28766620e+07, 5.73960450e+06, 1.92726560e+07,\n",
       "       1.32074720e+07, 1.67059088e+08, 3.01948740e+07, 4.74944160e+07,\n",
       "       5.84501500e+06, 0.00000000e+00, 3.02459100e+07, 2.83270340e+07,\n",
       "       4.50608550e+06, 0.00000000e+00, 0.00000000e+00, 2.87284960e+07,\n",
       "       6.96564720e+07, 7.92935950e+06, 1.61084704e+08, 0.00000000e+00,\n",
       "       1.82921940e+07, 0.00000000e+00, 4.42393850e+06, 5.30026150e+06,\n",
       "       1.34764592e+08, 0.00000000e+00, 5.72555320e+07, 3.00499180e+07,\n",
       "       3.12653460e+07, 4.16359520e+07, 9.25736384e+08, 2.37690520e+07,\n",
       "       1.80142160e+08, 1.28519680e+08, 1.03449400e+07, 1.41028680e+07,\n",
       "       6.11139360e+07, 1.46394752e+08, 3.55433040e+07, 1.71610112e+06,\n",
       "       5.54980050e+06, 7.75765850e+06, 9.83315800e+06, 2.50474040e+07,\n",
       "       4.03686560e+07, 3.95519840e+08, 1.17082320e+07, 1.25927840e+07,\n",
       "       1.30862620e+07, 1.21791220e+07, 4.98863680e+07, 0.00000000e+00,\n",
       "       2.05605600e+07, 0.00000000e+00, 8.15879150e+06, 3.66260280e+07,\n",
       "       1.14171188e+06, 2.24839040e+07, 3.76231725e+06, 2.58144160e+07,\n",
       "       1.69989960e+07, 7.73111760e+07, 1.20457824e+08, 4.76688100e+06,\n",
       "       1.73387488e+06, 1.85492960e+07, 9.46505344e+08, 8.30702640e+07,\n",
       "       4.69555720e+07, 2.46760200e+07, 1.26267080e+07, 8.64938960e+07,\n",
       "       4.32205040e+07, 4.33689000e+07, 3.09393536e+08, 1.19818580e+07,\n",
       "       1.26171380e+07, 2.32820420e+07, 1.54353538e+06, 1.93076138e+06,\n",
       "       4.15065960e+07, 0.00000000e+00, 1.12799376e+08, 8.18418960e+07,\n",
       "       6.68502000e+07, 2.25914640e+07, 2.51677536e+08, 1.58105840e+08,\n",
       "       1.11685080e+07, 1.08683712e+08, 0.00000000e+00, 8.85787920e+07,\n",
       "       1.16372140e+07, 5.70925500e+06, 3.82303720e+07, 1.01572280e+08,\n",
       "       2.87434340e+07, 8.93314000e+06, 4.34207300e+06, 5.92233080e+07,\n",
       "       3.18755520e+07, 8.24111700e+06, 3.34751072e+08, 3.68714950e+06,\n",
       "       4.62302800e+07, 8.66515680e+07, 9.02794320e+07, 9.11228800e+06,\n",
       "       4.68681680e+07, 0.00000000e+00, 1.29834144e+08, 4.01720280e+07,\n",
       "       1.91039280e+08, 1.58940200e+07, 1.95575362e+06, 1.14591860e+07,\n",
       "       5.18345650e+06, 3.22517740e+07, 7.65132640e+07, 9.27864600e+06,\n",
       "       3.01426300e+07, 2.18014500e+07, 6.30224250e+06, 1.60572128e+08,\n",
       "       1.44993620e+07, 1.55523960e+07, 1.01016992e+08, 6.20448440e+07,\n",
       "       0.00000000e+00, 2.37870160e+08, 5.80757700e+06, 7.61918160e+07,\n",
       "       1.50838784e+08, 1.43023360e+08, 1.39638960e+08, 1.38425060e+07,\n",
       "       9.50153200e+06, 0.00000000e+00, 1.08128440e+07, 0.00000000e+00,\n",
       "       3.32818528e+08, 3.09093340e+07, 0.00000000e+00, 8.33960880e+07,\n",
       "       1.05859688e+08, 3.39913825e+06, 9.26247600e+07, 3.00218640e+07,\n",
       "       5.52145500e+06, 1.71036600e+07, 1.50084300e+07, 9.05339760e+07,\n",
       "       1.71428960e+07, 1.28087820e+07, 1.05162800e+07, 2.54412416e+08,\n",
       "       0.00000000e+00, 0.00000000e+00, 9.12932560e+07, 1.12064960e+07,\n",
       "       0.00000000e+00, 3.30489840e+07, 0.00000000e+00, 8.15886880e+07,\n",
       "       0.00000000e+00, 6.84128880e+07, 5.63303680e+07, 0.00000000e+00,\n",
       "       5.98401440e+07, 8.34277840e+07, 7.27746562e+05, 4.22759500e+06,\n",
       "       5.27008480e+07, 6.23411480e+07, 1.35874160e+07, 3.34333160e+07,\n",
       "       5.40479000e+07, 7.34675120e+07, 1.38617200e+07, 3.74270120e+07,\n",
       "       1.23204400e+07, 3.81027960e+07, 0.00000000e+00, 6.57311750e+06,\n",
       "       3.39643300e+06, 5.08238200e+07, 7.11591920e+07, 2.96867125e+06,\n",
       "       1.39645960e+07, 0.00000000e+00, 5.38114800e+07, 2.16455680e+07,\n",
       "       5.84460960e+07, 6.74857360e+07, 4.34275760e+07, 5.85877040e+07,\n",
       "       1.28613320e+08, 3.29315712e+08, 4.53891360e+07, 1.23087000e+08,\n",
       "       1.80798700e+07, 0.00000000e+00, 1.95997408e+08, 1.11215960e+07,\n",
       "       0.00000000e+00, 0.00000000e+00, 1.05140112e+08, 1.94175400e+07,\n",
       "       3.89759960e+07, 1.10448192e+08, 3.58858880e+08, 1.07363824e+08,\n",
       "       3.70839900e+06, 0.00000000e+00, 2.02780480e+07, 0.00000000e+00,\n",
       "       3.06254520e+07, 1.08771944e+08, 3.62803360e+07, 6.34379920e+07,\n",
       "       0.00000000e+00, 0.00000000e+00, 0.00000000e+00, 1.70020960e+08,\n",
       "       8.46008160e+07, 6.50348720e+07, 1.17290848e+08, 0.00000000e+00,\n",
       "       5.96592050e+06, 1.24765736e+08, 1.71566656e+08, 4.59647240e+07,\n",
       "       9.42364800e+06, 0.00000000e+00, 0.00000000e+00, 0.00000000e+00,\n",
       "       2.76580120e+07, 0.00000000e+00, 0.00000000e+00, 5.36703240e+07,\n",
       "       0.00000000e+00, 9.23018800e+06, 4.48443650e+06, 2.52803520e+07,\n",
       "       0.00000000e+00, 1.18008680e+07, 4.74232000e+06, 6.06224520e+07,\n",
       "       1.01362832e+08, 4.90816360e+07, 4.99595219e+05, 1.12637860e+07,\n",
       "       7.29989600e+07, 1.80171200e+06, 1.27528600e+07, 0.00000000e+00,\n",
       "       4.12861525e+06, 0.00000000e+00, 9.78629120e+07, 0.00000000e+00,\n",
       "       2.71848840e+07, 1.17647568e+08, 7.44816600e+06, 2.76596000e+07,\n",
       "       6.74454320e+07, 1.14184240e+07, 5.32773760e+07, 1.95008380e+07,\n",
       "       1.34953248e+08, 7.10994050e+06, 1.80276520e+07, 2.47719940e+07,\n",
       "       1.26417300e+07, 1.83003860e+07, 3.13306840e+07, 6.03218650e+06,\n",
       "       2.73064560e+07, 7.98662300e+06, 0.00000000e+00, 3.60838600e+07,\n",
       "       9.62515400e+06, 0.00000000e+00, 2.48728060e+07, 8.95672320e+07,\n",
       "       1.42632560e+07, 0.00000000e+00, 2.41860600e+07, 3.60773320e+07,\n",
       "       4.08722600e+07, 0.00000000e+00, 8.50177680e+07, 4.03188360e+07,\n",
       "       1.58527062e+06, 1.25434136e+08, 4.85754120e+07, 1.20190680e+07,\n",
       "       8.62650400e+07, 1.70481780e+07, 1.66650112e+06, 6.62968800e+07,\n",
       "       9.01182400e+06, 2.97727800e+06, 1.81251425e+06, 4.44157320e+07,\n",
       "       5.82193200e+07, 3.80027480e+07, 4.04958880e+07, 0.00000000e+00,\n",
       "       7.70785040e+07, 1.18243848e+08, 3.60182560e+07, 2.23292140e+07,\n",
       "       8.18963040e+07, 2.25255400e+07, 1.14540900e+07, 1.43578662e+06,\n",
       "       5.78759300e+06, 9.52696600e+06, 1.19039872e+08, 8.27945760e+07,\n",
       "       4.02493800e+06, 2.50039250e+06, 0.00000000e+00, 4.39838950e+06,\n",
       "       2.54266580e+07, 5.64563000e+06, 1.21466560e+07, 2.27656500e+07,\n",
       "       2.37059216e+08, 3.30119438e+05, 5.17283650e+06, 1.04613752e+08,\n",
       "       7.20718500e+06, 1.40601216e+08, 2.33808160e+07, 8.93548720e+07,\n",
       "       7.35676480e+07, 2.80705020e+07, 1.47189728e+08, 0.00000000e+00,\n",
       "       9.69198400e+06, 2.12507380e+07, 4.63677880e+07, 5.52757720e+07,\n",
       "       5.81437952e+08, 3.39621400e+07, 2.80720250e+06, 0.00000000e+00,\n",
       "       3.78277080e+07, 2.85895380e+07, 1.40776380e+07, 9.08534208e+08,\n",
       "       2.37768944e+08, 2.72305856e+08, 0.00000000e+00, 9.54232320e+07,\n",
       "       1.18670264e+08, 3.02352275e+06, 5.38861440e+08, 6.80552640e+07,\n",
       "       8.42629200e+06, 8.34571600e+07, 7.96821600e+07, 6.36927808e+08,\n",
       "       4.86880880e+07, 2.59713120e+07, 5.52114960e+07, 1.37597264e+08,\n",
       "       1.21169776e+08, 1.01354936e+08, 0.00000000e+00, 6.00209600e+08,\n",
       "       0.00000000e+00, 8.48814480e+07, 4.26116640e+07, 1.70900980e+07,\n",
       "       0.00000000e+00, 2.10379040e+08, 1.88526220e+07, 5.43470960e+07,\n",
       "       2.63964880e+07, 1.90743936e+08, 1.23655020e+07, 2.42658580e+07,\n",
       "       2.54073080e+07, 5.22898944e+08, 2.57434300e+06, 1.24400780e+07,\n",
       "       7.76649040e+07, 2.25726720e+08, 0.00000000e+00, 1.40545408e+08,\n",
       "       0.00000000e+00, 3.96082240e+08, 2.28368832e+08, 4.10031640e+07,\n",
       "       1.28587160e+08, 0.00000000e+00, 1.68383056e+08, 1.20709424e+08,\n",
       "       5.04894840e+07, 6.82113120e+07, 0.00000000e+00, 1.89847220e+07,\n",
       "       4.72635560e+07, 2.56096940e+07, 1.32311512e+08, 2.11023960e+07,\n",
       "       9.36673280e+07, 2.76128880e+07, 2.60161160e+07, 0.00000000e+00,\n",
       "       0.00000000e+00, 0.00000000e+00, 2.90999260e+07, 1.86264160e+07,\n",
       "       5.55692560e+07, 1.91044500e+07, 3.78670432e+08, 5.17165960e+07,\n",
       "       1.26301600e+08, 8.04338160e+07, 4.07100040e+07, 3.60959120e+07,\n",
       "       7.80327440e+07, 3.49604840e+07, 1.65134600e+07, 2.80957900e+07,\n",
       "       2.51438544e+08, 7.45640400e+07, 0.00000000e+00, 7.11360960e+07,\n",
       "       2.62919640e+07, 1.86345344e+08, 9.22880800e+07, 3.65842680e+07,\n",
       "       7.08915840e+07, 6.01833760e+07, 6.45215600e+07, 3.67755680e+07,\n",
       "       1.18045856e+08, 7.79175120e+07, 6.42391850e+06, 4.39768280e+07,\n",
       "       5.58530520e+07, 3.94317075e+06, 1.81705820e+07, 1.51905660e+07,\n",
       "       8.31070600e+06, 1.12298640e+08, 0.00000000e+00, 4.22407880e+07,\n",
       "       2.36531584e+08, 1.90184620e+07, 0.00000000e+00, 4.00342360e+07,\n",
       "       6.88458320e+07, 1.22114940e+07], dtype=float32)"
      ]
     },
     "execution_count": 497,
     "metadata": {},
     "output_type": "execute_result"
    }
   ],
   "source": [
    "val_preds"
   ]
  },
  {
   "cell_type": "code",
   "execution_count": null,
   "metadata": {},
   "outputs": [],
   "source": []
  },
  {
   "cell_type": "code",
   "execution_count": 498,
   "metadata": {},
   "outputs": [
    {
     "data": {
      "text/plain": [
       "5.478843847722461"
      ]
     },
     "execution_count": 498,
     "metadata": {},
     "output_type": "execute_result"
    }
   ],
   "source": [
    "from sklearn.metrics import mean_squared_log_error\n",
    "np.sqrt(mean_squared_log_error( val_preds, val_y))"
   ]
  },
  {
   "cell_type": "code",
   "execution_count": 458,
   "metadata": {},
   "outputs": [
    {
     "data": {
      "text/plain": [
       "array([1.49355008e+08, 2.18622760e+07, 9.83258496e+08, 8.67966960e+07,\n",
       "       7.95723120e+07, 1.38239088e+08, 2.08267140e+07, 3.27921700e+07,\n",
       "       1.14914880e+08, 6.97339200e+06, 1.17761520e+08, 0.00000000e+00,\n",
       "       0.00000000e+00, 0.00000000e+00, 6.80930960e+07, 0.00000000e+00,\n",
       "       6.50690350e+06, 6.71518800e+06, 2.36820840e+07, 1.34348612e+06,\n",
       "       0.00000000e+00, 8.53885440e+07, 8.67304000e+06, 0.00000000e+00,\n",
       "       4.11246800e+07, 1.25542650e+06, 1.68768272e+08, 7.80840160e+07,\n",
       "       8.93471562e+05, 3.32419075e+06, 2.48930600e+06, 6.53028992e+08,\n",
       "       9.52534000e+06, 5.35641320e+07, 1.01471056e+08, 7.91720100e+06,\n",
       "       1.89031720e+07, 7.64626880e+07, 3.96993320e+07, 6.87120400e+07,\n",
       "       3.08369650e+06, 1.14099120e+07, 2.49285860e+07, 0.00000000e+00,\n",
       "       3.32180220e+07, 0.00000000e+00, 0.00000000e+00, 4.03708840e+07,\n",
       "       5.77404600e+07, 1.55907760e+07, 4.89528520e+07, 2.95213792e+08,\n",
       "       1.27264880e+08, 1.03207260e+07, 5.75708120e+07, 9.36070960e+07,\n",
       "       7.99335150e+06, 7.46319200e+07, 4.25501000e+07, 0.00000000e+00,\n",
       "       1.17873440e+07, 3.08557080e+07, 2.26759920e+07, 3.19797440e+07,\n",
       "       4.09486440e+07, 2.22707904e+08, 5.64198400e+07, 3.70711240e+07,\n",
       "       7.72690200e+06, 1.01964488e+08, 3.54362240e+07, 3.88223400e+07,\n",
       "       1.22718640e+08, 0.00000000e+00, 6.18978200e+06, 6.70674700e+06,\n",
       "       5.30198600e+07, 6.53039400e+07, 0.00000000e+00, 6.69455450e+06,\n",
       "       1.26635704e+08, 6.97887680e+08, 2.58199980e+07, 4.53717040e+07,\n",
       "       3.64467925e+06, 1.31538020e+07, 1.11001580e+07, 2.32472460e+07,\n",
       "       8.70189400e+06, 1.78799860e+07, 1.75375840e+07, 5.31675200e+07,\n",
       "       8.13108880e+07, 2.85075840e+07, 0.00000000e+00, 2.00951344e+08,\n",
       "       1.86762980e+07, 1.87736480e+08, 5.62380320e+07, 4.76222040e+07,\n",
       "       1.13830400e+08, 0.00000000e+00, 1.03085300e+07, 8.25951040e+07,\n",
       "       8.75971360e+07, 8.19650400e+07, 1.15565120e+07, 7.26807600e+06,\n",
       "       1.93192288e+08, 6.16526850e+06, 0.00000000e+00, 8.09079280e+07,\n",
       "       7.38820160e+07, 0.00000000e+00, 4.19160840e+07, 1.05623300e+07,\n",
       "       7.36849100e+06, 8.00895950e+06, 1.53479620e+07, 5.91906280e+07,\n",
       "       7.23039280e+07, 9.62787600e+06, 1.03783024e+08, 1.92733248e+08,\n",
       "       3.55741240e+07, 1.83168825e+06, 3.49751520e+07, 1.21653400e+07,\n",
       "       4.17411720e+07, 1.49146416e+08, 6.79934100e+06, 1.07035880e+08,\n",
       "       1.52812640e+07, 2.15040000e+08, 1.34797420e+07, 3.61479438e+05,\n",
       "       4.03340520e+07, 0.00000000e+00, 5.14915120e+07, 7.66105344e+08,\n",
       "       1.56742304e+08, 5.53965680e+07, 6.65394120e+07, 6.44333250e+06,\n",
       "       2.94761720e+07, 0.00000000e+00, 2.58335425e+06, 4.49331800e+07,\n",
       "       1.34114000e+08, 8.93478200e+06, 1.04274952e+08, 1.43787792e+08,\n",
       "       5.27524880e+07, 1.07803320e+07, 3.09447840e+07, 2.79592620e+07,\n",
       "       2.75104040e+07, 0.00000000e+00, 1.00337320e+08, 3.17724725e+06,\n",
       "       1.53303960e+07, 2.32288300e+07, 6.34269840e+07, 4.00837240e+07,\n",
       "       1.20865340e+07, 7.75387600e+07, 2.19719940e+07, 0.00000000e+00,\n",
       "       1.39149744e+08, 4.90453120e+07, 2.55528140e+07, 1.03912397e+09,\n",
       "       1.03225136e+08, 1.82479568e+08, 1.97986280e+07, 2.12885620e+07,\n",
       "       6.85685900e+06, 1.45328520e+07, 1.50102680e+07, 3.96496560e+07,\n",
       "       6.79650640e+07, 0.00000000e+00, 1.07189560e+08, 3.00149248e+08,\n",
       "       4.91184120e+07, 0.00000000e+00, 6.42267400e+07, 6.44366150e+06,\n",
       "       4.19610080e+07, 1.33795560e+07, 1.03759320e+08, 1.22544184e+08,\n",
       "       3.86412280e+07, 3.96929888e+08, 4.17740700e+06, 3.64145240e+07,\n",
       "       9.52867600e+06, 1.13014460e+07, 5.28543680e+07, 5.17467920e+07,\n",
       "       1.65921840e+07, 6.87115392e+08, 1.54434600e+07, 0.00000000e+00,\n",
       "       1.04670960e+07, 1.44221040e+07, 7.97308880e+07, 1.08505792e+08,\n",
       "       9.14301760e+07, 1.98233520e+07, 0.00000000e+00, 0.00000000e+00,\n",
       "       8.03980050e+06, 0.00000000e+00, 0.00000000e+00, 8.22326850e+06,\n",
       "       3.05993200e+07, 1.39824832e+08, 0.00000000e+00, 5.16369150e+06,\n",
       "       4.85122160e+07, 0.00000000e+00, 3.58606280e+07, 1.07397432e+08,\n",
       "       2.23651940e+07, 8.28328960e+07, 5.56219750e+06, 4.02368240e+07,\n",
       "       1.21776920e+07, 3.30417760e+07, 3.72586800e+06, 9.61400480e+07,\n",
       "       3.11302460e+07, 0.00000000e+00, 8.18994160e+07, 2.19119180e+07,\n",
       "       3.43029320e+07, 6.81203040e+07, 6.83400320e+07, 4.65451700e+06,\n",
       "       6.95364480e+07, 1.05152496e+08, 1.70981088e+08, 9.04570400e+06,\n",
       "       8.26292050e+06, 2.41114000e+07, 6.03801240e+07, 1.30756992e+08,\n",
       "       4.16954400e+08, 1.25894816e+08, 4.21656350e+06, 5.51170520e+07,\n",
       "       2.33789216e+08, 3.10647296e+08, 2.56110060e+07, 0.00000000e+00,\n",
       "       9.58884560e+07, 5.69633024e+08, 4.06686080e+07, 1.13230608e+08,\n",
       "       2.80123840e+08, 6.38245280e+07, 4.54521560e+07, 3.18315840e+07,\n",
       "       2.99740480e+07, 8.87575600e+06, 1.63300960e+07, 1.27416464e+08,\n",
       "       1.13725680e+08, 1.82134032e+08, 1.94474420e+07, 2.53361600e+07,\n",
       "       1.46723984e+08, 9.12612400e+07, 1.09707304e+08, 2.17605380e+07,\n",
       "       1.21101896e+08, 1.41212200e+07, 2.79615480e+07, 0.00000000e+00,\n",
       "       8.34253680e+07, 5.35958600e+07, 1.15931800e+07, 0.00000000e+00,\n",
       "       8.56119200e+07, 3.73549880e+07, 4.51233728e+08, 1.85203940e+07,\n",
       "       8.49691800e+06, 1.37322820e+07, 1.21635616e+08, 2.02715575e+06,\n",
       "       4.61829000e+06, 2.28766620e+07, 5.73960450e+06, 1.92726560e+07,\n",
       "       1.32074720e+07, 1.67059088e+08, 3.01948740e+07, 4.74944160e+07,\n",
       "       5.84501500e+06, 0.00000000e+00, 3.02459100e+07, 2.83270340e+07,\n",
       "       4.50608550e+06, 0.00000000e+00, 0.00000000e+00, 2.87284960e+07,\n",
       "       6.96564720e+07, 7.92935950e+06, 1.61084704e+08, 0.00000000e+00,\n",
       "       1.82921940e+07, 0.00000000e+00, 4.42393850e+06, 5.30026150e+06,\n",
       "       1.34764592e+08, 0.00000000e+00, 5.72555320e+07, 3.00499180e+07,\n",
       "       3.12653460e+07, 4.16359520e+07, 9.25736384e+08, 2.37690520e+07,\n",
       "       1.80142160e+08, 1.28519680e+08, 1.03449400e+07, 1.41028680e+07,\n",
       "       6.11139360e+07, 1.46394752e+08, 3.55433040e+07, 1.71610112e+06,\n",
       "       5.54980050e+06, 7.75765850e+06, 9.83315800e+06, 2.50474040e+07,\n",
       "       4.03686560e+07, 3.95519840e+08, 1.17082320e+07, 1.25927840e+07,\n",
       "       1.30862620e+07, 1.21791220e+07, 4.98863680e+07, 0.00000000e+00,\n",
       "       2.05605600e+07, 0.00000000e+00, 8.15879150e+06, 3.66260280e+07,\n",
       "       1.14171188e+06, 2.24839040e+07, 3.76231725e+06, 2.58144160e+07,\n",
       "       1.69989960e+07, 7.73111760e+07, 1.20457824e+08, 4.76688100e+06,\n",
       "       1.73387488e+06, 1.85492960e+07, 9.46505344e+08, 8.30702640e+07,\n",
       "       4.69555720e+07, 2.46760200e+07, 1.26267080e+07, 8.64938960e+07,\n",
       "       4.32205040e+07, 4.33689000e+07, 3.09393536e+08, 1.19818580e+07,\n",
       "       1.26171380e+07, 2.32820420e+07, 1.54353538e+06, 1.93076138e+06,\n",
       "       4.15065960e+07, 0.00000000e+00, 1.12799376e+08, 8.18418960e+07,\n",
       "       6.68502000e+07, 2.25914640e+07, 2.51677536e+08, 1.58105840e+08,\n",
       "       1.11685080e+07, 1.08683712e+08, 0.00000000e+00, 8.85787920e+07,\n",
       "       1.16372140e+07, 5.70925500e+06, 3.82303720e+07, 1.01572280e+08,\n",
       "       2.87434340e+07, 8.93314000e+06, 4.34207300e+06, 5.92233080e+07,\n",
       "       3.18755520e+07, 8.24111700e+06, 3.34751072e+08, 3.68714950e+06,\n",
       "       4.62302800e+07, 8.66515680e+07, 9.02794320e+07, 9.11228800e+06,\n",
       "       4.68681680e+07, 0.00000000e+00, 1.29834144e+08, 4.01720280e+07,\n",
       "       1.91039280e+08, 1.58940200e+07, 1.95575362e+06, 1.14591860e+07,\n",
       "       5.18345650e+06, 3.22517740e+07, 7.65132640e+07, 9.27864600e+06,\n",
       "       3.01426300e+07, 2.18014500e+07, 6.30224250e+06, 1.60572128e+08,\n",
       "       1.44993620e+07, 1.55523960e+07, 1.01016992e+08, 6.20448440e+07,\n",
       "       0.00000000e+00, 2.37870160e+08, 5.80757700e+06, 7.61918160e+07,\n",
       "       1.50838784e+08, 1.43023360e+08, 1.39638960e+08, 1.38425060e+07,\n",
       "       9.50153200e+06, 0.00000000e+00, 1.08128440e+07, 0.00000000e+00,\n",
       "       3.32818528e+08, 3.09093340e+07, 0.00000000e+00, 8.33960880e+07,\n",
       "       1.05859688e+08, 3.39913825e+06, 9.26247600e+07, 3.00218640e+07,\n",
       "       5.52145500e+06, 1.71036600e+07, 1.50084300e+07, 9.05339760e+07,\n",
       "       1.71428960e+07, 1.28087820e+07, 1.05162800e+07, 2.54412416e+08,\n",
       "       0.00000000e+00, 0.00000000e+00, 9.12932560e+07, 1.12064960e+07,\n",
       "       0.00000000e+00, 3.30489840e+07, 0.00000000e+00, 8.15886880e+07,\n",
       "       0.00000000e+00, 6.84128880e+07, 5.63303680e+07, 0.00000000e+00,\n",
       "       5.98401440e+07, 8.34277840e+07, 7.27746562e+05, 4.22759500e+06,\n",
       "       5.27008480e+07, 6.23411480e+07, 1.35874160e+07, 3.34333160e+07,\n",
       "       5.40479000e+07, 7.34675120e+07, 1.38617200e+07, 3.74270120e+07,\n",
       "       1.23204400e+07, 3.81027960e+07, 0.00000000e+00, 6.57311750e+06,\n",
       "       3.39643300e+06, 5.08238200e+07, 7.11591920e+07, 2.96867125e+06,\n",
       "       1.39645960e+07, 0.00000000e+00, 5.38114800e+07, 2.16455680e+07,\n",
       "       5.84460960e+07, 6.74857360e+07, 4.34275760e+07, 5.85877040e+07,\n",
       "       1.28613320e+08, 3.29315712e+08, 4.53891360e+07, 1.23087000e+08,\n",
       "       1.80798700e+07, 0.00000000e+00, 1.95997408e+08, 1.11215960e+07,\n",
       "       0.00000000e+00, 0.00000000e+00, 1.05140112e+08, 1.94175400e+07,\n",
       "       3.89759960e+07, 1.10448192e+08, 3.58858880e+08, 1.07363824e+08,\n",
       "       3.70839900e+06, 0.00000000e+00, 2.02780480e+07, 0.00000000e+00,\n",
       "       3.06254520e+07, 1.08771944e+08, 3.62803360e+07, 6.34379920e+07,\n",
       "       0.00000000e+00, 0.00000000e+00, 0.00000000e+00, 1.70020960e+08,\n",
       "       8.46008160e+07, 6.50348720e+07, 1.17290848e+08, 0.00000000e+00,\n",
       "       5.96592050e+06, 1.24765736e+08, 1.71566656e+08, 4.59647240e+07,\n",
       "       9.42364800e+06, 0.00000000e+00, 0.00000000e+00, 0.00000000e+00,\n",
       "       2.76580120e+07, 0.00000000e+00, 0.00000000e+00, 5.36703240e+07,\n",
       "       0.00000000e+00, 9.23018800e+06, 4.48443650e+06, 2.52803520e+07,\n",
       "       0.00000000e+00, 1.18008680e+07, 4.74232000e+06, 6.06224520e+07,\n",
       "       1.01362832e+08, 4.90816360e+07, 4.99595219e+05, 1.12637860e+07,\n",
       "       7.29989600e+07, 1.80171200e+06, 1.27528600e+07, 0.00000000e+00,\n",
       "       4.12861525e+06, 0.00000000e+00, 9.78629120e+07, 0.00000000e+00,\n",
       "       2.71848840e+07, 1.17647568e+08, 7.44816600e+06, 2.76596000e+07,\n",
       "       6.74454320e+07, 1.14184240e+07, 5.32773760e+07, 1.95008380e+07,\n",
       "       1.34953248e+08, 7.10994050e+06, 1.80276520e+07, 2.47719940e+07,\n",
       "       1.26417300e+07, 1.83003860e+07, 3.13306840e+07, 6.03218650e+06,\n",
       "       2.73064560e+07, 7.98662300e+06, 0.00000000e+00, 3.60838600e+07,\n",
       "       9.62515400e+06, 0.00000000e+00, 2.48728060e+07, 8.95672320e+07,\n",
       "       1.42632560e+07, 0.00000000e+00, 2.41860600e+07, 3.60773320e+07,\n",
       "       4.08722600e+07, 0.00000000e+00, 8.50177680e+07, 4.03188360e+07,\n",
       "       1.58527062e+06, 1.25434136e+08, 4.85754120e+07, 1.20190680e+07,\n",
       "       8.62650400e+07, 1.70481780e+07, 1.66650112e+06, 6.62968800e+07,\n",
       "       9.01182400e+06, 2.97727800e+06, 1.81251425e+06, 4.44157320e+07,\n",
       "       5.82193200e+07, 3.80027480e+07, 4.04958880e+07, 0.00000000e+00,\n",
       "       7.70785040e+07, 1.18243848e+08, 3.60182560e+07, 2.23292140e+07,\n",
       "       8.18963040e+07, 2.25255400e+07, 1.14540900e+07, 1.43578662e+06,\n",
       "       5.78759300e+06, 9.52696600e+06, 1.19039872e+08, 8.27945760e+07,\n",
       "       4.02493800e+06, 2.50039250e+06, 0.00000000e+00, 4.39838950e+06,\n",
       "       2.54266580e+07, 5.64563000e+06, 1.21466560e+07, 2.27656500e+07,\n",
       "       2.37059216e+08, 3.30119438e+05, 5.17283650e+06, 1.04613752e+08,\n",
       "       7.20718500e+06, 1.40601216e+08, 2.33808160e+07, 8.93548720e+07,\n",
       "       7.35676480e+07, 2.80705020e+07, 1.47189728e+08, 0.00000000e+00,\n",
       "       9.69198400e+06, 2.12507380e+07, 4.63677880e+07, 5.52757720e+07,\n",
       "       5.81437952e+08, 3.39621400e+07, 2.80720250e+06, 0.00000000e+00,\n",
       "       3.78277080e+07, 2.85895380e+07, 1.40776380e+07, 9.08534208e+08,\n",
       "       2.37768944e+08, 2.72305856e+08, 0.00000000e+00, 9.54232320e+07,\n",
       "       1.18670264e+08, 3.02352275e+06, 5.38861440e+08, 6.80552640e+07,\n",
       "       8.42629200e+06, 8.34571600e+07, 7.96821600e+07, 6.36927808e+08,\n",
       "       4.86880880e+07, 2.59713120e+07, 5.52114960e+07, 1.37597264e+08,\n",
       "       1.21169776e+08, 1.01354936e+08, 0.00000000e+00, 6.00209600e+08,\n",
       "       0.00000000e+00, 8.48814480e+07, 4.26116640e+07, 1.70900980e+07,\n",
       "       0.00000000e+00, 2.10379040e+08, 1.88526220e+07, 5.43470960e+07,\n",
       "       2.63964880e+07, 1.90743936e+08, 1.23655020e+07, 2.42658580e+07,\n",
       "       2.54073080e+07, 5.22898944e+08, 2.57434300e+06, 1.24400780e+07,\n",
       "       7.76649040e+07, 2.25726720e+08, 0.00000000e+00, 1.40545408e+08,\n",
       "       0.00000000e+00, 3.96082240e+08, 2.28368832e+08, 4.10031640e+07,\n",
       "       1.28587160e+08, 0.00000000e+00, 1.68383056e+08, 1.20709424e+08,\n",
       "       5.04894840e+07, 6.82113120e+07, 0.00000000e+00, 1.89847220e+07,\n",
       "       4.72635560e+07, 2.56096940e+07, 1.32311512e+08, 2.11023960e+07,\n",
       "       9.36673280e+07, 2.76128880e+07, 2.60161160e+07, 0.00000000e+00,\n",
       "       0.00000000e+00, 0.00000000e+00, 2.90999260e+07, 1.86264160e+07,\n",
       "       5.55692560e+07, 1.91044500e+07, 3.78670432e+08, 5.17165960e+07,\n",
       "       1.26301600e+08, 8.04338160e+07, 4.07100040e+07, 3.60959120e+07,\n",
       "       7.80327440e+07, 3.49604840e+07, 1.65134600e+07, 2.80957900e+07,\n",
       "       2.51438544e+08, 7.45640400e+07, 0.00000000e+00, 7.11360960e+07,\n",
       "       2.62919640e+07, 1.86345344e+08, 9.22880800e+07, 3.65842680e+07,\n",
       "       7.08915840e+07, 6.01833760e+07, 6.45215600e+07, 3.67755680e+07,\n",
       "       1.18045856e+08, 7.79175120e+07, 6.42391850e+06, 4.39768280e+07,\n",
       "       5.58530520e+07, 3.94317075e+06, 1.81705820e+07, 1.51905660e+07,\n",
       "       8.31070600e+06, 1.12298640e+08, 0.00000000e+00, 4.22407880e+07,\n",
       "       2.36531584e+08, 1.90184620e+07, 0.00000000e+00, 4.00342360e+07,\n",
       "       6.88458320e+07, 1.22114940e+07], dtype=float32)"
      ]
     },
     "execution_count": 458,
     "metadata": {},
     "output_type": "execute_result"
    }
   ],
   "source": [
    "val_preds2"
   ]
  },
  {
   "cell_type": "code",
   "execution_count": 462,
   "metadata": {},
   "outputs": [
    {
     "ename": "ValueError",
     "evalue": "Input contains NaN, infinity or a value too large for dtype('float32').",
     "output_type": "error",
     "traceback": [
      "\u001b[1;31m---------------------------------------------------------------------------\u001b[0m",
      "\u001b[1;31mValueError\u001b[0m                                Traceback (most recent call last)",
      "\u001b[1;32m<ipython-input-462-9eddbdc152de>\u001b[0m in \u001b[0;36m<module>\u001b[1;34m\u001b[0m\n\u001b[1;32m----> 1\u001b[1;33m \u001b[0mrmsle\u001b[0m \u001b[1;33m=\u001b[0m \u001b[0mmean_squared_error\u001b[0m\u001b[1;33m(\u001b[0m\u001b[0mnp\u001b[0m\u001b[1;33m.\u001b[0m\u001b[0mlog\u001b[0m\u001b[1;33m(\u001b[0m\u001b[0mabs\u001b[0m\u001b[1;33m(\u001b[0m\u001b[0mval_preds2\u001b[0m\u001b[1;33m)\u001b[0m\u001b[1;33m)\u001b[0m\u001b[1;33m,\u001b[0m \u001b[0mnp\u001b[0m\u001b[1;33m.\u001b[0m\u001b[0mlog\u001b[0m\u001b[1;33m(\u001b[0m\u001b[0mval_y\u001b[0m\u001b[1;33m)\u001b[0m\u001b[1;33m)\u001b[0m\u001b[1;33m\u001b[0m\u001b[0m\n\u001b[0m",
      "\u001b[1;32md:\\python\\python36\\lib\\site-packages\\sklearn\\metrics\\regression.py\u001b[0m in \u001b[0;36mmean_squared_error\u001b[1;34m(y_true, y_pred, sample_weight, multioutput)\u001b[0m\n\u001b[0;32m    237\u001b[0m     \"\"\"\n\u001b[0;32m    238\u001b[0m     y_type, y_true, y_pred, multioutput = _check_reg_targets(\n\u001b[1;32m--> 239\u001b[1;33m         y_true, y_pred, multioutput)\n\u001b[0m\u001b[0;32m    240\u001b[0m     \u001b[0mcheck_consistent_length\u001b[0m\u001b[1;33m(\u001b[0m\u001b[0my_true\u001b[0m\u001b[1;33m,\u001b[0m \u001b[0my_pred\u001b[0m\u001b[1;33m,\u001b[0m \u001b[0msample_weight\u001b[0m\u001b[1;33m)\u001b[0m\u001b[1;33m\u001b[0m\u001b[0m\n\u001b[0;32m    241\u001b[0m     output_errors = np.average((y_true - y_pred) ** 2, axis=0,\n",
      "\u001b[1;32md:\\python\\python36\\lib\\site-packages\\sklearn\\metrics\\regression.py\u001b[0m in \u001b[0;36m_check_reg_targets\u001b[1;34m(y_true, y_pred, multioutput)\u001b[0m\n\u001b[0;32m     74\u001b[0m     \"\"\"\n\u001b[0;32m     75\u001b[0m     \u001b[0mcheck_consistent_length\u001b[0m\u001b[1;33m(\u001b[0m\u001b[0my_true\u001b[0m\u001b[1;33m,\u001b[0m \u001b[0my_pred\u001b[0m\u001b[1;33m)\u001b[0m\u001b[1;33m\u001b[0m\u001b[0m\n\u001b[1;32m---> 76\u001b[1;33m     \u001b[0my_true\u001b[0m \u001b[1;33m=\u001b[0m \u001b[0mcheck_array\u001b[0m\u001b[1;33m(\u001b[0m\u001b[0my_true\u001b[0m\u001b[1;33m,\u001b[0m \u001b[0mensure_2d\u001b[0m\u001b[1;33m=\u001b[0m\u001b[1;32mFalse\u001b[0m\u001b[1;33m)\u001b[0m\u001b[1;33m\u001b[0m\u001b[0m\n\u001b[0m\u001b[0;32m     77\u001b[0m     \u001b[0my_pred\u001b[0m \u001b[1;33m=\u001b[0m \u001b[0mcheck_array\u001b[0m\u001b[1;33m(\u001b[0m\u001b[0my_pred\u001b[0m\u001b[1;33m,\u001b[0m \u001b[0mensure_2d\u001b[0m\u001b[1;33m=\u001b[0m\u001b[1;32mFalse\u001b[0m\u001b[1;33m)\u001b[0m\u001b[1;33m\u001b[0m\u001b[0m\n\u001b[0;32m     78\u001b[0m \u001b[1;33m\u001b[0m\u001b[0m\n",
      "\u001b[1;32md:\\python\\python36\\lib\\site-packages\\sklearn\\utils\\validation.py\u001b[0m in \u001b[0;36mcheck_array\u001b[1;34m(array, accept_sparse, accept_large_sparse, dtype, order, copy, force_all_finite, ensure_2d, allow_nd, ensure_min_samples, ensure_min_features, warn_on_dtype, estimator)\u001b[0m\n\u001b[0;32m    571\u001b[0m         \u001b[1;32mif\u001b[0m \u001b[0mforce_all_finite\u001b[0m\u001b[1;33m:\u001b[0m\u001b[1;33m\u001b[0m\u001b[0m\n\u001b[0;32m    572\u001b[0m             _assert_all_finite(array,\n\u001b[1;32m--> 573\u001b[1;33m                                allow_nan=force_all_finite == 'allow-nan')\n\u001b[0m\u001b[0;32m    574\u001b[0m \u001b[1;33m\u001b[0m\u001b[0m\n\u001b[0;32m    575\u001b[0m     \u001b[0mshape_repr\u001b[0m \u001b[1;33m=\u001b[0m \u001b[0m_shape_repr\u001b[0m\u001b[1;33m(\u001b[0m\u001b[0marray\u001b[0m\u001b[1;33m.\u001b[0m\u001b[0mshape\u001b[0m\u001b[1;33m)\u001b[0m\u001b[1;33m\u001b[0m\u001b[0m\n",
      "\u001b[1;32md:\\python\\python36\\lib\\site-packages\\sklearn\\utils\\validation.py\u001b[0m in \u001b[0;36m_assert_all_finite\u001b[1;34m(X, allow_nan)\u001b[0m\n\u001b[0;32m     54\u001b[0m                 not allow_nan and not np.isfinite(X).all()):\n\u001b[0;32m     55\u001b[0m             \u001b[0mtype_err\u001b[0m \u001b[1;33m=\u001b[0m \u001b[1;34m'infinity'\u001b[0m \u001b[1;32mif\u001b[0m \u001b[0mallow_nan\u001b[0m \u001b[1;32melse\u001b[0m \u001b[1;34m'NaN, infinity'\u001b[0m\u001b[1;33m\u001b[0m\u001b[0m\n\u001b[1;32m---> 56\u001b[1;33m             \u001b[1;32mraise\u001b[0m \u001b[0mValueError\u001b[0m\u001b[1;33m(\u001b[0m\u001b[0mmsg_err\u001b[0m\u001b[1;33m.\u001b[0m\u001b[0mformat\u001b[0m\u001b[1;33m(\u001b[0m\u001b[0mtype_err\u001b[0m\u001b[1;33m,\u001b[0m \u001b[0mX\u001b[0m\u001b[1;33m.\u001b[0m\u001b[0mdtype\u001b[0m\u001b[1;33m)\u001b[0m\u001b[1;33m)\u001b[0m\u001b[1;33m\u001b[0m\u001b[0m\n\u001b[0m\u001b[0;32m     57\u001b[0m \u001b[1;33m\u001b[0m\u001b[0m\n\u001b[0;32m     58\u001b[0m \u001b[1;33m\u001b[0m\u001b[0m\n",
      "\u001b[1;31mValueError\u001b[0m: Input contains NaN, infinity or a value too large for dtype('float32')."
     ]
    }
   ],
   "source": [
    "rmsle = mean_squared_error(np.log(abs(val_preds2)), np.log(val_y))"
   ]
  },
  {
   "cell_type": "code",
   "execution_count": 466,
   "metadata": {},
   "outputs": [],
   "source": [
    "pred = my_model.predict(xtest)"
   ]
  },
  {
   "cell_type": "code",
   "execution_count": 468,
   "metadata": {},
   "outputs": [
    {
     "data": {
      "text/html": [
       "<div>\n",
       "<style scoped>\n",
       "    .dataframe tbody tr th:only-of-type {\n",
       "        vertical-align: middle;\n",
       "    }\n",
       "\n",
       "    .dataframe tbody tr th {\n",
       "        vertical-align: top;\n",
       "    }\n",
       "\n",
       "    .dataframe thead th {\n",
       "        text-align: right;\n",
       "    }\n",
       "</style>\n",
       "<table border=\"1\" class=\"dataframe\">\n",
       "  <thead>\n",
       "    <tr style=\"text-align: right;\">\n",
       "      <th></th>\n",
       "      <th>id</th>\n",
       "      <th>belongs_to_collection</th>\n",
       "      <th>budget</th>\n",
       "      <th>genres</th>\n",
       "      <th>homepage</th>\n",
       "      <th>imdb_id</th>\n",
       "      <th>original_language</th>\n",
       "      <th>original_title</th>\n",
       "      <th>overview</th>\n",
       "      <th>popularity</th>\n",
       "      <th>...</th>\n",
       "      <th>crew2</th>\n",
       "      <th>overview2</th>\n",
       "      <th>original_title2</th>\n",
       "      <th>homepage2</th>\n",
       "      <th>belongs_to_collection2</th>\n",
       "      <th>production_companies2</th>\n",
       "      <th>release_date_year</th>\n",
       "      <th>release_date_month</th>\n",
       "      <th>release_date_day</th>\n",
       "      <th>release_date_weekday</th>\n",
       "    </tr>\n",
       "  </thead>\n",
       "  <tbody>\n",
       "    <tr>\n",
       "      <th>0</th>\n",
       "      <td>3001</td>\n",
       "      <td>[{'id': 34055, 'name': 'Pokémon Collection', '...</td>\n",
       "      <td>0</td>\n",
       "      <td>[{'id': 12, 'name': 'Adventure'}, {'id': 16, '...</td>\n",
       "      <td>http://www.pokemon.com/us/movies/movie-pokemon...</td>\n",
       "      <td>tt1226251</td>\n",
       "      <td>ja</td>\n",
       "      <td>ディアルガVSパルキアVSダークライ</td>\n",
       "      <td>Ash and friends (this time accompanied by newc...</td>\n",
       "      <td>3.851534</td>\n",
       "      <td>...</td>\n",
       "      <td>5</td>\n",
       "      <td>335</td>\n",
       "      <td>18</td>\n",
       "      <td>1</td>\n",
       "      <td>1</td>\n",
       "      <td>0</td>\n",
       "      <td>2007</td>\n",
       "      <td>7</td>\n",
       "      <td>14</td>\n",
       "      <td>5</td>\n",
       "    </tr>\n",
       "    <tr>\n",
       "      <th>1</th>\n",
       "      <td>3002</td>\n",
       "      <td>unknow</td>\n",
       "      <td>88000</td>\n",
       "      <td>[{'id': 27, 'name': 'Horror'}, {'id': 878, 'na...</td>\n",
       "      <td>unknow</td>\n",
       "      <td>tt0051380</td>\n",
       "      <td>en</td>\n",
       "      <td>Attack of the 50 Foot Woman</td>\n",
       "      <td>When an abused wife grows to giant size becaus...</td>\n",
       "      <td>3.559789</td>\n",
       "      <td>...</td>\n",
       "      <td>16</td>\n",
       "      <td>162</td>\n",
       "      <td>27</td>\n",
       "      <td>0</td>\n",
       "      <td>0</td>\n",
       "      <td>1</td>\n",
       "      <td>2058</td>\n",
       "      <td>5</td>\n",
       "      <td>19</td>\n",
       "      <td>6</td>\n",
       "    </tr>\n",
       "    <tr>\n",
       "      <th>2</th>\n",
       "      <td>3003</td>\n",
       "      <td>unknow</td>\n",
       "      <td>0</td>\n",
       "      <td>[{'id': 35, 'name': 'Comedy'}, {'id': 10749, '...</td>\n",
       "      <td>unknow</td>\n",
       "      <td>tt0118556</td>\n",
       "      <td>en</td>\n",
       "      <td>Addicted to Love</td>\n",
       "      <td>Good-natured astronomer Sam is devastated when...</td>\n",
       "      <td>8.085194</td>\n",
       "      <td>...</td>\n",
       "      <td>20</td>\n",
       "      <td>362</td>\n",
       "      <td>16</td>\n",
       "      <td>0</td>\n",
       "      <td>0</td>\n",
       "      <td>3</td>\n",
       "      <td>1997</td>\n",
       "      <td>5</td>\n",
       "      <td>23</td>\n",
       "      <td>4</td>\n",
       "    </tr>\n",
       "    <tr>\n",
       "      <th>3</th>\n",
       "      <td>3004</td>\n",
       "      <td>unknow</td>\n",
       "      <td>6800000</td>\n",
       "      <td>[{'id': 18, 'name': 'Drama'}, {'id': 10752, 'n...</td>\n",
       "      <td>http://www.sonyclassics.com/incendies/</td>\n",
       "      <td>tt1255953</td>\n",
       "      <td>fr</td>\n",
       "      <td>Incendies</td>\n",
       "      <td>A mother's last wishes send twins Jeanne and S...</td>\n",
       "      <td>8.596012</td>\n",
       "      <td>...</td>\n",
       "      <td>139</td>\n",
       "      <td>302</td>\n",
       "      <td>9</td>\n",
       "      <td>1</td>\n",
       "      <td>0</td>\n",
       "      <td>3</td>\n",
       "      <td>2010</td>\n",
       "      <td>9</td>\n",
       "      <td>4</td>\n",
       "      <td>5</td>\n",
       "    </tr>\n",
       "    <tr>\n",
       "      <th>4</th>\n",
       "      <td>3005</td>\n",
       "      <td>unknow</td>\n",
       "      <td>2000000</td>\n",
       "      <td>[{'id': 36, 'name': 'History'}, {'id': 99, 'na...</td>\n",
       "      <td>unknow</td>\n",
       "      <td>tt0418753</td>\n",
       "      <td>en</td>\n",
       "      <td>Inside Deep Throat</td>\n",
       "      <td>In 1972, a seemingly typical shoestring budget...</td>\n",
       "      <td>3.217680</td>\n",
       "      <td>...</td>\n",
       "      <td>30</td>\n",
       "      <td>894</td>\n",
       "      <td>18</td>\n",
       "      <td>0</td>\n",
       "      <td>0</td>\n",
       "      <td>0</td>\n",
       "      <td>2005</td>\n",
       "      <td>2</td>\n",
       "      <td>11</td>\n",
       "      <td>4</td>\n",
       "    </tr>\n",
       "    <tr>\n",
       "      <th>5</th>\n",
       "      <td>3006</td>\n",
       "      <td>unknow</td>\n",
       "      <td>0</td>\n",
       "      <td>[{'id': 35, 'name': 'Comedy'}, {'id': 18, 'nam...</td>\n",
       "      <td>unknow</td>\n",
       "      <td>tt0120238</td>\n",
       "      <td>en</td>\n",
       "      <td>SubUrbia</td>\n",
       "      <td>A group of suburban teenagers try to support e...</td>\n",
       "      <td>8.679350</td>\n",
       "      <td>...</td>\n",
       "      <td>6</td>\n",
       "      <td>102</td>\n",
       "      <td>8</td>\n",
       "      <td>0</td>\n",
       "      <td>0</td>\n",
       "      <td>2</td>\n",
       "      <td>1996</td>\n",
       "      <td>2</td>\n",
       "      <td>7</td>\n",
       "      <td>2</td>\n",
       "    </tr>\n",
       "    <tr>\n",
       "      <th>6</th>\n",
       "      <td>3007</td>\n",
       "      <td>unknow</td>\n",
       "      <td>0</td>\n",
       "      <td>[{'id': 10749, 'name': 'Romance'}, {'id': 18, ...</td>\n",
       "      <td>unknow</td>\n",
       "      <td>tt1517177</td>\n",
       "      <td>de</td>\n",
       "      <td>Drei</td>\n",
       "      <td>Hanna and Simon are in a 20 year marriage with...</td>\n",
       "      <td>4.898882</td>\n",
       "      <td>...</td>\n",
       "      <td>4</td>\n",
       "      <td>300</td>\n",
       "      <td>4</td>\n",
       "      <td>0</td>\n",
       "      <td>0</td>\n",
       "      <td>4</td>\n",
       "      <td>2010</td>\n",
       "      <td>12</td>\n",
       "      <td>23</td>\n",
       "      <td>3</td>\n",
       "    </tr>\n",
       "    <tr>\n",
       "      <th>7</th>\n",
       "      <td>3008</td>\n",
       "      <td>unknow</td>\n",
       "      <td>30000000</td>\n",
       "      <td>[{'id': 16, 'name': 'Animation'}, {'id': 10751...</td>\n",
       "      <td>http://www.tigger.com</td>\n",
       "      <td>tt0220099</td>\n",
       "      <td>en</td>\n",
       "      <td>The Tigger Movie</td>\n",
       "      <td>As it happens, everybody - Pooh, Piglet, Eeyor...</td>\n",
       "      <td>7.023414</td>\n",
       "      <td>...</td>\n",
       "      <td>60</td>\n",
       "      <td>355</td>\n",
       "      <td>16</td>\n",
       "      <td>1</td>\n",
       "      <td>0</td>\n",
       "      <td>1</td>\n",
       "      <td>2000</td>\n",
       "      <td>2</td>\n",
       "      <td>11</td>\n",
       "      <td>4</td>\n",
       "    </tr>\n",
       "    <tr>\n",
       "      <th>8</th>\n",
       "      <td>3009</td>\n",
       "      <td>unknow</td>\n",
       "      <td>16500000</td>\n",
       "      <td>[{'id': 18, 'name': 'Drama'}, {'id': 10749, 'n...</td>\n",
       "      <td>http://becomingjane-themovie.com/</td>\n",
       "      <td>tt0416508</td>\n",
       "      <td>en</td>\n",
       "      <td>Becoming Jane</td>\n",
       "      <td>A biographical portrait of a pre-fame Jane Aus...</td>\n",
       "      <td>7.829737</td>\n",
       "      <td>...</td>\n",
       "      <td>30</td>\n",
       "      <td>88</td>\n",
       "      <td>13</td>\n",
       "      <td>1</td>\n",
       "      <td>0</td>\n",
       "      <td>3</td>\n",
       "      <td>2007</td>\n",
       "      <td>3</td>\n",
       "      <td>2</td>\n",
       "      <td>4</td>\n",
       "    </tr>\n",
       "    <tr>\n",
       "      <th>9</th>\n",
       "      <td>3010</td>\n",
       "      <td>[{'id': 10194, 'name': 'Toy Story Collection',...</td>\n",
       "      <td>90000000</td>\n",
       "      <td>[{'id': 16, 'name': 'Animation'}, {'id': 35, '...</td>\n",
       "      <td>http://toystory.disney.com/toy-story-2</td>\n",
       "      <td>tt0120363</td>\n",
       "      <td>en</td>\n",
       "      <td>Toy Story 2</td>\n",
       "      <td>Andy heads off to Cowboy Camp, leaving his toy...</td>\n",
       "      <td>17.547693</td>\n",
       "      <td>...</td>\n",
       "      <td>352</td>\n",
       "      <td>322</td>\n",
       "      <td>11</td>\n",
       "      <td>1</td>\n",
       "      <td>1</td>\n",
       "      <td>1</td>\n",
       "      <td>1999</td>\n",
       "      <td>10</td>\n",
       "      <td>30</td>\n",
       "      <td>5</td>\n",
       "    </tr>\n",
       "    <tr>\n",
       "      <th>10</th>\n",
       "      <td>3011</td>\n",
       "      <td>unknow</td>\n",
       "      <td>2000000</td>\n",
       "      <td>[{'id': 53, 'name': 'Thriller'}, {'id': 27, 'n...</td>\n",
       "      <td>unknow</td>\n",
       "      <td>tt0419663</td>\n",
       "      <td>en</td>\n",
       "      <td>Cruel World</td>\n",
       "      <td>Millions witnessed Philip Markham's public hum...</td>\n",
       "      <td>0.262437</td>\n",
       "      <td>...</td>\n",
       "      <td>14</td>\n",
       "      <td>474</td>\n",
       "      <td>11</td>\n",
       "      <td>0</td>\n",
       "      <td>0</td>\n",
       "      <td>2</td>\n",
       "      <td>2005</td>\n",
       "      <td>9</td>\n",
       "      <td>1</td>\n",
       "      <td>3</td>\n",
       "    </tr>\n",
       "    <tr>\n",
       "      <th>11</th>\n",
       "      <td>3012</td>\n",
       "      <td>unknow</td>\n",
       "      <td>0</td>\n",
       "      <td>[{'id': 18, 'name': 'Drama'}]</td>\n",
       "      <td>unknow</td>\n",
       "      <td>tt3655522</td>\n",
       "      <td>fr</td>\n",
       "      <td>Bande de filles</td>\n",
       "      <td>Oppressed by her family setting, dead-end scho...</td>\n",
       "      <td>4.220318</td>\n",
       "      <td>...</td>\n",
       "      <td>20</td>\n",
       "      <td>300</td>\n",
       "      <td>15</td>\n",
       "      <td>0</td>\n",
       "      <td>0</td>\n",
       "      <td>14</td>\n",
       "      <td>2014</td>\n",
       "      <td>6</td>\n",
       "      <td>27</td>\n",
       "      <td>4</td>\n",
       "    </tr>\n",
       "    <tr>\n",
       "      <th>12</th>\n",
       "      <td>3013</td>\n",
       "      <td>[{'id': 87805, 'name': 'The Gods Must Be Crazy...</td>\n",
       "      <td>5000000</td>\n",
       "      <td>[{'id': 28, 'name': 'Action'}, {'id': 35, 'nam...</td>\n",
       "      <td>unknow</td>\n",
       "      <td>tt0080801</td>\n",
       "      <td>en</td>\n",
       "      <td>The Gods Must Be Crazy</td>\n",
       "      <td>Misery is brought to a small group of Sho in t...</td>\n",
       "      <td>10.973482</td>\n",
       "      <td>...</td>\n",
       "      <td>34</td>\n",
       "      <td>243</td>\n",
       "      <td>22</td>\n",
       "      <td>0</td>\n",
       "      <td>1</td>\n",
       "      <td>2</td>\n",
       "      <td>1980</td>\n",
       "      <td>9</td>\n",
       "      <td>10</td>\n",
       "      <td>2</td>\n",
       "    </tr>\n",
       "    <tr>\n",
       "      <th>13</th>\n",
       "      <td>3014</td>\n",
       "      <td>unknow</td>\n",
       "      <td>800000</td>\n",
       "      <td>[{'id': 18, 'name': 'Drama'}, {'id': 10749, 'n...</td>\n",
       "      <td>http://www.lhp.com.sg/victor/</td>\n",
       "      <td>tt0316188</td>\n",
       "      <td>en</td>\n",
       "      <td>Raising Victor Vargas</td>\n",
       "      <td>The film follows Victor, a Lower East Side tee...</td>\n",
       "      <td>1.178723</td>\n",
       "      <td>...</td>\n",
       "      <td>6</td>\n",
       "      <td>326</td>\n",
       "      <td>21</td>\n",
       "      <td>1</td>\n",
       "      <td>0</td>\n",
       "      <td>0</td>\n",
       "      <td>2002</td>\n",
       "      <td>5</td>\n",
       "      <td>16</td>\n",
       "      <td>3</td>\n",
       "    </tr>\n",
       "    <tr>\n",
       "      <th>14</th>\n",
       "      <td>3015</td>\n",
       "      <td>unknow</td>\n",
       "      <td>20000000</td>\n",
       "      <td>[{'id': 12, 'name': 'Adventure'}, {'id': 35, '...</td>\n",
       "      <td>http://www.brothersbloom.com/</td>\n",
       "      <td>tt0844286</td>\n",
       "      <td>en</td>\n",
       "      <td>The Brothers Bloom</td>\n",
       "      <td>The Brothers Bloom are the best con men in the...</td>\n",
       "      <td>7.973126</td>\n",
       "      <td>...</td>\n",
       "      <td>40</td>\n",
       "      <td>292</td>\n",
       "      <td>18</td>\n",
       "      <td>1</td>\n",
       "      <td>0</td>\n",
       "      <td>3</td>\n",
       "      <td>2008</td>\n",
       "      <td>9</td>\n",
       "      <td>9</td>\n",
       "      <td>1</td>\n",
       "    </tr>\n",
       "    <tr>\n",
       "      <th>15</th>\n",
       "      <td>3016</td>\n",
       "      <td>unknow</td>\n",
       "      <td>0</td>\n",
       "      <td>[{'id': 18, 'name': 'Drama'}]</td>\n",
       "      <td>http://www.beautifulboythemovie.com/</td>\n",
       "      <td>tt1533013</td>\n",
       "      <td>en</td>\n",
       "      <td>Beautiful Boy</td>\n",
       "      <td>A married couple on the verge of separation ar...</td>\n",
       "      <td>2.114833</td>\n",
       "      <td>...</td>\n",
       "      <td>16</td>\n",
       "      <td>155</td>\n",
       "      <td>13</td>\n",
       "      <td>1</td>\n",
       "      <td>0</td>\n",
       "      <td>2</td>\n",
       "      <td>2010</td>\n",
       "      <td>9</td>\n",
       "      <td>12</td>\n",
       "      <td>6</td>\n",
       "    </tr>\n",
       "    <tr>\n",
       "      <th>16</th>\n",
       "      <td>3017</td>\n",
       "      <td>[{'id': 313576, 'name': 'Hot Tub Time Machine ...</td>\n",
       "      <td>36000000</td>\n",
       "      <td>[{'id': 878, 'name': 'Science Fiction'}, {'id'...</td>\n",
       "      <td>http://www.mgm.com/view/Movie/2387/Hot-T...</td>\n",
       "      <td>tt1231587</td>\n",
       "      <td>en</td>\n",
       "      <td>Hot Tub Time Machine</td>\n",
       "      <td>A malfunctioning time machine at a ski resort ...</td>\n",
       "      <td>11.967652</td>\n",
       "      <td>...</td>\n",
       "      <td>45</td>\n",
       "      <td>199</td>\n",
       "      <td>20</td>\n",
       "      <td>1</td>\n",
       "      <td>1</td>\n",
       "      <td>3</td>\n",
       "      <td>2010</td>\n",
       "      <td>3</td>\n",
       "      <td>26</td>\n",
       "      <td>4</td>\n",
       "    </tr>\n",
       "    <tr>\n",
       "      <th>17</th>\n",
       "      <td>3018</td>\n",
       "      <td>unknow</td>\n",
       "      <td>100000000</td>\n",
       "      <td>[{'id': 53, 'name': 'Thriller'}, {'id': 878, '...</td>\n",
       "      <td>unknow</td>\n",
       "      <td>tt2209764</td>\n",
       "      <td>en</td>\n",
       "      <td>Transcendence</td>\n",
       "      <td>Two leading computer scientists work toward th...</td>\n",
       "      <td>9.730176</td>\n",
       "      <td>...</td>\n",
       "      <td>137</td>\n",
       "      <td>236</td>\n",
       "      <td>13</td>\n",
       "      <td>0</td>\n",
       "      <td>0</td>\n",
       "      <td>4</td>\n",
       "      <td>2014</td>\n",
       "      <td>4</td>\n",
       "      <td>16</td>\n",
       "      <td>2</td>\n",
       "    </tr>\n",
       "    <tr>\n",
       "      <th>18</th>\n",
       "      <td>3019</td>\n",
       "      <td>unknow</td>\n",
       "      <td>0</td>\n",
       "      <td>[{'id': 18, 'name': 'Drama'}, {'id': 10402, 'n...</td>\n",
       "      <td>unknow</td>\n",
       "      <td>tt0078754</td>\n",
       "      <td>en</td>\n",
       "      <td>All That Jazz</td>\n",
       "      <td>Bob Fosse's semi-autobiographical film celebra...</td>\n",
       "      <td>5.632325</td>\n",
       "      <td>...</td>\n",
       "      <td>30</td>\n",
       "      <td>396</td>\n",
       "      <td>13</td>\n",
       "      <td>0</td>\n",
       "      <td>0</td>\n",
       "      <td>2</td>\n",
       "      <td>1979</td>\n",
       "      <td>12</td>\n",
       "      <td>20</td>\n",
       "      <td>3</td>\n",
       "    </tr>\n",
       "    <tr>\n",
       "      <th>19</th>\n",
       "      <td>3020</td>\n",
       "      <td>unknow</td>\n",
       "      <td>200000000</td>\n",
       "      <td>[{'id': 18, 'name': 'Drama'}, {'id': 10749, 'n...</td>\n",
       "      <td>http://www.titanicmovie.com</td>\n",
       "      <td>tt0120338</td>\n",
       "      <td>en</td>\n",
       "      <td>Titanic</td>\n",
       "      <td>84 years later, a 101-year-old woman named Ros...</td>\n",
       "      <td>26.889070</td>\n",
       "      <td>...</td>\n",
       "      <td>132</td>\n",
       "      <td>682</td>\n",
       "      <td>7</td>\n",
       "      <td>1</td>\n",
       "      <td>0</td>\n",
       "      <td>3</td>\n",
       "      <td>1997</td>\n",
       "      <td>11</td>\n",
       "      <td>18</td>\n",
       "      <td>1</td>\n",
       "    </tr>\n",
       "    <tr>\n",
       "      <th>20</th>\n",
       "      <td>3021</td>\n",
       "      <td>unknow</td>\n",
       "      <td>30000000</td>\n",
       "      <td>[{'id': 35, 'name': 'Comedy'}, {'id': 80, 'nam...</td>\n",
       "      <td>unknow</td>\n",
       "      <td>tt0124198</td>\n",
       "      <td>en</td>\n",
       "      <td>Very Bad Things</td>\n",
       "      <td>Kyle Fisher has one last night to celebrate li...</td>\n",
       "      <td>10.432293</td>\n",
       "      <td>...</td>\n",
       "      <td>39</td>\n",
       "      <td>451</td>\n",
       "      <td>15</td>\n",
       "      <td>0</td>\n",
       "      <td>0</td>\n",
       "      <td>4</td>\n",
       "      <td>1998</td>\n",
       "      <td>9</td>\n",
       "      <td>11</td>\n",
       "      <td>4</td>\n",
       "    </tr>\n",
       "    <tr>\n",
       "      <th>21</th>\n",
       "      <td>3022</td>\n",
       "      <td>unknow</td>\n",
       "      <td>20000000</td>\n",
       "      <td>[{'id': 10749, 'name': 'Romance'}, {'id': 35, ...</td>\n",
       "      <td>http://www.mybestfriendsgirlmovie.com</td>\n",
       "      <td>tt1046163</td>\n",
       "      <td>en</td>\n",
       "      <td>My Best Friend's Girl</td>\n",
       "      <td>When Dustin's girlfriend, Alexis, breaks up wi...</td>\n",
       "      <td>14.114136</td>\n",
       "      <td>...</td>\n",
       "      <td>48</td>\n",
       "      <td>294</td>\n",
       "      <td>21</td>\n",
       "      <td>1</td>\n",
       "      <td>0</td>\n",
       "      <td>5</td>\n",
       "      <td>2008</td>\n",
       "      <td>9</td>\n",
       "      <td>19</td>\n",
       "      <td>4</td>\n",
       "    </tr>\n",
       "    <tr>\n",
       "      <th>22</th>\n",
       "      <td>3023</td>\n",
       "      <td>unknow</td>\n",
       "      <td>0</td>\n",
       "      <td>[{'id': 18, 'name': 'Drama'}, {'id': 10402, 'n...</td>\n",
       "      <td>unknow</td>\n",
       "      <td>tt0477392</td>\n",
       "      <td>en</td>\n",
       "      <td>Broken Bridges</td>\n",
       "      <td>A fading country music star (Keith) returns to...</td>\n",
       "      <td>1.120498</td>\n",
       "      <td>...</td>\n",
       "      <td>38</td>\n",
       "      <td>168</td>\n",
       "      <td>14</td>\n",
       "      <td>0</td>\n",
       "      <td>0</td>\n",
       "      <td>5</td>\n",
       "      <td>2006</td>\n",
       "      <td>9</td>\n",
       "      <td>8</td>\n",
       "      <td>4</td>\n",
       "    </tr>\n",
       "    <tr>\n",
       "      <th>23</th>\n",
       "      <td>3024</td>\n",
       "      <td>unknow</td>\n",
       "      <td>27000000</td>\n",
       "      <td>[{'id': 80, 'name': 'Crime'}, {'id': 53, 'name...</td>\n",
       "      <td>unknow</td>\n",
       "      <td>tt0324127</td>\n",
       "      <td>en</td>\n",
       "      <td>Suspect Zero</td>\n",
       "      <td>A killer is on the loose, and an FBI agent sif...</td>\n",
       "      <td>7.550891</td>\n",
       "      <td>...</td>\n",
       "      <td>26</td>\n",
       "      <td>147</td>\n",
       "      <td>12</td>\n",
       "      <td>0</td>\n",
       "      <td>0</td>\n",
       "      <td>4</td>\n",
       "      <td>2004</td>\n",
       "      <td>8</td>\n",
       "      <td>27</td>\n",
       "      <td>4</td>\n",
       "    </tr>\n",
       "    <tr>\n",
       "      <th>24</th>\n",
       "      <td>3025</td>\n",
       "      <td>unknow</td>\n",
       "      <td>0</td>\n",
       "      <td>[{'id': 28, 'name': 'Action'}, {'id': 18, 'nam...</td>\n",
       "      <td>unknow</td>\n",
       "      <td>tt1735907</td>\n",
       "      <td>en</td>\n",
       "      <td>The Adderall Diaries</td>\n",
       "      <td>Writer and Adderall enthusiast Stephen Elliott...</td>\n",
       "      <td>4.142280</td>\n",
       "      <td>...</td>\n",
       "      <td>75</td>\n",
       "      <td>457</td>\n",
       "      <td>20</td>\n",
       "      <td>0</td>\n",
       "      <td>0</td>\n",
       "      <td>3</td>\n",
       "      <td>2016</td>\n",
       "      <td>4</td>\n",
       "      <td>15</td>\n",
       "      <td>4</td>\n",
       "    </tr>\n",
       "    <tr>\n",
       "      <th>25</th>\n",
       "      <td>3026</td>\n",
       "      <td>unknow</td>\n",
       "      <td>35000000</td>\n",
       "      <td>[{'id': 80, 'name': 'Crime'}, {'id': 53, 'name...</td>\n",
       "      <td>unknow</td>\n",
       "      <td>tt0101540</td>\n",
       "      <td>en</td>\n",
       "      <td>Cape Fear</td>\n",
       "      <td>Sam Bowden is a small-town corporate attorney....</td>\n",
       "      <td>10.302735</td>\n",
       "      <td>...</td>\n",
       "      <td>79</td>\n",
       "      <td>469</td>\n",
       "      <td>9</td>\n",
       "      <td>0</td>\n",
       "      <td>0</td>\n",
       "      <td>4</td>\n",
       "      <td>1991</td>\n",
       "      <td>11</td>\n",
       "      <td>15</td>\n",
       "      <td>4</td>\n",
       "    </tr>\n",
       "    <tr>\n",
       "      <th>26</th>\n",
       "      <td>3027</td>\n",
       "      <td>unknow</td>\n",
       "      <td>5000000</td>\n",
       "      <td>[{'id': 14, 'name': 'Fantasy'}, {'id': 12, 'na...</td>\n",
       "      <td>unknow</td>\n",
       "      <td>tt0093744</td>\n",
       "      <td>en</td>\n",
       "      <td>The New Adventures of Pippi Longstocking</td>\n",
       "      <td>After her father's ship is carried off by a su...</td>\n",
       "      <td>3.078111</td>\n",
       "      <td>...</td>\n",
       "      <td>31</td>\n",
       "      <td>669</td>\n",
       "      <td>40</td>\n",
       "      <td>0</td>\n",
       "      <td>0</td>\n",
       "      <td>1</td>\n",
       "      <td>1988</td>\n",
       "      <td>7</td>\n",
       "      <td>6</td>\n",
       "      <td>2</td>\n",
       "    </tr>\n",
       "    <tr>\n",
       "      <th>27</th>\n",
       "      <td>3028</td>\n",
       "      <td>unknow</td>\n",
       "      <td>44000000</td>\n",
       "      <td>[{'id': 80, 'name': 'Crime'}, {'id': 53, 'name...</td>\n",
       "      <td>http://www.accountantmovie.com/</td>\n",
       "      <td>tt2140479</td>\n",
       "      <td>en</td>\n",
       "      <td>The Accountant</td>\n",
       "      <td>As a math savant uncooks the books for a new c...</td>\n",
       "      <td>13.465656</td>\n",
       "      <td>...</td>\n",
       "      <td>134</td>\n",
       "      <td>139</td>\n",
       "      <td>14</td>\n",
       "      <td>1</td>\n",
       "      <td>0</td>\n",
       "      <td>4</td>\n",
       "      <td>2016</td>\n",
       "      <td>10</td>\n",
       "      <td>14</td>\n",
       "      <td>4</td>\n",
       "    </tr>\n",
       "    <tr>\n",
       "      <th>28</th>\n",
       "      <td>3029</td>\n",
       "      <td>[{'id': 409138, 'name': 'Yossi Collection', 'p...</td>\n",
       "      <td>500000</td>\n",
       "      <td>[{'id': 18, 'name': 'Drama'}, {'id': 10749, 'n...</td>\n",
       "      <td>http://yossifilm.com/</td>\n",
       "      <td>tt1934269</td>\n",
       "      <td>he</td>\n",
       "      <td>הסיפור של יוסי</td>\n",
       "      <td>The sequel to \"Yossi and Jagger\" finds charact...</td>\n",
       "      <td>1.162001</td>\n",
       "      <td>...</td>\n",
       "      <td>4</td>\n",
       "      <td>387</td>\n",
       "      <td>14</td>\n",
       "      <td>1</td>\n",
       "      <td>1</td>\n",
       "      <td>2</td>\n",
       "      <td>2012</td>\n",
       "      <td>5</td>\n",
       "      <td>16</td>\n",
       "      <td>2</td>\n",
       "    </tr>\n",
       "    <tr>\n",
       "      <th>29</th>\n",
       "      <td>3030</td>\n",
       "      <td>unknow</td>\n",
       "      <td>35000000</td>\n",
       "      <td>[{'id': 28, 'name': 'Action'}, {'id': 37, 'nam...</td>\n",
       "      <td>unknow</td>\n",
       "      <td>tt0244000</td>\n",
       "      <td>en</td>\n",
       "      <td>American Outlaws</td>\n",
       "      <td>When a Midwest town learns that a corrupt rail...</td>\n",
       "      <td>10.855383</td>\n",
       "      <td>...</td>\n",
       "      <td>22</td>\n",
       "      <td>390</td>\n",
       "      <td>16</td>\n",
       "      <td>0</td>\n",
       "      <td>0</td>\n",
       "      <td>1</td>\n",
       "      <td>2001</td>\n",
       "      <td>8</td>\n",
       "      <td>17</td>\n",
       "      <td>4</td>\n",
       "    </tr>\n",
       "    <tr>\n",
       "      <th>...</th>\n",
       "      <td>...</td>\n",
       "      <td>...</td>\n",
       "      <td>...</td>\n",
       "      <td>...</td>\n",
       "      <td>...</td>\n",
       "      <td>...</td>\n",
       "      <td>...</td>\n",
       "      <td>...</td>\n",
       "      <td>...</td>\n",
       "      <td>...</td>\n",
       "      <td>...</td>\n",
       "      <td>...</td>\n",
       "      <td>...</td>\n",
       "      <td>...</td>\n",
       "      <td>...</td>\n",
       "      <td>...</td>\n",
       "      <td>...</td>\n",
       "      <td>...</td>\n",
       "      <td>...</td>\n",
       "      <td>...</td>\n",
       "      <td>...</td>\n",
       "    </tr>\n",
       "    <tr>\n",
       "      <th>4368</th>\n",
       "      <td>7369</td>\n",
       "      <td>unknow</td>\n",
       "      <td>25000000</td>\n",
       "      <td>[{'id': 28, 'name': 'Action'}, {'id': 18, 'nam...</td>\n",
       "      <td>https://www.facebook.com/JaneGotAGunFilm/</td>\n",
       "      <td>tt2140037</td>\n",
       "      <td>en</td>\n",
       "      <td>Jane Got a Gun</td>\n",
       "      <td>After her outlaw husband returns home shot wit...</td>\n",
       "      <td>8.826071</td>\n",
       "      <td>...</td>\n",
       "      <td>33</td>\n",
       "      <td>279</td>\n",
       "      <td>14</td>\n",
       "      <td>1</td>\n",
       "      <td>0</td>\n",
       "      <td>5</td>\n",
       "      <td>2016</td>\n",
       "      <td>1</td>\n",
       "      <td>1</td>\n",
       "      <td>4</td>\n",
       "    </tr>\n",
       "    <tr>\n",
       "      <th>4369</th>\n",
       "      <td>7370</td>\n",
       "      <td>unknow</td>\n",
       "      <td>30000000</td>\n",
       "      <td>[{'id': 28, 'name': 'Action'}, {'id': 53, 'nam...</td>\n",
       "      <td>unknow</td>\n",
       "      <td>tt0483607</td>\n",
       "      <td>en</td>\n",
       "      <td>Doomsday</td>\n",
       "      <td>A lethal virus spreads throughout the British ...</td>\n",
       "      <td>13.436536</td>\n",
       "      <td>...</td>\n",
       "      <td>190</td>\n",
       "      <td>564</td>\n",
       "      <td>8</td>\n",
       "      <td>0</td>\n",
       "      <td>0</td>\n",
       "      <td>7</td>\n",
       "      <td>2008</td>\n",
       "      <td>3</td>\n",
       "      <td>14</td>\n",
       "      <td>4</td>\n",
       "    </tr>\n",
       "    <tr>\n",
       "      <th>4370</th>\n",
       "      <td>7371</td>\n",
       "      <td>[{'id': 122947, 'name': 'Omega Code Series', '...</td>\n",
       "      <td>0</td>\n",
       "      <td>[{'id': 27, 'name': 'Horror'}, {'id': 53, 'nam...</td>\n",
       "      <td>unknow</td>\n",
       "      <td>tt0203408</td>\n",
       "      <td>en</td>\n",
       "      <td>The Omega Code</td>\n",
       "      <td>In this spiritual thriller, an ancient prophec...</td>\n",
       "      <td>1.789046</td>\n",
       "      <td>...</td>\n",
       "      <td>32</td>\n",
       "      <td>262</td>\n",
       "      <td>14</td>\n",
       "      <td>0</td>\n",
       "      <td>1</td>\n",
       "      <td>1</td>\n",
       "      <td>1999</td>\n",
       "      <td>10</td>\n",
       "      <td>15</td>\n",
       "      <td>4</td>\n",
       "    </tr>\n",
       "    <tr>\n",
       "      <th>4371</th>\n",
       "      <td>7372</td>\n",
       "      <td>unknow</td>\n",
       "      <td>55000000</td>\n",
       "      <td>[{'id': 18, 'name': 'Drama'}, {'id': 10749, 'n...</td>\n",
       "      <td>http://www.burlesquethemovie.com/</td>\n",
       "      <td>tt1126591</td>\n",
       "      <td>en</td>\n",
       "      <td>Burlesque</td>\n",
       "      <td>The Burlesque Lounge has its best days behind ...</td>\n",
       "      <td>9.276539</td>\n",
       "      <td>...</td>\n",
       "      <td>39</td>\n",
       "      <td>859</td>\n",
       "      <td>9</td>\n",
       "      <td>1</td>\n",
       "      <td>0</td>\n",
       "      <td>1</td>\n",
       "      <td>2010</td>\n",
       "      <td>11</td>\n",
       "      <td>23</td>\n",
       "      <td>1</td>\n",
       "    </tr>\n",
       "    <tr>\n",
       "      <th>4372</th>\n",
       "      <td>7373</td>\n",
       "      <td>unknow</td>\n",
       "      <td>170000000</td>\n",
       "      <td>[{'id': 12, 'name': 'Adventure'}, {'id': 18, '...</td>\n",
       "      <td>http://www.hugomovie.com/</td>\n",
       "      <td>tt0970179</td>\n",
       "      <td>en</td>\n",
       "      <td>Hugo</td>\n",
       "      <td>Hugo is an orphan boy living in the walls of a...</td>\n",
       "      <td>14.046164</td>\n",
       "      <td>...</td>\n",
       "      <td>159</td>\n",
       "      <td>729</td>\n",
       "      <td>4</td>\n",
       "      <td>1</td>\n",
       "      <td>0</td>\n",
       "      <td>3</td>\n",
       "      <td>2011</td>\n",
       "      <td>11</td>\n",
       "      <td>22</td>\n",
       "      <td>1</td>\n",
       "    </tr>\n",
       "    <tr>\n",
       "      <th>4373</th>\n",
       "      <td>7374</td>\n",
       "      <td>[{'id': 257053, 'name': 'Carrie Collection', '...</td>\n",
       "      <td>1800000</td>\n",
       "      <td>[{'id': 27, 'name': 'Horror'}, {'id': 53, 'nam...</td>\n",
       "      <td>unknow</td>\n",
       "      <td>tt0074285</td>\n",
       "      <td>en</td>\n",
       "      <td>Carrie</td>\n",
       "      <td>Carrie may be ostracized, but the shy teen has...</td>\n",
       "      <td>9.277692</td>\n",
       "      <td>...</td>\n",
       "      <td>48</td>\n",
       "      <td>223</td>\n",
       "      <td>6</td>\n",
       "      <td>0</td>\n",
       "      <td>1</td>\n",
       "      <td>1</td>\n",
       "      <td>1976</td>\n",
       "      <td>11</td>\n",
       "      <td>3</td>\n",
       "      <td>2</td>\n",
       "    </tr>\n",
       "    <tr>\n",
       "      <th>4374</th>\n",
       "      <td>7375</td>\n",
       "      <td>unknow</td>\n",
       "      <td>16000000</td>\n",
       "      <td>[{'id': 18, 'name': 'Drama'}, {'id': 53, 'name...</td>\n",
       "      <td>unknow</td>\n",
       "      <td>tt0103074</td>\n",
       "      <td>en</td>\n",
       "      <td>Thelma &amp; Louise</td>\n",
       "      <td>Whilst on a short weekend getaway, Louise shoo...</td>\n",
       "      <td>14.785388</td>\n",
       "      <td>...</td>\n",
       "      <td>114</td>\n",
       "      <td>364</td>\n",
       "      <td>15</td>\n",
       "      <td>0</td>\n",
       "      <td>0</td>\n",
       "      <td>3</td>\n",
       "      <td>1991</td>\n",
       "      <td>5</td>\n",
       "      <td>24</td>\n",
       "      <td>4</td>\n",
       "    </tr>\n",
       "    <tr>\n",
       "      <th>4375</th>\n",
       "      <td>7376</td>\n",
       "      <td>unknow</td>\n",
       "      <td>0</td>\n",
       "      <td>[{'id': 10769, 'name': 'Foreign'}, {'id': 18, ...</td>\n",
       "      <td>unknow</td>\n",
       "      <td>tt0322725</td>\n",
       "      <td>it</td>\n",
       "      <td>L'imbalsamatore</td>\n",
       "      <td>Peppino is an aging taxidermist constantly rid...</td>\n",
       "      <td>1.405580</td>\n",
       "      <td>...</td>\n",
       "      <td>20</td>\n",
       "      <td>372</td>\n",
       "      <td>15</td>\n",
       "      <td>0</td>\n",
       "      <td>0</td>\n",
       "      <td>1</td>\n",
       "      <td>2002</td>\n",
       "      <td>9</td>\n",
       "      <td>6</td>\n",
       "      <td>4</td>\n",
       "    </tr>\n",
       "    <tr>\n",
       "      <th>4376</th>\n",
       "      <td>7377</td>\n",
       "      <td>unknow</td>\n",
       "      <td>4000000</td>\n",
       "      <td>[{'id': 12, 'name': 'Adventure'}, {'id': 35, '...</td>\n",
       "      <td>unknow</td>\n",
       "      <td>tt0065938</td>\n",
       "      <td>en</td>\n",
       "      <td>Kelly's Heroes</td>\n",
       "      <td>A misfit group of World War II American soldie...</td>\n",
       "      <td>8.418662</td>\n",
       "      <td>...</td>\n",
       "      <td>31</td>\n",
       "      <td>93</td>\n",
       "      <td>14</td>\n",
       "      <td>0</td>\n",
       "      <td>0</td>\n",
       "      <td>3</td>\n",
       "      <td>1970</td>\n",
       "      <td>6</td>\n",
       "      <td>22</td>\n",
       "      <td>0</td>\n",
       "    </tr>\n",
       "    <tr>\n",
       "      <th>4377</th>\n",
       "      <td>7378</td>\n",
       "      <td>unknow</td>\n",
       "      <td>13200000</td>\n",
       "      <td>[{'id': 80, 'name': 'Crime'}, {'id': 53, 'name...</td>\n",
       "      <td>http://www.sonypictures.com/movies/nogooddeed/</td>\n",
       "      <td>tt2011159</td>\n",
       "      <td>en</td>\n",
       "      <td>No Good Deed</td>\n",
       "      <td>Terri is a devoted wife and mother of two, liv...</td>\n",
       "      <td>24.644321</td>\n",
       "      <td>...</td>\n",
       "      <td>125</td>\n",
       "      <td>360</td>\n",
       "      <td>12</td>\n",
       "      <td>1</td>\n",
       "      <td>0</td>\n",
       "      <td>1</td>\n",
       "      <td>2014</td>\n",
       "      <td>9</td>\n",
       "      <td>10</td>\n",
       "      <td>2</td>\n",
       "    </tr>\n",
       "    <tr>\n",
       "      <th>4378</th>\n",
       "      <td>7379</td>\n",
       "      <td>unknow</td>\n",
       "      <td>42000000</td>\n",
       "      <td>[{'id': 80, 'name': 'Crime'}, {'id': 18, 'name...</td>\n",
       "      <td>unknow</td>\n",
       "      <td>tt0399295</td>\n",
       "      <td>en</td>\n",
       "      <td>Lord of War</td>\n",
       "      <td>Yuri Orlov is a globetrotting arms dealer and,...</td>\n",
       "      <td>8.745216</td>\n",
       "      <td>...</td>\n",
       "      <td>35</td>\n",
       "      <td>311</td>\n",
       "      <td>11</td>\n",
       "      <td>0</td>\n",
       "      <td>0</td>\n",
       "      <td>6</td>\n",
       "      <td>2005</td>\n",
       "      <td>9</td>\n",
       "      <td>16</td>\n",
       "      <td>4</td>\n",
       "    </tr>\n",
       "    <tr>\n",
       "      <th>4379</th>\n",
       "      <td>7380</td>\n",
       "      <td>unknow</td>\n",
       "      <td>0</td>\n",
       "      <td>[{'id': 12, 'name': 'Adventure'}, {'id': 28, '...</td>\n",
       "      <td>unknow</td>\n",
       "      <td>tt1731701</td>\n",
       "      <td>en</td>\n",
       "      <td>Barely Lethal</td>\n",
       "      <td>A 16-year-old international assassin yearning ...</td>\n",
       "      <td>11.009871</td>\n",
       "      <td>...</td>\n",
       "      <td>28</td>\n",
       "      <td>229</td>\n",
       "      <td>13</td>\n",
       "      <td>0</td>\n",
       "      <td>0</td>\n",
       "      <td>1</td>\n",
       "      <td>2015</td>\n",
       "      <td>4</td>\n",
       "      <td>30</td>\n",
       "      <td>3</td>\n",
       "    </tr>\n",
       "    <tr>\n",
       "      <th>4380</th>\n",
       "      <td>7381</td>\n",
       "      <td>unknow</td>\n",
       "      <td>0</td>\n",
       "      <td>[{'id': 35, 'name': 'Comedy'}, {'id': 10402, '...</td>\n",
       "      <td>https://www.uphe.com/movies/popstar-never-stop...</td>\n",
       "      <td>tt3960412</td>\n",
       "      <td>en</td>\n",
       "      <td>Popstar: Never Stop Never Stopping</td>\n",
       "      <td>When his new album fails to sell records, pop/...</td>\n",
       "      <td>5.285420</td>\n",
       "      <td>...</td>\n",
       "      <td>14</td>\n",
       "      <td>253</td>\n",
       "      <td>34</td>\n",
       "      <td>1</td>\n",
       "      <td>0</td>\n",
       "      <td>4</td>\n",
       "      <td>2016</td>\n",
       "      <td>6</td>\n",
       "      <td>3</td>\n",
       "      <td>4</td>\n",
       "    </tr>\n",
       "    <tr>\n",
       "      <th>4381</th>\n",
       "      <td>7382</td>\n",
       "      <td>unknow</td>\n",
       "      <td>600000</td>\n",
       "      <td>[{'id': 36, 'name': 'History'}, {'id': 99, 'na...</td>\n",
       "      <td>unknow</td>\n",
       "      <td>tt0066580</td>\n",
       "      <td>en</td>\n",
       "      <td>Woodstock</td>\n",
       "      <td>An intimate look at the Woodstock Music &amp; Art ...</td>\n",
       "      <td>3.624542</td>\n",
       "      <td>...</td>\n",
       "      <td>41</td>\n",
       "      <td>494</td>\n",
       "      <td>9</td>\n",
       "      <td>0</td>\n",
       "      <td>0</td>\n",
       "      <td>2</td>\n",
       "      <td>1970</td>\n",
       "      <td>3</td>\n",
       "      <td>26</td>\n",
       "      <td>3</td>\n",
       "    </tr>\n",
       "    <tr>\n",
       "      <th>4382</th>\n",
       "      <td>7383</td>\n",
       "      <td>unknow</td>\n",
       "      <td>800000</td>\n",
       "      <td>[{'id': 35, 'name': 'Comedy'}, {'id': 18, 'nam...</td>\n",
       "      <td>unknow</td>\n",
       "      <td>tt0933361</td>\n",
       "      <td>en</td>\n",
       "      <td>Dikari</td>\n",
       "      <td>The sea, August, interesting and simple people...</td>\n",
       "      <td>0.903061</td>\n",
       "      <td>...</td>\n",
       "      <td>4</td>\n",
       "      <td>378</td>\n",
       "      <td>6</td>\n",
       "      <td>0</td>\n",
       "      <td>0</td>\n",
       "      <td>0</td>\n",
       "      <td>2006</td>\n",
       "      <td>11</td>\n",
       "      <td>23</td>\n",
       "      <td>3</td>\n",
       "    </tr>\n",
       "    <tr>\n",
       "      <th>4383</th>\n",
       "      <td>7384</td>\n",
       "      <td>unknow</td>\n",
       "      <td>10000000</td>\n",
       "      <td>[{'id': 18, 'name': 'Drama'}, {'id': 53, 'name...</td>\n",
       "      <td>http://www.disconnectthemovie.com/</td>\n",
       "      <td>tt1433811</td>\n",
       "      <td>en</td>\n",
       "      <td>Disconnect</td>\n",
       "      <td>Disconnect interweaves multiple storylines abo...</td>\n",
       "      <td>12.188120</td>\n",
       "      <td>...</td>\n",
       "      <td>21</td>\n",
       "      <td>352</td>\n",
       "      <td>10</td>\n",
       "      <td>1</td>\n",
       "      <td>0</td>\n",
       "      <td>6</td>\n",
       "      <td>2012</td>\n",
       "      <td>9</td>\n",
       "      <td>11</td>\n",
       "      <td>1</td>\n",
       "    </tr>\n",
       "    <tr>\n",
       "      <th>4384</th>\n",
       "      <td>7385</td>\n",
       "      <td>unknow</td>\n",
       "      <td>15000000</td>\n",
       "      <td>[{'id': 28, 'name': 'Action'}, {'id': 18, 'nam...</td>\n",
       "      <td>unknow</td>\n",
       "      <td>tt0093640</td>\n",
       "      <td>en</td>\n",
       "      <td>No Way Out</td>\n",
       "      <td>Navy Lt. Tom Farrell meets a young woman, Susa...</td>\n",
       "      <td>11.457803</td>\n",
       "      <td>...</td>\n",
       "      <td>32</td>\n",
       "      <td>433</td>\n",
       "      <td>10</td>\n",
       "      <td>0</td>\n",
       "      <td>0</td>\n",
       "      <td>1</td>\n",
       "      <td>1987</td>\n",
       "      <td>8</td>\n",
       "      <td>14</td>\n",
       "      <td>4</td>\n",
       "    </tr>\n",
       "    <tr>\n",
       "      <th>4385</th>\n",
       "      <td>7386</td>\n",
       "      <td>unknow</td>\n",
       "      <td>12000000</td>\n",
       "      <td>[{'id': 35, 'name': 'Comedy'}]</td>\n",
       "      <td>http://www.howhighmovie.com/</td>\n",
       "      <td>tt0278488</td>\n",
       "      <td>en</td>\n",
       "      <td>How High</td>\n",
       "      <td>Multi-platinum rap superstars Redman and Metho...</td>\n",
       "      <td>6.796277</td>\n",
       "      <td>...</td>\n",
       "      <td>143</td>\n",
       "      <td>408</td>\n",
       "      <td>8</td>\n",
       "      <td>1</td>\n",
       "      <td>0</td>\n",
       "      <td>3</td>\n",
       "      <td>2001</td>\n",
       "      <td>12</td>\n",
       "      <td>21</td>\n",
       "      <td>4</td>\n",
       "    </tr>\n",
       "    <tr>\n",
       "      <th>4386</th>\n",
       "      <td>7387</td>\n",
       "      <td>[{'id': 88574, 'name': 'Scanners Collection', ...</td>\n",
       "      <td>0</td>\n",
       "      <td>[{'id': 27, 'name': 'Horror'}, {'id': 878, 'na...</td>\n",
       "      <td>unknow</td>\n",
       "      <td>tt0102848</td>\n",
       "      <td>en</td>\n",
       "      <td>Scanners II: The New Order</td>\n",
       "      <td>A scanner discovers a plot by renegade element...</td>\n",
       "      <td>2.201123</td>\n",
       "      <td>...</td>\n",
       "      <td>20</td>\n",
       "      <td>116</td>\n",
       "      <td>26</td>\n",
       "      <td>0</td>\n",
       "      <td>1</td>\n",
       "      <td>4</td>\n",
       "      <td>1991</td>\n",
       "      <td>6</td>\n",
       "      <td>28</td>\n",
       "      <td>4</td>\n",
       "    </tr>\n",
       "    <tr>\n",
       "      <th>4387</th>\n",
       "      <td>7388</td>\n",
       "      <td>unknow</td>\n",
       "      <td>0</td>\n",
       "      <td>[{'id': 35, 'name': 'Comedy'}, {'id': 80, 'nam...</td>\n",
       "      <td>unknow</td>\n",
       "      <td>tt2172985</td>\n",
       "      <td>en</td>\n",
       "      <td>The Art of the Steal</td>\n",
       "      <td>Crunch Calhoun, a third-rate motorcycle darede...</td>\n",
       "      <td>8.436614</td>\n",
       "      <td>...</td>\n",
       "      <td>18</td>\n",
       "      <td>268</td>\n",
       "      <td>20</td>\n",
       "      <td>0</td>\n",
       "      <td>0</td>\n",
       "      <td>3</td>\n",
       "      <td>2013</td>\n",
       "      <td>9</td>\n",
       "      <td>11</td>\n",
       "      <td>2</td>\n",
       "    </tr>\n",
       "    <tr>\n",
       "      <th>4388</th>\n",
       "      <td>7389</td>\n",
       "      <td>unknow</td>\n",
       "      <td>1000000</td>\n",
       "      <td>[{'id': 18, 'name': 'Drama'}, {'id': 14, 'name...</td>\n",
       "      <td>http://www.specialthemovie.com/</td>\n",
       "      <td>tt0479162</td>\n",
       "      <td>en</td>\n",
       "      <td>Special</td>\n",
       "      <td>A lonely metermaid has a psychotic reaction to...</td>\n",
       "      <td>2.003309</td>\n",
       "      <td>...</td>\n",
       "      <td>8</td>\n",
       "      <td>197</td>\n",
       "      <td>7</td>\n",
       "      <td>1</td>\n",
       "      <td>0</td>\n",
       "      <td>1</td>\n",
       "      <td>2006</td>\n",
       "      <td>1</td>\n",
       "      <td>30</td>\n",
       "      <td>0</td>\n",
       "    </tr>\n",
       "    <tr>\n",
       "      <th>4389</th>\n",
       "      <td>7390</td>\n",
       "      <td>unknow</td>\n",
       "      <td>0</td>\n",
       "      <td>[{'id': 35, 'name': 'Comedy'}]</td>\n",
       "      <td>http://www.inappropriatecomedy.com</td>\n",
       "      <td>tt1754811</td>\n",
       "      <td>en</td>\n",
       "      <td>InAPPropriate Comedy</td>\n",
       "      <td>A no-nonsense cop has a flair for fashion and ...</td>\n",
       "      <td>3.097025</td>\n",
       "      <td>...</td>\n",
       "      <td>8</td>\n",
       "      <td>125</td>\n",
       "      <td>20</td>\n",
       "      <td>1</td>\n",
       "      <td>0</td>\n",
       "      <td>0</td>\n",
       "      <td>2013</td>\n",
       "      <td>3</td>\n",
       "      <td>22</td>\n",
       "      <td>4</td>\n",
       "    </tr>\n",
       "    <tr>\n",
       "      <th>4390</th>\n",
       "      <td>7391</td>\n",
       "      <td>unknow</td>\n",
       "      <td>0</td>\n",
       "      <td>[{'id': 18, 'name': 'Drama'}]</td>\n",
       "      <td>unknow</td>\n",
       "      <td>tt0103253</td>\n",
       "      <td>en</td>\n",
       "      <td>Whore</td>\n",
       "      <td>This melodrama investigates the life of a pros...</td>\n",
       "      <td>6.404093</td>\n",
       "      <td>...</td>\n",
       "      <td>23</td>\n",
       "      <td>83</td>\n",
       "      <td>5</td>\n",
       "      <td>0</td>\n",
       "      <td>0</td>\n",
       "      <td>1</td>\n",
       "      <td>1991</td>\n",
       "      <td>6</td>\n",
       "      <td>21</td>\n",
       "      <td>4</td>\n",
       "    </tr>\n",
       "    <tr>\n",
       "      <th>4391</th>\n",
       "      <td>7392</td>\n",
       "      <td>unknow</td>\n",
       "      <td>10000000</td>\n",
       "      <td>[{'id': 18, 'name': 'Drama'}]</td>\n",
       "      <td>http://www.weareallprecious.com/</td>\n",
       "      <td>tt0929632</td>\n",
       "      <td>en</td>\n",
       "      <td>Precious</td>\n",
       "      <td>Set in Harlem in 1987, Claireece \"Precious\" Jo...</td>\n",
       "      <td>8.293548</td>\n",
       "      <td>...</td>\n",
       "      <td>6</td>\n",
       "      <td>396</td>\n",
       "      <td>8</td>\n",
       "      <td>1</td>\n",
       "      <td>0</td>\n",
       "      <td>1</td>\n",
       "      <td>2009</td>\n",
       "      <td>11</td>\n",
       "      <td>6</td>\n",
       "      <td>4</td>\n",
       "    </tr>\n",
       "    <tr>\n",
       "      <th>4392</th>\n",
       "      <td>7393</td>\n",
       "      <td>[{'id': 528, 'name': 'The Terminator Collectio...</td>\n",
       "      <td>155000000</td>\n",
       "      <td>[{'id': 878, 'name': 'Science Fiction'}, {'id'...</td>\n",
       "      <td>http://www.terminatormovie.com/</td>\n",
       "      <td>tt1340138</td>\n",
       "      <td>en</td>\n",
       "      <td>Terminator Genisys</td>\n",
       "      <td>The year is 2029. John Connor, leader of the r...</td>\n",
       "      <td>30.188198</td>\n",
       "      <td>...</td>\n",
       "      <td>295</td>\n",
       "      <td>321</td>\n",
       "      <td>18</td>\n",
       "      <td>1</td>\n",
       "      <td>1</td>\n",
       "      <td>3</td>\n",
       "      <td>2015</td>\n",
       "      <td>6</td>\n",
       "      <td>23</td>\n",
       "      <td>1</td>\n",
       "    </tr>\n",
       "    <tr>\n",
       "      <th>4393</th>\n",
       "      <td>7394</td>\n",
       "      <td>unknow</td>\n",
       "      <td>42000000</td>\n",
       "      <td>[{'id': 53, 'name': 'Thriller'}]</td>\n",
       "      <td>unknow</td>\n",
       "      <td>tt0218922</td>\n",
       "      <td>en</td>\n",
       "      <td>Original Sin</td>\n",
       "      <td>A young man is plunged into a life of subterfu...</td>\n",
       "      <td>9.970359</td>\n",
       "      <td>...</td>\n",
       "      <td>22</td>\n",
       "      <td>151</td>\n",
       "      <td>12</td>\n",
       "      <td>0</td>\n",
       "      <td>0</td>\n",
       "      <td>7</td>\n",
       "      <td>2001</td>\n",
       "      <td>8</td>\n",
       "      <td>3</td>\n",
       "      <td>4</td>\n",
       "    </tr>\n",
       "    <tr>\n",
       "      <th>4394</th>\n",
       "      <td>7395</td>\n",
       "      <td>[{'id': 146534, 'name': 'Without a Paddle Coll...</td>\n",
       "      <td>19000000</td>\n",
       "      <td>[{'id': 28, 'name': 'Action'}, {'id': 12, 'nam...</td>\n",
       "      <td>unknow</td>\n",
       "      <td>tt0364751</td>\n",
       "      <td>en</td>\n",
       "      <td>Without a Paddle</td>\n",
       "      <td>Three friends, whose lives have been drifting ...</td>\n",
       "      <td>6.046516</td>\n",
       "      <td>...</td>\n",
       "      <td>190</td>\n",
       "      <td>457</td>\n",
       "      <td>16</td>\n",
       "      <td>0</td>\n",
       "      <td>1</td>\n",
       "      <td>2</td>\n",
       "      <td>2004</td>\n",
       "      <td>8</td>\n",
       "      <td>20</td>\n",
       "      <td>4</td>\n",
       "    </tr>\n",
       "    <tr>\n",
       "      <th>4395</th>\n",
       "      <td>7396</td>\n",
       "      <td>unknow</td>\n",
       "      <td>16000000</td>\n",
       "      <td>[{'id': 18, 'name': 'Drama'}]</td>\n",
       "      <td>unknow</td>\n",
       "      <td>tt0084855</td>\n",
       "      <td>en</td>\n",
       "      <td>The Verdict</td>\n",
       "      <td>Frank Galvin is a down-on-his luck lawyer, red...</td>\n",
       "      <td>9.596883</td>\n",
       "      <td>...</td>\n",
       "      <td>28</td>\n",
       "      <td>504</td>\n",
       "      <td>11</td>\n",
       "      <td>0</td>\n",
       "      <td>0</td>\n",
       "      <td>1</td>\n",
       "      <td>1982</td>\n",
       "      <td>12</td>\n",
       "      <td>8</td>\n",
       "      <td>2</td>\n",
       "    </tr>\n",
       "    <tr>\n",
       "      <th>4396</th>\n",
       "      <td>7397</td>\n",
       "      <td>unknow</td>\n",
       "      <td>2000000</td>\n",
       "      <td>[{'id': 27, 'name': 'Horror'}, {'id': 53, 'nam...</td>\n",
       "      <td>unknow</td>\n",
       "      <td>tt3235888</td>\n",
       "      <td>en</td>\n",
       "      <td>It Follows</td>\n",
       "      <td>For 19-year-old Jay, fall should be about scho...</td>\n",
       "      <td>20.359336</td>\n",
       "      <td>...</td>\n",
       "      <td>61</td>\n",
       "      <td>352</td>\n",
       "      <td>10</td>\n",
       "      <td>0</td>\n",
       "      <td>0</td>\n",
       "      <td>3</td>\n",
       "      <td>2015</td>\n",
       "      <td>2</td>\n",
       "      <td>4</td>\n",
       "      <td>2</td>\n",
       "    </tr>\n",
       "    <tr>\n",
       "      <th>4397</th>\n",
       "      <td>7398</td>\n",
       "      <td>unknow</td>\n",
       "      <td>64000</td>\n",
       "      <td>[{'id': 18, 'name': 'Drama'}]</td>\n",
       "      <td>unknow</td>\n",
       "      <td>tt0056663</td>\n",
       "      <td>fr</td>\n",
       "      <td>Vivre sa vie: film en douze tableaux</td>\n",
       "      <td>Twelve episodic tales in the life of a Parisia...</td>\n",
       "      <td>11.305910</td>\n",
       "      <td>...</td>\n",
       "      <td>50</td>\n",
       "      <td>93</td>\n",
       "      <td>36</td>\n",
       "      <td>0</td>\n",
       "      <td>0</td>\n",
       "      <td>3</td>\n",
       "      <td>2062</td>\n",
       "      <td>9</td>\n",
       "      <td>20</td>\n",
       "      <td>2</td>\n",
       "    </tr>\n",
       "  </tbody>\n",
       "</table>\n",
       "<p>4398 rows × 39 columns</p>\n",
       "</div>"
      ],
      "text/plain": [
       "        id                              belongs_to_collection     budget  \\\n",
       "0     3001  [{'id': 34055, 'name': 'Pokémon Collection', '...          0   \n",
       "1     3002                                             unknow      88000   \n",
       "2     3003                                             unknow          0   \n",
       "3     3004                                             unknow    6800000   \n",
       "4     3005                                             unknow    2000000   \n",
       "5     3006                                             unknow          0   \n",
       "6     3007                                             unknow          0   \n",
       "7     3008                                             unknow   30000000   \n",
       "8     3009                                             unknow   16500000   \n",
       "9     3010  [{'id': 10194, 'name': 'Toy Story Collection',...   90000000   \n",
       "10    3011                                             unknow    2000000   \n",
       "11    3012                                             unknow          0   \n",
       "12    3013  [{'id': 87805, 'name': 'The Gods Must Be Crazy...    5000000   \n",
       "13    3014                                             unknow     800000   \n",
       "14    3015                                             unknow   20000000   \n",
       "15    3016                                             unknow          0   \n",
       "16    3017  [{'id': 313576, 'name': 'Hot Tub Time Machine ...   36000000   \n",
       "17    3018                                             unknow  100000000   \n",
       "18    3019                                             unknow          0   \n",
       "19    3020                                             unknow  200000000   \n",
       "20    3021                                             unknow   30000000   \n",
       "21    3022                                             unknow   20000000   \n",
       "22    3023                                             unknow          0   \n",
       "23    3024                                             unknow   27000000   \n",
       "24    3025                                             unknow          0   \n",
       "25    3026                                             unknow   35000000   \n",
       "26    3027                                             unknow    5000000   \n",
       "27    3028                                             unknow   44000000   \n",
       "28    3029  [{'id': 409138, 'name': 'Yossi Collection', 'p...     500000   \n",
       "29    3030                                             unknow   35000000   \n",
       "...    ...                                                ...        ...   \n",
       "4368  7369                                             unknow   25000000   \n",
       "4369  7370                                             unknow   30000000   \n",
       "4370  7371  [{'id': 122947, 'name': 'Omega Code Series', '...          0   \n",
       "4371  7372                                             unknow   55000000   \n",
       "4372  7373                                             unknow  170000000   \n",
       "4373  7374  [{'id': 257053, 'name': 'Carrie Collection', '...    1800000   \n",
       "4374  7375                                             unknow   16000000   \n",
       "4375  7376                                             unknow          0   \n",
       "4376  7377                                             unknow    4000000   \n",
       "4377  7378                                             unknow   13200000   \n",
       "4378  7379                                             unknow   42000000   \n",
       "4379  7380                                             unknow          0   \n",
       "4380  7381                                             unknow          0   \n",
       "4381  7382                                             unknow     600000   \n",
       "4382  7383                                             unknow     800000   \n",
       "4383  7384                                             unknow   10000000   \n",
       "4384  7385                                             unknow   15000000   \n",
       "4385  7386                                             unknow   12000000   \n",
       "4386  7387  [{'id': 88574, 'name': 'Scanners Collection', ...          0   \n",
       "4387  7388                                             unknow          0   \n",
       "4388  7389                                             unknow    1000000   \n",
       "4389  7390                                             unknow          0   \n",
       "4390  7391                                             unknow          0   \n",
       "4391  7392                                             unknow   10000000   \n",
       "4392  7393  [{'id': 528, 'name': 'The Terminator Collectio...  155000000   \n",
       "4393  7394                                             unknow   42000000   \n",
       "4394  7395  [{'id': 146534, 'name': 'Without a Paddle Coll...   19000000   \n",
       "4395  7396                                             unknow   16000000   \n",
       "4396  7397                                             unknow    2000000   \n",
       "4397  7398                                             unknow      64000   \n",
       "\n",
       "                                                 genres  \\\n",
       "0     [{'id': 12, 'name': 'Adventure'}, {'id': 16, '...   \n",
       "1     [{'id': 27, 'name': 'Horror'}, {'id': 878, 'na...   \n",
       "2     [{'id': 35, 'name': 'Comedy'}, {'id': 10749, '...   \n",
       "3     [{'id': 18, 'name': 'Drama'}, {'id': 10752, 'n...   \n",
       "4     [{'id': 36, 'name': 'History'}, {'id': 99, 'na...   \n",
       "5     [{'id': 35, 'name': 'Comedy'}, {'id': 18, 'nam...   \n",
       "6     [{'id': 10749, 'name': 'Romance'}, {'id': 18, ...   \n",
       "7     [{'id': 16, 'name': 'Animation'}, {'id': 10751...   \n",
       "8     [{'id': 18, 'name': 'Drama'}, {'id': 10749, 'n...   \n",
       "9     [{'id': 16, 'name': 'Animation'}, {'id': 35, '...   \n",
       "10    [{'id': 53, 'name': 'Thriller'}, {'id': 27, 'n...   \n",
       "11                        [{'id': 18, 'name': 'Drama'}]   \n",
       "12    [{'id': 28, 'name': 'Action'}, {'id': 35, 'nam...   \n",
       "13    [{'id': 18, 'name': 'Drama'}, {'id': 10749, 'n...   \n",
       "14    [{'id': 12, 'name': 'Adventure'}, {'id': 35, '...   \n",
       "15                        [{'id': 18, 'name': 'Drama'}]   \n",
       "16    [{'id': 878, 'name': 'Science Fiction'}, {'id'...   \n",
       "17    [{'id': 53, 'name': 'Thriller'}, {'id': 878, '...   \n",
       "18    [{'id': 18, 'name': 'Drama'}, {'id': 10402, 'n...   \n",
       "19    [{'id': 18, 'name': 'Drama'}, {'id': 10749, 'n...   \n",
       "20    [{'id': 35, 'name': 'Comedy'}, {'id': 80, 'nam...   \n",
       "21    [{'id': 10749, 'name': 'Romance'}, {'id': 35, ...   \n",
       "22    [{'id': 18, 'name': 'Drama'}, {'id': 10402, 'n...   \n",
       "23    [{'id': 80, 'name': 'Crime'}, {'id': 53, 'name...   \n",
       "24    [{'id': 28, 'name': 'Action'}, {'id': 18, 'nam...   \n",
       "25    [{'id': 80, 'name': 'Crime'}, {'id': 53, 'name...   \n",
       "26    [{'id': 14, 'name': 'Fantasy'}, {'id': 12, 'na...   \n",
       "27    [{'id': 80, 'name': 'Crime'}, {'id': 53, 'name...   \n",
       "28    [{'id': 18, 'name': 'Drama'}, {'id': 10749, 'n...   \n",
       "29    [{'id': 28, 'name': 'Action'}, {'id': 37, 'nam...   \n",
       "...                                                 ...   \n",
       "4368  [{'id': 28, 'name': 'Action'}, {'id': 18, 'nam...   \n",
       "4369  [{'id': 28, 'name': 'Action'}, {'id': 53, 'nam...   \n",
       "4370  [{'id': 27, 'name': 'Horror'}, {'id': 53, 'nam...   \n",
       "4371  [{'id': 18, 'name': 'Drama'}, {'id': 10749, 'n...   \n",
       "4372  [{'id': 12, 'name': 'Adventure'}, {'id': 18, '...   \n",
       "4373  [{'id': 27, 'name': 'Horror'}, {'id': 53, 'nam...   \n",
       "4374  [{'id': 18, 'name': 'Drama'}, {'id': 53, 'name...   \n",
       "4375  [{'id': 10769, 'name': 'Foreign'}, {'id': 18, ...   \n",
       "4376  [{'id': 12, 'name': 'Adventure'}, {'id': 35, '...   \n",
       "4377  [{'id': 80, 'name': 'Crime'}, {'id': 53, 'name...   \n",
       "4378  [{'id': 80, 'name': 'Crime'}, {'id': 18, 'name...   \n",
       "4379  [{'id': 12, 'name': 'Adventure'}, {'id': 28, '...   \n",
       "4380  [{'id': 35, 'name': 'Comedy'}, {'id': 10402, '...   \n",
       "4381  [{'id': 36, 'name': 'History'}, {'id': 99, 'na...   \n",
       "4382  [{'id': 35, 'name': 'Comedy'}, {'id': 18, 'nam...   \n",
       "4383  [{'id': 18, 'name': 'Drama'}, {'id': 53, 'name...   \n",
       "4384  [{'id': 28, 'name': 'Action'}, {'id': 18, 'nam...   \n",
       "4385                     [{'id': 35, 'name': 'Comedy'}]   \n",
       "4386  [{'id': 27, 'name': 'Horror'}, {'id': 878, 'na...   \n",
       "4387  [{'id': 35, 'name': 'Comedy'}, {'id': 80, 'nam...   \n",
       "4388  [{'id': 18, 'name': 'Drama'}, {'id': 14, 'name...   \n",
       "4389                     [{'id': 35, 'name': 'Comedy'}]   \n",
       "4390                      [{'id': 18, 'name': 'Drama'}]   \n",
       "4391                      [{'id': 18, 'name': 'Drama'}]   \n",
       "4392  [{'id': 878, 'name': 'Science Fiction'}, {'id'...   \n",
       "4393                   [{'id': 53, 'name': 'Thriller'}]   \n",
       "4394  [{'id': 28, 'name': 'Action'}, {'id': 12, 'nam...   \n",
       "4395                      [{'id': 18, 'name': 'Drama'}]   \n",
       "4396  [{'id': 27, 'name': 'Horror'}, {'id': 53, 'nam...   \n",
       "4397                      [{'id': 18, 'name': 'Drama'}]   \n",
       "\n",
       "                                               homepage    imdb_id  \\\n",
       "0     http://www.pokemon.com/us/movies/movie-pokemon...  tt1226251   \n",
       "1                                                unknow  tt0051380   \n",
       "2                                                unknow  tt0118556   \n",
       "3                http://www.sonyclassics.com/incendies/  tt1255953   \n",
       "4                                                unknow  tt0418753   \n",
       "5                                                unknow  tt0120238   \n",
       "6                                                unknow  tt1517177   \n",
       "7                                 http://www.tigger.com  tt0220099   \n",
       "8                     http://becomingjane-themovie.com/  tt0416508   \n",
       "9                http://toystory.disney.com/toy-story-2  tt0120363   \n",
       "10                                               unknow  tt0419663   \n",
       "11                                               unknow  tt3655522   \n",
       "12                                               unknow  tt0080801   \n",
       "13                        http://www.lhp.com.sg/victor/  tt0316188   \n",
       "14                        http://www.brothersbloom.com/  tt0844286   \n",
       "15                 http://www.beautifulboythemovie.com/  tt1533013   \n",
       "16          http://www.mgm.com/view/Movie/2387/Hot-T...  tt1231587   \n",
       "17                                               unknow  tt2209764   \n",
       "18                                               unknow  tt0078754   \n",
       "19                          http://www.titanicmovie.com  tt0120338   \n",
       "20                                               unknow  tt0124198   \n",
       "21                http://www.mybestfriendsgirlmovie.com  tt1046163   \n",
       "22                                               unknow  tt0477392   \n",
       "23                                               unknow  tt0324127   \n",
       "24                                               unknow  tt1735907   \n",
       "25                                               unknow  tt0101540   \n",
       "26                                               unknow  tt0093744   \n",
       "27                      http://www.accountantmovie.com/  tt2140479   \n",
       "28                                http://yossifilm.com/  tt1934269   \n",
       "29                                               unknow  tt0244000   \n",
       "...                                                 ...        ...   \n",
       "4368          https://www.facebook.com/JaneGotAGunFilm/  tt2140037   \n",
       "4369                                             unknow  tt0483607   \n",
       "4370                                             unknow  tt0203408   \n",
       "4371                  http://www.burlesquethemovie.com/  tt1126591   \n",
       "4372                          http://www.hugomovie.com/  tt0970179   \n",
       "4373                                             unknow  tt0074285   \n",
       "4374                                             unknow  tt0103074   \n",
       "4375                                             unknow  tt0322725   \n",
       "4376                                             unknow  tt0065938   \n",
       "4377     http://www.sonypictures.com/movies/nogooddeed/  tt2011159   \n",
       "4378                                             unknow  tt0399295   \n",
       "4379                                             unknow  tt1731701   \n",
       "4380  https://www.uphe.com/movies/popstar-never-stop...  tt3960412   \n",
       "4381                                             unknow  tt0066580   \n",
       "4382                                             unknow  tt0933361   \n",
       "4383                 http://www.disconnectthemovie.com/  tt1433811   \n",
       "4384                                             unknow  tt0093640   \n",
       "4385                       http://www.howhighmovie.com/  tt0278488   \n",
       "4386                                             unknow  tt0102848   \n",
       "4387                                             unknow  tt2172985   \n",
       "4388                    http://www.specialthemovie.com/  tt0479162   \n",
       "4389                 http://www.inappropriatecomedy.com  tt1754811   \n",
       "4390                                             unknow  tt0103253   \n",
       "4391                   http://www.weareallprecious.com/  tt0929632   \n",
       "4392                    http://www.terminatormovie.com/  tt1340138   \n",
       "4393                                             unknow  tt0218922   \n",
       "4394                                             unknow  tt0364751   \n",
       "4395                                             unknow  tt0084855   \n",
       "4396                                             unknow  tt3235888   \n",
       "4397                                             unknow  tt0056663   \n",
       "\n",
       "     original_language                            original_title  \\\n",
       "0                   ja                        ディアルガVSパルキアVSダークライ   \n",
       "1                   en               Attack of the 50 Foot Woman   \n",
       "2                   en                          Addicted to Love   \n",
       "3                   fr                                 Incendies   \n",
       "4                   en                        Inside Deep Throat   \n",
       "5                   en                                  SubUrbia   \n",
       "6                   de                                      Drei   \n",
       "7                   en                          The Tigger Movie   \n",
       "8                   en                             Becoming Jane   \n",
       "9                   en                               Toy Story 2   \n",
       "10                  en                               Cruel World   \n",
       "11                  fr                           Bande de filles   \n",
       "12                  en                    The Gods Must Be Crazy   \n",
       "13                  en                     Raising Victor Vargas   \n",
       "14                  en                        The Brothers Bloom   \n",
       "15                  en                             Beautiful Boy   \n",
       "16                  en                      Hot Tub Time Machine   \n",
       "17                  en                             Transcendence   \n",
       "18                  en                             All That Jazz   \n",
       "19                  en                                   Titanic   \n",
       "20                  en                           Very Bad Things   \n",
       "21                  en                     My Best Friend's Girl   \n",
       "22                  en                            Broken Bridges   \n",
       "23                  en                              Suspect Zero   \n",
       "24                  en                      The Adderall Diaries   \n",
       "25                  en                                 Cape Fear   \n",
       "26                  en  The New Adventures of Pippi Longstocking   \n",
       "27                  en                            The Accountant   \n",
       "28                  he                            הסיפור של יוסי   \n",
       "29                  en                          American Outlaws   \n",
       "...                ...                                       ...   \n",
       "4368                en                            Jane Got a Gun   \n",
       "4369                en                                  Doomsday   \n",
       "4370                en                            The Omega Code   \n",
       "4371                en                                 Burlesque   \n",
       "4372                en                                      Hugo   \n",
       "4373                en                                    Carrie   \n",
       "4374                en                           Thelma & Louise   \n",
       "4375                it                           L'imbalsamatore   \n",
       "4376                en                            Kelly's Heroes   \n",
       "4377                en                              No Good Deed   \n",
       "4378                en                               Lord of War   \n",
       "4379                en                             Barely Lethal   \n",
       "4380                en        Popstar: Never Stop Never Stopping   \n",
       "4381                en                                 Woodstock   \n",
       "4382                en                                    Dikari   \n",
       "4383                en                                Disconnect   \n",
       "4384                en                                No Way Out   \n",
       "4385                en                                  How High   \n",
       "4386                en                Scanners II: The New Order   \n",
       "4387                en                      The Art of the Steal   \n",
       "4388                en                                   Special   \n",
       "4389                en                      InAPPropriate Comedy   \n",
       "4390                en                                     Whore   \n",
       "4391                en                                  Precious   \n",
       "4392                en                        Terminator Genisys   \n",
       "4393                en                              Original Sin   \n",
       "4394                en                          Without a Paddle   \n",
       "4395                en                               The Verdict   \n",
       "4396                en                                It Follows   \n",
       "4397                fr      Vivre sa vie: film en douze tableaux   \n",
       "\n",
       "                                               overview  popularity  ...  \\\n",
       "0     Ash and friends (this time accompanied by newc...    3.851534  ...   \n",
       "1     When an abused wife grows to giant size becaus...    3.559789  ...   \n",
       "2     Good-natured astronomer Sam is devastated when...    8.085194  ...   \n",
       "3     A mother's last wishes send twins Jeanne and S...    8.596012  ...   \n",
       "4     In 1972, a seemingly typical shoestring budget...    3.217680  ...   \n",
       "5     A group of suburban teenagers try to support e...    8.679350  ...   \n",
       "6     Hanna and Simon are in a 20 year marriage with...    4.898882  ...   \n",
       "7     As it happens, everybody - Pooh, Piglet, Eeyor...    7.023414  ...   \n",
       "8     A biographical portrait of a pre-fame Jane Aus...    7.829737  ...   \n",
       "9     Andy heads off to Cowboy Camp, leaving his toy...   17.547693  ...   \n",
       "10    Millions witnessed Philip Markham's public hum...    0.262437  ...   \n",
       "11    Oppressed by her family setting, dead-end scho...    4.220318  ...   \n",
       "12    Misery is brought to a small group of Sho in t...   10.973482  ...   \n",
       "13    The film follows Victor, a Lower East Side tee...    1.178723  ...   \n",
       "14    The Brothers Bloom are the best con men in the...    7.973126  ...   \n",
       "15    A married couple on the verge of separation ar...    2.114833  ...   \n",
       "16    A malfunctioning time machine at a ski resort ...   11.967652  ...   \n",
       "17    Two leading computer scientists work toward th...    9.730176  ...   \n",
       "18    Bob Fosse's semi-autobiographical film celebra...    5.632325  ...   \n",
       "19    84 years later, a 101-year-old woman named Ros...   26.889070  ...   \n",
       "20    Kyle Fisher has one last night to celebrate li...   10.432293  ...   \n",
       "21    When Dustin's girlfriend, Alexis, breaks up wi...   14.114136  ...   \n",
       "22    A fading country music star (Keith) returns to...    1.120498  ...   \n",
       "23    A killer is on the loose, and an FBI agent sif...    7.550891  ...   \n",
       "24    Writer and Adderall enthusiast Stephen Elliott...    4.142280  ...   \n",
       "25    Sam Bowden is a small-town corporate attorney....   10.302735  ...   \n",
       "26    After her father's ship is carried off by a su...    3.078111  ...   \n",
       "27    As a math savant uncooks the books for a new c...   13.465656  ...   \n",
       "28    The sequel to \"Yossi and Jagger\" finds charact...    1.162001  ...   \n",
       "29    When a Midwest town learns that a corrupt rail...   10.855383  ...   \n",
       "...                                                 ...         ...  ...   \n",
       "4368  After her outlaw husband returns home shot wit...    8.826071  ...   \n",
       "4369  A lethal virus spreads throughout the British ...   13.436536  ...   \n",
       "4370  In this spiritual thriller, an ancient prophec...    1.789046  ...   \n",
       "4371  The Burlesque Lounge has its best days behind ...    9.276539  ...   \n",
       "4372  Hugo is an orphan boy living in the walls of a...   14.046164  ...   \n",
       "4373  Carrie may be ostracized, but the shy teen has...    9.277692  ...   \n",
       "4374  Whilst on a short weekend getaway, Louise shoo...   14.785388  ...   \n",
       "4375  Peppino is an aging taxidermist constantly rid...    1.405580  ...   \n",
       "4376  A misfit group of World War II American soldie...    8.418662  ...   \n",
       "4377  Terri is a devoted wife and mother of two, liv...   24.644321  ...   \n",
       "4378  Yuri Orlov is a globetrotting arms dealer and,...    8.745216  ...   \n",
       "4379  A 16-year-old international assassin yearning ...   11.009871  ...   \n",
       "4380  When his new album fails to sell records, pop/...    5.285420  ...   \n",
       "4381  An intimate look at the Woodstock Music & Art ...    3.624542  ...   \n",
       "4382  The sea, August, interesting and simple people...    0.903061  ...   \n",
       "4383  Disconnect interweaves multiple storylines abo...   12.188120  ...   \n",
       "4384  Navy Lt. Tom Farrell meets a young woman, Susa...   11.457803  ...   \n",
       "4385  Multi-platinum rap superstars Redman and Metho...    6.796277  ...   \n",
       "4386  A scanner discovers a plot by renegade element...    2.201123  ...   \n",
       "4387  Crunch Calhoun, a third-rate motorcycle darede...    8.436614  ...   \n",
       "4388  A lonely metermaid has a psychotic reaction to...    2.003309  ...   \n",
       "4389  A no-nonsense cop has a flair for fashion and ...    3.097025  ...   \n",
       "4390  This melodrama investigates the life of a pros...    6.404093  ...   \n",
       "4391  Set in Harlem in 1987, Claireece \"Precious\" Jo...    8.293548  ...   \n",
       "4392  The year is 2029. John Connor, leader of the r...   30.188198  ...   \n",
       "4393  A young man is plunged into a life of subterfu...    9.970359  ...   \n",
       "4394  Three friends, whose lives have been drifting ...    6.046516  ...   \n",
       "4395  Frank Galvin is a down-on-his luck lawyer, red...    9.596883  ...   \n",
       "4396  For 19-year-old Jay, fall should be about scho...   20.359336  ...   \n",
       "4397  Twelve episodic tales in the life of a Parisia...   11.305910  ...   \n",
       "\n",
       "     crew2 overview2 original_title2 homepage2  belongs_to_collection2  \\\n",
       "0        5       335              18         1                       1   \n",
       "1       16       162              27         0                       0   \n",
       "2       20       362              16         0                       0   \n",
       "3      139       302               9         1                       0   \n",
       "4       30       894              18         0                       0   \n",
       "5        6       102               8         0                       0   \n",
       "6        4       300               4         0                       0   \n",
       "7       60       355              16         1                       0   \n",
       "8       30        88              13         1                       0   \n",
       "9      352       322              11         1                       1   \n",
       "10      14       474              11         0                       0   \n",
       "11      20       300              15         0                       0   \n",
       "12      34       243              22         0                       1   \n",
       "13       6       326              21         1                       0   \n",
       "14      40       292              18         1                       0   \n",
       "15      16       155              13         1                       0   \n",
       "16      45       199              20         1                       1   \n",
       "17     137       236              13         0                       0   \n",
       "18      30       396              13         0                       0   \n",
       "19     132       682               7         1                       0   \n",
       "20      39       451              15         0                       0   \n",
       "21      48       294              21         1                       0   \n",
       "22      38       168              14         0                       0   \n",
       "23      26       147              12         0                       0   \n",
       "24      75       457              20         0                       0   \n",
       "25      79       469               9         0                       0   \n",
       "26      31       669              40         0                       0   \n",
       "27     134       139              14         1                       0   \n",
       "28       4       387              14         1                       1   \n",
       "29      22       390              16         0                       0   \n",
       "...    ...       ...             ...       ...                     ...   \n",
       "4368    33       279              14         1                       0   \n",
       "4369   190       564               8         0                       0   \n",
       "4370    32       262              14         0                       1   \n",
       "4371    39       859               9         1                       0   \n",
       "4372   159       729               4         1                       0   \n",
       "4373    48       223               6         0                       1   \n",
       "4374   114       364              15         0                       0   \n",
       "4375    20       372              15         0                       0   \n",
       "4376    31        93              14         0                       0   \n",
       "4377   125       360              12         1                       0   \n",
       "4378    35       311              11         0                       0   \n",
       "4379    28       229              13         0                       0   \n",
       "4380    14       253              34         1                       0   \n",
       "4381    41       494               9         0                       0   \n",
       "4382     4       378               6         0                       0   \n",
       "4383    21       352              10         1                       0   \n",
       "4384    32       433              10         0                       0   \n",
       "4385   143       408               8         1                       0   \n",
       "4386    20       116              26         0                       1   \n",
       "4387    18       268              20         0                       0   \n",
       "4388     8       197               7         1                       0   \n",
       "4389     8       125              20         1                       0   \n",
       "4390    23        83               5         0                       0   \n",
       "4391     6       396               8         1                       0   \n",
       "4392   295       321              18         1                       1   \n",
       "4393    22       151              12         0                       0   \n",
       "4394   190       457              16         0                       1   \n",
       "4395    28       504              11         0                       0   \n",
       "4396    61       352              10         0                       0   \n",
       "4397    50        93              36         0                       0   \n",
       "\n",
       "     production_companies2 release_date_year release_date_month  \\\n",
       "0                        0              2007                  7   \n",
       "1                        1              2058                  5   \n",
       "2                        3              1997                  5   \n",
       "3                        3              2010                  9   \n",
       "4                        0              2005                  2   \n",
       "5                        2              1996                  2   \n",
       "6                        4              2010                 12   \n",
       "7                        1              2000                  2   \n",
       "8                        3              2007                  3   \n",
       "9                        1              1999                 10   \n",
       "10                       2              2005                  9   \n",
       "11                      14              2014                  6   \n",
       "12                       2              1980                  9   \n",
       "13                       0              2002                  5   \n",
       "14                       3              2008                  9   \n",
       "15                       2              2010                  9   \n",
       "16                       3              2010                  3   \n",
       "17                       4              2014                  4   \n",
       "18                       2              1979                 12   \n",
       "19                       3              1997                 11   \n",
       "20                       4              1998                  9   \n",
       "21                       5              2008                  9   \n",
       "22                       5              2006                  9   \n",
       "23                       4              2004                  8   \n",
       "24                       3              2016                  4   \n",
       "25                       4              1991                 11   \n",
       "26                       1              1988                  7   \n",
       "27                       4              2016                 10   \n",
       "28                       2              2012                  5   \n",
       "29                       1              2001                  8   \n",
       "...                    ...               ...                ...   \n",
       "4368                     5              2016                  1   \n",
       "4369                     7              2008                  3   \n",
       "4370                     1              1999                 10   \n",
       "4371                     1              2010                 11   \n",
       "4372                     3              2011                 11   \n",
       "4373                     1              1976                 11   \n",
       "4374                     3              1991                  5   \n",
       "4375                     1              2002                  9   \n",
       "4376                     3              1970                  6   \n",
       "4377                     1              2014                  9   \n",
       "4378                     6              2005                  9   \n",
       "4379                     1              2015                  4   \n",
       "4380                     4              2016                  6   \n",
       "4381                     2              1970                  3   \n",
       "4382                     0              2006                 11   \n",
       "4383                     6              2012                  9   \n",
       "4384                     1              1987                  8   \n",
       "4385                     3              2001                 12   \n",
       "4386                     4              1991                  6   \n",
       "4387                     3              2013                  9   \n",
       "4388                     1              2006                  1   \n",
       "4389                     0              2013                  3   \n",
       "4390                     1              1991                  6   \n",
       "4391                     1              2009                 11   \n",
       "4392                     3              2015                  6   \n",
       "4393                     7              2001                  8   \n",
       "4394                     2              2004                  8   \n",
       "4395                     1              1982                 12   \n",
       "4396                     3              2015                  2   \n",
       "4397                     3              2062                  9   \n",
       "\n",
       "     release_date_day release_date_weekday  \n",
       "0                  14                    5  \n",
       "1                  19                    6  \n",
       "2                  23                    4  \n",
       "3                   4                    5  \n",
       "4                  11                    4  \n",
       "5                   7                    2  \n",
       "6                  23                    3  \n",
       "7                  11                    4  \n",
       "8                   2                    4  \n",
       "9                  30                    5  \n",
       "10                  1                    3  \n",
       "11                 27                    4  \n",
       "12                 10                    2  \n",
       "13                 16                    3  \n",
       "14                  9                    1  \n",
       "15                 12                    6  \n",
       "16                 26                    4  \n",
       "17                 16                    2  \n",
       "18                 20                    3  \n",
       "19                 18                    1  \n",
       "20                 11                    4  \n",
       "21                 19                    4  \n",
       "22                  8                    4  \n",
       "23                 27                    4  \n",
       "24                 15                    4  \n",
       "25                 15                    4  \n",
       "26                  6                    2  \n",
       "27                 14                    4  \n",
       "28                 16                    2  \n",
       "29                 17                    4  \n",
       "...               ...                  ...  \n",
       "4368                1                    4  \n",
       "4369               14                    4  \n",
       "4370               15                    4  \n",
       "4371               23                    1  \n",
       "4372               22                    1  \n",
       "4373                3                    2  \n",
       "4374               24                    4  \n",
       "4375                6                    4  \n",
       "4376               22                    0  \n",
       "4377               10                    2  \n",
       "4378               16                    4  \n",
       "4379               30                    3  \n",
       "4380                3                    4  \n",
       "4381               26                    3  \n",
       "4382               23                    3  \n",
       "4383               11                    1  \n",
       "4384               14                    4  \n",
       "4385               21                    4  \n",
       "4386               28                    4  \n",
       "4387               11                    2  \n",
       "4388               30                    0  \n",
       "4389               22                    4  \n",
       "4390               21                    4  \n",
       "4391                6                    4  \n",
       "4392               23                    1  \n",
       "4393                3                    4  \n",
       "4394               20                    4  \n",
       "4395                8                    2  \n",
       "4396                4                    2  \n",
       "4397               20                    2  \n",
       "\n",
       "[4398 rows x 39 columns]"
      ]
     },
     "execution_count": 468,
     "metadata": {},
     "output_type": "execute_result"
    }
   ],
   "source": [
    "test2"
   ]
  },
  {
   "cell_type": "code",
   "execution_count": 479,
   "metadata": {},
   "outputs": [],
   "source": [
    "output = pd.DataFrame({'id': test2.id, 'revenue': pred})"
   ]
  },
  {
   "cell_type": "code",
   "execution_count": 486,
   "metadata": {},
   "outputs": [],
   "source": [
    "output[output.revenue<0]['revenue'] = 0"
   ]
  },
  {
   "cell_type": "code",
   "execution_count": 492,
   "metadata": {},
   "outputs": [],
   "source": [
    "output.to_csv('submission1.csv', index=False)"
   ]
  },
  {
   "cell_type": "code",
   "execution_count": 490,
   "metadata": {},
   "outputs": [],
   "source": [
    "output.revenue[output.revenue<0] = 0"
   ]
  },
  {
   "cell_type": "code",
   "execution_count": 491,
   "metadata": {},
   "outputs": [
    {
     "data": {
      "text/html": [
       "<div>\n",
       "<style scoped>\n",
       "    .dataframe tbody tr th:only-of-type {\n",
       "        vertical-align: middle;\n",
       "    }\n",
       "\n",
       "    .dataframe tbody tr th {\n",
       "        vertical-align: top;\n",
       "    }\n",
       "\n",
       "    .dataframe thead th {\n",
       "        text-align: right;\n",
       "    }\n",
       "</style>\n",
       "<table border=\"1\" class=\"dataframe\">\n",
       "  <thead>\n",
       "    <tr style=\"text-align: right;\">\n",
       "      <th></th>\n",
       "      <th>id</th>\n",
       "      <th>revenue</th>\n",
       "    </tr>\n",
       "  </thead>\n",
       "  <tbody>\n",
       "    <tr>\n",
       "      <th>0</th>\n",
       "      <td>3001</td>\n",
       "      <td>1.074489e+07</td>\n",
       "    </tr>\n",
       "    <tr>\n",
       "      <th>1</th>\n",
       "      <td>3002</td>\n",
       "      <td>0.000000e+00</td>\n",
       "    </tr>\n",
       "    <tr>\n",
       "      <th>2</th>\n",
       "      <td>3003</td>\n",
       "      <td>1.569614e+07</td>\n",
       "    </tr>\n",
       "    <tr>\n",
       "      <th>3</th>\n",
       "      <td>3004</td>\n",
       "      <td>5.261102e+07</td>\n",
       "    </tr>\n",
       "    <tr>\n",
       "      <th>4</th>\n",
       "      <td>3005</td>\n",
       "      <td>0.000000e+00</td>\n",
       "    </tr>\n",
       "    <tr>\n",
       "      <th>5</th>\n",
       "      <td>3006</td>\n",
       "      <td>1.289551e+07</td>\n",
       "    </tr>\n",
       "    <tr>\n",
       "      <th>6</th>\n",
       "      <td>3007</td>\n",
       "      <td>1.712760e+07</td>\n",
       "    </tr>\n",
       "    <tr>\n",
       "      <th>7</th>\n",
       "      <td>3008</td>\n",
       "      <td>5.459224e+07</td>\n",
       "    </tr>\n",
       "    <tr>\n",
       "      <th>8</th>\n",
       "      <td>3009</td>\n",
       "      <td>2.926189e+07</td>\n",
       "    </tr>\n",
       "    <tr>\n",
       "      <th>9</th>\n",
       "      <td>3010</td>\n",
       "      <td>3.435668e+08</td>\n",
       "    </tr>\n",
       "    <tr>\n",
       "      <th>10</th>\n",
       "      <td>3011</td>\n",
       "      <td>0.000000e+00</td>\n",
       "    </tr>\n",
       "    <tr>\n",
       "      <th>11</th>\n",
       "      <td>3012</td>\n",
       "      <td>1.766549e+07</td>\n",
       "    </tr>\n",
       "    <tr>\n",
       "      <th>12</th>\n",
       "      <td>3013</td>\n",
       "      <td>5.069768e+07</td>\n",
       "    </tr>\n",
       "    <tr>\n",
       "      <th>13</th>\n",
       "      <td>3014</td>\n",
       "      <td>7.445390e+06</td>\n",
       "    </tr>\n",
       "    <tr>\n",
       "      <th>14</th>\n",
       "      <td>3015</td>\n",
       "      <td>3.010369e+07</td>\n",
       "    </tr>\n",
       "    <tr>\n",
       "      <th>15</th>\n",
       "      <td>3016</td>\n",
       "      <td>7.292114e+06</td>\n",
       "    </tr>\n",
       "    <tr>\n",
       "      <th>16</th>\n",
       "      <td>3017</td>\n",
       "      <td>1.482854e+08</td>\n",
       "    </tr>\n",
       "    <tr>\n",
       "      <th>17</th>\n",
       "      <td>3018</td>\n",
       "      <td>1.153035e+08</td>\n",
       "    </tr>\n",
       "    <tr>\n",
       "      <th>18</th>\n",
       "      <td>3019</td>\n",
       "      <td>4.834057e+07</td>\n",
       "    </tr>\n",
       "    <tr>\n",
       "      <th>19</th>\n",
       "      <td>3020</td>\n",
       "      <td>7.789706e+08</td>\n",
       "    </tr>\n",
       "    <tr>\n",
       "      <th>20</th>\n",
       "      <td>3021</td>\n",
       "      <td>3.387182e+07</td>\n",
       "    </tr>\n",
       "    <tr>\n",
       "      <th>21</th>\n",
       "      <td>3022</td>\n",
       "      <td>7.055889e+07</td>\n",
       "    </tr>\n",
       "    <tr>\n",
       "      <th>22</th>\n",
       "      <td>3023</td>\n",
       "      <td>0.000000e+00</td>\n",
       "    </tr>\n",
       "    <tr>\n",
       "      <th>23</th>\n",
       "      <td>3024</td>\n",
       "      <td>1.364077e+07</td>\n",
       "    </tr>\n",
       "    <tr>\n",
       "      <th>24</th>\n",
       "      <td>3025</td>\n",
       "      <td>0.000000e+00</td>\n",
       "    </tr>\n",
       "    <tr>\n",
       "      <th>25</th>\n",
       "      <td>3026</td>\n",
       "      <td>1.100168e+08</td>\n",
       "    </tr>\n",
       "    <tr>\n",
       "      <th>26</th>\n",
       "      <td>3027</td>\n",
       "      <td>0.000000e+00</td>\n",
       "    </tr>\n",
       "    <tr>\n",
       "      <th>27</th>\n",
       "      <td>3028</td>\n",
       "      <td>1.310053e+08</td>\n",
       "    </tr>\n",
       "    <tr>\n",
       "      <th>28</th>\n",
       "      <td>3029</td>\n",
       "      <td>2.736933e+07</td>\n",
       "    </tr>\n",
       "    <tr>\n",
       "      <th>29</th>\n",
       "      <td>3030</td>\n",
       "      <td>6.207250e+07</td>\n",
       "    </tr>\n",
       "    <tr>\n",
       "      <th>...</th>\n",
       "      <td>...</td>\n",
       "      <td>...</td>\n",
       "    </tr>\n",
       "    <tr>\n",
       "      <th>4368</th>\n",
       "      <td>7369</td>\n",
       "      <td>4.791618e+07</td>\n",
       "    </tr>\n",
       "    <tr>\n",
       "      <th>4369</th>\n",
       "      <td>7370</td>\n",
       "      <td>1.910325e+07</td>\n",
       "    </tr>\n",
       "    <tr>\n",
       "      <th>4370</th>\n",
       "      <td>7371</td>\n",
       "      <td>3.685138e+06</td>\n",
       "    </tr>\n",
       "    <tr>\n",
       "      <th>4371</th>\n",
       "      <td>7372</td>\n",
       "      <td>9.507128e+07</td>\n",
       "    </tr>\n",
       "    <tr>\n",
       "      <th>4372</th>\n",
       "      <td>7373</td>\n",
       "      <td>4.227714e+08</td>\n",
       "    </tr>\n",
       "    <tr>\n",
       "      <th>4373</th>\n",
       "      <td>7374</td>\n",
       "      <td>6.160558e+07</td>\n",
       "    </tr>\n",
       "    <tr>\n",
       "      <th>4374</th>\n",
       "      <td>7375</td>\n",
       "      <td>1.547368e+08</td>\n",
       "    </tr>\n",
       "    <tr>\n",
       "      <th>4375</th>\n",
       "      <td>7376</td>\n",
       "      <td>0.000000e+00</td>\n",
       "    </tr>\n",
       "    <tr>\n",
       "      <th>4376</th>\n",
       "      <td>7377</td>\n",
       "      <td>3.183697e+07</td>\n",
       "    </tr>\n",
       "    <tr>\n",
       "      <th>4377</th>\n",
       "      <td>7378</td>\n",
       "      <td>2.103644e+08</td>\n",
       "    </tr>\n",
       "    <tr>\n",
       "      <th>4378</th>\n",
       "      <td>7379</td>\n",
       "      <td>4.382100e+07</td>\n",
       "    </tr>\n",
       "    <tr>\n",
       "      <th>4379</th>\n",
       "      <td>7380</td>\n",
       "      <td>1.611815e+07</td>\n",
       "    </tr>\n",
       "    <tr>\n",
       "      <th>4380</th>\n",
       "      <td>7381</td>\n",
       "      <td>1.174790e+07</td>\n",
       "    </tr>\n",
       "    <tr>\n",
       "      <th>4381</th>\n",
       "      <td>7382</td>\n",
       "      <td>2.852539e+06</td>\n",
       "    </tr>\n",
       "    <tr>\n",
       "      <th>4382</th>\n",
       "      <td>7383</td>\n",
       "      <td>0.000000e+00</td>\n",
       "    </tr>\n",
       "    <tr>\n",
       "      <th>4383</th>\n",
       "      <td>7384</td>\n",
       "      <td>2.624865e+07</td>\n",
       "    </tr>\n",
       "    <tr>\n",
       "      <th>4384</th>\n",
       "      <td>7385</td>\n",
       "      <td>5.346912e+07</td>\n",
       "    </tr>\n",
       "    <tr>\n",
       "      <th>4385</th>\n",
       "      <td>7386</td>\n",
       "      <td>4.974426e+07</td>\n",
       "    </tr>\n",
       "    <tr>\n",
       "      <th>4386</th>\n",
       "      <td>7387</td>\n",
       "      <td>2.000214e+07</td>\n",
       "    </tr>\n",
       "    <tr>\n",
       "      <th>4387</th>\n",
       "      <td>7388</td>\n",
       "      <td>1.576940e+07</td>\n",
       "    </tr>\n",
       "    <tr>\n",
       "      <th>4388</th>\n",
       "      <td>7389</td>\n",
       "      <td>1.211038e+07</td>\n",
       "    </tr>\n",
       "    <tr>\n",
       "      <th>4389</th>\n",
       "      <td>7390</td>\n",
       "      <td>1.541875e+06</td>\n",
       "    </tr>\n",
       "    <tr>\n",
       "      <th>4390</th>\n",
       "      <td>7391</td>\n",
       "      <td>1.380277e+07</td>\n",
       "    </tr>\n",
       "    <tr>\n",
       "      <th>4391</th>\n",
       "      <td>7392</td>\n",
       "      <td>3.692143e+07</td>\n",
       "    </tr>\n",
       "    <tr>\n",
       "      <th>4392</th>\n",
       "      <td>7393</td>\n",
       "      <td>7.479220e+08</td>\n",
       "    </tr>\n",
       "    <tr>\n",
       "      <th>4393</th>\n",
       "      <td>7394</td>\n",
       "      <td>3.983796e+07</td>\n",
       "    </tr>\n",
       "    <tr>\n",
       "      <th>4394</th>\n",
       "      <td>7395</td>\n",
       "      <td>2.432090e+06</td>\n",
       "    </tr>\n",
       "    <tr>\n",
       "      <th>4395</th>\n",
       "      <td>7396</td>\n",
       "      <td>5.592870e+07</td>\n",
       "    </tr>\n",
       "    <tr>\n",
       "      <th>4396</th>\n",
       "      <td>7397</td>\n",
       "      <td>8.619040e+07</td>\n",
       "    </tr>\n",
       "    <tr>\n",
       "      <th>4397</th>\n",
       "      <td>7398</td>\n",
       "      <td>0.000000e+00</td>\n",
       "    </tr>\n",
       "  </tbody>\n",
       "</table>\n",
       "<p>4398 rows × 2 columns</p>\n",
       "</div>"
      ],
      "text/plain": [
       "        id       revenue\n",
       "0     3001  1.074489e+07\n",
       "1     3002  0.000000e+00\n",
       "2     3003  1.569614e+07\n",
       "3     3004  5.261102e+07\n",
       "4     3005  0.000000e+00\n",
       "5     3006  1.289551e+07\n",
       "6     3007  1.712760e+07\n",
       "7     3008  5.459224e+07\n",
       "8     3009  2.926189e+07\n",
       "9     3010  3.435668e+08\n",
       "10    3011  0.000000e+00\n",
       "11    3012  1.766549e+07\n",
       "12    3013  5.069768e+07\n",
       "13    3014  7.445390e+06\n",
       "14    3015  3.010369e+07\n",
       "15    3016  7.292114e+06\n",
       "16    3017  1.482854e+08\n",
       "17    3018  1.153035e+08\n",
       "18    3019  4.834057e+07\n",
       "19    3020  7.789706e+08\n",
       "20    3021  3.387182e+07\n",
       "21    3022  7.055889e+07\n",
       "22    3023  0.000000e+00\n",
       "23    3024  1.364077e+07\n",
       "24    3025  0.000000e+00\n",
       "25    3026  1.100168e+08\n",
       "26    3027  0.000000e+00\n",
       "27    3028  1.310053e+08\n",
       "28    3029  2.736933e+07\n",
       "29    3030  6.207250e+07\n",
       "...    ...           ...\n",
       "4368  7369  4.791618e+07\n",
       "4369  7370  1.910325e+07\n",
       "4370  7371  3.685138e+06\n",
       "4371  7372  9.507128e+07\n",
       "4372  7373  4.227714e+08\n",
       "4373  7374  6.160558e+07\n",
       "4374  7375  1.547368e+08\n",
       "4375  7376  0.000000e+00\n",
       "4376  7377  3.183697e+07\n",
       "4377  7378  2.103644e+08\n",
       "4378  7379  4.382100e+07\n",
       "4379  7380  1.611815e+07\n",
       "4380  7381  1.174790e+07\n",
       "4381  7382  2.852539e+06\n",
       "4382  7383  0.000000e+00\n",
       "4383  7384  2.624865e+07\n",
       "4384  7385  5.346912e+07\n",
       "4385  7386  4.974426e+07\n",
       "4386  7387  2.000214e+07\n",
       "4387  7388  1.576940e+07\n",
       "4388  7389  1.211038e+07\n",
       "4389  7390  1.541875e+06\n",
       "4390  7391  1.380277e+07\n",
       "4391  7392  3.692143e+07\n",
       "4392  7393  7.479220e+08\n",
       "4393  7394  3.983796e+07\n",
       "4394  7395  2.432090e+06\n",
       "4395  7396  5.592870e+07\n",
       "4396  7397  8.619040e+07\n",
       "4397  7398  0.000000e+00\n",
       "\n",
       "[4398 rows x 2 columns]"
      ]
     },
     "execution_count": 491,
     "metadata": {},
     "output_type": "execute_result"
    }
   ],
   "source": [
    "output"
   ]
  },
  {
   "cell_type": "code",
   "execution_count": null,
   "metadata": {},
   "outputs": [],
   "source": []
  }
 ],
 "metadata": {
  "kernelspec": {
   "display_name": "Python 3",
   "language": "python",
   "name": "python3"
  },
  "language_info": {
   "codemirror_mode": {
    "name": "ipython",
    "version": 3
   },
   "file_extension": ".py",
   "mimetype": "text/x-python",
   "name": "python",
   "nbconvert_exporter": "python",
   "pygments_lexer": "ipython3",
   "version": "3.6.6"
  }
 },
 "nbformat": 4,
 "nbformat_minor": 2
}
