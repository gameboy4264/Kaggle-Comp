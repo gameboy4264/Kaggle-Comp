{
 "cells": [
  {
   "cell_type": "code",
   "execution_count": 1,
   "metadata": {},
   "outputs": [
    {
     "ename": "ImportError",
     "evalue": "No module named 'pandas'",
     "output_type": "error",
     "traceback": [
      "\u001b[1;31m---------------------------------------------------------------------------\u001b[0m",
      "\u001b[1;31mImportError\u001b[0m                               Traceback (most recent call last)",
      "\u001b[1;32m<ipython-input-1-a8ced74d4750>\u001b[0m in \u001b[0;36m<module>\u001b[1;34m()\u001b[0m\n\u001b[0;32m      3\u001b[0m \u001b[1;33m\u001b[0m\u001b[0m\n\u001b[0;32m      4\u001b[0m \u001b[1;31m# 0 导入常用库\u001b[0m\u001b[1;33m\u001b[0m\u001b[1;33m\u001b[0m\u001b[0m\n\u001b[1;32m----> 5\u001b[1;33m \u001b[1;32mimport\u001b[0m \u001b[0mpandas\u001b[0m \u001b[1;32mas\u001b[0m \u001b[0mpd\u001b[0m\u001b[1;33m\u001b[0m\u001b[0m\n\u001b[0m\u001b[0;32m      6\u001b[0m \u001b[1;32mfrom\u001b[0m \u001b[0msklearn\u001b[0m\u001b[1;33m.\u001b[0m\u001b[0mtree\u001b[0m \u001b[1;32mimport\u001b[0m \u001b[0mDecisionTreeRegressor\u001b[0m\u001b[1;33m\u001b[0m\u001b[0m\n\u001b[0;32m      7\u001b[0m \u001b[1;32mfrom\u001b[0m \u001b[0msklearn\u001b[0m\u001b[1;33m.\u001b[0m\u001b[0mensemble\u001b[0m \u001b[1;32mimport\u001b[0m \u001b[0mRandomForestRegressor\u001b[0m\u001b[1;33m\u001b[0m\u001b[0m\n",
      "\u001b[1;31mImportError\u001b[0m: No module named 'pandas'"
     ]
    }
   ],
   "source": [
    "# Kaggle Competition 1 -- Housing Prices Document\n",
    "# Version 3.0 -- Cross Validation\n",
    "\n",
    "# 0 导入常用库\n",
    "import pandas as pd\n",
    "from sklearn.tree import DecisionTreeRegressor\n",
    "from sklearn.ensemble import RandomForestRegressor\n",
    "from xgboost import XGBRegressor\n",
    "\n",
    "from sklearn.pipeline import make_pipeline\n",
    "from sklearn.preprocessing import Imputer\n",
    "\n",
    "from sklearn.model_selection import train_test_split\n",
    "from sklearn.model_selection import cross_val_score\n",
    "from sklearn.metrics import mean_absolute_error\n",
    "\n",
    "\n",
    "# 1 读取数据\n",
    "file_path = 'input/*.csv'\n",
    "data = pd.read_csv(file_path)\n",
    "\n",
    "# 2 选取变量\n",
    "y = data.Price\n",
    "useful_features = []\n",
    "X = data[useful_features]\n",
    "\n",
    "# 3 变量分组\n",
    "# train_X, val_X, train_y, val_y = train_test_split(X, y, random_state=1)\n",
    "\n",
    "# 4 建模\n",
    "my_pipeline = make_pipeline(Imputer(), XGBRegressor(n_estimators=1000, learning_rate=0.05))\n",
    "\n",
    "# 5 训练模型\n",
    "my_pipeline.fit(X, y)\n",
    "\n",
    "# 6 模型预测\n",
    "# val_preds = my_pipeline.predict(val_X)\n",
    "\n",
    "# 7 误差验证\n",
    "# mae = mean_absolute_error(val_preds, val_y)\n",
    "scores = cross_val_score(my_pipeline, X, y, scoring='neg_mean_absolute_error')\n",
    "mean_score = -1 * scores.mean()\n",
    "print(\"Mean Absolute Error: %2f\" %mean_score)\n",
    "\n",
    "# 8 全数据训练模型\n",
    "#my_model_on_full_data = XGBRegressor(n_estimators=1000, learning_rate=0.05)\n",
    "#my_model_on_full_data.fit(X, y, early_stopping_rounds=5, verbose=False)\n",
    "\n",
    "# 9 模型预测结果组\n",
    "test_data_path = '*'\n",
    "test_data = pd.read_csv(test_data_path)\n",
    "test_X = test_data[useful_features]\n",
    "test_preds = my_pipeline.predict(test_X)\n",
    "\n",
    "# 10 预测结果导出\n",
    "output = pd.DataFrame({\n",
    "\t'Id': test_data.Id,\n",
    "\t'SalePrice': test_preds\n",
    "\t})\n",
    "\n",
    "# 11 预测结果提交"
   ]
  },
  {
   "cell_type": "code",
   "execution_count": null,
   "metadata": {},
   "outputs": [],
   "source": []
  }
 ],
 "metadata": {
  "kernelspec": {
   "display_name": "Python 3",
   "language": "python",
   "name": "python3"
  },
  "language_info": {
   "codemirror_mode": {
    "name": "ipython",
    "version": 3
   },
   "file_extension": ".py",
   "mimetype": "text/x-python",
   "name": "python",
   "nbconvert_exporter": "python",
   "pygments_lexer": "ipython3",
   "version": "3.5.4"
  }
 },
 "nbformat": 4,
 "nbformat_minor": 2
}
